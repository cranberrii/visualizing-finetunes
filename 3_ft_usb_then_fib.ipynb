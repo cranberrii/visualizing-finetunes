{
 "cells": [
  {
   "cell_type": "markdown",
   "metadata": {
    "colab_type": "text",
    "id": "view-in-github"
   },
   "source": [
    "<a href=\"https://colab.research.google.com/github/eugeneyan/visualizing-finetunes/blob/main/3_ft_usb_then_fib.ipynb\" target=\"_parent\"><img src=\"https://colab.research.google.com/assets/colab-badge.svg\" alt=\"Open In Colab\"/></a>"
   ]
  },
  {
   "cell_type": "code",
   "execution_count": 1,
   "metadata": {
    "colab": {
     "base_uri": "https://localhost:8080/"
    },
    "id": "h4aS9DfnhQGs",
    "outputId": "62a6ce58-1ff4-4afb-dc2b-554a85c31385"
   },
   "outputs": [
    {
     "name": "stdout",
     "output_type": "stream",
     "text": [
      "Sat Aug 10 08:11:00 2024       \n",
      "+---------------------------------------------------------------------------------------+\n",
      "| NVIDIA-SMI 535.104.05             Driver Version: 535.104.05   CUDA Version: 12.2     |\n",
      "|-----------------------------------------+----------------------+----------------------+\n",
      "| GPU  Name                 Persistence-M | Bus-Id        Disp.A | Volatile Uncorr. ECC |\n",
      "| Fan  Temp   Perf          Pwr:Usage/Cap |         Memory-Usage | GPU-Util  Compute M. |\n",
      "|                                         |                      |               MIG M. |\n",
      "|=========================================+======================+======================|\n",
      "|   0  NVIDIA RTX A5000               On  | 00000000:3D:00.0 Off |                  Off |\n",
      "| 30%   32C    P8              20W / 230W |      1MiB / 24564MiB |      0%      Default |\n",
      "|                                         |                      |                  N/A |\n",
      "+-----------------------------------------+----------------------+----------------------+\n",
      "                                                                                         \n",
      "+---------------------------------------------------------------------------------------+\n",
      "| Processes:                                                                            |\n",
      "|  GPU   GI   CI        PID   Type   Process name                            GPU Memory |\n",
      "|        ID   ID                                                             Usage      |\n",
      "|=======================================================================================|\n",
      "|  No running processes found                                                           |\n",
      "+---------------------------------------------------------------------------------------+\n"
     ]
    }
   ],
   "source": [
    "gpu_info = !nvidia-smi\n",
    "gpu_info = '\\n'.join(gpu_info)\n",
    "if gpu_info.find('failed') >= 0:\n",
    "    print('Not connected to a GPU')\n",
    "else:\n",
    "    print(gpu_info)"
   ]
  },
  {
   "cell_type": "code",
   "execution_count": 2,
   "metadata": {
    "id": "UX7lYtqtVB7S"
   },
   "outputs": [],
   "source": [
    "# %pip install -q transformers==4.37.2 accelerate bitsandbytes datasets peft watermark"
   ]
  },
  {
   "cell_type": "code",
   "execution_count": 4,
   "metadata": {
    "colab": {
     "base_uri": "https://localhost:8080/"
    },
    "id": "nQPAsBIKU0rF",
    "outputId": "0bcede41-4529-4184-f244-c4bce4c40504"
   },
   "outputs": [
    {
     "name": "stdout",
     "output_type": "stream",
     "text": [
      "torch       : 2.3.1+cu121\n",
      "transformers: 4.43.1\n",
      "peft        : 0.11.1\n",
      "datasets    : 2.19.1\n",
      "sklearn     : 1.2.2\n",
      "\n",
      "conda environment: n/a\n",
      "\n"
     ]
    }
   ],
   "source": [
    "%load_ext watermark\n",
    "%watermark --conda -p torch,transformers,peft,datasets,sklearn"
   ]
  },
  {
   "cell_type": "code",
   "execution_count": 5,
   "metadata": {
    "id": "40sgjKx0U8sW"
   },
   "outputs": [],
   "source": [
    "import numpy as np\n",
    "import pandas as pd\n",
    "import torch\n",
    "import torch.nn.functional as F\n",
    "import transformers\n",
    "import time\n",
    "import logging\n",
    "import warnings\n",
    "import matplotlib.pyplot as plt\n",
    "\n",
    "from collections import Counter\n",
    "from datetime import datetime\n",
    "from torch.utils.data import DataLoader, Dataset\n",
    "from transformers import (\n",
    "    Trainer,\n",
    "    BartForSequenceClassification,\n",
    "    AutoTokenizer,\n",
    "    BitsAndBytesConfig,\n",
    "    IntervalStrategy,\n",
    ")\n",
    "from peft import LoraConfig, get_peft_model, TaskType\n",
    "from datasets import load_dataset\n",
    "from typing import Dict, Optional, List\n",
    "from sklearn.metrics import (average_precision_score,\n",
    "                             precision_recall_curve, precision_score,\n",
    "                             recall_score, roc_auc_score, roc_curve)\n",
    "from sklearn.exceptions import UndefinedMetricWarning"
   ]
  },
  {
   "cell_type": "code",
   "execution_count": 6,
   "metadata": {
    "colab": {
     "base_uri": "https://localhost:8080/"
    },
    "id": "7LQUbLrzV4Eg",
    "outputId": "70b4e542-e629-4264-fe6a-97cc0ce47b01"
   },
   "outputs": [
    {
     "name": "stderr",
     "output_type": "stream",
     "text": [
      "2024-08-06 00:26:51 - INFO - Running notebook to finetune USB followed by FIB\n"
     ]
    }
   ],
   "source": [
    "# Set up logger\n",
    "logger = logging.getLogger('3-ft-usb-then-fib')\n",
    "logging.basicConfig(\n",
    "    level=logging.INFO,\n",
    "    format='%(asctime)s - %(levelname)s - %(message)s',\n",
    "    datefmt='%Y-%m-%d %H:%M:%S',\n",
    "    force=True\n",
    ")\n",
    "\n",
    "logger.info('Running notebook to finetune USB followed by FIB')"
   ]
  },
  {
   "cell_type": "code",
   "execution_count": 7,
   "metadata": {
    "id": "3CEWSnoT0IPQ"
   },
   "outputs": [],
   "source": [
    "# Suppress undefined metric warning\n",
    "warnings.filterwarnings(action='ignore', category=UndefinedMetricWarning)"
   ]
  },
  {
   "cell_type": "code",
   "execution_count": 8,
   "metadata": {
    "colab": {
     "base_uri": "https://localhost:8080/"
    },
    "id": "NVmMfWvyi4Ht",
    "outputId": "e13e3006-b38c-41d7-b2c6-023905c1cbd8"
   },
   "outputs": [],
   "source": [
    "# from google.colab import drive\n",
    "# drive.mount('/content/drive')"
   ]
  },
  {
   "cell_type": "code",
   "execution_count": 9,
   "metadata": {
    "colab": {
     "base_uri": "https://localhost:8080/"
    },
    "id": "S51eunFjWLmG",
    "outputId": "43aac2e8-d90e-43be-c8f4-f59a805c9061"
   },
   "outputs": [
    {
     "data": {
      "text/plain": [
       "<torch._C.Generator at 0x7fa40c601850>"
      ]
     },
     "execution_count": 9,
     "metadata": {},
     "output_type": "execute_result"
    }
   ],
   "source": [
    "torch.manual_seed(505)"
   ]
  },
  {
   "cell_type": "markdown",
   "metadata": {
    "id": "sq8aeQiwWHSy"
   },
   "source": [
    "## Define model and tokenizer\n",
    "- Note: Entailment = 2, Neutral = 1, Contradiction = 0\n",
    "- https://huggingface.co/valhalla/distilbart-mnli-12-1"
   ]
  },
  {
   "cell_type": "code",
   "execution_count": 10,
   "metadata": {
    "id": "goMYzbJjWBB8"
   },
   "outputs": [],
   "source": [
    "# Define model\n",
    "# model_id = 'valhalla/distilbart-mnli-12-1'\n",
    "# model_id = 'valhalla/distilbart-mnli-12-3'\n",
    "# lora_model_id = 'lora-distilbart-mnli-12-3'\n",
    "\n",
    "model_id = 'facebook/bart-large-mnli'\n",
    "lora_model_id = 'lora-bart-large-mnli'"
   ]
  },
  {
   "cell_type": "code",
   "execution_count": 11,
   "metadata": {
    "colab": {
     "base_uri": "https://localhost:8080/"
    },
    "id": "tL-e_Ep3WI-i",
    "outputId": "d4ec6f47-8ead-41fc-e618-49ccf9c9c115"
   },
   "outputs": [],
   "source": [
    "# Load tokenizer\n",
    "tokenizer = AutoTokenizer.from_pretrained(model_id)"
   ]
  },
  {
   "cell_type": "markdown",
   "metadata": {
    "id": "WcMCjGO7WTAV"
   },
   "source": [
    "## Load FIB & USB data"
   ]
  },
  {
   "cell_type": "code",
   "execution_count": 12,
   "metadata": {
    "colab": {
     "base_uri": "https://localhost:8080/",
     "height": 150,
     "referenced_widgets": [
      "b3afed25985e4e1299204a85af42a47a",
      "2728760cce9a4782b5383363035e6978",
      "a6ebd9d6e47e47cfb62f04735efa9113",
      "d3955e5cb2034155816c96890fab38db",
      "bc032c2b06d84bbeb60f78c0dbe2c435",
      "f2ed28665fe14100a21ea8fb57662f90",
      "2015dc35f18c4cd8aff45397c21418e0",
      "bcae27978a50473f9fe1fe8e396ca2d8",
      "7b98eba7b5e447329c0c8461d9b3e93c",
      "6a5e32ce681843ce8f58ef492cee5f71",
      "975128b929954d6eab7b37fe2476d461",
      "22abac280e3246839d7d3028120f3d12",
      "367db79863ae4fc79f91ef90e0901510",
      "ed563783ce784394af4d34764a464b1e",
      "65a6acdb8a5b44d18131ebedea0dfc78",
      "ef9bc35ccab74caf8bed5306eef418fe",
      "b79cc5c72c1f420eb23844e70662e1ea",
      "6d5d05893b614290b3a3c34796e2d4b3",
      "f43d0af432af4eaabddb5047a9b42e22",
      "c891964c58234438aed299baf041b26f",
      "7d9f848dca774487894b54fa50e37f5b",
      "ea87b193ed6746c19915bafc8120c877",
      "2b602765897e4051a9ba85a4cd5f486f",
      "bbcbe957b4944f2590c56c2ae6db059c",
      "25bb45e8071e4df4964085ff8f464897",
      "5d1c3f048e1b41d0a11eb8e3e1b86ff2",
      "3f53e226f70e48ceb316aca1d37e830f",
      "ddcd9550bf77448c8e5c877e3ebb874e",
      "35f22e10465846c8b3e87b149c1561c8",
      "122bf45d74844b3e8f2cefd79deae307",
      "b7fa368cf3b448868cb3bbd7e1b9c2cc",
      "f7f2d898c0d048fdba333eddab41e966",
      "e3e7632452394f20bbd31ab53cdd4f8e"
     ]
    },
    "id": "39KHFyldWKWC",
    "outputId": "c371465b-7b38-4d0a-a8ea-2bb589f5b59f"
   },
   "outputs": [
    {
     "name": "stderr",
     "output_type": "stream",
     "text": [
      "2024-08-06 00:27:03 - INFO - Label distribution - Train: Counter({0: 350, 2: 350}), Val: Counter({0: 75, 2: 75}), Test: Counter({0: 75, 2: 75})\n"
     ]
    }
   ],
   "source": [
    "# Test loading into dataset\n",
    "fib_files = {'train': 'data/fib-train.csv',\n",
    "             'val': 'data/fib-val.csv',\n",
    "             'test': 'data/fib-test.csv'}\n",
    "\n",
    "fib_ds = load_dataset('csv', data_files=fib_files)\n",
    "fib_ds = fib_ds.select_columns(['input', 'list_choices', 'label'])\n",
    "fib_ds = fib_ds.rename_column('input', 'premise').rename_column('list_choices', 'hypothesis')\n",
    "\n",
    "logger.info(f\"Label distribution - Train: {Counter(fib_ds['train']['label'])}, Val: {Counter(fib_ds['val']['label'])}, Test: {Counter(fib_ds['test']['label'])}\")"
   ]
  },
  {
   "cell_type": "code",
   "execution_count": 13,
   "metadata": {
    "colab": {
     "base_uri": "https://localhost:8080/",
     "height": 98,
     "referenced_widgets": [
      "268174675b8f403ca6b28be61d661b9f",
      "ba9e7e707d6340f0bba29fc4da27b1a7",
      "3a41d5c02c774d43b3a8ec2815b049a1",
      "e883c16864144027b9c77ea8ee2ea6d1",
      "459b471b6b424bbd94d10ea29921a669",
      "1c722962eb1d4d17a129932defe73677",
      "ff7e30c678e24b09a8bc26ee645caff0",
      "9342270b964943ab8ba2575e284132e1",
      "494dcfe647b348cd938e06719f9522ce",
      "12aff3f2cbbe477a94acf530010dd232",
      "41eebeed87bf4e84a3668f67b3451fb5",
      "60d725e9e2c9474298e921caf3e847c8",
      "6856784f94384ca7b150c3d4640836ee",
      "b2910b1639ce4769bc100841820d6f6e",
      "d94e0f92da3a489eaaf8e0af81df7a96",
      "706d4877aa7241e3a3a5b23f905d7faa",
      "e9f1ffe456124fd49e962cf51a1a8a09",
      "6f4dcff4d74c47c79caea0bd7c8f7fa0",
      "d120d1d3130c4bcc89eef3be4b047c80",
      "e751bef246a1405fabaf64e7ff713c00",
      "8f9998b7840b41588581b9e75642b24e",
      "2ae4ccb9eea64757907837f7b3bf3d67"
     ]
    },
    "id": "Anxbrd4kj7IH",
    "outputId": "cf480131-86c5-4b6f-ed3a-e4032c41a486"
   },
   "outputs": [
    {
     "name": "stderr",
     "output_type": "stream",
     "text": [
      "2024-08-06 00:27:04 - INFO - Label distribution - Train: Counter({2: 2525, 0: 2525}), Val: Counter({2: 1334, 0: 1334})\n"
     ]
    }
   ],
   "source": [
    "# Test loading into dataset\n",
    "usb_files = {'train': 'data/usb-train.csv',\n",
    "             'val': 'data/usb-val.csv'}\n",
    "\n",
    "usb_ds = load_dataset('csv', data_files=usb_files)\n",
    "usb_ds = usb_ds.select_columns(['source', 'summary_sent', 'label'])\n",
    "usb_ds = usb_ds.rename_column('source', 'premise').rename_column('summary_sent', 'hypothesis')\n",
    "\n",
    "logger.info(f\"Label distribution - Train: {Counter(usb_ds['train']['label'])}, Val: {Counter(usb_ds['val']['label'])}\")"
   ]
  },
  {
   "cell_type": "markdown",
   "metadata": {
    "id": "sgp_WkmfghOr"
   },
   "source": [
    "## Note how USB has 6x the trainset of FIB, and can be increased another 3x if we mix in the valset"
   ]
  },
  {
   "cell_type": "code",
   "execution_count": 14,
   "metadata": {
    "colab": {
     "base_uri": "https://localhost:8080/",
     "height": 177,
     "referenced_widgets": [
      "fba933ade8814f9ea405c1e385699cfc",
      "b1e06233eddb405f9f2870f79aefbeb7",
      "ca389565776944ad959248393b77be30",
      "7524e75b84014463bc93963935b5ca8f",
      "800596cf4da24095bad3b92e3b7ced4d",
      "aa216430532748e495e9004a17d84ebf",
      "d59d926a238a47e38caecd9122df5869",
      "99e27376b2e94150a02edf7766d9d2dd",
      "5d7d7865602345438cfa92920189f23f",
      "c604a6d4cc35411796f706059f00755e",
      "ff8e32b0dce74aaab818c844b0269cb9",
      "849265f1978742429e4fd4f10d3e558b",
      "d16e904baa1b4343b40742ea0bae8eab",
      "5a79c5ce83f842b48e32c7be24bd3287",
      "d5bf84169bef4e52928ea7eca3b565e0",
      "000d2b80b0b748afb3f9cfa0272395ca",
      "8acfea61d9044810b8778f2c63e4a497",
      "5d19bdf7e2004f3090d0ce2bf804cd7e",
      "1bd936b67d2a41baadaf26c5a2b088fb",
      "38938db38ef24ce9b055c2f69d65fb14",
      "ad32427ad34f448f96e5cb35006423c8",
      "ffa2604aa3d14df68ae234579a24ae9f",
      "cc727db3660f43b6a9c2afebbcf40457",
      "52cc70d3abf543369b5a27e7ff010aa8",
      "49f515edc6784c7da23e858c2c24ba74",
      "da383e9a91d4458fa8cf0f23b3dafa03",
      "aaff0c52c8d64cc7b6f521716a7534d8",
      "669a7eec9c24410f94d1d1e1561ba264",
      "242ba3d2d7974cd5a184ce7b27c9c372",
      "3d612a40ef3347d4abd5876f4857b6bb",
      "fd9eb43b9b1c4756a577e30b6a05397c",
      "d696caed35374d698af0280c1f952db1",
      "2e352c8b820745ce96a12f0fa8d85d91",
      "24bfb683749b42418eca5fb2fbbe761f",
      "7df76fa923b646e4a55139590a16836a",
      "212431452959492380a789af8c764592",
      "4aa0c378c6bd4d94a2397cbb456206e2",
      "3a99c60fd3794791a01996571f953911",
      "21d0a9ca0bb244f2af4c809db8b04305",
      "213e2ea08e9a48358ec0afa656b56b32",
      "a6f48bab34e44279bf13fe0570286c31",
      "e23ecf652a584ff6a6baf45273ea46ee",
      "d2ae23f37f6841f7ad5218af0352aa69",
      "3ff5211fea1448fb84c8336379c5d661",
      "d69595b8664941a5a7ab76cd7f1ab4d0",
      "8cab844419f14586a539bbef9447ca55",
      "18342d211fc247e2a25383b99572dd64",
      "3b1001b099834346bca5833bdbd63334",
      "7157a5df9e1546e98a7095f7e83d1537",
      "ba48d38d534c49d5a641378e119bdb0f",
      "67ecd122a83a499dae392b326bea301b",
      "799ad8d868424aed8da0fdfbed077b16",
      "90a29268c0ec4ac39c4bad243a83eaa8",
      "fe13d6e78d2b4c519540529f71f22db1",
      "007a827de4a74282a42cc5dba8c49306"
     ]
    },
    "id": "VE2fCU7WWWOM",
    "outputId": "ade6682e-b74d-4818-911a-461c5083e2b8"
   },
   "outputs": [
    {
     "data": {
      "application/vnd.jupyter.widget-view+json": {
       "model_id": "a23ec105cda04377a0e4cbfc67d445d8",
       "version_major": 2,
       "version_minor": 0
      },
      "text/plain": [
       "Map:   0%|          | 0/150 [00:00<?, ? examples/s]"
      ]
     },
     "metadata": {},
     "output_type": "display_data"
    }
   ],
   "source": [
    "# Tokenize data in batch\n",
    "def tokenize(row):\n",
    "    return tokenizer(row['premise'], row['hypothesis'], truncation='only_first', padding='max_length', max_length=512)\n",
    "\n",
    "fib_ds = fib_ds.map(tokenize, batched=True)\n",
    "usb_ds = usb_ds.map(tokenize, batched=True)"
   ]
  },
  {
   "cell_type": "code",
   "execution_count": null,
   "metadata": {
    "colab": {
     "base_uri": "https://localhost:8080/"
    },
    "id": "IHeOjvLxWiw7",
    "outputId": "f7bab991-ffcd-4d43-e972-8fcd250a7c50"
   },
   "outputs": [],
   "source": [
    "logger.info(f'FIB: {fib_ds[\"train\"][0][\"premise\"]}')\n",
    "logger.info('-------------------------------------------------------------')\n",
    "logger.info(f'FIB: {fib_ds[\"train\"][0][\"hypothesis\"]}')\n",
    "logger.info('-------------------------------------------------------------')\n",
    "logger.info(f'FIB: {fib_ds[\"train\"][0][\"input_ids\"]}')\n",
    "logger.info('-------------------------------------------------------------')\n",
    "logger.info(f'FIB: {fib_ds[\"train\"][0][\"attention_mask\"]}')"
   ]
  },
  {
   "cell_type": "code",
   "execution_count": null,
   "metadata": {
    "colab": {
     "base_uri": "https://localhost:8080/"
    },
    "id": "mPyAY3C0kQRc",
    "outputId": "f85b095b-1715-4625-efc7-071e9cb59e31"
   },
   "outputs": [],
   "source": [
    "logger.info(f'USB: {usb_ds[\"train\"][0][\"premise\"]}')\n",
    "logger.info('-------------------------------------------------------------')\n",
    "logger.info(f'USB: {usb_ds[\"train\"][0][\"hypothesis\"]}')\n",
    "logger.info('-------------------------------------------------------------')\n",
    "logger.info(f'USB: {usb_ds[\"train\"][0][\"input_ids\"]}')\n",
    "logger.info('-------------------------------------------------------------')\n",
    "logger.info(f'USB: {usb_ds[\"train\"][0][\"attention_mask\"]}')"
   ]
  },
  {
   "cell_type": "markdown",
   "metadata": {
    "id": "xqHL30dwYhv-"
   },
   "source": [
    "## Set up model"
   ]
  },
  {
   "cell_type": "code",
   "execution_count": 15,
   "metadata": {
    "id": "OpSoaU8MYhOy"
   },
   "outputs": [],
   "source": [
    "# Define params\n",
    "LEARNING_RATE=5e-5\n",
    "BATCH_SIZE=16\n",
    "R=16\n",
    "EPOCHS=3  #| 10\n",
    "EVAL_STEPS=40\n",
    "LORA_DROPOUT=0.1\n",
    "LORA_ALPHA=32\n",
    "MAX_STEPS=-1"
   ]
  },
  {
   "cell_type": "code",
   "execution_count": 16,
   "metadata": {
    "id": "QSKjAxP0Xew6"
   },
   "outputs": [],
   "source": [
    "bnb_config = BitsAndBytesConfig(\n",
    "    # load_in_8bit=True,\n",
    "    load_in_4bit=True,\n",
    "    bnb_4bit_quant_type='nf4',\n",
    "    bnb_4bit_compute_dtype=torch.bfloat16,\n",
    "    bnb_4bit_use_double_quant=False,\n",
    ")"
   ]
  },
  {
   "cell_type": "code",
   "execution_count": 17,
   "metadata": {
    "colab": {
     "base_uri": "https://localhost:8080/"
    },
    "id": "u_z4_-EfYrTv",
    "outputId": "1a5bde89-90b8-46ad-9652-faa47fdbcba3"
   },
   "outputs": [
    {
     "name": "stderr",
     "output_type": "stream",
     "text": [
      "2024-08-06 00:28:21 - WARNING - WARNING: BNB_CUDA_VERSION=121 environment variable detected; loading libbitsandbytes_cuda121.so.\n",
      "This can be used to load a bitsandbytes version that is different from the PyTorch CUDA version.\n",
      "If this was unintended set the BNB_CUDA_VERSION variable to an empty string: export BNB_CUDA_VERSION=\n",
      "If you use the manual override make sure the right libcudart.so is in your LD_LIBRARY_PATH\n",
      "For example by adding the following to your .bashrc: export LD_LIBRARY_PATH=$LD_LIBRARY_PATH:<path_to_cuda_dir/lib64\n",
      "\n",
      "2024-08-06 00:28:21 - INFO - We will use 90% of the memory on device 0 for storing the model, and 10% for the buffer to avoid OOM. You can set `max_memory` in to a higher value to use more memory (at your own risk).\n"
     ]
    }
   ],
   "source": [
    "# Load model\n",
    "model = BartForSequenceClassification.from_pretrained(model_id, quantization_config=bnb_config, device_map='auto', num_labels=3)"
   ]
  },
  {
   "cell_type": "code",
   "execution_count": 18,
   "metadata": {
    "id": "h8RzCqXOYtkS"
   },
   "outputs": [],
   "source": [
    "# Configure lora\n",
    "config = LoraConfig(\n",
    "    r=R,\n",
    "    lora_alpha=LORA_ALPHA,  # Keep lora alpha constant (per https://arxiv.org/abs/2305.14314) as it is proportional to learning rate\n",
    "    target_modules=['k_proj', 'v_proj', 'q_proj', 'out_proj', 'fc1', 'fc2'],\n",
    "    lora_dropout=LORA_DROPOUT,\n",
    "    bias=\"none\",\n",
    "    task_type=TaskType.SEQ_CLS\n",
    ")\n",
    "\n",
    "model.enable_input_require_grads()\n",
    "model = get_peft_model(model, config)"
   ]
  },
  {
   "cell_type": "code",
   "execution_count": 19,
   "metadata": {
    "colab": {
     "base_uri": "https://localhost:8080/"
    },
    "id": "Sv060S5QrqXD",
    "outputId": "16cfb893-191f-4fbc-cfa8-1e73718a572c"
   },
   "outputs": [
    {
     "name": "stderr",
     "output_type": "stream",
     "text": [
      "2024-08-06 00:32:03 - INFO - all params: 239,326,259 | trainable: 8,667,184 (3.62%)\n"
     ]
    }
   ],
   "source": [
    "def print_trainable_parameters(model):\n",
    "    \"\"\"\n",
    "    Prints the number of trainable parameters in the model.\n",
    "    \"\"\"\n",
    "    trainable_params = 0\n",
    "    all_param = 0\n",
    "    for _, param in model.named_parameters():\n",
    "        all_param += param.numel()\n",
    "        if param.requires_grad:\n",
    "            trainable_params += param.numel()\n",
    "\n",
    "    trainable_prop = 100 * trainable_params / all_param\n",
    "\n",
    "    logger.info(f\"all params: {all_param:,} | trainable: {trainable_params:,} ({trainable_prop:.2f}%)\")\n",
    "\n",
    "print_trainable_parameters(model)"
   ]
  },
  {
   "cell_type": "code",
   "execution_count": 20,
   "metadata": {
    "id": "myiHTHDoYvQ4"
   },
   "outputs": [],
   "source": [
    "# Preprocess only logits to save memory\n",
    "def preprocess_logits_for_metrics(logits, labels):\n",
    "    \"\"\"\n",
    "    Returns the probability of contradiction (aka factual inconsistency aka hallucination)\n",
    "    \"\"\"\n",
    "    # Exclude dim = 1 on the logits, compute softmax, and get prob of the 0 label (i.e., contradiction)\n",
    "    probs = F.softmax(logits[0][:, [0, 2]], dim=1)[:, 0]\n",
    "    return probs\n",
    "\n",
    "\n",
    "# Compute multiple metrics at once\n",
    "def compute_metrics(eval_pred: transformers.EvalPrediction) -> Dict[str, float]:\n",
    "    labels = eval_pred.label_ids\n",
    "    probs = eval_pred.predictions\n",
    "    probs_thresholded = np.where(probs >= 0.80, 1, 0)  # Assign score > 0.8 = 1 (aka contradiction)\n",
    "\n",
    "    # Update labels so 2 (entailment) is now 0, and 0 (contradiction) is now 1 because we want to focus on the latter\n",
    "    labels = np.where(labels==2, 0, 1)  # If label = 2, return 0, else, return 1\n",
    "\n",
    "    # Compute metrics\n",
    "    pr_auc = average_precision_score(labels, probs)\n",
    "    roc_auc = roc_auc_score(labels, probs)\n",
    "    recall = recall_score(labels, probs_thresholded)\n",
    "    precision = precision_score(labels, probs_thresholded)\n",
    "\n",
    "    return {'prauc': pr_auc, 'rocauc': roc_auc, 'recall': recall, 'precision': precision}"
   ]
  },
  {
   "cell_type": "code",
   "execution_count": 21,
   "metadata": {
    "id": "3TBskSIsh_K9"
   },
   "outputs": [],
   "source": [
    "# See updates needed: https://github.com/huggingface/transformers/issues/20565\n",
    "# See Trainer implementation: https://github.com/huggingface/transformers/blob/v4.31.0/src/transformers/trainer.py#L225\n",
    "class CustomTrainer(Trainer):\n",
    "\n",
    "    def __init__(self, eval_before_train=True, *args, **kwargs):\n",
    "        super(CustomTrainer, self).__init__(*args, **kwargs)\n",
    "        self.eval_before_train = eval_before_train\n",
    "\n",
    "    def train(self, resume_from_checkpoint=None, trial=None, **kwargs):\n",
    "        metrics = None\n",
    "        if self.eval_before_train:\n",
    "            self.state.global_step = 0\n",
    "            if isinstance(self.eval_dataset, dict):\n",
    "                all_metrics = {}\n",
    "                for eval_dataset_name, eval_dataset in self.eval_dataset.items():\n",
    "                    metrics = self.evaluate(\n",
    "                        eval_dataset=eval_dataset,\n",
    "                        # ignore_keys=ignore_keys_for_eval,\n",
    "                        metric_key_prefix=f\"eval_{eval_dataset_name}\", multiple=True,\n",
    "                    )\n",
    "                    logger.info(f'Step 0 metrics: {metrics}')\n",
    "                    for key, value in metrics.items():\n",
    "                        self.log({key: value})\n",
    "                    all_metrics = {**all_metrics, **metrics}\n",
    "                self.control = self.callback_handler.on_evaluate(self.args, self.state, self.control, all_metrics)\n",
    "                metrics = all_metrics\n",
    "            else:\n",
    "                metrics = self.evaluate(ignore_keys=ignore_keys_for_eval, multiple=False)\n",
    "            self._report_to_hp_search(trial, self.state.global_step, metrics)\n",
    "            self.eval_before_train = False\n",
    "\n",
    "        # Call the original train method\n",
    "        super(CustomTrainer, self).train(resume_from_checkpoint, trial, **kwargs)\n",
    "\n",
    "    def evaluate(\n",
    "        self,\n",
    "        eval_dataset: Optional[Dataset] = None,\n",
    "        ignore_keys: Optional[List[str]] = None,\n",
    "        metric_key_prefix: str = \"eval\",\n",
    "        multiple=False,\n",
    "    ) -> Dict[str, float]:\n",
    "        # memory metrics - must set up as early as possible\n",
    "        self._memory_tracker.start()\n",
    "\n",
    "        eval_dataloader = self.get_eval_dataloader(eval_dataset)\n",
    "        start_time = time.time()\n",
    "\n",
    "        eval_loop = self.prediction_loop if self.args.use_legacy_prediction_loop else self.evaluation_loop\n",
    "        output = eval_loop(\n",
    "            eval_dataloader,\n",
    "            description=\"Evaluation\",\n",
    "            # No point gathering the predictions if there are no metrics, otherwise we defer to\n",
    "            # self.args.prediction_loss_only\n",
    "            prediction_loss_only=True if self.compute_metrics is None else None,\n",
    "            ignore_keys=ignore_keys,\n",
    "            metric_key_prefix=metric_key_prefix,\n",
    "        )\n",
    "\n",
    "        total_batch_size = self.args.eval_batch_size * self.args.world_size\n",
    "\n",
    "        self.log(output.metrics)\n",
    "\n",
    "        # self.control = self.callback_handler.on_evaluate(self.args, self.state, self.control, output.metrics)\n",
    "        if not multiple:\n",
    "            self.control = self.callback_handler.on_evaluate(self.args, self.state, self.control, output.metrics)\n",
    "\n",
    "        self._memory_tracker.stop_and_update_metrics(output.metrics)\n",
    "\n",
    "        return output.metrics\n",
    "\n",
    "    def _maybe_log_save_evaluate(self, tr_loss, grad_norm, model, trial, epoch, ignore_keys_for_eval):\n",
    "        if self.control.should_log:\n",
    "\n",
    "            logs: Dict[str, float] = {}\n",
    "\n",
    "            # all_gather + mean() to get average loss over all processes\n",
    "            tr_loss_scalar = self._nested_gather(tr_loss).mean().item()\n",
    "\n",
    "            # reset tr_loss to zero\n",
    "            tr_loss -= tr_loss\n",
    "\n",
    "            logs[\"loss\"] = round(tr_loss_scalar / (self.state.global_step - self._globalstep_last_logged), 4)\n",
    "            logs[\"learning_rate\"] = self._get_learning_rate()\n",
    "\n",
    "            self._total_loss_scalar += tr_loss_scalar\n",
    "            self._globalstep_last_logged = self.state.global_step\n",
    "            self.store_flos()\n",
    "\n",
    "            self.log(logs)\n",
    "\n",
    "        metrics = None\n",
    "        if self.control.should_evaluate:\n",
    "            if isinstance(self.eval_dataset, dict):\n",
    "                all_metrics = {}\n",
    "                for eval_dataset_name, eval_dataset in self.eval_dataset.items():\n",
    "                    metrics = self.evaluate(\n",
    "                        eval_dataset=eval_dataset,\n",
    "                        ignore_keys=ignore_keys_for_eval,\n",
    "                        metric_key_prefix=f\"eval_{eval_dataset_name}\", multiple=True,\n",
    "                    )\n",
    "                    all_metrics = {**all_metrics, **metrics}\n",
    "                self.control = self.callback_handler.on_evaluate(self.args, self.state, self.control, all_metrics)\n",
    "                metrics = all_metrics\n",
    "            else:\n",
    "                metrics = self.evaluate(ignore_keys=ignore_keys_for_eval, multiple=False)\n",
    "            self._report_to_hp_search(trial, self.state.global_step, metrics)\n",
    "\n",
    "        if self.control.should_save:\n",
    "            self._save_checkpoint(model, trial, metrics=metrics)\n",
    "            self.control = self.callback_handler.on_save(self.args, self.state, self.control)\n",
    "\n",
    "    def get_eval_dataloader(self, eval_dataset=None):\n",
    "        if eval_dataset is None and isinstance(self.eval_dataset, dict):\n",
    "            # handle dictionary of datasets logic here\n",
    "            # for this example, let's just return the 'fib' dataset dataloader\n",
    "            eval_dataset = self.eval_dataset['set']\n",
    "        return super().get_eval_dataloader(eval_dataset)"
   ]
  },
  {
   "cell_type": "code",
   "execution_count": 22,
   "metadata": {},
   "outputs": [
    {
     "name": "stdout",
     "output_type": "stream",
     "text": [
      "env: WANDB_ENTITY=jermyn\n",
      "env: WANDB_PROJECT=ft_usb_fib\n"
     ]
    }
   ],
   "source": [
    "# setup wandb environment variables\n",
    "%env WANDB_ENTITY=jermyn\n",
    "%env WANDB_PROJECT=ft_usb_fib"
   ]
  },
  {
   "cell_type": "code",
   "execution_count": 23,
   "metadata": {
    "id": "U1nAN5MjaRu3"
   },
   "outputs": [],
   "source": [
    "# Set training arguments\n",
    "training_args = transformers.TrainingArguments(\n",
    "    output_dir='./checkpoints/bart-usb-only',\n",
    "    learning_rate=LEARNING_RATE,\n",
    "    per_device_train_batch_size=BATCH_SIZE,\n",
    "    per_device_eval_batch_size=BATCH_SIZE * 2,  # Bigger batch size for eval\n",
    "    num_train_epochs=EPOCHS,\n",
    "    eval_strategy='steps',\n",
    "    eval_steps=EVAL_STEPS,\n",
    "    gradient_accumulation_steps=4,\n",
    "    optim='paged_adamw_32bit',\n",
    "    bf16=False,\n",
    "    max_steps=MAX_STEPS,\n",
    "    save_strategy=IntervalStrategy.STEPS,\n",
    "    save_steps=EVAL_STEPS,\n",
    "    logging_steps=EVAL_STEPS,\n",
    "    metric_for_best_model='fib_rocauc',\n",
    "    greater_is_better=True,\n",
    "    load_best_model_at_end=True,\n",
    ")"
   ]
  },
  {
   "cell_type": "markdown",
   "metadata": {
    "id": "LBnndpAvosRH"
   },
   "source": [
    "## Set up trainer to finetune on USB data\n",
    "- Note: label = 0 is after edit/factual consistency; label = 1 is before edit/factual inconsistency\n",
    "- https://github.com/kukrishna/usb/blob/master/dataset_creators/usb_fac.py#L83"
   ]
  },
  {
   "cell_type": "code",
   "execution_count": 24,
   "metadata": {
    "colab": {
     "base_uri": "https://localhost:8080/"
    },
    "id": "oKi0x00ZaVCN",
    "outputId": "496ab0cd-b452-440e-e6cf-022a09cb9aa4"
   },
   "outputs": [],
   "source": [
    "# trainer = Trainer(\n",
    "#     model=model,\n",
    "#     args=training_args,\n",
    "#     train_dataset=usb_ds['train'],\n",
    "#     eval_dataset=usb_ds['val'],\n",
    "#     compute_metrics=compute_metrics,\n",
    "#     preprocess_logits_for_metrics=preprocess_logits_for_metrics\n",
    "# )\n",
    "\n",
    "trainer = CustomTrainer(\n",
    "    model=model,\n",
    "    args=training_args,\n",
    "    train_dataset=usb_ds['train'],\n",
    "    eval_dataset={'usb': usb_ds['val'], 'fib': fib_ds['val']},  # Custom trainer supports two eval datasets!\n",
    "    compute_metrics=compute_metrics,\n",
    "    preprocess_logits_for_metrics=preprocess_logits_for_metrics,\n",
    "    eval_before_train=True\n",
    ")"
   ]
  },
  {
   "cell_type": "markdown",
   "metadata": {
    "id": "N0IJuJ8pa1AC"
   },
   "source": [
    "## Check evals before finetuning"
   ]
  },
  {
   "cell_type": "code",
   "execution_count": 25,
   "metadata": {
    "id": "6eWnUCD5k5C2"
   },
   "outputs": [],
   "source": [
    "def kl_divergence(p, q):\n",
    "    return np.sum(p * np.log(p / q))\n",
    "\n",
    "def js_divergence(p, q):\n",
    "    m = 0.5 * (p + q)\n",
    "    return 0.5 * (kl_divergence(p, m) + kl_divergence(q, m))\n",
    "\n",
    "def visualize_preds(y, y_pred, model_name):\n",
    "    df = pd.DataFrame({'label': y, 'pred_proba': y_pred})\n",
    "\n",
    "    # Compute ROCAUC metrics\n",
    "    rocauc = roc_auc_score(df['label'], df['pred_proba'])\n",
    "    fpr, tpr, thresholds = roc_curve(df['label'], df['pred_proba'])\n",
    "    baseline = np.sum(df['label']) / len(df)\n",
    "\n",
    "    # Compute PRAUC metrics\n",
    "    prauc = average_precision_score(df['label'], df['pred_proba'])\n",
    "    prec, rec, thresholds = precision_recall_curve(df['label'], df['pred_proba'])\n",
    "\n",
    "    # Split into consistent and inconsistent for prob distribution\n",
    "    inconsistent = df[df['label'] == 1].reset_index(drop=True)\n",
    "    consistent = df[df['label'] == 0].reset_index(drop=True)\n",
    "    js_div = js_divergence(inconsistent['pred_proba'], consistent['pred_proba'])\n",
    "\n",
    "    # Set up plots\n",
    "    fig, (ax0, ax1, ax2, ax3) = plt.subplots(1, 4, figsize=(13, 3), tight_layout=True)\n",
    "    title_font_size = 10\n",
    "    fig.suptitle(f'{model_name}', fontsize=title_font_size+2, y=1)\n",
    "\n",
    "    # Plot ROC\n",
    "    ax0.grid()\n",
    "    ax0.plot(fpr, tpr, label='ROC')\n",
    "    ax0.plot([0, 1], [0, 1], label='Random chance', linestyle='--', color='red')\n",
    "    ax0.set_xlabel('False positive rate')\n",
    "    ax0.set_ylabel('True positive rate')\n",
    "    ax0.set_title(f'ROC AUC = {rocauc:.2f}', fontsize=title_font_size)\n",
    "    ax0.legend()\n",
    "\n",
    "    # Plot PRAUC\n",
    "    ax1.grid()\n",
    "    ax1.plot(rec, prec, label='PRAUC')\n",
    "    ax1.axhline(y=baseline, label='Baseline', linestyle='--', color='red')\n",
    "    ax1.set_xlabel('Recall')\n",
    "    ax1.set_ylabel('Precision')\n",
    "    ax1.set_xlim((-0.1, 1.1))\n",
    "    ax1.set_ylim((-0.1, 1.1))\n",
    "    ax1.set_title(f'PR AUC = {prauc:.2f}', fontsize=title_font_size)\n",
    "\n",
    "    # Plot Precision & Recall\n",
    "    ax2.grid()\n",
    "    ax2.plot(thresholds, prec[1:], color='red', label='Precision')\n",
    "    ax2.plot(thresholds, rec[1:], color='blue', label='Recall')\n",
    "    ax2.invert_xaxis()\n",
    "    ax2.set_xlabel('Thresholds (1.0 - 0.0)')\n",
    "    ax2.set_ylabel('Precision / Recall')\n",
    "    ax2.set_xlim((1.1, -0.1))\n",
    "    ax2.set_ylim((-0.1, 1.1))\n",
    "    ax2.legend()\n",
    "    ax2.set_title(f'PR AUC = {prauc:.2f}', fontsize=title_font_size)\n",
    "\n",
    "    # Plot prob distribution\n",
    "    ax3.grid()\n",
    "    ax3.hist(inconsistent['pred_proba'], color='red', alpha=0.5, density=True, label='Inconsistent', bins=max(int(inconsistent['pred_proba'].nunique()/20), 20))\n",
    "    ax3.hist(consistent['pred_proba'], color='green', alpha=0.5, density=True, label='Consistent', bins=max(int(inconsistent['pred_proba'].nunique()/20), 20))\n",
    "    ax3.set_xlabel('Prob of inconsistent')\n",
    "    ax3.set_ylabel('Density')\n",
    "    ax3.set_title(f'JS Divergence = {js_div:.3f}', fontsize=title_font_size)\n",
    "    ax3.legend()\n",
    "\n",
    "    plt.show()\n",
    "\n",
    "\n",
    "def compute_metrics_per_threshold(y, y_pred, thresholds=[0.95, 0.90, 0.95, 0.80, 0.75, 0.70, 0.65, 0.60]):\n",
    "    for threshold in thresholds:\n",
    "        preds = (y_pred >= threshold).astype(int)\n",
    "\n",
    "        recall = recall_score(y, preds)\n",
    "        precision = precision_score(y, preds)\n",
    "        logger.info(f'Threshold: {threshold:.2f} - Recall: {recall:.2f}, Precision: {precision:.2f}')"
   ]
  },
  {
   "cell_type": "code",
   "execution_count": 26,
   "metadata": {
    "colab": {
     "base_uri": "https://localhost:8080/",
     "height": 420
    },
    "id": "g5ylHnAha_oC",
    "outputId": "588aedb5-5530-4adf-c05b-af38523cd77d"
   },
   "outputs": [
    {
     "name": "stdout",
     "output_type": "stream",
     "text": [
      "[2024-08-05 00:52:45,732] [INFO] [real_accelerator.py:203:get_accelerator] Setting ds_accelerator to cuda (auto detect)\n"
     ]
    },
    {
     "name": "stderr",
     "output_type": "stream",
     "text": [
      "2024-08-05 00:52:45 - INFO - gcc -pthread -B /root/miniconda3/envs/py3.11/compiler_compat -DNDEBUG -fwrapv -O2 -Wall -fPIC -O2 -isystem /root/miniconda3/envs/py3.11/include -fPIC -O2 -isystem /root/miniconda3/envs/py3.11/include -fPIC -c /tmp/tmp4fuoq6s1/test.c -o /tmp/tmp4fuoq6s1/test.o\n",
      "2024-08-05 00:52:45 - INFO - gcc -pthread -B /root/miniconda3/envs/py3.11/compiler_compat /tmp/tmp4fuoq6s1/test.o -laio -o /tmp/tmp4fuoq6s1/a.out\n"
     ]
    },
    {
     "name": "stdout",
     "output_type": "stream",
     "text": [
      "\u001b[93m [WARNING] \u001b[0m Please specify the CUTLASS repo directory as environment variable $CUTLASS_PATH\n",
      "\u001b[93m [WARNING] \u001b[0m sparse_attn requires a torch version >= 1.5 and < 2.0 but detected 2.3\n",
      "\u001b[93m [WARNING] \u001b[0m using untested triton version (2.3.1), only 1.0.0 is known to be compatible\n"
     ]
    },
    {
     "data": {
      "text/html": [],
      "text/plain": [
       "<IPython.core.display.HTML object>"
      ]
     },
     "metadata": {},
     "output_type": "display_data"
    },
    {
     "name": "stderr",
     "output_type": "stream",
     "text": [
      "\u001b[34m\u001b[1mwandb\u001b[0m: \u001b[33mWARNING\u001b[0m The `run_name` is currently set to the same value as `TrainingArguments.output_dir`. If this was not intended, please specify a different run name by setting the `TrainingArguments.run_name` parameter.\n",
      "2024-08-05 00:52:50 - ERROR - Failed to detect the name of this notebook, you can set it manually with the WANDB_NOTEBOOK_NAME environment variable to enable code saving.\n",
      "\u001b[34m\u001b[1mwandb\u001b[0m: Currently logged in as: \u001b[33mjermyn\u001b[0m. Use \u001b[1m`wandb login --relogin`\u001b[0m to force relogin\n"
     ]
    },
    {
     "data": {
      "text/html": [
       "Tracking run with wandb version 0.17.5"
      ],
      "text/plain": [
       "<IPython.core.display.HTML object>"
      ]
     },
     "metadata": {},
     "output_type": "display_data"
    },
    {
     "data": {
      "text/html": [
       "Run data is saved locally in <code>/home/github/visualizing-finetunes/wandb/run-20240805_005251-jdo54lv4</code>"
      ],
      "text/plain": [
       "<IPython.core.display.HTML object>"
      ]
     },
     "metadata": {},
     "output_type": "display_data"
    },
    {
     "data": {
      "text/html": [
       "Syncing run <strong><a href='https://wandb.ai/jermyn/ft_usb_fib/runs/jdo54lv4' target=\"_blank\">./checkpoints/bart-usb-only</a></strong> to <a href='https://wandb.ai/jermyn/ft_usb_fib' target=\"_blank\">Weights & Biases</a> (<a href='https://wandb.me/run' target=\"_blank\">docs</a>)<br/>"
      ],
      "text/plain": [
       "<IPython.core.display.HTML object>"
      ]
     },
     "metadata": {},
     "output_type": "display_data"
    },
    {
     "data": {
      "text/html": [
       " View project at <a href='https://wandb.ai/jermyn/ft_usb_fib' target=\"_blank\">https://wandb.ai/jermyn/ft_usb_fib</a>"
      ],
      "text/plain": [
       "<IPython.core.display.HTML object>"
      ]
     },
     "metadata": {},
     "output_type": "display_data"
    },
    {
     "data": {
      "text/html": [
       " View run at <a href='https://wandb.ai/jermyn/ft_usb_fib/runs/jdo54lv4' target=\"_blank\">https://wandb.ai/jermyn/ft_usb_fib/runs/jdo54lv4</a>"
      ],
      "text/plain": [
       "<IPython.core.display.HTML object>"
      ]
     },
     "metadata": {},
     "output_type": "display_data"
    },
    {
     "data": {
      "image/png": "[encoded data removed]",
      "text/plain": [
       "<Figure size 1300x300 with 4 Axes>"
      ]
     },
     "metadata": {},
     "output_type": "display_data"
    },
    {
     "name": "stderr",
     "output_type": "stream",
     "text": [
      "2024-08-05 00:52:54 - INFO - Threshold: 0.95 - Recall: 0.04, Precision: 1.00\n",
      "2024-08-05 00:52:54 - INFO - Threshold: 0.90 - Recall: 0.07, Precision: 1.00\n",
      "2024-08-05 00:52:54 - INFO - Threshold: 0.95 - Recall: 0.04, Precision: 1.00\n",
      "2024-08-05 00:52:54 - INFO - Threshold: 0.80 - Recall: 0.08, Precision: 1.00\n",
      "2024-08-05 00:52:54 - INFO - Threshold: 0.75 - Recall: 0.11, Precision: 1.00\n",
      "2024-08-05 00:52:54 - INFO - Threshold: 0.70 - Recall: 0.15, Precision: 1.00\n",
      "2024-08-05 00:52:54 - INFO - Threshold: 0.65 - Recall: 0.17, Precision: 1.00\n",
      "2024-08-05 00:52:54 - INFO - Threshold: 0.60 - Recall: 0.20, Precision: 1.00\n"
     ]
    }
   ],
   "source": [
    "# Get predictions\n",
    "fib_val_preds = trainer.predict(fib_ds['val'])[0]\n",
    "\n",
    "# Get labels and update them so entailment = 0 and contradiction = 1\n",
    "fib_val_labels = np.array(fib_ds['val']['label'])\n",
    "fib_val_labels = np.where(fib_val_labels==2, 0, 1)  # If label = 2, return 0, else, return 1\n",
    "\n",
    "visualize_preds(fib_val_labels, fib_val_preds, 'Pre-finetune on USB (evals for FIB)')\n",
    "compute_metrics_per_threshold(fib_val_labels, fib_val_preds)"
   ]
  },
  {
   "cell_type": "code",
   "execution_count": null,
   "metadata": {
    "id": "SNNEHiaDA2Lt",
    "jupyter": {
     "source_hidden": true
    }
   },
   "outputs": [],
   "source": [
    "# df = pd.DataFrame({'label': fib_val_labels, 'pred_proba': fib_val_preds})\n",
    "# model_name = 'Pre-finetune (evals for FIB)'\n",
    "\n",
    "# # Compute ROCAUC metrics\n",
    "# rocauc = roc_auc_score(df['label'], df['pred_proba'])\n",
    "# fpr, tpr, thresholds = roc_curve(df['label'], df['pred_proba'])\n",
    "# baseline = np.sum(df['label']) / len(df)\n",
    "\n",
    "# # Compute PRAUC metrics\n",
    "# prauc = average_precision_score(df['label'], df['pred_proba'])\n",
    "# prec, rec, thresholds = precision_recall_curve(df['label'], df['pred_proba'])\n",
    "\n",
    "# # Split into consistent and inconsistent for prob distribution\n",
    "# inconsistent = df[df['label'] == 1].reset_index(drop=True)\n",
    "# consistent = df[df['label'] == 0].reset_index(drop=True)\n",
    "# js_div = js_divergence(inconsistent['pred_proba'], consistent['pred_proba'])\n",
    "\n",
    "# # Set up plots\n",
    "# fig, (ax0, ax1, ax2, ax3) = plt.subplots(1, 4, figsize=(26, 6), tight_layout=True)\n",
    "# title_font_size = 15\n",
    "# fig.suptitle(f'{model_name}', fontsize=title_font_size+2, y=1)\n",
    "\n",
    "# # Plot ROC\n",
    "# ax0.grid()\n",
    "# ax0.plot(fpr, tpr, label='ROC')\n",
    "# ax0.plot([0, 1], [0, 1], label='Random chance', linestyle='--', color='red')\n",
    "# ax0.set_xlabel('False positive rate', fontsize=title_font_size)\n",
    "# ax0.set_ylabel('True positive rate', fontsize=title_font_size)\n",
    "# ax0.set_title(f'ROC AUC = {rocauc:.2f}', fontsize=title_font_size)\n",
    "# ax0.legend()\n",
    "\n",
    "# # Plot PRAUC\n",
    "# ax1.grid()\n",
    "# ax1.plot(rec, prec, label='PRAUC')\n",
    "# ax1.axhline(y=baseline, label='Baseline', linestyle='--', color='red')\n",
    "# ax1.set_xlabel('Recall', fontsize=title_font_size)\n",
    "# ax1.set_ylabel('Precision', fontsize=title_font_size)\n",
    "# ax1.set_xlim((-0.1, 1.1))\n",
    "# ax1.set_ylim((-0.1, 1.1))\n",
    "# ax1.set_title(f'PR AUC = {prauc:.2f}', fontsize=title_font_size)\n",
    "\n",
    "# # Plot Precision & Recall\n",
    "# ax2.grid()\n",
    "# ax2.plot(thresholds, prec[1:], color='red', label='Precision')\n",
    "# ax2.plot(thresholds, rec[1:], color='blue', label='Recall')\n",
    "# ax2.invert_xaxis()\n",
    "# ax2.set_xlabel('Thresholds (1.0 - 0.0)', fontsize=title_font_size)\n",
    "# ax2.set_ylabel('Precision / Recall', fontsize=title_font_size)\n",
    "# ax2.set_xlim((1.1, -0.1))\n",
    "# ax2.set_ylim((-0.1, 1.1))\n",
    "# ax2.legend()\n",
    "# ax2.set_title(f'PR AUC = {prauc:.2f}', fontsize=title_font_size)\n",
    "\n",
    "# # Plot prob distribution\n",
    "# ax3.grid()\n",
    "# ax3.hist(inconsistent['pred_proba'], color='red', alpha=0.5, density=True, label='Inconsistent', bins=max(int(inconsistent['pred_proba'].nunique()/20), 20))\n",
    "# ax3.hist(consistent['pred_proba'], color='green', alpha=0.5, density=True, label='Consistent', bins=max(int(inconsistent['pred_proba'].nunique()/20), 20))\n",
    "# ax3.set_xlabel('Prob of inconsistent', fontsize=title_font_size)\n",
    "# ax3.set_ylabel('Density', fontsize=title_font_size)\n",
    "# ax3.set_title(f'JS Divergence = {js_div:.3f}', fontsize=title_font_size)\n",
    "# ax3.legend()\n",
    "\n",
    "# plt.show()"
   ]
  },
  {
   "cell_type": "code",
   "execution_count": 27,
   "metadata": {
    "colab": {
     "base_uri": "https://localhost:8080/",
     "height": 420
    },
    "id": "q3O7xP-wlBju",
    "outputId": "37d59974-10d6-4df5-8402-ea2c743b0f44"
   },
   "outputs": [
    {
     "data": {
      "text/html": [],
      "text/plain": [
       "<IPython.core.display.HTML object>"
      ]
     },
     "metadata": {},
     "output_type": "display_data"
    },
    {
     "data": {
      "image/png": "[encoded data removed]",
      "text/plain": [
       "<Figure size 1300x300 with 4 Axes>"
      ]
     },
     "metadata": {},
     "output_type": "display_data"
    },
    {
     "name": "stderr",
     "output_type": "stream",
     "text": [
      "2024-08-05 00:53:55 - INFO - Threshold: 0.95 - Recall: 0.07, Precision: 0.89\n",
      "2024-08-05 00:53:55 - INFO - Threshold: 0.90 - Recall: 0.11, Precision: 0.88\n",
      "2024-08-05 00:53:55 - INFO - Threshold: 0.95 - Recall: 0.07, Precision: 0.89\n",
      "2024-08-05 00:53:55 - INFO - Threshold: 0.80 - Recall: 0.16, Precision: 0.85\n",
      "2024-08-05 00:53:55 - INFO - Threshold: 0.75 - Recall: 0.19, Precision: 0.84\n",
      "2024-08-05 00:53:55 - INFO - Threshold: 0.70 - Recall: 0.21, Precision: 0.85\n",
      "2024-08-05 00:53:55 - INFO - Threshold: 0.65 - Recall: 0.22, Precision: 0.84\n",
      "2024-08-05 00:53:55 - INFO - Threshold: 0.60 - Recall: 0.25, Precision: 0.84\n"
     ]
    }
   ],
   "source": [
    "# Get predictions\n",
    "usb_val_preds = trainer.predict(usb_ds['val'])[0]\n",
    "\n",
    "# Get labels and update them so entailment = 0 and contradiction = 1\n",
    "usb_val_labels = np.array(usb_ds['val']['label'])\n",
    "usb_val_labels = np.where(usb_val_labels==2, 0, 1)  # If label = 2, return 0, else, return 1\n",
    "\n",
    "visualize_preds(usb_val_labels, usb_val_preds, 'Pre-finetune on USB (evals for USB)')\n",
    "compute_metrics_per_threshold(usb_val_labels, usb_val_preds)"
   ]
  },
  {
   "cell_type": "markdown",
   "metadata": {
    "id": "SitlNPMQgJ7w"
   },
   "source": [
    "## Start finetuning"
   ]
  },
  {
   "cell_type": "markdown",
   "metadata": {
    "id": "Y906RWxGv4Jw"
   },
   "source": [
    "## # Metrics from finetuning on FIB-only for comparison\n",
    "```\n",
    "Step    Training Loss   Fib Loss    Fib Prauc   Fib Rocauc  Fib Recall  Fib Precision\n",
    "20      1.371500        0.854492    0.579853    0.579467    0.066667    0.714286\n",
    "40      0.758200        0.713867    0.601021    0.604978    0.040000    0.750000\n",
    "60      0.683100        0.681152    0.616764    0.632444    0.053333    0.800000\n",
    "80      0.671600        0.668945    0.640852    0.648089    0.040000    0.750000\n",
    "100     0.664400        0.662598    0.649766    0.658133    0.040000    0.750000\n",
    "```"
   ]
  },
  {
   "cell_type": "code",
   "execution_count": 26,
   "metadata": {
    "colab": {
     "base_uri": "https://localhost:8080/",
     "height": 1000
    },
    "id": "G1bt81M9dVLt",
    "outputId": "63a307ac-54d2-45cd-e428-7bac1e8af119"
   },
   "outputs": [
    {
     "name": "stdout",
     "output_type": "stream",
     "text": [
      "[2024-08-06 00:32:50,233] [INFO] [real_accelerator.py:203:get_accelerator] Setting ds_accelerator to cuda (auto detect)\n"
     ]
    },
    {
     "name": "stderr",
     "output_type": "stream",
     "text": [
      "2024-08-06 00:32:50 - INFO - gcc -pthread -B /root/miniconda3/envs/py3.11/compiler_compat -DNDEBUG -fwrapv -O2 -Wall -fPIC -O2 -isystem /root/miniconda3/envs/py3.11/include -fPIC -O2 -isystem /root/miniconda3/envs/py3.11/include -fPIC -c /tmp/tmp0f2weyxs/test.c -o /tmp/tmp0f2weyxs/test.o\n",
      "2024-08-06 00:32:50 - INFO - gcc -pthread -B /root/miniconda3/envs/py3.11/compiler_compat /tmp/tmp0f2weyxs/test.o -laio -o /tmp/tmp0f2weyxs/a.out\n"
     ]
    },
    {
     "name": "stdout",
     "output_type": "stream",
     "text": [
      "\u001b[93m [WARNING] \u001b[0m Please specify the CUTLASS repo directory as environment variable $CUTLASS_PATH\n",
      "\u001b[93m [WARNING] \u001b[0m sparse_attn requires a torch version >= 1.5 and < 2.0 but detected 2.3\n",
      "\u001b[93m [WARNING] \u001b[0m using untested triton version (2.3.1), only 1.0.0 is known to be compatible\n"
     ]
    },
    {
     "data": {
      "text/html": [
       "\n",
       "    <div>\n",
       "      \n",
       "      <progress value='178' max='84' style='width:300px; height:20px; vertical-align: middle;'></progress>\n",
       "      [84/84 03:35]\n",
       "    </div>\n",
       "    "
      ],
      "text/plain": [
       "<IPython.core.display.HTML object>"
      ]
     },
     "metadata": {},
     "output_type": "display_data"
    },
    {
     "name": "stderr",
     "output_type": "stream",
     "text": [
      "\u001b[34m\u001b[1mwandb\u001b[0m: \u001b[33mWARNING\u001b[0m The `run_name` is currently set to the same value as `TrainingArguments.output_dir`. If this was not intended, please specify a different run name by setting the `TrainingArguments.run_name` parameter.\n",
      "2024-08-06 00:33:37 - ERROR - Failed to detect the name of this notebook, you can set it manually with the WANDB_NOTEBOOK_NAME environment variable to enable code saving.\n",
      "\u001b[34m\u001b[1mwandb\u001b[0m: Currently logged in as: \u001b[33mjermyn\u001b[0m. Use \u001b[1m`wandb login --relogin`\u001b[0m to force relogin\n"
     ]
    },
    {
     "data": {
      "text/html": [
       "Tracking run with wandb version 0.17.5"
      ],
      "text/plain": [
       "<IPython.core.display.HTML object>"
      ]
     },
     "metadata": {},
     "output_type": "display_data"
    },
    {
     "data": {
      "text/html": [
       "Run data is saved locally in <code>/home/github/visualizing-finetunes/wandb/run-20240806_003338-g47cfzpe</code>"
      ],
      "text/plain": [
       "<IPython.core.display.HTML object>"
      ]
     },
     "metadata": {},
     "output_type": "display_data"
    },
    {
     "data": {
      "text/html": [
       "Syncing run <strong><a href='https://wandb.ai/jermyn/ft_usb_fib/runs/g47cfzpe' target=\"_blank\">./checkpoints/bart-usb-only</a></strong> to <a href='https://wandb.ai/jermyn/ft_usb_fib' target=\"_blank\">Weights & Biases</a> (<a href='https://wandb.me/run' target=\"_blank\">docs</a>)<br/>"
      ],
      "text/plain": [
       "<IPython.core.display.HTML object>"
      ]
     },
     "metadata": {},
     "output_type": "display_data"
    },
    {
     "data": {
      "text/html": [
       " View project at <a href='https://wandb.ai/jermyn/ft_usb_fib' target=\"_blank\">https://wandb.ai/jermyn/ft_usb_fib</a>"
      ],
      "text/plain": [
       "<IPython.core.display.HTML object>"
      ]
     },
     "metadata": {},
     "output_type": "display_data"
    },
    {
     "data": {
      "text/html": [
       " View run at <a href='https://wandb.ai/jermyn/ft_usb_fib/runs/g47cfzpe' target=\"_blank\">https://wandb.ai/jermyn/ft_usb_fib/runs/g47cfzpe</a>"
      ],
      "text/plain": [
       "<IPython.core.display.HTML object>"
      ]
     },
     "metadata": {},
     "output_type": "display_data"
    },
    {
     "name": "stderr",
     "output_type": "stream",
     "text": [
      "2024-08-06 00:33:41 - INFO - Step 0 metrics: {'eval_usb_loss': 2.732421875, 'eval_usb_model_preparation_time': 0.0066, 'eval_usb_prauc': 0.754496531706082, 'eval_usb_rocauc': 0.765017229016676, 'eval_usb_recall': 0.1619190404797601, 'eval_usb_precision': 0.8503937007874016}\n",
      "2024-08-06 00:33:43 - INFO - Step 0 metrics: {'eval_fib_loss': 2.013671875, 'eval_fib_model_preparation_time': 0.0066, 'eval_fib_prauc': 0.7990945640074882, 'eval_fib_rocauc': 0.7443555555555555, 'eval_fib_recall': 0.08, 'eval_fib_precision': 1.0}\n"
     ]
    },
    {
     "data": {
      "text/html": [
       "\n",
       "    <div>\n",
       "      \n",
       "      <progress value='237' max='237' style='width:300px; height:20px; vertical-align: middle;'></progress>\n",
       "      [237/237 15:29, Epoch 3/3]\n",
       "    </div>\n",
       "    <table border=\"1\" class=\"dataframe\">\n",
       "  <thead>\n",
       " <tr style=\"text-align: left;\">\n",
       "      <th>Step</th>\n",
       "      <th>Training Loss</th>\n",
       "      <th>Validation Loss</th>\n",
       "      <th>Usb Loss</th>\n",
       "      <th>Usb Model Preparation Time</th>\n",
       "      <th>Usb Prauc</th>\n",
       "      <th>Usb Rocauc</th>\n",
       "      <th>Usb Recall</th>\n",
       "      <th>Usb Precision</th>\n",
       "      <th>Fib Loss</th>\n",
       "      <th>Fib Model Preparation Time</th>\n",
       "      <th>Fib Prauc</th>\n",
       "      <th>Fib Rocauc</th>\n",
       "      <th>Fib Recall</th>\n",
       "      <th>Fib Precision</th>\n",
       "    </tr>\n",
       "  </thead>\n",
       "  <tbody>\n",
       "    <tr>\n",
       "      <td>40</td>\n",
       "      <td>0.874700</td>\n",
       "      <td>No log</td>\n",
       "      <td>0.470215</td>\n",
       "      <td>0.006600</td>\n",
       "      <td>0.883619</td>\n",
       "      <td>0.876775</td>\n",
       "      <td>0.329085</td>\n",
       "      <td>0.954348</td>\n",
       "      <td>0.602539</td>\n",
       "      <td>0.006600</td>\n",
       "      <td>0.792691</td>\n",
       "      <td>0.768711</td>\n",
       "      <td>0.160000</td>\n",
       "      <td>1.000000</td>\n",
       "    </tr>\n",
       "    <tr>\n",
       "      <td>80</td>\n",
       "      <td>0.390900</td>\n",
       "      <td>No log</td>\n",
       "      <td>0.365967</td>\n",
       "      <td>0.006600</td>\n",
       "      <td>0.928789</td>\n",
       "      <td>0.923283</td>\n",
       "      <td>0.718141</td>\n",
       "      <td>0.914122</td>\n",
       "      <td>0.607422</td>\n",
       "      <td>0.006600</td>\n",
       "      <td>0.771776</td>\n",
       "      <td>0.781600</td>\n",
       "      <td>0.320000</td>\n",
       "      <td>0.800000</td>\n",
       "    </tr>\n",
       "    <tr>\n",
       "      <td>120</td>\n",
       "      <td>0.325000</td>\n",
       "      <td>No log</td>\n",
       "      <td>0.354248</td>\n",
       "      <td>0.006600</td>\n",
       "      <td>0.935336</td>\n",
       "      <td>0.929566</td>\n",
       "      <td>0.685907</td>\n",
       "      <td>0.932722</td>\n",
       "      <td>0.683105</td>\n",
       "      <td>0.006600</td>\n",
       "      <td>0.777696</td>\n",
       "      <td>0.776978</td>\n",
       "      <td>0.240000</td>\n",
       "      <td>0.857143</td>\n",
       "    </tr>\n",
       "    <tr>\n",
       "      <td>160</td>\n",
       "      <td>0.333200</td>\n",
       "      <td>No log</td>\n",
       "      <td>0.344971</td>\n",
       "      <td>0.006600</td>\n",
       "      <td>0.938197</td>\n",
       "      <td>0.933131</td>\n",
       "      <td>0.661169</td>\n",
       "      <td>0.943316</td>\n",
       "      <td>0.726074</td>\n",
       "      <td>0.006600</td>\n",
       "      <td>0.780811</td>\n",
       "      <td>0.773956</td>\n",
       "      <td>0.226667</td>\n",
       "      <td>0.944444</td>\n",
       "    </tr>\n",
       "    <tr>\n",
       "      <td>200</td>\n",
       "      <td>0.303900</td>\n",
       "      <td>No log</td>\n",
       "      <td>0.334717</td>\n",
       "      <td>0.006600</td>\n",
       "      <td>0.940585</td>\n",
       "      <td>0.935106</td>\n",
       "      <td>0.715142</td>\n",
       "      <td>0.932551</td>\n",
       "      <td>0.703125</td>\n",
       "      <td>0.006600</td>\n",
       "      <td>0.775114</td>\n",
       "      <td>0.768711</td>\n",
       "      <td>0.240000</td>\n",
       "      <td>0.900000</td>\n",
       "    </tr>\n",
       "  </tbody>\n",
       "</table><p>"
      ],
      "text/plain": [
       "<IPython.core.display.HTML object>"
      ]
     },
     "metadata": {},
     "output_type": "display_data"
    }
   ],
   "source": [
    "# USB first\n",
    "\n",
    "trainer.train()"
   ]
  },
  {
   "cell_type": "markdown",
   "metadata": {
    "id": "C-YNvs96gPVO"
   },
   "source": [
    "## Check evals after finetuning on USB"
   ]
  },
  {
   "cell_type": "code",
   "execution_count": 27,
   "metadata": {
    "colab": {
     "base_uri": "https://localhost:8080/",
     "height": 420
    },
    "id": "fAPgauXOcBy4",
    "outputId": "43146433-e7e9-4878-d663-af7c4450d021"
   },
   "outputs": [
    {
     "data": {
      "text/html": [],
      "text/plain": [
       "<IPython.core.display.HTML object>"
      ]
     },
     "metadata": {},
     "output_type": "display_data"
    },
    {
     "data": {
      "image/png": "[encoded data removed]",
      "text/plain": [
       "<Figure size 1300x300 with 4 Axes>"
      ]
     },
     "metadata": {},
     "output_type": "display_data"
    },
    {
     "name": "stderr",
     "output_type": "stream",
     "text": [
      "2024-08-06 00:50:55 - INFO - Threshold: 0.95 - Recall: 0.56, Precision: 0.96\n",
      "2024-08-06 00:50:55 - INFO - Threshold: 0.90 - Recall: 0.64, Precision: 0.93\n",
      "2024-08-06 00:50:55 - INFO - Threshold: 0.95 - Recall: 0.56, Precision: 0.96\n",
      "2024-08-06 00:50:55 - INFO - Threshold: 0.80 - Recall: 0.72, Precision: 0.91\n",
      "2024-08-06 00:50:55 - INFO - Threshold: 0.75 - Recall: 0.76, Precision: 0.91\n",
      "2024-08-06 00:50:55 - INFO - Threshold: 0.70 - Recall: 0.78, Precision: 0.90\n",
      "2024-08-06 00:50:55 - INFO - Threshold: 0.65 - Recall: 0.80, Precision: 0.89\n",
      "2024-08-06 00:50:55 - INFO - Threshold: 0.60 - Recall: 0.81, Precision: 0.88\n"
     ]
    }
   ],
   "source": [
    "# Get predictions on USB\n",
    "usb_val_preds = trainer.predict(usb_ds['val'])[0]\n",
    "\n",
    "# Get labels and update them so entailment = 0 and contradiction = 1\n",
    "usb_val_labels = np.array(usb_ds['val']['label'])\n",
    "usb_val_labels = np.where(usb_val_labels==2, 0, 1)  # If label = 2, return 0, else, return 1\n",
    "\n",
    "visualize_preds(usb_val_labels, usb_val_preds, 'Post-finetune on USB (evals for USB)')\n",
    "compute_metrics_per_threshold(usb_val_labels, usb_val_preds)"
   ]
  },
  {
   "cell_type": "code",
   "execution_count": 28,
   "metadata": {
    "colab": {
     "base_uri": "https://localhost:8080/",
     "height": 420
    },
    "id": "pT3fGDGqcq3K",
    "outputId": "22772cc5-3e02-4eba-b4cd-8f124bb006bd"
   },
   "outputs": [
    {
     "data": {
      "text/html": [],
      "text/plain": [
       "<IPython.core.display.HTML object>"
      ]
     },
     "metadata": {},
     "output_type": "display_data"
    },
    {
     "data": {
      "image/png": "[encoded data removed]",
      "text/plain": [
       "<Figure size 1300x300 with 4 Axes>"
      ]
     },
     "metadata": {},
     "output_type": "display_data"
    },
    {
     "name": "stderr",
     "output_type": "stream",
     "text": [
      "2024-08-06 00:50:58 - INFO - Threshold: 0.95 - Recall: 0.13, Precision: 0.91\n",
      "2024-08-06 00:50:58 - INFO - Threshold: 0.90 - Recall: 0.23, Precision: 0.85\n",
      "2024-08-06 00:50:58 - INFO - Threshold: 0.95 - Recall: 0.13, Precision: 0.91\n",
      "2024-08-06 00:50:58 - INFO - Threshold: 0.80 - Recall: 0.32, Precision: 0.80\n",
      "2024-08-06 00:50:58 - INFO - Threshold: 0.75 - Recall: 0.39, Precision: 0.83\n",
      "2024-08-06 00:50:58 - INFO - Threshold: 0.70 - Recall: 0.39, Precision: 0.78\n",
      "2024-08-06 00:50:58 - INFO - Threshold: 0.65 - Recall: 0.41, Precision: 0.72\n",
      "2024-08-06 00:50:58 - INFO - Threshold: 0.60 - Recall: 0.49, Precision: 0.76\n"
     ]
    }
   ],
   "source": [
    "# Get predictions on FIB\n",
    "fib_val_preds = trainer.predict(fib_ds['val'])[0]\n",
    "\n",
    "# Get labels and update them so entailment = 0 and contradiction = 1\n",
    "fib_val_labels = np.array(fib_ds['val']['label'])\n",
    "fib_val_labels = np.where(fib_val_labels==2, 0, 1)  # If label = 2, return 0, else, return 1\n",
    "\n",
    "visualize_preds(fib_val_labels, fib_val_preds, 'Post-finetune on USB (evals for FIB)')\n",
    "compute_metrics_per_threshold(fib_val_labels, fib_val_preds)"
   ]
  },
  {
   "cell_type": "markdown",
   "metadata": {
    "id": "BqLJlQDHol5m"
   },
   "source": [
    "## Next, set up trainer to finetune on FIB data\n",
    "- FIB contains one-sentence summaries on CNN/DM & XSUM news articles.\n",
    "- Note: We exclude the CNN/Daily Mail data is pretty bad.\n",
    "- https://huggingface.co/datasets/r-three/fib"
   ]
  },
  {
   "cell_type": "code",
   "execution_count": 29,
   "metadata": {
    "id": "O9_CSoYZr_Pv"
   },
   "outputs": [],
   "source": [
    "# Define params\n",
    "LEARNING_RATE=5e-5\n",
    "BATCH_SIZE=16\n",
    "R=16\n",
    "EPOCHS=10  # 10\n",
    "EVAL_STEPS=25\n",
    "LORA_DROPOUT=0.1\n",
    "LORA_ALPHA=32\n",
    "MAX_STEPS=-1"
   ]
  },
  {
   "cell_type": "code",
   "execution_count": 30,
   "metadata": {
    "id": "A6aZx52ur6lS"
   },
   "outputs": [
    {
     "name": "stderr",
     "output_type": "stream",
     "text": [
      "/root/miniconda3/envs/py3.11/lib/python3.11/site-packages/transformers/training_args.py:1525: FutureWarning: `evaluation_strategy` is deprecated and will be removed in version 4.46 of 🤗 Transformers. Use `eval_strategy` instead\n",
      "  warnings.warn(\n"
     ]
    }
   ],
   "source": [
    "# Set training arguments\n",
    "training_args = transformers.TrainingArguments(\n",
    "    output_dir='./checkpoints/bart-usb-fib',\n",
    "    learning_rate=LEARNING_RATE,\n",
    "    per_device_train_batch_size=BATCH_SIZE,\n",
    "    per_device_eval_batch_size=BATCH_SIZE * 2,  # Bigger batch size for eval\n",
    "    num_train_epochs=EPOCHS,\n",
    "    evaluation_strategy='steps',\n",
    "    eval_steps=EVAL_STEPS,  # Update eval steps to reduce time spent on evals\n",
    "    gradient_accumulation_steps=4,\n",
    "    optim='paged_adamw_32bit',\n",
    "    bf16=False,\n",
    "    max_steps=MAX_STEPS,\n",
    "    save_strategy=IntervalStrategy.STEPS,\n",
    "    save_steps=EVAL_STEPS,\n",
    "    logging_steps=EVAL_STEPS,\n",
    "    metric_for_best_model='fib_recall',\n",
    "    greater_is_better=True,\n",
    "    load_best_model_at_end=True,\n",
    ")"
   ]
  },
  {
   "cell_type": "code",
   "execution_count": 31,
   "metadata": {
    "colab": {
     "base_uri": "https://localhost:8080/"
    },
    "id": "7vbWnj4moar7",
    "outputId": "af32d960-0471-4e76-c82b-c7ab5d583e75"
   },
   "outputs": [],
   "source": [
    "trainer = CustomTrainer(\n",
    "    model=model,\n",
    "    args=training_args,\n",
    "    train_dataset=fib_ds['train'],\n",
    "    eval_dataset={'usb': usb_ds['val'], 'fib': fib_ds['val']},  # Custom trainer supports two eval datasets!\n",
    "    compute_metrics=compute_metrics,\n",
    "    preprocess_logits_for_metrics=preprocess_logits_for_metrics,\n",
    "    eval_before_train=True)"
   ]
  },
  {
   "cell_type": "markdown",
   "metadata": {
    "id": "psuNdJOGsinP"
   },
   "source": [
    "# # Metrics from finetuning on FIB-only for comparison\n",
    "```\n",
    "Step    Training Loss   Fib Loss    Fib Prauc   Fib Rocauc  Fib Recall  Fib Precision\n",
    "20      1.371500        0.854492    0.579853    0.579467    0.066667    0.714286\n",
    "40      0.758200        0.713867    0.601021    0.604978    0.040000    0.750000\n",
    "60      0.683100        0.681152    0.616764    0.632444    0.053333    0.800000\n",
    "80      0.671600        0.668945    0.640852    0.648089    0.040000    0.750000\n",
    "100     0.664400        0.662598    0.649766    0.658133    0.040000    0.750000\n",
    "```"
   ]
  },
  {
   "cell_type": "code",
   "execution_count": 32,
   "metadata": {},
   "outputs": [
    {
     "data": {
      "text/html": [
       "\n",
       "    <div>\n",
       "      \n",
       "      <progress value='178' max='84' style='width:300px; height:20px; vertical-align: middle;'></progress>\n",
       "      [84/84 02:51]\n",
       "    </div>\n",
       "    "
      ],
      "text/plain": [
       "<IPython.core.display.HTML object>"
      ]
     },
     "metadata": {},
     "output_type": "display_data"
    },
    {
     "name": "stderr",
     "output_type": "stream",
     "text": [
      "2024-08-06 00:52:25 - INFO - Step 0 metrics: {'eval_usb_loss': 0.365966796875, 'eval_usb_model_preparation_time': 0.0088, 'eval_usb_prauc': 0.9287892136375684, 'eval_usb_rocauc': 0.9232828300991932, 'eval_usb_recall': 0.7181409295352323, 'eval_usb_precision': 0.9141221374045801}\n",
      "2024-08-06 00:52:28 - INFO - Step 0 metrics: {'eval_fib_loss': 0.607421875, 'eval_fib_model_preparation_time': 0.0088, 'eval_fib_prauc': 0.7717755151261524, 'eval_fib_rocauc': 0.7816000000000001, 'eval_fib_recall': 0.32, 'eval_fib_precision': 0.8}\n"
     ]
    },
    {
     "data": {
      "text/html": [
       "\n",
       "    <div>\n",
       "      \n",
       "      <progress value='110' max='110' style='width:300px; height:20px; vertical-align: middle;'></progress>\n",
       "      [110/110 08:33, Epoch 10/10]\n",
       "    </div>\n",
       "    <table border=\"1\" class=\"dataframe\">\n",
       "  <thead>\n",
       " <tr style=\"text-align: left;\">\n",
       "      <th>Step</th>\n",
       "      <th>Training Loss</th>\n",
       "      <th>Validation Loss</th>\n",
       "      <th>Usb Loss</th>\n",
       "      <th>Usb Model Preparation Time</th>\n",
       "      <th>Usb Prauc</th>\n",
       "      <th>Usb Rocauc</th>\n",
       "      <th>Usb Recall</th>\n",
       "      <th>Usb Precision</th>\n",
       "      <th>Fib Loss</th>\n",
       "      <th>Fib Model Preparation Time</th>\n",
       "      <th>Fib Prauc</th>\n",
       "      <th>Fib Rocauc</th>\n",
       "      <th>Fib Recall</th>\n",
       "      <th>Fib Precision</th>\n",
       "    </tr>\n",
       "  </thead>\n",
       "  <tbody>\n",
       "    <tr>\n",
       "      <td>25</td>\n",
       "      <td>0.540200</td>\n",
       "      <td>No log</td>\n",
       "      <td>0.369873</td>\n",
       "      <td>0.008800</td>\n",
       "      <td>0.927039</td>\n",
       "      <td>0.920378</td>\n",
       "      <td>0.715892</td>\n",
       "      <td>0.917387</td>\n",
       "      <td>0.484619</td>\n",
       "      <td>0.008800</td>\n",
       "      <td>0.854540</td>\n",
       "      <td>0.850933</td>\n",
       "      <td>0.506667</td>\n",
       "      <td>0.883721</td>\n",
       "    </tr>\n",
       "    <tr>\n",
       "      <td>50</td>\n",
       "      <td>0.421000</td>\n",
       "      <td>No log</td>\n",
       "      <td>0.399902</td>\n",
       "      <td>0.008800</td>\n",
       "      <td>0.921872</td>\n",
       "      <td>0.913638</td>\n",
       "      <td>0.742129</td>\n",
       "      <td>0.895928</td>\n",
       "      <td>0.457764</td>\n",
       "      <td>0.008800</td>\n",
       "      <td>0.879963</td>\n",
       "      <td>0.869689</td>\n",
       "      <td>0.573333</td>\n",
       "      <td>0.877551</td>\n",
       "    </tr>\n",
       "    <tr>\n",
       "      <td>75</td>\n",
       "      <td>0.354900</td>\n",
       "      <td>No log</td>\n",
       "      <td>0.420166</td>\n",
       "      <td>0.008800</td>\n",
       "      <td>0.920112</td>\n",
       "      <td>0.910799</td>\n",
       "      <td>0.747376</td>\n",
       "      <td>0.884650</td>\n",
       "      <td>0.445557</td>\n",
       "      <td>0.008800</td>\n",
       "      <td>0.889604</td>\n",
       "      <td>0.880622</td>\n",
       "      <td>0.586667</td>\n",
       "      <td>0.880000</td>\n",
       "    </tr>\n",
       "    <tr>\n",
       "      <td>100</td>\n",
       "      <td>0.303800</td>\n",
       "      <td>No log</td>\n",
       "      <td>0.435059</td>\n",
       "      <td>0.008800</td>\n",
       "      <td>0.919528</td>\n",
       "      <td>0.909863</td>\n",
       "      <td>0.757871</td>\n",
       "      <td>0.879130</td>\n",
       "      <td>0.446533</td>\n",
       "      <td>0.008800</td>\n",
       "      <td>0.894935</td>\n",
       "      <td>0.886400</td>\n",
       "      <td>0.640000</td>\n",
       "      <td>0.888889</td>\n",
       "    </tr>\n",
       "  </tbody>\n",
       "</table><p>"
      ],
      "text/plain": [
       "<IPython.core.display.HTML object>"
      ]
     },
     "metadata": {},
     "output_type": "display_data"
    }
   ],
   "source": [
    "trainer.train()"
   ]
  },
  {
   "cell_type": "code",
   "execution_count": null,
   "metadata": {
    "colab": {
     "base_uri": "https://localhost:8080/",
     "height": 498
    },
    "collapsed": true,
    "id": "t7omfqN5pQ6q",
    "jupyter": {
     "outputs_hidden": true
    },
    "outputId": "1d32b7fc-51f8-4254-a7bb-663b11f1caaa"
   },
   "outputs": [
    {
     "data": {
      "text/html": [
       "\n",
       "    <div>\n",
       "      \n",
       "      <progress value='178' max='84' style='width:300px; height:20px; vertical-align: middle;'></progress>\n",
       "      [84/84 02:33]\n",
       "    </div>\n",
       "    "
      ],
      "text/plain": [
       "<IPython.core.display.HTML object>"
      ]
     },
     "metadata": {},
     "output_type": "display_data"
    },
    {
     "name": "stderr",
     "output_type": "stream",
     "text": [
      "2024-05-11 22:43:46 - INFO - Step 0 metrics: {'eval_usb_loss': 0.336669921875, 'eval_usb_prauc': 0.9458174724898825, 'eval_usb_rocauc': 0.9399249026161584, 'eval_usb_recall': 0.7886056971514243, 'eval_usb_precision': 0.9187772925764193}\n",
      "2024-05-11 22:43:49 - INFO - Step 0 metrics: {'eval_fib_loss': 0.7568359375, 'eval_fib_prauc': 0.6580583088395531, 'eval_fib_rocauc': 0.6432, 'eval_fib_recall': 0.25333333333333335, 'eval_fib_precision': 0.7307692307692307}\n"
     ]
    },
    {
     "data": {
      "text/html": [
       "\n",
       "    <div>\n",
       "      \n",
       "      <progress value='110' max='110' style='width:300px; height:20px; vertical-align: middle;'></progress>\n",
       "      [110/110 08:56, Epoch 10/10]\n",
       "    </div>\n",
       "    <table border=\"1\" class=\"dataframe\">\n",
       "  <thead>\n",
       " <tr style=\"text-align: left;\">\n",
       "      <th>Step</th>\n",
       "      <th>Training Loss</th>\n",
       "      <th>Validation Loss</th>\n",
       "      <th>Usb Loss</th>\n",
       "      <th>Usb Prauc</th>\n",
       "      <th>Usb Rocauc</th>\n",
       "      <th>Usb Recall</th>\n",
       "      <th>Usb Precision</th>\n",
       "      <th>Fib Loss</th>\n",
       "      <th>Fib Prauc</th>\n",
       "      <th>Fib Rocauc</th>\n",
       "      <th>Fib Recall</th>\n",
       "      <th>Fib Precision</th>\n",
       "    </tr>\n",
       "  </thead>\n",
       "  <tbody>\n",
       "    <tr>\n",
       "      <td>20</td>\n",
       "      <td>0.650600</td>\n",
       "      <td>No log</td>\n",
       "      <td>0.503418</td>\n",
       "      <td>0.938988</td>\n",
       "      <td>0.934167</td>\n",
       "      <td>0.894303</td>\n",
       "      <td>0.821625</td>\n",
       "      <td>0.598633</td>\n",
       "      <td>0.740828</td>\n",
       "      <td>0.756800</td>\n",
       "      <td>0.293333</td>\n",
       "      <td>0.880000</td>\n",
       "    </tr>\n",
       "    <tr>\n",
       "      <td>40</td>\n",
       "      <td>0.540700</td>\n",
       "      <td>No log</td>\n",
       "      <td>0.544434</td>\n",
       "      <td>0.930835</td>\n",
       "      <td>0.926803</td>\n",
       "      <td>0.902549</td>\n",
       "      <td>0.809684</td>\n",
       "      <td>0.517578</td>\n",
       "      <td>0.819064</td>\n",
       "      <td>0.826844</td>\n",
       "      <td>0.426667</td>\n",
       "      <td>0.914286</td>\n",
       "    </tr>\n",
       "    <tr>\n",
       "      <td>60</td>\n",
       "      <td>0.452400</td>\n",
       "      <td>No log</td>\n",
       "      <td>0.502441</td>\n",
       "      <td>0.924939</td>\n",
       "      <td>0.921494</td>\n",
       "      <td>0.865817</td>\n",
       "      <td>0.830338</td>\n",
       "      <td>0.481689</td>\n",
       "      <td>0.857859</td>\n",
       "      <td>0.848356</td>\n",
       "      <td>0.440000</td>\n",
       "      <td>0.942857</td>\n",
       "    </tr>\n",
       "    <tr>\n",
       "      <td>80</td>\n",
       "      <td>0.424500</td>\n",
       "      <td>No log</td>\n",
       "      <td>0.519531</td>\n",
       "      <td>0.922597</td>\n",
       "      <td>0.919200</td>\n",
       "      <td>0.868066</td>\n",
       "      <td>0.821277</td>\n",
       "      <td>0.472412</td>\n",
       "      <td>0.868118</td>\n",
       "      <td>0.853067</td>\n",
       "      <td>0.480000</td>\n",
       "      <td>0.923077</td>\n",
       "    </tr>\n",
       "    <tr>\n",
       "      <td>100</td>\n",
       "      <td>0.399700</td>\n",
       "      <td>No log</td>\n",
       "      <td>0.563965</td>\n",
       "      <td>0.919798</td>\n",
       "      <td>0.916684</td>\n",
       "      <td>0.876312</td>\n",
       "      <td>0.802334</td>\n",
       "      <td>0.464844</td>\n",
       "      <td>0.874490</td>\n",
       "      <td>0.861689</td>\n",
       "      <td>0.573333</td>\n",
       "      <td>0.934783</td>\n",
       "    </tr>\n",
       "  </tbody>\n",
       "</table><p>"
      ],
      "text/plain": [
       "<IPython.core.display.HTML object>"
      ]
     },
     "metadata": {},
     "output_type": "display_data"
    },
    {
     "name": "stderr",
     "output_type": "stream",
     "text": [
      "/usr/local/lib/python3.10/dist-packages/huggingface_hub/file_download.py:1132: FutureWarning: `resume_download` is deprecated and will be removed in version 1.0.0. Downloads always resume when possible. If you want to force a new download, use `force_download=True`.\n",
      "  warnings.warn(\n",
      "/usr/local/lib/python3.10/dist-packages/huggingface_hub/file_download.py:1132: FutureWarning: `resume_download` is deprecated and will be removed in version 1.0.0. Downloads always resume when possible. If you want to force a new download, use `force_download=True`.\n",
      "  warnings.warn(\n",
      "/usr/local/lib/python3.10/dist-packages/huggingface_hub/file_download.py:1132: FutureWarning: `resume_download` is deprecated and will be removed in version 1.0.0. Downloads always resume when possible. If you want to force a new download, use `force_download=True`.\n",
      "  warnings.warn(\n",
      "/usr/local/lib/python3.10/dist-packages/huggingface_hub/file_download.py:1132: FutureWarning: `resume_download` is deprecated and will be removed in version 1.0.0. Downloads always resume when possible. If you want to force a new download, use `force_download=True`.\n",
      "  warnings.warn(\n",
      "/usr/local/lib/python3.10/dist-packages/huggingface_hub/file_download.py:1132: FutureWarning: `resume_download` is deprecated and will be removed in version 1.0.0. Downloads always resume when possible. If you want to force a new download, use `force_download=True`.\n",
      "  warnings.warn(\n"
     ]
    }
   ],
   "source": [
    "# REFERENCE\n",
    "\n",
    "trainer.train()"
   ]
  },
  {
   "cell_type": "markdown",
   "metadata": {
    "id": "uJbtB9AEpUPT"
   },
   "source": [
    "## Check evals after finetuning on USB followed by FIB"
   ]
  },
  {
   "cell_type": "code",
   "execution_count": 33,
   "metadata": {
    "colab": {
     "base_uri": "https://localhost:8080/",
     "height": 420
    },
    "id": "q2jNYapQcRSf",
    "outputId": "93629015-ab20-4cbc-9672-6b7bb5226429"
   },
   "outputs": [
    {
     "data": {
      "text/html": [],
      "text/plain": [
       "<IPython.core.display.HTML object>"
      ]
     },
     "metadata": {},
     "output_type": "display_data"
    },
    {
     "data": {
      "image/png": "[encoded data removed]",
      "text/plain": [
       "<Figure size 1300x300 with 4 Axes>"
      ]
     },
     "metadata": {},
     "output_type": "display_data"
    },
    {
     "name": "stderr",
     "output_type": "stream",
     "text": [
      "2024-08-06 01:04:10 - INFO - Threshold: 0.95 - Recall: 0.65, Precision: 0.93\n",
      "2024-08-06 01:04:10 - INFO - Threshold: 0.90 - Recall: 0.71, Precision: 0.91\n",
      "2024-08-06 01:04:10 - INFO - Threshold: 0.95 - Recall: 0.65, Precision: 0.93\n",
      "2024-08-06 01:04:10 - INFO - Threshold: 0.80 - Recall: 0.76, Precision: 0.88\n",
      "2024-08-06 01:04:10 - INFO - Threshold: 0.75 - Recall: 0.77, Precision: 0.87\n",
      "2024-08-06 01:04:10 - INFO - Threshold: 0.70 - Recall: 0.79, Precision: 0.87\n",
      "2024-08-06 01:04:10 - INFO - Threshold: 0.65 - Recall: 0.81, Precision: 0.85\n",
      "2024-08-06 01:04:10 - INFO - Threshold: 0.60 - Recall: 0.82, Precision: 0.85\n"
     ]
    }
   ],
   "source": [
    "# Get predictions\n",
    "usb_val_preds = trainer.predict(usb_ds['val'])[0]\n",
    "\n",
    "# Get labels and update them so entailment = 0 and contradiction = 1\n",
    "usb_val_labels = np.array(usb_ds['val']['label'])\n",
    "usb_val_labels = np.where(usb_val_labels==2, 0, 1)  # If label = 2, return 0, else, return 1\n",
    "\n",
    "visualize_preds(usb_val_labels, usb_val_preds, 'Post-finetune on USB+FIB (evals for USB)')\n",
    "compute_metrics_per_threshold(usb_val_labels, usb_val_preds)"
   ]
  },
  {
   "cell_type": "code",
   "execution_count": 34,
   "metadata": {
    "id": "6hihQvOBc58y"
   },
   "outputs": [],
   "source": [
    "def eval_fib(dataset, split='val'):\n",
    "    # Get predictions\n",
    "    fib_preds = trainer.predict(fib_ds[split])[0]\n",
    "\n",
    "    # Get labels and update them so entailment = 0 and contradiction = 1\n",
    "    fib_labels = np.array(fib_ds[split]['label'])\n",
    "    fib_labels = np.where(fib_labels==2, 0, 1)  # If label = 2, return 0, else, return 1\n",
    "\n",
    "    visualize_preds(fib_labels, fib_preds, f'Post-finetune on USB+FIB training data ({split})')\n",
    "    compute_metrics_per_threshold(fib_labels, fib_preds)"
   ]
  },
  {
   "cell_type": "code",
   "execution_count": 35,
   "metadata": {
    "colab": {
     "base_uri": "https://localhost:8080/",
     "height": 420
    },
    "id": "iGOCstzqc_2t",
    "outputId": "b2d9be12-18e7-461f-963c-92e0c1577766"
   },
   "outputs": [
    {
     "data": {
      "text/html": [],
      "text/plain": [
       "<IPython.core.display.HTML object>"
      ]
     },
     "metadata": {},
     "output_type": "display_data"
    },
    {
     "data": {
      "image/png": "[encoded data removed]",
      "text/plain": [
       "<Figure size 1300x300 with 4 Axes>"
      ]
     },
     "metadata": {},
     "output_type": "display_data"
    },
    {
     "name": "stderr",
     "output_type": "stream",
     "text": [
      "2024-08-06 01:04:23 - INFO - Threshold: 0.95 - Recall: 0.52, Precision: 1.00\n",
      "2024-08-06 01:04:23 - INFO - Threshold: 0.90 - Recall: 0.59, Precision: 1.00\n",
      "2024-08-06 01:04:23 - INFO - Threshold: 0.95 - Recall: 0.52, Precision: 1.00\n",
      "2024-08-06 01:04:23 - INFO - Threshold: 0.80 - Recall: 0.68, Precision: 0.99\n",
      "2024-08-06 01:04:23 - INFO - Threshold: 0.75 - Recall: 0.70, Precision: 0.98\n",
      "2024-08-06 01:04:23 - INFO - Threshold: 0.70 - Recall: 0.72, Precision: 0.97\n",
      "2024-08-06 01:04:23 - INFO - Threshold: 0.65 - Recall: 0.75, Precision: 0.96\n",
      "2024-08-06 01:04:23 - INFO - Threshold: 0.60 - Recall: 0.77, Precision: 0.96\n"
     ]
    }
   ],
   "source": [
    "eval_fib(fib_ds, 'train')"
   ]
  },
  {
   "cell_type": "code",
   "execution_count": 36,
   "metadata": {
    "colab": {
     "base_uri": "https://localhost:8080/",
     "height": 420
    },
    "id": "4v6UQN3pdCEV",
    "outputId": "0d358cd2-5cd9-42c9-edab-ac8eb54007ba"
   },
   "outputs": [
    {
     "data": {
      "text/html": [],
      "text/plain": [
       "<IPython.core.display.HTML object>"
      ]
     },
     "metadata": {},
     "output_type": "display_data"
    },
    {
     "data": {
      "image/png": "[encoded data removed]",
      "text/plain": [
       "<Figure size 1300x300 with 4 Axes>"
      ]
     },
     "metadata": {},
     "output_type": "display_data"
    },
    {
     "name": "stderr",
     "output_type": "stream",
     "text": [
      "2024-08-06 01:04:26 - INFO - Threshold: 0.95 - Recall: 0.52, Precision: 0.97\n",
      "2024-08-06 01:04:26 - INFO - Threshold: 0.90 - Recall: 0.55, Precision: 0.91\n",
      "2024-08-06 01:04:26 - INFO - Threshold: 0.95 - Recall: 0.52, Precision: 0.97\n",
      "2024-08-06 01:04:26 - INFO - Threshold: 0.80 - Recall: 0.64, Precision: 0.89\n",
      "2024-08-06 01:04:26 - INFO - Threshold: 0.75 - Recall: 0.65, Precision: 0.84\n",
      "2024-08-06 01:04:26 - INFO - Threshold: 0.70 - Recall: 0.71, Precision: 0.84\n",
      "2024-08-06 01:04:26 - INFO - Threshold: 0.65 - Recall: 0.72, Precision: 0.83\n",
      "2024-08-06 01:04:26 - INFO - Threshold: 0.60 - Recall: 0.72, Precision: 0.83\n"
     ]
    }
   ],
   "source": [
    "eval_fib(fib_ds, 'val')"
   ]
  },
  {
   "cell_type": "code",
   "execution_count": 37,
   "metadata": {
    "colab": {
     "base_uri": "https://localhost:8080/",
     "height": 420
    },
    "id": "SMYPswbYdDL5",
    "outputId": "d977d5d4-e9a9-48d6-ac6a-2ff2829bb29e"
   },
   "outputs": [
    {
     "data": {
      "text/html": [],
      "text/plain": [
       "<IPython.core.display.HTML object>"
      ]
     },
     "metadata": {},
     "output_type": "display_data"
    },
    {
     "data": {
      "image/png": "[encoded data removed]",
      "text/plain": [
       "<Figure size 1300x300 with 4 Axes>"
      ]
     },
     "metadata": {},
     "output_type": "display_data"
    },
    {
     "name": "stderr",
     "output_type": "stream",
     "text": [
      "2024-08-06 01:04:29 - INFO - Threshold: 0.95 - Recall: 0.45, Precision: 0.97\n",
      "2024-08-06 01:04:29 - INFO - Threshold: 0.90 - Recall: 0.55, Precision: 0.95\n",
      "2024-08-06 01:04:29 - INFO - Threshold: 0.95 - Recall: 0.45, Precision: 0.97\n",
      "2024-08-06 01:04:29 - INFO - Threshold: 0.80 - Recall: 0.61, Precision: 0.90\n",
      "2024-08-06 01:04:29 - INFO - Threshold: 0.75 - Recall: 0.65, Precision: 0.89\n",
      "2024-08-06 01:04:29 - INFO - Threshold: 0.70 - Recall: 0.69, Precision: 0.90\n",
      "2024-08-06 01:04:29 - INFO - Threshold: 0.65 - Recall: 0.69, Precision: 0.90\n",
      "2024-08-06 01:04:29 - INFO - Threshold: 0.60 - Recall: 0.71, Precision: 0.90\n"
     ]
    }
   ],
   "source": [
    "eval_fib(fib_ds, 'test')"
   ]
  },
  {
   "cell_type": "code",
   "execution_count": null,
   "metadata": {
    "id": "3zqdhT3zQpz-"
   },
   "outputs": [],
   "source": [
    "# df = pd.DataFrame({'label': fib_val_labels, 'pred_proba': fib_val_preds})\n",
    "# model_name = 'Post-finetune on USB+FIB (evals for FIB)'\n",
    "\n",
    "# # Compute ROCAUC metrics\n",
    "# rocauc = roc_auc_score(df['label'], df['pred_proba'])\n",
    "# fpr, tpr, thresholds = roc_curve(df['label'], df['pred_proba'])\n",
    "# baseline = np.sum(df['label']) / len(df)\n",
    "\n",
    "# # Compute PRAUC metrics\n",
    "# prauc = average_precision_score(df['label'], df['pred_proba'])\n",
    "# prec, rec, thresholds = precision_recall_curve(df['label'], df['pred_proba'])\n",
    "\n",
    "# # Split into consistent and inconsistent for prob distribution\n",
    "# inconsistent = df[df['label'] == 1].reset_index(drop=True)\n",
    "# consistent = df[df['label'] == 0].reset_index(drop=True)\n",
    "# js_div = js_divergence(inconsistent['pred_proba'], consistent['pred_proba'])\n",
    "\n",
    "# # Set up plots\n",
    "# fig, (ax0, ax1, ax2, ax3) = plt.subplots(1, 4, figsize=(26, 6), tight_layout=True)\n",
    "# title_font_size = 15\n",
    "# fig.suptitle(f'{model_name}', fontsize=title_font_size+2, y=1)\n",
    "\n",
    "# # Plot ROC\n",
    "# ax0.grid()\n",
    "# ax0.plot(fpr, tpr, label='ROC')\n",
    "# ax0.plot([0, 1], [0, 1], label='Random chance', linestyle='--', color='red')\n",
    "# ax0.set_xlabel('False positive rate', fontsize=title_font_size)\n",
    "# ax0.set_ylabel('True positive rate', fontsize=title_font_size)\n",
    "# ax0.set_title(f'ROC AUC = {rocauc:.2f}', fontsize=title_font_size)\n",
    "# ax0.legend()\n",
    "\n",
    "# # Plot PRAUC\n",
    "# ax1.grid()\n",
    "# ax1.plot(rec, prec, label='PRAUC')\n",
    "# ax1.axhline(y=baseline, label='Baseline', linestyle='--', color='red')\n",
    "# ax1.set_xlabel('Recall', fontsize=title_font_size)\n",
    "# ax1.set_ylabel('Precision', fontsize=title_font_size)\n",
    "# ax1.set_xlim((-0.1, 1.1))\n",
    "# ax1.set_ylim((-0.1, 1.1))\n",
    "# ax1.set_title(f'PR AUC = {prauc:.2f}', fontsize=title_font_size)\n",
    "\n",
    "# # Plot Precision & Recall\n",
    "# ax2.grid()\n",
    "# ax2.plot(thresholds, prec[1:], color='red', label='Precision')\n",
    "# ax2.plot(thresholds, rec[1:], color='blue', label='Recall')\n",
    "# ax2.invert_xaxis()\n",
    "# ax2.set_xlabel('Thresholds (1.0 - 0.0)', fontsize=title_font_size)\n",
    "# ax2.set_ylabel('Precision / Recall', fontsize=title_font_size)\n",
    "# ax2.set_xlim((1.1, -0.1))\n",
    "# ax2.set_ylim((-0.1, 1.1))\n",
    "# ax2.legend()\n",
    "# ax2.set_title(f'PR AUC = {prauc:.2f}', fontsize=title_font_size)\n",
    "\n",
    "# # Plot prob distribution\n",
    "# ax3.grid()\n",
    "# ax3.hist(inconsistent['pred_proba'], color='red', alpha=0.5, density=True, label='Inconsistent', bins=max(int(inconsistent['pred_proba'].nunique()/20), 20))\n",
    "# ax3.hist(consistent['pred_proba'], color='green', alpha=0.5, density=True, label='Consistent', bins=max(int(inconsistent['pred_proba'].nunique()/20), 20))\n",
    "# ax3.set_xlabel('Prob of inconsistent', fontsize=title_font_size)\n",
    "# ax3.set_ylabel('Density', fontsize=title_font_size)\n",
    "# ax3.set_title(f'JS Divergence = {js_div:.3f}', fontsize=title_font_size)\n",
    "# ax3.legend()\n",
    "\n",
    "# plt.show()"
   ]
  },
  {
   "cell_type": "code",
   "execution_count": 38,
   "metadata": {},
   "outputs": [
    {
     "data": {
      "application/vnd.jupyter.widget-view+json": {
       "model_id": "",
       "version_major": 2,
       "version_minor": 0
      },
      "text/plain": [
       "VBox(children=(Label(value='0.020 MB of 0.046 MB uploaded\\r'), FloatProgress(value=0.4383430474604496, max=1.0…"
      ]
     },
     "metadata": {},
     "output_type": "display_data"
    },
    {
     "data": {
      "text/html": [
       "<style>\n",
       "    table.wandb td:nth-child(1) { padding: 0 10px; text-align: left ; width: auto;} td:nth-child(2) {text-align: left ; width: 100%}\n",
       "    .wandb-row { display: flex; flex-direction: row; flex-wrap: wrap; justify-content: flex-start; width: 100% }\n",
       "    .wandb-col { display: flex; flex-direction: column; flex-basis: 100%; flex: 1; padding: 10px; }\n",
       "    </style>\n",
       "<div class=\"wandb-row\"><div class=\"wandb-col\"><h3>Run history:</h3><br/><table class=\"wandb\"><tr><td>eval/fib_loss</td><td>██▂▂▂▂▂▂▂▁▁▁▁</td></tr><tr><td>eval/fib_model_preparation_time</td><td>▁▁▁▁▁▁▁██████</td></tr><tr><td>eval/fib_prauc</td><td>▃▃▂▁▁▂▁▁▁▆▇██</td></tr><tr><td>eval/fib_precision</td><td>███▁▃▆▄▁▁▄▄▄▄</td></tr><tr><td>eval/fib_recall</td><td>▁▁▂▄▃▃▃▄▄▆▇▇█</td></tr><tr><td>eval/fib_rocauc</td><td>▁▁▂▃▃▂▂▃▃▆▇██</td></tr><tr><td>eval/usb_loss</td><td>██▁▁▁▁▁▁▁▁▁▁▁</td></tr><tr><td>eval/usb_model_preparation_time</td><td>▁▁▁▁▁▁▁██████</td></tr><tr><td>eval/usb_prauc</td><td>▁▁▆██████▇▇▇▇</td></tr><tr><td>eval/usb_precision</td><td>▁▁█▅▇▇▇▅▅▆▄▃▃</td></tr><tr><td>eval/usb_recall</td><td>▁▁▃█▇▇▇██████</td></tr><tr><td>eval/usb_rocauc</td><td>▁▁▆██████▇▇▇▇</td></tr><tr><td>test/loss</td><td>▃█▅▁▅▄</td></tr><tr><td>test/model_preparation_time</td><td>▁▁████</td></tr><tr><td>test/prauc</td><td>▇▁▆█▅▆</td></tr><tr><td>test/precision</td><td>▅▁▄█▄▅</td></tr><tr><td>test/recall</td><td>▇▁█▇▆▆</td></tr><tr><td>test/rocauc</td><td>▆▁▆█▅▅</td></tr><tr><td>test/runtime</td><td>█▁█▃▁▁</td></tr><tr><td>test/samples_per_second</td><td>▇▁█▅▃▄</td></tr><tr><td>test/steps_per_second</td><td>▂▇▃▁██</td></tr><tr><td>train/epoch</td><td>▁▁▁▁▁▁▂▂▂▂▂▂▂▂▂▃▂▂▂▄▄▄▆▆▆▇▇▇█</td></tr><tr><td>train/global_step</td><td>▁▁▁▁▁▁▁▁▁▂▂▃▃▅▅▆▆▇▇██▁▁▁▁▁▁▁▁▂▂▂▂▃▃▄▄▄▄▄</td></tr><tr><td>train/learning_rate</td><td>█▆▅▃▂▇▅▃▁</td></tr><tr><td>train/loss</td><td>█▂▁▁▁▄▂▂▁</td></tr></table><br/></div><div class=\"wandb-col\"><h3>Run summary:</h3><br/><table class=\"wandb\"><tr><td>eval/fib_loss</td><td>0.44653</td></tr><tr><td>eval/fib_model_preparation_time</td><td>0.0088</td></tr><tr><td>eval/fib_prauc</td><td>0.89493</td></tr><tr><td>eval/fib_precision</td><td>0.88889</td></tr><tr><td>eval/fib_recall</td><td>0.64</td></tr><tr><td>eval/fib_rocauc</td><td>0.8864</td></tr><tr><td>eval/usb_loss</td><td>0.43506</td></tr><tr><td>eval/usb_model_preparation_time</td><td>0.0088</td></tr><tr><td>eval/usb_prauc</td><td>0.91953</td></tr><tr><td>eval/usb_precision</td><td>0.87913</td></tr><tr><td>eval/usb_recall</td><td>0.75787</td></tr><tr><td>eval/usb_rocauc</td><td>0.90986</td></tr><tr><td>test/loss</td><td>0.41455</td></tr><tr><td>test/model_preparation_time</td><td>0.0088</td></tr><tr><td>test/prauc</td><td>0.90762</td></tr><tr><td>test/precision</td><td>0.90196</td></tr><tr><td>test/recall</td><td>0.61333</td></tr><tr><td>test/rocauc</td><td>0.89582</td></tr><tr><td>test/runtime</td><td>2.6554</td></tr><tr><td>test/samples_per_second</td><td>56.489</td></tr><tr><td>test/steps_per_second</td><td>1.883</td></tr><tr><td>total_flos</td><td>7793881955328000.0</td></tr><tr><td>train/epoch</td><td>10.0</td></tr><tr><td>train/global_step</td><td>110</td></tr><tr><td>train/learning_rate</td><td>0.0</td></tr><tr><td>train/loss</td><td>0.3038</td></tr><tr><td>train_loss</td><td>0.39496</td></tr><tr><td>train_runtime</td><td>516.7354</td></tr><tr><td>train_samples_per_second</td><td>13.547</td></tr><tr><td>train_steps_per_second</td><td>0.213</td></tr></table><br/></div></div>"
      ],
      "text/plain": [
       "<IPython.core.display.HTML object>"
      ]
     },
     "metadata": {},
     "output_type": "display_data"
    },
    {
     "data": {
      "text/html": [
       " View run <strong style=\"color:#cdcd00\">./checkpoints/bart-usb-only</strong> at: <a href='https://wandb.ai/jermyn/ft_usb_fib/runs/g47cfzpe' target=\"_blank\">https://wandb.ai/jermyn/ft_usb_fib/runs/g47cfzpe</a><br/> View project at: <a href='https://wandb.ai/jermyn/ft_usb_fib' target=\"_blank\">https://wandb.ai/jermyn/ft_usb_fib</a><br/>Synced 6 W&B file(s), 0 media file(s), 1 artifact file(s) and 0 other file(s)"
      ],
      "text/plain": [
       "<IPython.core.display.HTML object>"
      ]
     },
     "metadata": {},
     "output_type": "display_data"
    },
    {
     "data": {
      "text/html": [
       "Find logs at: <code>./wandb/run-20240806_003338-g47cfzpe/logs</code>"
      ],
      "text/plain": [
       "<IPython.core.display.HTML object>"
      ]
     },
     "metadata": {},
     "output_type": "display_data"
    },
    {
     "data": {
      "text/html": [
       "The new W&B backend becomes opt-out in version 0.18.0; try it out with `wandb.require(\"core\")`! See https://wandb.me/wandb-core for more information."
      ],
      "text/plain": [
       "<IPython.core.display.HTML object>"
      ]
     },
     "metadata": {},
     "output_type": "display_data"
    }
   ],
   "source": [
    "# for notebooks\n",
    "import wandb\n",
    "\n",
    "wandb.finish()"
   ]
  },
  {
   "cell_type": "code",
   "execution_count": null,
   "metadata": {},
   "outputs": [],
   "source": []
  },
  {
   "cell_type": "markdown",
   "metadata": {},
   "source": [
    "# Fin\n",
    "\n",
    "Now go finetune and eval your own models"
   ]
  }
 ],
 "metadata": {
  "accelerator": "GPU",
  "colab": {
   "gpuType": "L4",
   "include_colab_link": true,
   "provenance": []
  },
  "kernelspec": {
   "display_name": "Python 3 (ipykernel)",
   "language": "python",
   "name": "python3"
  },
  "language_info": {
   "codemirror_mode": {
    "name": "ipython",
    "version": 3
   },
   "file_extension": ".py",
   "mimetype": "text/x-python",
   "name": "python",
   "nbconvert_exporter": "python",
   "pygments_lexer": "ipython3",
   "version": "3.11.9"
  },
  "widgets": {
   "application/vnd.jupyter.widget-state+json": {
    "000d2b80b0b748afb3f9cfa0272395ca": {
     "model_module": "@jupyter-widgets/base",
     "model_module_version": "1.2.0",
     "model_name": "LayoutModel",
     "state": {
      "_model_module": "@jupyter-widgets/base",
      "_model_module_version": "1.2.0",
      "_model_name": "LayoutModel",
      "_view_count": null,
      "_view_module": "@jupyter-widgets/base",
      "_view_module_version": "1.2.0",
      "_view_name": "LayoutView",
      "align_content": null,
      "align_items": null,
      "align_self": null,
      "border": null,
      "bottom": null,
      "display": null,
      "flex": null,
      "flex_flow": null,
      "grid_area": null,
      "grid_auto_columns": null,
      "grid_auto_flow": null,
      "grid_auto_rows": null,
      "grid_column": null,
      "grid_gap": null,
      "grid_row": null,
      "grid_template_areas": null,
      "grid_template_columns": null,
      "grid_template_rows": null,
      "height": null,
      "justify_content": null,
      "justify_items": null,
      "left": null,
      "margin": null,
      "max_height": null,
      "max_width": null,
      "min_height": null,
      "min_width": null,
      "object_fit": null,
      "object_position": null,
      "order": null,
      "overflow": null,
      "overflow_x": null,
      "overflow_y": null,
      "padding": null,
      "right": null,
      "top": null,
      "visibility": null,
      "width": null
     }
    },
    "007a827de4a74282a42cc5dba8c49306": {
     "model_module": "@jupyter-widgets/controls",
     "model_module_version": "1.5.0",
     "model_name": "DescriptionStyleModel",
     "state": {
      "_model_module": "@jupyter-widgets/controls",
      "_model_module_version": "1.5.0",
      "_model_name": "DescriptionStyleModel",
      "_view_count": null,
      "_view_module": "@jupyter-widgets/base",
      "_view_module_version": "1.2.0",
      "_view_name": "StyleView",
      "description_width": ""
     }
    },
    "122bf45d74844b3e8f2cefd79deae307": {
     "model_module": "@jupyter-widgets/base",
     "model_module_version": "1.2.0",
     "model_name": "LayoutModel",
     "state": {
      "_model_module": "@jupyter-widgets/base",
      "_model_module_version": "1.2.0",
      "_model_name": "LayoutModel",
      "_view_count": null,
      "_view_module": "@jupyter-widgets/base",
      "_view_module_version": "1.2.0",
      "_view_name": "LayoutView",
      "align_content": null,
      "align_items": null,
      "align_self": null,
      "border": null,
      "bottom": null,
      "display": null,
      "flex": null,
      "flex_flow": null,
      "grid_area": null,
      "grid_auto_columns": null,
      "grid_auto_flow": null,
      "grid_auto_rows": null,
      "grid_column": null,
      "grid_gap": null,
      "grid_row": null,
      "grid_template_areas": null,
      "grid_template_columns": null,
      "grid_template_rows": null,
      "height": null,
      "justify_content": null,
      "justify_items": null,
      "left": null,
      "margin": null,
      "max_height": null,
      "max_width": null,
      "min_height": null,
      "min_width": null,
      "object_fit": null,
      "object_position": null,
      "order": null,
      "overflow": null,
      "overflow_x": null,
      "overflow_y": null,
      "padding": null,
      "right": null,
      "top": null,
      "visibility": null,
      "width": "20px"
     }
    },
    "12aff3f2cbbe477a94acf530010dd232": {
     "model_module": "@jupyter-widgets/base",
     "model_module_version": "1.2.0",
     "model_name": "LayoutModel",
     "state": {
      "_model_module": "@jupyter-widgets/base",
      "_model_module_version": "1.2.0",
      "_model_name": "LayoutModel",
      "_view_count": null,
      "_view_module": "@jupyter-widgets/base",
      "_view_module_version": "1.2.0",
      "_view_name": "LayoutView",
      "align_content": null,
      "align_items": null,
      "align_self": null,
      "border": null,
      "bottom": null,
      "display": null,
      "flex": null,
      "flex_flow": null,
      "grid_area": null,
      "grid_auto_columns": null,
      "grid_auto_flow": null,
      "grid_auto_rows": null,
      "grid_column": null,
      "grid_gap": null,
      "grid_row": null,
      "grid_template_areas": null,
      "grid_template_columns": null,
      "grid_template_rows": null,
      "height": null,
      "justify_content": null,
      "justify_items": null,
      "left": null,
      "margin": null,
      "max_height": null,
      "max_width": null,
      "min_height": null,
      "min_width": null,
      "object_fit": null,
      "object_position": null,
      "order": null,
      "overflow": null,
      "overflow_x": null,
      "overflow_y": null,
      "padding": null,
      "right": null,
      "top": null,
      "visibility": null,
      "width": null
     }
    },
    "18342d211fc247e2a25383b99572dd64": {
     "model_module": "@jupyter-widgets/controls",
     "model_module_version": "1.5.0",
     "model_name": "FloatProgressModel",
     "state": {
      "_dom_classes": [],
      "_model_module": "@jupyter-widgets/controls",
      "_model_module_version": "1.5.0",
      "_model_name": "FloatProgressModel",
      "_view_count": null,
      "_view_module": "@jupyter-widgets/controls",
      "_view_module_version": "1.5.0",
      "_view_name": "ProgressView",
      "bar_style": "success",
      "description": "",
      "description_tooltip": null,
      "layout": "IPY_MODEL_799ad8d868424aed8da0fdfbed077b16",
      "max": 2668,
      "min": 0,
      "orientation": "horizontal",
      "style": "IPY_MODEL_90a29268c0ec4ac39c4bad243a83eaa8",
      "value": 2668
     }
    },
    "1bd936b67d2a41baadaf26c5a2b088fb": {
     "model_module": "@jupyter-widgets/base",
     "model_module_version": "1.2.0",
     "model_name": "LayoutModel",
     "state": {
      "_model_module": "@jupyter-widgets/base",
      "_model_module_version": "1.2.0",
      "_model_name": "LayoutModel",
      "_view_count": null,
      "_view_module": "@jupyter-widgets/base",
      "_view_module_version": "1.2.0",
      "_view_name": "LayoutView",
      "align_content": null,
      "align_items": null,
      "align_self": null,
      "border": null,
      "bottom": null,
      "display": null,
      "flex": null,
      "flex_flow": null,
      "grid_area": null,
      "grid_auto_columns": null,
      "grid_auto_flow": null,
      "grid_auto_rows": null,
      "grid_column": null,
      "grid_gap": null,
      "grid_row": null,
      "grid_template_areas": null,
      "grid_template_columns": null,
      "grid_template_rows": null,
      "height": null,
      "justify_content": null,
      "justify_items": null,
      "left": null,
      "margin": null,
      "max_height": null,
      "max_width": null,
      "min_height": null,
      "min_width": null,
      "object_fit": null,
      "object_position": null,
      "order": null,
      "overflow": null,
      "overflow_x": null,
      "overflow_y": null,
      "padding": null,
      "right": null,
      "top": null,
      "visibility": null,
      "width": null
     }
    },
    "1c722962eb1d4d17a129932defe73677": {
     "model_module": "@jupyter-widgets/base",
     "model_module_version": "1.2.0",
     "model_name": "LayoutModel",
     "state": {
      "_model_module": "@jupyter-widgets/base",
      "_model_module_version": "1.2.0",
      "_model_name": "LayoutModel",
      "_view_count": null,
      "_view_module": "@jupyter-widgets/base",
      "_view_module_version": "1.2.0",
      "_view_name": "LayoutView",
      "align_content": null,
      "align_items": null,
      "align_self": null,
      "border": null,
      "bottom": null,
      "display": null,
      "flex": null,
      "flex_flow": null,
      "grid_area": null,
      "grid_auto_columns": null,
      "grid_auto_flow": null,
      "grid_auto_rows": null,
      "grid_column": null,
      "grid_gap": null,
      "grid_row": null,
      "grid_template_areas": null,
      "grid_template_columns": null,
      "grid_template_rows": null,
      "height": null,
      "justify_content": null,
      "justify_items": null,
      "left": null,
      "margin": null,
      "max_height": null,
      "max_width": null,
      "min_height": null,
      "min_width": null,
      "object_fit": null,
      "object_position": null,
      "order": null,
      "overflow": null,
      "overflow_x": null,
      "overflow_y": null,
      "padding": null,
      "right": null,
      "top": null,
      "visibility": null,
      "width": null
     }
    },
    "2015dc35f18c4cd8aff45397c21418e0": {
     "model_module": "@jupyter-widgets/controls",
     "model_module_version": "1.5.0",
     "model_name": "DescriptionStyleModel",
     "state": {
      "_model_module": "@jupyter-widgets/controls",
      "_model_module_version": "1.5.0",
      "_model_name": "DescriptionStyleModel",
      "_view_count": null,
      "_view_module": "@jupyter-widgets/base",
      "_view_module_version": "1.2.0",
      "_view_name": "StyleView",
      "description_width": ""
     }
    },
    "212431452959492380a789af8c764592": {
     "model_module": "@jupyter-widgets/controls",
     "model_module_version": "1.5.0",
     "model_name": "FloatProgressModel",
     "state": {
      "_dom_classes": [],
      "_model_module": "@jupyter-widgets/controls",
      "_model_module_version": "1.5.0",
      "_model_name": "FloatProgressModel",
      "_view_count": null,
      "_view_module": "@jupyter-widgets/controls",
      "_view_module_version": "1.5.0",
      "_view_name": "ProgressView",
      "bar_style": "success",
      "description": "",
      "description_tooltip": null,
      "layout": "IPY_MODEL_a6f48bab34e44279bf13fe0570286c31",
      "max": 5050,
      "min": 0,
      "orientation": "horizontal",
      "style": "IPY_MODEL_e23ecf652a584ff6a6baf45273ea46ee",
      "value": 5050
     }
    },
    "213e2ea08e9a48358ec0afa656b56b32": {
     "model_module": "@jupyter-widgets/controls",
     "model_module_version": "1.5.0",
     "model_name": "DescriptionStyleModel",
     "state": {
      "_model_module": "@jupyter-widgets/controls",
      "_model_module_version": "1.5.0",
      "_model_name": "DescriptionStyleModel",
      "_view_count": null,
      "_view_module": "@jupyter-widgets/base",
      "_view_module_version": "1.2.0",
      "_view_name": "StyleView",
      "description_width": ""
     }
    },
    "21d0a9ca0bb244f2af4c809db8b04305": {
     "model_module": "@jupyter-widgets/base",
     "model_module_version": "1.2.0",
     "model_name": "LayoutModel",
     "state": {
      "_model_module": "@jupyter-widgets/base",
      "_model_module_version": "1.2.0",
      "_model_name": "LayoutModel",
      "_view_count": null,
      "_view_module": "@jupyter-widgets/base",
      "_view_module_version": "1.2.0",
      "_view_name": "LayoutView",
      "align_content": null,
      "align_items": null,
      "align_self": null,
      "border": null,
      "bottom": null,
      "display": null,
      "flex": null,
      "flex_flow": null,
      "grid_area": null,
      "grid_auto_columns": null,
      "grid_auto_flow": null,
      "grid_auto_rows": null,
      "grid_column": null,
      "grid_gap": null,
      "grid_row": null,
      "grid_template_areas": null,
      "grid_template_columns": null,
      "grid_template_rows": null,
      "height": null,
      "justify_content": null,
      "justify_items": null,
      "left": null,
      "margin": null,
      "max_height": null,
      "max_width": null,
      "min_height": null,
      "min_width": null,
      "object_fit": null,
      "object_position": null,
      "order": null,
      "overflow": null,
      "overflow_x": null,
      "overflow_y": null,
      "padding": null,
      "right": null,
      "top": null,
      "visibility": null,
      "width": null
     }
    },
    "22abac280e3246839d7d3028120f3d12": {
     "model_module": "@jupyter-widgets/controls",
     "model_module_version": "1.5.0",
     "model_name": "HBoxModel",
     "state": {
      "_dom_classes": [],
      "_model_module": "@jupyter-widgets/controls",
      "_model_module_version": "1.5.0",
      "_model_name": "HBoxModel",
      "_view_count": null,
      "_view_module": "@jupyter-widgets/controls",
      "_view_module_version": "1.5.0",
      "_view_name": "HBoxView",
      "box_style": "",
      "children": [
       "IPY_MODEL_367db79863ae4fc79f91ef90e0901510",
       "IPY_MODEL_ed563783ce784394af4d34764a464b1e",
       "IPY_MODEL_65a6acdb8a5b44d18131ebedea0dfc78"
      ],
      "layout": "IPY_MODEL_ef9bc35ccab74caf8bed5306eef418fe"
     }
    },
    "242ba3d2d7974cd5a184ce7b27c9c372": {
     "model_module": "@jupyter-widgets/controls",
     "model_module_version": "1.5.0",
     "model_name": "DescriptionStyleModel",
     "state": {
      "_model_module": "@jupyter-widgets/controls",
      "_model_module_version": "1.5.0",
      "_model_name": "DescriptionStyleModel",
      "_view_count": null,
      "_view_module": "@jupyter-widgets/base",
      "_view_module_version": "1.2.0",
      "_view_name": "StyleView",
      "description_width": ""
     }
    },
    "24bfb683749b42418eca5fb2fbbe761f": {
     "model_module": "@jupyter-widgets/controls",
     "model_module_version": "1.5.0",
     "model_name": "HBoxModel",
     "state": {
      "_dom_classes": [],
      "_model_module": "@jupyter-widgets/controls",
      "_model_module_version": "1.5.0",
      "_model_name": "HBoxModel",
      "_view_count": null,
      "_view_module": "@jupyter-widgets/controls",
      "_view_module_version": "1.5.0",
      "_view_name": "HBoxView",
      "box_style": "",
      "children": [
       "IPY_MODEL_7df76fa923b646e4a55139590a16836a",
       "IPY_MODEL_212431452959492380a789af8c764592",
       "IPY_MODEL_4aa0c378c6bd4d94a2397cbb456206e2"
      ],
      "layout": "IPY_MODEL_3a99c60fd3794791a01996571f953911"
     }
    },
    "25bb45e8071e4df4964085ff8f464897": {
     "model_module": "@jupyter-widgets/controls",
     "model_module_version": "1.5.0",
     "model_name": "FloatProgressModel",
     "state": {
      "_dom_classes": [],
      "_model_module": "@jupyter-widgets/controls",
      "_model_module_version": "1.5.0",
      "_model_name": "FloatProgressModel",
      "_view_count": null,
      "_view_module": "@jupyter-widgets/controls",
      "_view_module_version": "1.5.0",
      "_view_name": "ProgressView",
      "bar_style": "success",
      "description": "",
      "description_tooltip": null,
      "layout": "IPY_MODEL_122bf45d74844b3e8f2cefd79deae307",
      "max": 1,
      "min": 0,
      "orientation": "horizontal",
      "style": "IPY_MODEL_b7fa368cf3b448868cb3bbd7e1b9c2cc",
      "value": 1
     }
    },
    "268174675b8f403ca6b28be61d661b9f": {
     "model_module": "@jupyter-widgets/controls",
     "model_module_version": "1.5.0",
     "model_name": "HBoxModel",
     "state": {
      "_dom_classes": [],
      "_model_module": "@jupyter-widgets/controls",
      "_model_module_version": "1.5.0",
      "_model_name": "HBoxModel",
      "_view_count": null,
      "_view_module": "@jupyter-widgets/controls",
      "_view_module_version": "1.5.0",
      "_view_name": "HBoxView",
      "box_style": "",
      "children": [
       "IPY_MODEL_ba9e7e707d6340f0bba29fc4da27b1a7",
       "IPY_MODEL_3a41d5c02c774d43b3a8ec2815b049a1",
       "IPY_MODEL_e883c16864144027b9c77ea8ee2ea6d1"
      ],
      "layout": "IPY_MODEL_459b471b6b424bbd94d10ea29921a669"
     }
    },
    "2728760cce9a4782b5383363035e6978": {
     "model_module": "@jupyter-widgets/controls",
     "model_module_version": "1.5.0",
     "model_name": "HTMLModel",
     "state": {
      "_dom_classes": [],
      "_model_module": "@jupyter-widgets/controls",
      "_model_module_version": "1.5.0",
      "_model_name": "HTMLModel",
      "_view_count": null,
      "_view_module": "@jupyter-widgets/controls",
      "_view_module_version": "1.5.0",
      "_view_name": "HTMLView",
      "description": "",
      "description_tooltip": null,
      "layout": "IPY_MODEL_f2ed28665fe14100a21ea8fb57662f90",
      "placeholder": "​",
      "style": "IPY_MODEL_2015dc35f18c4cd8aff45397c21418e0",
      "value": "Generating train split: "
     }
    },
    "2ae4ccb9eea64757907837f7b3bf3d67": {
     "model_module": "@jupyter-widgets/controls",
     "model_module_version": "1.5.0",
     "model_name": "DescriptionStyleModel",
     "state": {
      "_model_module": "@jupyter-widgets/controls",
      "_model_module_version": "1.5.0",
      "_model_name": "DescriptionStyleModel",
      "_view_count": null,
      "_view_module": "@jupyter-widgets/base",
      "_view_module_version": "1.2.0",
      "_view_name": "StyleView",
      "description_width": ""
     }
    },
    "2b602765897e4051a9ba85a4cd5f486f": {
     "model_module": "@jupyter-widgets/controls",
     "model_module_version": "1.5.0",
     "model_name": "HBoxModel",
     "state": {
      "_dom_classes": [],
      "_model_module": "@jupyter-widgets/controls",
      "_model_module_version": "1.5.0",
      "_model_name": "HBoxModel",
      "_view_count": null,
      "_view_module": "@jupyter-widgets/controls",
      "_view_module_version": "1.5.0",
      "_view_name": "HBoxView",
      "box_style": "",
      "children": [
       "IPY_MODEL_bbcbe957b4944f2590c56c2ae6db059c",
       "IPY_MODEL_25bb45e8071e4df4964085ff8f464897",
       "IPY_MODEL_5d1c3f048e1b41d0a11eb8e3e1b86ff2"
      ],
      "layout": "IPY_MODEL_3f53e226f70e48ceb316aca1d37e830f"
     }
    },
    "2e352c8b820745ce96a12f0fa8d85d91": {
     "model_module": "@jupyter-widgets/controls",
     "model_module_version": "1.5.0",
     "model_name": "DescriptionStyleModel",
     "state": {
      "_model_module": "@jupyter-widgets/controls",
      "_model_module_version": "1.5.0",
      "_model_name": "DescriptionStyleModel",
      "_view_count": null,
      "_view_module": "@jupyter-widgets/base",
      "_view_module_version": "1.2.0",
      "_view_name": "StyleView",
      "description_width": ""
     }
    },
    "35f22e10465846c8b3e87b149c1561c8": {
     "model_module": "@jupyter-widgets/controls",
     "model_module_version": "1.5.0",
     "model_name": "DescriptionStyleModel",
     "state": {
      "_model_module": "@jupyter-widgets/controls",
      "_model_module_version": "1.5.0",
      "_model_name": "DescriptionStyleModel",
      "_view_count": null,
      "_view_module": "@jupyter-widgets/base",
      "_view_module_version": "1.2.0",
      "_view_name": "StyleView",
      "description_width": ""
     }
    },
    "367db79863ae4fc79f91ef90e0901510": {
     "model_module": "@jupyter-widgets/controls",
     "model_module_version": "1.5.0",
     "model_name": "HTMLModel",
     "state": {
      "_dom_classes": [],
      "_model_module": "@jupyter-widgets/controls",
      "_model_module_version": "1.5.0",
      "_model_name": "HTMLModel",
      "_view_count": null,
      "_view_module": "@jupyter-widgets/controls",
      "_view_module_version": "1.5.0",
      "_view_name": "HTMLView",
      "description": "",
      "description_tooltip": null,
      "layout": "IPY_MODEL_b79cc5c72c1f420eb23844e70662e1ea",
      "placeholder": "​",
      "style": "IPY_MODEL_6d5d05893b614290b3a3c34796e2d4b3",
      "value": "Generating val split: "
     }
    },
    "38938db38ef24ce9b055c2f69d65fb14": {
     "model_module": "@jupyter-widgets/controls",
     "model_module_version": "1.5.0",
     "model_name": "ProgressStyleModel",
     "state": {
      "_model_module": "@jupyter-widgets/controls",
      "_model_module_version": "1.5.0",
      "_model_name": "ProgressStyleModel",
      "_view_count": null,
      "_view_module": "@jupyter-widgets/base",
      "_view_module_version": "1.2.0",
      "_view_name": "StyleView",
      "bar_color": null,
      "description_width": ""
     }
    },
    "3a41d5c02c774d43b3a8ec2815b049a1": {
     "model_module": "@jupyter-widgets/controls",
     "model_module_version": "1.5.0",
     "model_name": "FloatProgressModel",
     "state": {
      "_dom_classes": [],
      "_model_module": "@jupyter-widgets/controls",
      "_model_module_version": "1.5.0",
      "_model_name": "FloatProgressModel",
      "_view_count": null,
      "_view_module": "@jupyter-widgets/controls",
      "_view_module_version": "1.5.0",
      "_view_name": "ProgressView",
      "bar_style": "success",
      "description": "",
      "description_tooltip": null,
      "layout": "IPY_MODEL_9342270b964943ab8ba2575e284132e1",
      "max": 1,
      "min": 0,
      "orientation": "horizontal",
      "style": "IPY_MODEL_494dcfe647b348cd938e06719f9522ce",
      "value": 1
     }
    },
    "3a99c60fd3794791a01996571f953911": {
     "model_module": "@jupyter-widgets/base",
     "model_module_version": "1.2.0",
     "model_name": "LayoutModel",
     "state": {
      "_model_module": "@jupyter-widgets/base",
      "_model_module_version": "1.2.0",
      "_model_name": "LayoutModel",
      "_view_count": null,
      "_view_module": "@jupyter-widgets/base",
      "_view_module_version": "1.2.0",
      "_view_name": "LayoutView",
      "align_content": null,
      "align_items": null,
      "align_self": null,
      "border": null,
      "bottom": null,
      "display": null,
      "flex": null,
      "flex_flow": null,
      "grid_area": null,
      "grid_auto_columns": null,
      "grid_auto_flow": null,
      "grid_auto_rows": null,
      "grid_column": null,
      "grid_gap": null,
      "grid_row": null,
      "grid_template_areas": null,
      "grid_template_columns": null,
      "grid_template_rows": null,
      "height": null,
      "justify_content": null,
      "justify_items": null,
      "left": null,
      "margin": null,
      "max_height": null,
      "max_width": null,
      "min_height": null,
      "min_width": null,
      "object_fit": null,
      "object_position": null,
      "order": null,
      "overflow": null,
      "overflow_x": null,
      "overflow_y": null,
      "padding": null,
      "right": null,
      "top": null,
      "visibility": null,
      "width": null
     }
    },
    "3b1001b099834346bca5833bdbd63334": {
     "model_module": "@jupyter-widgets/controls",
     "model_module_version": "1.5.0",
     "model_name": "HTMLModel",
     "state": {
      "_dom_classes": [],
      "_model_module": "@jupyter-widgets/controls",
      "_model_module_version": "1.5.0",
      "_model_name": "HTMLModel",
      "_view_count": null,
      "_view_module": "@jupyter-widgets/controls",
      "_view_module_version": "1.5.0",
      "_view_name": "HTMLView",
      "description": "",
      "description_tooltip": null,
      "layout": "IPY_MODEL_fe13d6e78d2b4c519540529f71f22db1",
      "placeholder": "​",
      "style": "IPY_MODEL_007a827de4a74282a42cc5dba8c49306",
      "value": " 2668/2668 [00:00&lt;00:00, 4329.56 examples/s]"
     }
    },
    "3d612a40ef3347d4abd5876f4857b6bb": {
     "model_module": "@jupyter-widgets/base",
     "model_module_version": "1.2.0",
     "model_name": "LayoutModel",
     "state": {
      "_model_module": "@jupyter-widgets/base",
      "_model_module_version": "1.2.0",
      "_model_name": "LayoutModel",
      "_view_count": null,
      "_view_module": "@jupyter-widgets/base",
      "_view_module_version": "1.2.0",
      "_view_name": "LayoutView",
      "align_content": null,
      "align_items": null,
      "align_self": null,
      "border": null,
      "bottom": null,
      "display": null,
      "flex": null,
      "flex_flow": null,
      "grid_area": null,
      "grid_auto_columns": null,
      "grid_auto_flow": null,
      "grid_auto_rows": null,
      "grid_column": null,
      "grid_gap": null,
      "grid_row": null,
      "grid_template_areas": null,
      "grid_template_columns": null,
      "grid_template_rows": null,
      "height": null,
      "justify_content": null,
      "justify_items": null,
      "left": null,
      "margin": null,
      "max_height": null,
      "max_width": null,
      "min_height": null,
      "min_width": null,
      "object_fit": null,
      "object_position": null,
      "order": null,
      "overflow": null,
      "overflow_x": null,
      "overflow_y": null,
      "padding": null,
      "right": null,
      "top": null,
      "visibility": null,
      "width": null
     }
    },
    "3f53e226f70e48ceb316aca1d37e830f": {
     "model_module": "@jupyter-widgets/base",
     "model_module_version": "1.2.0",
     "model_name": "LayoutModel",
     "state": {
      "_model_module": "@jupyter-widgets/base",
      "_model_module_version": "1.2.0",
      "_model_name": "LayoutModel",
      "_view_count": null,
      "_view_module": "@jupyter-widgets/base",
      "_view_module_version": "1.2.0",
      "_view_name": "LayoutView",
      "align_content": null,
      "align_items": null,
      "align_self": null,
      "border": null,
      "bottom": null,
      "display": null,
      "flex": null,
      "flex_flow": null,
      "grid_area": null,
      "grid_auto_columns": null,
      "grid_auto_flow": null,
      "grid_auto_rows": null,
      "grid_column": null,
      "grid_gap": null,
      "grid_row": null,
      "grid_template_areas": null,
      "grid_template_columns": null,
      "grid_template_rows": null,
      "height": null,
      "justify_content": null,
      "justify_items": null,
      "left": null,
      "margin": null,
      "max_height": null,
      "max_width": null,
      "min_height": null,
      "min_width": null,
      "object_fit": null,
      "object_position": null,
      "order": null,
      "overflow": null,
      "overflow_x": null,
      "overflow_y": null,
      "padding": null,
      "right": null,
      "top": null,
      "visibility": null,
      "width": null
     }
    },
    "3ff5211fea1448fb84c8336379c5d661": {
     "model_module": "@jupyter-widgets/controls",
     "model_module_version": "1.5.0",
     "model_name": "DescriptionStyleModel",
     "state": {
      "_model_module": "@jupyter-widgets/controls",
      "_model_module_version": "1.5.0",
      "_model_name": "DescriptionStyleModel",
      "_view_count": null,
      "_view_module": "@jupyter-widgets/base",
      "_view_module_version": "1.2.0",
      "_view_name": "StyleView",
      "description_width": ""
     }
    },
    "41eebeed87bf4e84a3668f67b3451fb5": {
     "model_module": "@jupyter-widgets/controls",
     "model_module_version": "1.5.0",
     "model_name": "DescriptionStyleModel",
     "state": {
      "_model_module": "@jupyter-widgets/controls",
      "_model_module_version": "1.5.0",
      "_model_name": "DescriptionStyleModel",
      "_view_count": null,
      "_view_module": "@jupyter-widgets/base",
      "_view_module_version": "1.2.0",
      "_view_name": "StyleView",
      "description_width": ""
     }
    },
    "459b471b6b424bbd94d10ea29921a669": {
     "model_module": "@jupyter-widgets/base",
     "model_module_version": "1.2.0",
     "model_name": "LayoutModel",
     "state": {
      "_model_module": "@jupyter-widgets/base",
      "_model_module_version": "1.2.0",
      "_model_name": "LayoutModel",
      "_view_count": null,
      "_view_module": "@jupyter-widgets/base",
      "_view_module_version": "1.2.0",
      "_view_name": "LayoutView",
      "align_content": null,
      "align_items": null,
      "align_self": null,
      "border": null,
      "bottom": null,
      "display": null,
      "flex": null,
      "flex_flow": null,
      "grid_area": null,
      "grid_auto_columns": null,
      "grid_auto_flow": null,
      "grid_auto_rows": null,
      "grid_column": null,
      "grid_gap": null,
      "grid_row": null,
      "grid_template_areas": null,
      "grid_template_columns": null,
      "grid_template_rows": null,
      "height": null,
      "justify_content": null,
      "justify_items": null,
      "left": null,
      "margin": null,
      "max_height": null,
      "max_width": null,
      "min_height": null,
      "min_width": null,
      "object_fit": null,
      "object_position": null,
      "order": null,
      "overflow": null,
      "overflow_x": null,
      "overflow_y": null,
      "padding": null,
      "right": null,
      "top": null,
      "visibility": null,
      "width": null
     }
    },
    "494dcfe647b348cd938e06719f9522ce": {
     "model_module": "@jupyter-widgets/controls",
     "model_module_version": "1.5.0",
     "model_name": "ProgressStyleModel",
     "state": {
      "_model_module": "@jupyter-widgets/controls",
      "_model_module_version": "1.5.0",
      "_model_name": "ProgressStyleModel",
      "_view_count": null,
      "_view_module": "@jupyter-widgets/base",
      "_view_module_version": "1.2.0",
      "_view_name": "StyleView",
      "bar_color": null,
      "description_width": ""
     }
    },
    "49f515edc6784c7da23e858c2c24ba74": {
     "model_module": "@jupyter-widgets/controls",
     "model_module_version": "1.5.0",
     "model_name": "FloatProgressModel",
     "state": {
      "_dom_classes": [],
      "_model_module": "@jupyter-widgets/controls",
      "_model_module_version": "1.5.0",
      "_model_name": "FloatProgressModel",
      "_view_count": null,
      "_view_module": "@jupyter-widgets/controls",
      "_view_module_version": "1.5.0",
      "_view_name": "ProgressView",
      "bar_style": "success",
      "description": "",
      "description_tooltip": null,
      "layout": "IPY_MODEL_3d612a40ef3347d4abd5876f4857b6bb",
      "max": 150,
      "min": 0,
      "orientation": "horizontal",
      "style": "IPY_MODEL_fd9eb43b9b1c4756a577e30b6a05397c",
      "value": 150
     }
    },
    "4aa0c378c6bd4d94a2397cbb456206e2": {
     "model_module": "@jupyter-widgets/controls",
     "model_module_version": "1.5.0",
     "model_name": "HTMLModel",
     "state": {
      "_dom_classes": [],
      "_model_module": "@jupyter-widgets/controls",
      "_model_module_version": "1.5.0",
      "_model_name": "HTMLModel",
      "_view_count": null,
      "_view_module": "@jupyter-widgets/controls",
      "_view_module_version": "1.5.0",
      "_view_name": "HTMLView",
      "description": "",
      "description_tooltip": null,
      "layout": "IPY_MODEL_d2ae23f37f6841f7ad5218af0352aa69",
      "placeholder": "​",
      "style": "IPY_MODEL_3ff5211fea1448fb84c8336379c5d661",
      "value": " 5050/5050 [00:01&lt;00:00, 4036.14 examples/s]"
     }
    },
    "52cc70d3abf543369b5a27e7ff010aa8": {
     "model_module": "@jupyter-widgets/controls",
     "model_module_version": "1.5.0",
     "model_name": "HTMLModel",
     "state": {
      "_dom_classes": [],
      "_model_module": "@jupyter-widgets/controls",
      "_model_module_version": "1.5.0",
      "_model_name": "HTMLModel",
      "_view_count": null,
      "_view_module": "@jupyter-widgets/controls",
      "_view_module_version": "1.5.0",
      "_view_name": "HTMLView",
      "description": "",
      "description_tooltip": null,
      "layout": "IPY_MODEL_669a7eec9c24410f94d1d1e1561ba264",
      "placeholder": "​",
      "style": "IPY_MODEL_242ba3d2d7974cd5a184ce7b27c9c372",
      "value": "Map: 100%"
     }
    },
    "5a79c5ce83f842b48e32c7be24bd3287": {
     "model_module": "@jupyter-widgets/controls",
     "model_module_version": "1.5.0",
     "model_name": "FloatProgressModel",
     "state": {
      "_dom_classes": [],
      "_model_module": "@jupyter-widgets/controls",
      "_model_module_version": "1.5.0",
      "_model_name": "FloatProgressModel",
      "_view_count": null,
      "_view_module": "@jupyter-widgets/controls",
      "_view_module_version": "1.5.0",
      "_view_name": "ProgressView",
      "bar_style": "success",
      "description": "",
      "description_tooltip": null,
      "layout": "IPY_MODEL_1bd936b67d2a41baadaf26c5a2b088fb",
      "max": 150,
      "min": 0,
      "orientation": "horizontal",
      "style": "IPY_MODEL_38938db38ef24ce9b055c2f69d65fb14",
      "value": 150
     }
    },
    "5d19bdf7e2004f3090d0ce2bf804cd7e": {
     "model_module": "@jupyter-widgets/controls",
     "model_module_version": "1.5.0",
     "model_name": "DescriptionStyleModel",
     "state": {
      "_model_module": "@jupyter-widgets/controls",
      "_model_module_version": "1.5.0",
      "_model_name": "DescriptionStyleModel",
      "_view_count": null,
      "_view_module": "@jupyter-widgets/base",
      "_view_module_version": "1.2.0",
      "_view_name": "StyleView",
      "description_width": ""
     }
    },
    "5d1c3f048e1b41d0a11eb8e3e1b86ff2": {
     "model_module": "@jupyter-widgets/controls",
     "model_module_version": "1.5.0",
     "model_name": "HTMLModel",
     "state": {
      "_dom_classes": [],
      "_model_module": "@jupyter-widgets/controls",
      "_model_module_version": "1.5.0",
      "_model_name": "HTMLModel",
      "_view_count": null,
      "_view_module": "@jupyter-widgets/controls",
      "_view_module_version": "1.5.0",
      "_view_name": "HTMLView",
      "description": "",
      "description_tooltip": null,
      "layout": "IPY_MODEL_f7f2d898c0d048fdba333eddab41e966",
      "placeholder": "​",
      "style": "IPY_MODEL_e3e7632452394f20bbd31ab53cdd4f8e",
      "value": " 150/0 [00:00&lt;00:00, 5802.96 examples/s]"
     }
    },
    "5d7d7865602345438cfa92920189f23f": {
     "model_module": "@jupyter-widgets/controls",
     "model_module_version": "1.5.0",
     "model_name": "ProgressStyleModel",
     "state": {
      "_model_module": "@jupyter-widgets/controls",
      "_model_module_version": "1.5.0",
      "_model_name": "ProgressStyleModel",
      "_view_count": null,
      "_view_module": "@jupyter-widgets/base",
      "_view_module_version": "1.2.0",
      "_view_name": "StyleView",
      "bar_color": null,
      "description_width": ""
     }
    },
    "60d725e9e2c9474298e921caf3e847c8": {
     "model_module": "@jupyter-widgets/controls",
     "model_module_version": "1.5.0",
     "model_name": "HBoxModel",
     "state": {
      "_dom_classes": [],
      "_model_module": "@jupyter-widgets/controls",
      "_model_module_version": "1.5.0",
      "_model_name": "HBoxModel",
      "_view_count": null,
      "_view_module": "@jupyter-widgets/controls",
      "_view_module_version": "1.5.0",
      "_view_name": "HBoxView",
      "box_style": "",
      "children": [
       "IPY_MODEL_6856784f94384ca7b150c3d4640836ee",
       "IPY_MODEL_b2910b1639ce4769bc100841820d6f6e",
       "IPY_MODEL_d94e0f92da3a489eaaf8e0af81df7a96"
      ],
      "layout": "IPY_MODEL_706d4877aa7241e3a3a5b23f905d7faa"
     }
    },
    "65a6acdb8a5b44d18131ebedea0dfc78": {
     "model_module": "@jupyter-widgets/controls",
     "model_module_version": "1.5.0",
     "model_name": "HTMLModel",
     "state": {
      "_dom_classes": [],
      "_model_module": "@jupyter-widgets/controls",
      "_model_module_version": "1.5.0",
      "_model_name": "HTMLModel",
      "_view_count": null,
      "_view_module": "@jupyter-widgets/controls",
      "_view_module_version": "1.5.0",
      "_view_name": "HTMLView",
      "description": "",
      "description_tooltip": null,
      "layout": "IPY_MODEL_7d9f848dca774487894b54fa50e37f5b",
      "placeholder": "​",
      "style": "IPY_MODEL_ea87b193ed6746c19915bafc8120c877",
      "value": " 150/0 [00:00&lt;00:00, 6488.31 examples/s]"
     }
    },
    "669a7eec9c24410f94d1d1e1561ba264": {
     "model_module": "@jupyter-widgets/base",
     "model_module_version": "1.2.0",
     "model_name": "LayoutModel",
     "state": {
      "_model_module": "@jupyter-widgets/base",
      "_model_module_version": "1.2.0",
      "_model_name": "LayoutModel",
      "_view_count": null,
      "_view_module": "@jupyter-widgets/base",
      "_view_module_version": "1.2.0",
      "_view_name": "LayoutView",
      "align_content": null,
      "align_items": null,
      "align_self": null,
      "border": null,
      "bottom": null,
      "display": null,
      "flex": null,
      "flex_flow": null,
      "grid_area": null,
      "grid_auto_columns": null,
      "grid_auto_flow": null,
      "grid_auto_rows": null,
      "grid_column": null,
      "grid_gap": null,
      "grid_row": null,
      "grid_template_areas": null,
      "grid_template_columns": null,
      "grid_template_rows": null,
      "height": null,
      "justify_content": null,
      "justify_items": null,
      "left": null,
      "margin": null,
      "max_height": null,
      "max_width": null,
      "min_height": null,
      "min_width": null,
      "object_fit": null,
      "object_position": null,
      "order": null,
      "overflow": null,
      "overflow_x": null,
      "overflow_y": null,
      "padding": null,
      "right": null,
      "top": null,
      "visibility": null,
      "width": null
     }
    },
    "67ecd122a83a499dae392b326bea301b": {
     "model_module": "@jupyter-widgets/controls",
     "model_module_version": "1.5.0",
     "model_name": "DescriptionStyleModel",
     "state": {
      "_model_module": "@jupyter-widgets/controls",
      "_model_module_version": "1.5.0",
      "_model_name": "DescriptionStyleModel",
      "_view_count": null,
      "_view_module": "@jupyter-widgets/base",
      "_view_module_version": "1.2.0",
      "_view_name": "StyleView",
      "description_width": ""
     }
    },
    "6856784f94384ca7b150c3d4640836ee": {
     "model_module": "@jupyter-widgets/controls",
     "model_module_version": "1.5.0",
     "model_name": "HTMLModel",
     "state": {
      "_dom_classes": [],
      "_model_module": "@jupyter-widgets/controls",
      "_model_module_version": "1.5.0",
      "_model_name": "HTMLModel",
      "_view_count": null,
      "_view_module": "@jupyter-widgets/controls",
      "_view_module_version": "1.5.0",
      "_view_name": "HTMLView",
      "description": "",
      "description_tooltip": null,
      "layout": "IPY_MODEL_e9f1ffe456124fd49e962cf51a1a8a09",
      "placeholder": "​",
      "style": "IPY_MODEL_6f4dcff4d74c47c79caea0bd7c8f7fa0",
      "value": "Generating val split: "
     }
    },
    "6a5e32ce681843ce8f58ef492cee5f71": {
     "model_module": "@jupyter-widgets/base",
     "model_module_version": "1.2.0",
     "model_name": "LayoutModel",
     "state": {
      "_model_module": "@jupyter-widgets/base",
      "_model_module_version": "1.2.0",
      "_model_name": "LayoutModel",
      "_view_count": null,
      "_view_module": "@jupyter-widgets/base",
      "_view_module_version": "1.2.0",
      "_view_name": "LayoutView",
      "align_content": null,
      "align_items": null,
      "align_self": null,
      "border": null,
      "bottom": null,
      "display": null,
      "flex": null,
      "flex_flow": null,
      "grid_area": null,
      "grid_auto_columns": null,
      "grid_auto_flow": null,
      "grid_auto_rows": null,
      "grid_column": null,
      "grid_gap": null,
      "grid_row": null,
      "grid_template_areas": null,
      "grid_template_columns": null,
      "grid_template_rows": null,
      "height": null,
      "justify_content": null,
      "justify_items": null,
      "left": null,
      "margin": null,
      "max_height": null,
      "max_width": null,
      "min_height": null,
      "min_width": null,
      "object_fit": null,
      "object_position": null,
      "order": null,
      "overflow": null,
      "overflow_x": null,
      "overflow_y": null,
      "padding": null,
      "right": null,
      "top": null,
      "visibility": null,
      "width": null
     }
    },
    "6d5d05893b614290b3a3c34796e2d4b3": {
     "model_module": "@jupyter-widgets/controls",
     "model_module_version": "1.5.0",
     "model_name": "DescriptionStyleModel",
     "state": {
      "_model_module": "@jupyter-widgets/controls",
      "_model_module_version": "1.5.0",
      "_model_name": "DescriptionStyleModel",
      "_view_count": null,
      "_view_module": "@jupyter-widgets/base",
      "_view_module_version": "1.2.0",
      "_view_name": "StyleView",
      "description_width": ""
     }
    },
    "6f4dcff4d74c47c79caea0bd7c8f7fa0": {
     "model_module": "@jupyter-widgets/controls",
     "model_module_version": "1.5.0",
     "model_name": "DescriptionStyleModel",
     "state": {
      "_model_module": "@jupyter-widgets/controls",
      "_model_module_version": "1.5.0",
      "_model_name": "DescriptionStyleModel",
      "_view_count": null,
      "_view_module": "@jupyter-widgets/base",
      "_view_module_version": "1.2.0",
      "_view_name": "StyleView",
      "description_width": ""
     }
    },
    "706d4877aa7241e3a3a5b23f905d7faa": {
     "model_module": "@jupyter-widgets/base",
     "model_module_version": "1.2.0",
     "model_name": "LayoutModel",
     "state": {
      "_model_module": "@jupyter-widgets/base",
      "_model_module_version": "1.2.0",
      "_model_name": "LayoutModel",
      "_view_count": null,
      "_view_module": "@jupyter-widgets/base",
      "_view_module_version": "1.2.0",
      "_view_name": "LayoutView",
      "align_content": null,
      "align_items": null,
      "align_self": null,
      "border": null,
      "bottom": null,
      "display": null,
      "flex": null,
      "flex_flow": null,
      "grid_area": null,
      "grid_auto_columns": null,
      "grid_auto_flow": null,
      "grid_auto_rows": null,
      "grid_column": null,
      "grid_gap": null,
      "grid_row": null,
      "grid_template_areas": null,
      "grid_template_columns": null,
      "grid_template_rows": null,
      "height": null,
      "justify_content": null,
      "justify_items": null,
      "left": null,
      "margin": null,
      "max_height": null,
      "max_width": null,
      "min_height": null,
      "min_width": null,
      "object_fit": null,
      "object_position": null,
      "order": null,
      "overflow": null,
      "overflow_x": null,
      "overflow_y": null,
      "padding": null,
      "right": null,
      "top": null,
      "visibility": null,
      "width": null
     }
    },
    "7157a5df9e1546e98a7095f7e83d1537": {
     "model_module": "@jupyter-widgets/base",
     "model_module_version": "1.2.0",
     "model_name": "LayoutModel",
     "state": {
      "_model_module": "@jupyter-widgets/base",
      "_model_module_version": "1.2.0",
      "_model_name": "LayoutModel",
      "_view_count": null,
      "_view_module": "@jupyter-widgets/base",
      "_view_module_version": "1.2.0",
      "_view_name": "LayoutView",
      "align_content": null,
      "align_items": null,
      "align_self": null,
      "border": null,
      "bottom": null,
      "display": null,
      "flex": null,
      "flex_flow": null,
      "grid_area": null,
      "grid_auto_columns": null,
      "grid_auto_flow": null,
      "grid_auto_rows": null,
      "grid_column": null,
      "grid_gap": null,
      "grid_row": null,
      "grid_template_areas": null,
      "grid_template_columns": null,
      "grid_template_rows": null,
      "height": null,
      "justify_content": null,
      "justify_items": null,
      "left": null,
      "margin": null,
      "max_height": null,
      "max_width": null,
      "min_height": null,
      "min_width": null,
      "object_fit": null,
      "object_position": null,
      "order": null,
      "overflow": null,
      "overflow_x": null,
      "overflow_y": null,
      "padding": null,
      "right": null,
      "top": null,
      "visibility": null,
      "width": null
     }
    },
    "7524e75b84014463bc93963935b5ca8f": {
     "model_module": "@jupyter-widgets/controls",
     "model_module_version": "1.5.0",
     "model_name": "HTMLModel",
     "state": {
      "_dom_classes": [],
      "_model_module": "@jupyter-widgets/controls",
      "_model_module_version": "1.5.0",
      "_model_name": "HTMLModel",
      "_view_count": null,
      "_view_module": "@jupyter-widgets/controls",
      "_view_module_version": "1.5.0",
      "_view_name": "HTMLView",
      "description": "",
      "description_tooltip": null,
      "layout": "IPY_MODEL_c604a6d4cc35411796f706059f00755e",
      "placeholder": "​",
      "style": "IPY_MODEL_ff8e32b0dce74aaab818c844b0269cb9",
      "value": " 700/700 [00:00&lt;00:00, 2724.38 examples/s]"
     }
    },
    "799ad8d868424aed8da0fdfbed077b16": {
     "model_module": "@jupyter-widgets/base",
     "model_module_version": "1.2.0",
     "model_name": "LayoutModel",
     "state": {
      "_model_module": "@jupyter-widgets/base",
      "_model_module_version": "1.2.0",
      "_model_name": "LayoutModel",
      "_view_count": null,
      "_view_module": "@jupyter-widgets/base",
      "_view_module_version": "1.2.0",
      "_view_name": "LayoutView",
      "align_content": null,
      "align_items": null,
      "align_self": null,
      "border": null,
      "bottom": null,
      "display": null,
      "flex": null,
      "flex_flow": null,
      "grid_area": null,
      "grid_auto_columns": null,
      "grid_auto_flow": null,
      "grid_auto_rows": null,
      "grid_column": null,
      "grid_gap": null,
      "grid_row": null,
      "grid_template_areas": null,
      "grid_template_columns": null,
      "grid_template_rows": null,
      "height": null,
      "justify_content": null,
      "justify_items": null,
      "left": null,
      "margin": null,
      "max_height": null,
      "max_width": null,
      "min_height": null,
      "min_width": null,
      "object_fit": null,
      "object_position": null,
      "order": null,
      "overflow": null,
      "overflow_x": null,
      "overflow_y": null,
      "padding": null,
      "right": null,
      "top": null,
      "visibility": null,
      "width": null
     }
    },
    "7b98eba7b5e447329c0c8461d9b3e93c": {
     "model_module": "@jupyter-widgets/controls",
     "model_module_version": "1.5.0",
     "model_name": "ProgressStyleModel",
     "state": {
      "_model_module": "@jupyter-widgets/controls",
      "_model_module_version": "1.5.0",
      "_model_name": "ProgressStyleModel",
      "_view_count": null,
      "_view_module": "@jupyter-widgets/base",
      "_view_module_version": "1.2.0",
      "_view_name": "StyleView",
      "bar_color": null,
      "description_width": ""
     }
    },
    "7d9f848dca774487894b54fa50e37f5b": {
     "model_module": "@jupyter-widgets/base",
     "model_module_version": "1.2.0",
     "model_name": "LayoutModel",
     "state": {
      "_model_module": "@jupyter-widgets/base",
      "_model_module_version": "1.2.0",
      "_model_name": "LayoutModel",
      "_view_count": null,
      "_view_module": "@jupyter-widgets/base",
      "_view_module_version": "1.2.0",
      "_view_name": "LayoutView",
      "align_content": null,
      "align_items": null,
      "align_self": null,
      "border": null,
      "bottom": null,
      "display": null,
      "flex": null,
      "flex_flow": null,
      "grid_area": null,
      "grid_auto_columns": null,
      "grid_auto_flow": null,
      "grid_auto_rows": null,
      "grid_column": null,
      "grid_gap": null,
      "grid_row": null,
      "grid_template_areas": null,
      "grid_template_columns": null,
      "grid_template_rows": null,
      "height": null,
      "justify_content": null,
      "justify_items": null,
      "left": null,
      "margin": null,
      "max_height": null,
      "max_width": null,
      "min_height": null,
      "min_width": null,
      "object_fit": null,
      "object_position": null,
      "order": null,
      "overflow": null,
      "overflow_x": null,
      "overflow_y": null,
      "padding": null,
      "right": null,
      "top": null,
      "visibility": null,
      "width": null
     }
    },
    "7df76fa923b646e4a55139590a16836a": {
     "model_module": "@jupyter-widgets/controls",
     "model_module_version": "1.5.0",
     "model_name": "HTMLModel",
     "state": {
      "_dom_classes": [],
      "_model_module": "@jupyter-widgets/controls",
      "_model_module_version": "1.5.0",
      "_model_name": "HTMLModel",
      "_view_count": null,
      "_view_module": "@jupyter-widgets/controls",
      "_view_module_version": "1.5.0",
      "_view_name": "HTMLView",
      "description": "",
      "description_tooltip": null,
      "layout": "IPY_MODEL_21d0a9ca0bb244f2af4c809db8b04305",
      "placeholder": "​",
      "style": "IPY_MODEL_213e2ea08e9a48358ec0afa656b56b32",
      "value": "Map: 100%"
     }
    },
    "800596cf4da24095bad3b92e3b7ced4d": {
     "model_module": "@jupyter-widgets/base",
     "model_module_version": "1.2.0",
     "model_name": "LayoutModel",
     "state": {
      "_model_module": "@jupyter-widgets/base",
      "_model_module_version": "1.2.0",
      "_model_name": "LayoutModel",
      "_view_count": null,
      "_view_module": "@jupyter-widgets/base",
      "_view_module_version": "1.2.0",
      "_view_name": "LayoutView",
      "align_content": null,
      "align_items": null,
      "align_self": null,
      "border": null,
      "bottom": null,
      "display": null,
      "flex": null,
      "flex_flow": null,
      "grid_area": null,
      "grid_auto_columns": null,
      "grid_auto_flow": null,
      "grid_auto_rows": null,
      "grid_column": null,
      "grid_gap": null,
      "grid_row": null,
      "grid_template_areas": null,
      "grid_template_columns": null,
      "grid_template_rows": null,
      "height": null,
      "justify_content": null,
      "justify_items": null,
      "left": null,
      "margin": null,
      "max_height": null,
      "max_width": null,
      "min_height": null,
      "min_width": null,
      "object_fit": null,
      "object_position": null,
      "order": null,
      "overflow": null,
      "overflow_x": null,
      "overflow_y": null,
      "padding": null,
      "right": null,
      "top": null,
      "visibility": null,
      "width": null
     }
    },
    "849265f1978742429e4fd4f10d3e558b": {
     "model_module": "@jupyter-widgets/controls",
     "model_module_version": "1.5.0",
     "model_name": "HBoxModel",
     "state": {
      "_dom_classes": [],
      "_model_module": "@jupyter-widgets/controls",
      "_model_module_version": "1.5.0",
      "_model_name": "HBoxModel",
      "_view_count": null,
      "_view_module": "@jupyter-widgets/controls",
      "_view_module_version": "1.5.0",
      "_view_name": "HBoxView",
      "box_style": "",
      "children": [
       "IPY_MODEL_d16e904baa1b4343b40742ea0bae8eab",
       "IPY_MODEL_5a79c5ce83f842b48e32c7be24bd3287",
       "IPY_MODEL_d5bf84169bef4e52928ea7eca3b565e0"
      ],
      "layout": "IPY_MODEL_000d2b80b0b748afb3f9cfa0272395ca"
     }
    },
    "8acfea61d9044810b8778f2c63e4a497": {
     "model_module": "@jupyter-widgets/base",
     "model_module_version": "1.2.0",
     "model_name": "LayoutModel",
     "state": {
      "_model_module": "@jupyter-widgets/base",
      "_model_module_version": "1.2.0",
      "_model_name": "LayoutModel",
      "_view_count": null,
      "_view_module": "@jupyter-widgets/base",
      "_view_module_version": "1.2.0",
      "_view_name": "LayoutView",
      "align_content": null,
      "align_items": null,
      "align_self": null,
      "border": null,
      "bottom": null,
      "display": null,
      "flex": null,
      "flex_flow": null,
      "grid_area": null,
      "grid_auto_columns": null,
      "grid_auto_flow": null,
      "grid_auto_rows": null,
      "grid_column": null,
      "grid_gap": null,
      "grid_row": null,
      "grid_template_areas": null,
      "grid_template_columns": null,
      "grid_template_rows": null,
      "height": null,
      "justify_content": null,
      "justify_items": null,
      "left": null,
      "margin": null,
      "max_height": null,
      "max_width": null,
      "min_height": null,
      "min_width": null,
      "object_fit": null,
      "object_position": null,
      "order": null,
      "overflow": null,
      "overflow_x": null,
      "overflow_y": null,
      "padding": null,
      "right": null,
      "top": null,
      "visibility": null,
      "width": null
     }
    },
    "8cab844419f14586a539bbef9447ca55": {
     "model_module": "@jupyter-widgets/controls",
     "model_module_version": "1.5.0",
     "model_name": "HTMLModel",
     "state": {
      "_dom_classes": [],
      "_model_module": "@jupyter-widgets/controls",
      "_model_module_version": "1.5.0",
      "_model_name": "HTMLModel",
      "_view_count": null,
      "_view_module": "@jupyter-widgets/controls",
      "_view_module_version": "1.5.0",
      "_view_name": "HTMLView",
      "description": "",
      "description_tooltip": null,
      "layout": "IPY_MODEL_ba48d38d534c49d5a641378e119bdb0f",
      "placeholder": "​",
      "style": "IPY_MODEL_67ecd122a83a499dae392b326bea301b",
      "value": "Map: 100%"
     }
    },
    "8f9998b7840b41588581b9e75642b24e": {
     "model_module": "@jupyter-widgets/base",
     "model_module_version": "1.2.0",
     "model_name": "LayoutModel",
     "state": {
      "_model_module": "@jupyter-widgets/base",
      "_model_module_version": "1.2.0",
      "_model_name": "LayoutModel",
      "_view_count": null,
      "_view_module": "@jupyter-widgets/base",
      "_view_module_version": "1.2.0",
      "_view_name": "LayoutView",
      "align_content": null,
      "align_items": null,
      "align_self": null,
      "border": null,
      "bottom": null,
      "display": null,
      "flex": null,
      "flex_flow": null,
      "grid_area": null,
      "grid_auto_columns": null,
      "grid_auto_flow": null,
      "grid_auto_rows": null,
      "grid_column": null,
      "grid_gap": null,
      "grid_row": null,
      "grid_template_areas": null,
      "grid_template_columns": null,
      "grid_template_rows": null,
      "height": null,
      "justify_content": null,
      "justify_items": null,
      "left": null,
      "margin": null,
      "max_height": null,
      "max_width": null,
      "min_height": null,
      "min_width": null,
      "object_fit": null,
      "object_position": null,
      "order": null,
      "overflow": null,
      "overflow_x": null,
      "overflow_y": null,
      "padding": null,
      "right": null,
      "top": null,
      "visibility": null,
      "width": null
     }
    },
    "90a29268c0ec4ac39c4bad243a83eaa8": {
     "model_module": "@jupyter-widgets/controls",
     "model_module_version": "1.5.0",
     "model_name": "ProgressStyleModel",
     "state": {
      "_model_module": "@jupyter-widgets/controls",
      "_model_module_version": "1.5.0",
      "_model_name": "ProgressStyleModel",
      "_view_count": null,
      "_view_module": "@jupyter-widgets/base",
      "_view_module_version": "1.2.0",
      "_view_name": "StyleView",
      "bar_color": null,
      "description_width": ""
     }
    },
    "9342270b964943ab8ba2575e284132e1": {
     "model_module": "@jupyter-widgets/base",
     "model_module_version": "1.2.0",
     "model_name": "LayoutModel",
     "state": {
      "_model_module": "@jupyter-widgets/base",
      "_model_module_version": "1.2.0",
      "_model_name": "LayoutModel",
      "_view_count": null,
      "_view_module": "@jupyter-widgets/base",
      "_view_module_version": "1.2.0",
      "_view_name": "LayoutView",
      "align_content": null,
      "align_items": null,
      "align_self": null,
      "border": null,
      "bottom": null,
      "display": null,
      "flex": null,
      "flex_flow": null,
      "grid_area": null,
      "grid_auto_columns": null,
      "grid_auto_flow": null,
      "grid_auto_rows": null,
      "grid_column": null,
      "grid_gap": null,
      "grid_row": null,
      "grid_template_areas": null,
      "grid_template_columns": null,
      "grid_template_rows": null,
      "height": null,
      "justify_content": null,
      "justify_items": null,
      "left": null,
      "margin": null,
      "max_height": null,
      "max_width": null,
      "min_height": null,
      "min_width": null,
      "object_fit": null,
      "object_position": null,
      "order": null,
      "overflow": null,
      "overflow_x": null,
      "overflow_y": null,
      "padding": null,
      "right": null,
      "top": null,
      "visibility": null,
      "width": "20px"
     }
    },
    "975128b929954d6eab7b37fe2476d461": {
     "model_module": "@jupyter-widgets/controls",
     "model_module_version": "1.5.0",
     "model_name": "DescriptionStyleModel",
     "state": {
      "_model_module": "@jupyter-widgets/controls",
      "_model_module_version": "1.5.0",
      "_model_name": "DescriptionStyleModel",
      "_view_count": null,
      "_view_module": "@jupyter-widgets/base",
      "_view_module_version": "1.2.0",
      "_view_name": "StyleView",
      "description_width": ""
     }
    },
    "99e27376b2e94150a02edf7766d9d2dd": {
     "model_module": "@jupyter-widgets/base",
     "model_module_version": "1.2.0",
     "model_name": "LayoutModel",
     "state": {
      "_model_module": "@jupyter-widgets/base",
      "_model_module_version": "1.2.0",
      "_model_name": "LayoutModel",
      "_view_count": null,
      "_view_module": "@jupyter-widgets/base",
      "_view_module_version": "1.2.0",
      "_view_name": "LayoutView",
      "align_content": null,
      "align_items": null,
      "align_self": null,
      "border": null,
      "bottom": null,
      "display": null,
      "flex": null,
      "flex_flow": null,
      "grid_area": null,
      "grid_auto_columns": null,
      "grid_auto_flow": null,
      "grid_auto_rows": null,
      "grid_column": null,
      "grid_gap": null,
      "grid_row": null,
      "grid_template_areas": null,
      "grid_template_columns": null,
      "grid_template_rows": null,
      "height": null,
      "justify_content": null,
      "justify_items": null,
      "left": null,
      "margin": null,
      "max_height": null,
      "max_width": null,
      "min_height": null,
      "min_width": null,
      "object_fit": null,
      "object_position": null,
      "order": null,
      "overflow": null,
      "overflow_x": null,
      "overflow_y": null,
      "padding": null,
      "right": null,
      "top": null,
      "visibility": null,
      "width": null
     }
    },
    "a6ebd9d6e47e47cfb62f04735efa9113": {
     "model_module": "@jupyter-widgets/controls",
     "model_module_version": "1.5.0",
     "model_name": "FloatProgressModel",
     "state": {
      "_dom_classes": [],
      "_model_module": "@jupyter-widgets/controls",
      "_model_module_version": "1.5.0",
      "_model_name": "FloatProgressModel",
      "_view_count": null,
      "_view_module": "@jupyter-widgets/controls",
      "_view_module_version": "1.5.0",
      "_view_name": "ProgressView",
      "bar_style": "success",
      "description": "",
      "description_tooltip": null,
      "layout": "IPY_MODEL_bcae27978a50473f9fe1fe8e396ca2d8",
      "max": 1,
      "min": 0,
      "orientation": "horizontal",
      "style": "IPY_MODEL_7b98eba7b5e447329c0c8461d9b3e93c",
      "value": 1
     }
    },
    "a6f48bab34e44279bf13fe0570286c31": {
     "model_module": "@jupyter-widgets/base",
     "model_module_version": "1.2.0",
     "model_name": "LayoutModel",
     "state": {
      "_model_module": "@jupyter-widgets/base",
      "_model_module_version": "1.2.0",
      "_model_name": "LayoutModel",
      "_view_count": null,
      "_view_module": "@jupyter-widgets/base",
      "_view_module_version": "1.2.0",
      "_view_name": "LayoutView",
      "align_content": null,
      "align_items": null,
      "align_self": null,
      "border": null,
      "bottom": null,
      "display": null,
      "flex": null,
      "flex_flow": null,
      "grid_area": null,
      "grid_auto_columns": null,
      "grid_auto_flow": null,
      "grid_auto_rows": null,
      "grid_column": null,
      "grid_gap": null,
      "grid_row": null,
      "grid_template_areas": null,
      "grid_template_columns": null,
      "grid_template_rows": null,
      "height": null,
      "justify_content": null,
      "justify_items": null,
      "left": null,
      "margin": null,
      "max_height": null,
      "max_width": null,
      "min_height": null,
      "min_width": null,
      "object_fit": null,
      "object_position": null,
      "order": null,
      "overflow": null,
      "overflow_x": null,
      "overflow_y": null,
      "padding": null,
      "right": null,
      "top": null,
      "visibility": null,
      "width": null
     }
    },
    "aa216430532748e495e9004a17d84ebf": {
     "model_module": "@jupyter-widgets/base",
     "model_module_version": "1.2.0",
     "model_name": "LayoutModel",
     "state": {
      "_model_module": "@jupyter-widgets/base",
      "_model_module_version": "1.2.0",
      "_model_name": "LayoutModel",
      "_view_count": null,
      "_view_module": "@jupyter-widgets/base",
      "_view_module_version": "1.2.0",
      "_view_name": "LayoutView",
      "align_content": null,
      "align_items": null,
      "align_self": null,
      "border": null,
      "bottom": null,
      "display": null,
      "flex": null,
      "flex_flow": null,
      "grid_area": null,
      "grid_auto_columns": null,
      "grid_auto_flow": null,
      "grid_auto_rows": null,
      "grid_column": null,
      "grid_gap": null,
      "grid_row": null,
      "grid_template_areas": null,
      "grid_template_columns": null,
      "grid_template_rows": null,
      "height": null,
      "justify_content": null,
      "justify_items": null,
      "left": null,
      "margin": null,
      "max_height": null,
      "max_width": null,
      "min_height": null,
      "min_width": null,
      "object_fit": null,
      "object_position": null,
      "order": null,
      "overflow": null,
      "overflow_x": null,
      "overflow_y": null,
      "padding": null,
      "right": null,
      "top": null,
      "visibility": null,
      "width": null
     }
    },
    "aaff0c52c8d64cc7b6f521716a7534d8": {
     "model_module": "@jupyter-widgets/base",
     "model_module_version": "1.2.0",
     "model_name": "LayoutModel",
     "state": {
      "_model_module": "@jupyter-widgets/base",
      "_model_module_version": "1.2.0",
      "_model_name": "LayoutModel",
      "_view_count": null,
      "_view_module": "@jupyter-widgets/base",
      "_view_module_version": "1.2.0",
      "_view_name": "LayoutView",
      "align_content": null,
      "align_items": null,
      "align_self": null,
      "border": null,
      "bottom": null,
      "display": null,
      "flex": null,
      "flex_flow": null,
      "grid_area": null,
      "grid_auto_columns": null,
      "grid_auto_flow": null,
      "grid_auto_rows": null,
      "grid_column": null,
      "grid_gap": null,
      "grid_row": null,
      "grid_template_areas": null,
      "grid_template_columns": null,
      "grid_template_rows": null,
      "height": null,
      "justify_content": null,
      "justify_items": null,
      "left": null,
      "margin": null,
      "max_height": null,
      "max_width": null,
      "min_height": null,
      "min_width": null,
      "object_fit": null,
      "object_position": null,
      "order": null,
      "overflow": null,
      "overflow_x": null,
      "overflow_y": null,
      "padding": null,
      "right": null,
      "top": null,
      "visibility": null,
      "width": null
     }
    },
    "ad32427ad34f448f96e5cb35006423c8": {
     "model_module": "@jupyter-widgets/base",
     "model_module_version": "1.2.0",
     "model_name": "LayoutModel",
     "state": {
      "_model_module": "@jupyter-widgets/base",
      "_model_module_version": "1.2.0",
      "_model_name": "LayoutModel",
      "_view_count": null,
      "_view_module": "@jupyter-widgets/base",
      "_view_module_version": "1.2.0",
      "_view_name": "LayoutView",
      "align_content": null,
      "align_items": null,
      "align_self": null,
      "border": null,
      "bottom": null,
      "display": null,
      "flex": null,
      "flex_flow": null,
      "grid_area": null,
      "grid_auto_columns": null,
      "grid_auto_flow": null,
      "grid_auto_rows": null,
      "grid_column": null,
      "grid_gap": null,
      "grid_row": null,
      "grid_template_areas": null,
      "grid_template_columns": null,
      "grid_template_rows": null,
      "height": null,
      "justify_content": null,
      "justify_items": null,
      "left": null,
      "margin": null,
      "max_height": null,
      "max_width": null,
      "min_height": null,
      "min_width": null,
      "object_fit": null,
      "object_position": null,
      "order": null,
      "overflow": null,
      "overflow_x": null,
      "overflow_y": null,
      "padding": null,
      "right": null,
      "top": null,
      "visibility": null,
      "width": null
     }
    },
    "b1e06233eddb405f9f2870f79aefbeb7": {
     "model_module": "@jupyter-widgets/controls",
     "model_module_version": "1.5.0",
     "model_name": "HTMLModel",
     "state": {
      "_dom_classes": [],
      "_model_module": "@jupyter-widgets/controls",
      "_model_module_version": "1.5.0",
      "_model_name": "HTMLModel",
      "_view_count": null,
      "_view_module": "@jupyter-widgets/controls",
      "_view_module_version": "1.5.0",
      "_view_name": "HTMLView",
      "description": "",
      "description_tooltip": null,
      "layout": "IPY_MODEL_aa216430532748e495e9004a17d84ebf",
      "placeholder": "​",
      "style": "IPY_MODEL_d59d926a238a47e38caecd9122df5869",
      "value": "Map: 100%"
     }
    },
    "b2910b1639ce4769bc100841820d6f6e": {
     "model_module": "@jupyter-widgets/controls",
     "model_module_version": "1.5.0",
     "model_name": "FloatProgressModel",
     "state": {
      "_dom_classes": [],
      "_model_module": "@jupyter-widgets/controls",
      "_model_module_version": "1.5.0",
      "_model_name": "FloatProgressModel",
      "_view_count": null,
      "_view_module": "@jupyter-widgets/controls",
      "_view_module_version": "1.5.0",
      "_view_name": "ProgressView",
      "bar_style": "success",
      "description": "",
      "description_tooltip": null,
      "layout": "IPY_MODEL_d120d1d3130c4bcc89eef3be4b047c80",
      "max": 1,
      "min": 0,
      "orientation": "horizontal",
      "style": "IPY_MODEL_e751bef246a1405fabaf64e7ff713c00",
      "value": 1
     }
    },
    "b3afed25985e4e1299204a85af42a47a": {
     "model_module": "@jupyter-widgets/controls",
     "model_module_version": "1.5.0",
     "model_name": "HBoxModel",
     "state": {
      "_dom_classes": [],
      "_model_module": "@jupyter-widgets/controls",
      "_model_module_version": "1.5.0",
      "_model_name": "HBoxModel",
      "_view_count": null,
      "_view_module": "@jupyter-widgets/controls",
      "_view_module_version": "1.5.0",
      "_view_name": "HBoxView",
      "box_style": "",
      "children": [
       "IPY_MODEL_2728760cce9a4782b5383363035e6978",
       "IPY_MODEL_a6ebd9d6e47e47cfb62f04735efa9113",
       "IPY_MODEL_d3955e5cb2034155816c96890fab38db"
      ],
      "layout": "IPY_MODEL_bc032c2b06d84bbeb60f78c0dbe2c435"
     }
    },
    "b79cc5c72c1f420eb23844e70662e1ea": {
     "model_module": "@jupyter-widgets/base",
     "model_module_version": "1.2.0",
     "model_name": "LayoutModel",
     "state": {
      "_model_module": "@jupyter-widgets/base",
      "_model_module_version": "1.2.0",
      "_model_name": "LayoutModel",
      "_view_count": null,
      "_view_module": "@jupyter-widgets/base",
      "_view_module_version": "1.2.0",
      "_view_name": "LayoutView",
      "align_content": null,
      "align_items": null,
      "align_self": null,
      "border": null,
      "bottom": null,
      "display": null,
      "flex": null,
      "flex_flow": null,
      "grid_area": null,
      "grid_auto_columns": null,
      "grid_auto_flow": null,
      "grid_auto_rows": null,
      "grid_column": null,
      "grid_gap": null,
      "grid_row": null,
      "grid_template_areas": null,
      "grid_template_columns": null,
      "grid_template_rows": null,
      "height": null,
      "justify_content": null,
      "justify_items": null,
      "left": null,
      "margin": null,
      "max_height": null,
      "max_width": null,
      "min_height": null,
      "min_width": null,
      "object_fit": null,
      "object_position": null,
      "order": null,
      "overflow": null,
      "overflow_x": null,
      "overflow_y": null,
      "padding": null,
      "right": null,
      "top": null,
      "visibility": null,
      "width": null
     }
    },
    "b7fa368cf3b448868cb3bbd7e1b9c2cc": {
     "model_module": "@jupyter-widgets/controls",
     "model_module_version": "1.5.0",
     "model_name": "ProgressStyleModel",
     "state": {
      "_model_module": "@jupyter-widgets/controls",
      "_model_module_version": "1.5.0",
      "_model_name": "ProgressStyleModel",
      "_view_count": null,
      "_view_module": "@jupyter-widgets/base",
      "_view_module_version": "1.2.0",
      "_view_name": "StyleView",
      "bar_color": null,
      "description_width": ""
     }
    },
    "ba48d38d534c49d5a641378e119bdb0f": {
     "model_module": "@jupyter-widgets/base",
     "model_module_version": "1.2.0",
     "model_name": "LayoutModel",
     "state": {
      "_model_module": "@jupyter-widgets/base",
      "_model_module_version": "1.2.0",
      "_model_name": "LayoutModel",
      "_view_count": null,
      "_view_module": "@jupyter-widgets/base",
      "_view_module_version": "1.2.0",
      "_view_name": "LayoutView",
      "align_content": null,
      "align_items": null,
      "align_self": null,
      "border": null,
      "bottom": null,
      "display": null,
      "flex": null,
      "flex_flow": null,
      "grid_area": null,
      "grid_auto_columns": null,
      "grid_auto_flow": null,
      "grid_auto_rows": null,
      "grid_column": null,
      "grid_gap": null,
      "grid_row": null,
      "grid_template_areas": null,
      "grid_template_columns": null,
      "grid_template_rows": null,
      "height": null,
      "justify_content": null,
      "justify_items": null,
      "left": null,
      "margin": null,
      "max_height": null,
      "max_width": null,
      "min_height": null,
      "min_width": null,
      "object_fit": null,
      "object_position": null,
      "order": null,
      "overflow": null,
      "overflow_x": null,
      "overflow_y": null,
      "padding": null,
      "right": null,
      "top": null,
      "visibility": null,
      "width": null
     }
    },
    "ba9e7e707d6340f0bba29fc4da27b1a7": {
     "model_module": "@jupyter-widgets/controls",
     "model_module_version": "1.5.0",
     "model_name": "HTMLModel",
     "state": {
      "_dom_classes": [],
      "_model_module": "@jupyter-widgets/controls",
      "_model_module_version": "1.5.0",
      "_model_name": "HTMLModel",
      "_view_count": null,
      "_view_module": "@jupyter-widgets/controls",
      "_view_module_version": "1.5.0",
      "_view_name": "HTMLView",
      "description": "",
      "description_tooltip": null,
      "layout": "IPY_MODEL_1c722962eb1d4d17a129932defe73677",
      "placeholder": "​",
      "style": "IPY_MODEL_ff7e30c678e24b09a8bc26ee645caff0",
      "value": "Generating train split: "
     }
    },
    "bbcbe957b4944f2590c56c2ae6db059c": {
     "model_module": "@jupyter-widgets/controls",
     "model_module_version": "1.5.0",
     "model_name": "HTMLModel",
     "state": {
      "_dom_classes": [],
      "_model_module": "@jupyter-widgets/controls",
      "_model_module_version": "1.5.0",
      "_model_name": "HTMLModel",
      "_view_count": null,
      "_view_module": "@jupyter-widgets/controls",
      "_view_module_version": "1.5.0",
      "_view_name": "HTMLView",
      "description": "",
      "description_tooltip": null,
      "layout": "IPY_MODEL_ddcd9550bf77448c8e5c877e3ebb874e",
      "placeholder": "​",
      "style": "IPY_MODEL_35f22e10465846c8b3e87b149c1561c8",
      "value": "Generating test split: "
     }
    },
    "bc032c2b06d84bbeb60f78c0dbe2c435": {
     "model_module": "@jupyter-widgets/base",
     "model_module_version": "1.2.0",
     "model_name": "LayoutModel",
     "state": {
      "_model_module": "@jupyter-widgets/base",
      "_model_module_version": "1.2.0",
      "_model_name": "LayoutModel",
      "_view_count": null,
      "_view_module": "@jupyter-widgets/base",
      "_view_module_version": "1.2.0",
      "_view_name": "LayoutView",
      "align_content": null,
      "align_items": null,
      "align_self": null,
      "border": null,
      "bottom": null,
      "display": null,
      "flex": null,
      "flex_flow": null,
      "grid_area": null,
      "grid_auto_columns": null,
      "grid_auto_flow": null,
      "grid_auto_rows": null,
      "grid_column": null,
      "grid_gap": null,
      "grid_row": null,
      "grid_template_areas": null,
      "grid_template_columns": null,
      "grid_template_rows": null,
      "height": null,
      "justify_content": null,
      "justify_items": null,
      "left": null,
      "margin": null,
      "max_height": null,
      "max_width": null,
      "min_height": null,
      "min_width": null,
      "object_fit": null,
      "object_position": null,
      "order": null,
      "overflow": null,
      "overflow_x": null,
      "overflow_y": null,
      "padding": null,
      "right": null,
      "top": null,
      "visibility": null,
      "width": null
     }
    },
    "bcae27978a50473f9fe1fe8e396ca2d8": {
     "model_module": "@jupyter-widgets/base",
     "model_module_version": "1.2.0",
     "model_name": "LayoutModel",
     "state": {
      "_model_module": "@jupyter-widgets/base",
      "_model_module_version": "1.2.0",
      "_model_name": "LayoutModel",
      "_view_count": null,
      "_view_module": "@jupyter-widgets/base",
      "_view_module_version": "1.2.0",
      "_view_name": "LayoutView",
      "align_content": null,
      "align_items": null,
      "align_self": null,
      "border": null,
      "bottom": null,
      "display": null,
      "flex": null,
      "flex_flow": null,
      "grid_area": null,
      "grid_auto_columns": null,
      "grid_auto_flow": null,
      "grid_auto_rows": null,
      "grid_column": null,
      "grid_gap": null,
      "grid_row": null,
      "grid_template_areas": null,
      "grid_template_columns": null,
      "grid_template_rows": null,
      "height": null,
      "justify_content": null,
      "justify_items": null,
      "left": null,
      "margin": null,
      "max_height": null,
      "max_width": null,
      "min_height": null,
      "min_width": null,
      "object_fit": null,
      "object_position": null,
      "order": null,
      "overflow": null,
      "overflow_x": null,
      "overflow_y": null,
      "padding": null,
      "right": null,
      "top": null,
      "visibility": null,
      "width": "20px"
     }
    },
    "c604a6d4cc35411796f706059f00755e": {
     "model_module": "@jupyter-widgets/base",
     "model_module_version": "1.2.0",
     "model_name": "LayoutModel",
     "state": {
      "_model_module": "@jupyter-widgets/base",
      "_model_module_version": "1.2.0",
      "_model_name": "LayoutModel",
      "_view_count": null,
      "_view_module": "@jupyter-widgets/base",
      "_view_module_version": "1.2.0",
      "_view_name": "LayoutView",
      "align_content": null,
      "align_items": null,
      "align_self": null,
      "border": null,
      "bottom": null,
      "display": null,
      "flex": null,
      "flex_flow": null,
      "grid_area": null,
      "grid_auto_columns": null,
      "grid_auto_flow": null,
      "grid_auto_rows": null,
      "grid_column": null,
      "grid_gap": null,
      "grid_row": null,
      "grid_template_areas": null,
      "grid_template_columns": null,
      "grid_template_rows": null,
      "height": null,
      "justify_content": null,
      "justify_items": null,
      "left": null,
      "margin": null,
      "max_height": null,
      "max_width": null,
      "min_height": null,
      "min_width": null,
      "object_fit": null,
      "object_position": null,
      "order": null,
      "overflow": null,
      "overflow_x": null,
      "overflow_y": null,
      "padding": null,
      "right": null,
      "top": null,
      "visibility": null,
      "width": null
     }
    },
    "c891964c58234438aed299baf041b26f": {
     "model_module": "@jupyter-widgets/controls",
     "model_module_version": "1.5.0",
     "model_name": "ProgressStyleModel",
     "state": {
      "_model_module": "@jupyter-widgets/controls",
      "_model_module_version": "1.5.0",
      "_model_name": "ProgressStyleModel",
      "_view_count": null,
      "_view_module": "@jupyter-widgets/base",
      "_view_module_version": "1.2.0",
      "_view_name": "StyleView",
      "bar_color": null,
      "description_width": ""
     }
    },
    "ca389565776944ad959248393b77be30": {
     "model_module": "@jupyter-widgets/controls",
     "model_module_version": "1.5.0",
     "model_name": "FloatProgressModel",
     "state": {
      "_dom_classes": [],
      "_model_module": "@jupyter-widgets/controls",
      "_model_module_version": "1.5.0",
      "_model_name": "FloatProgressModel",
      "_view_count": null,
      "_view_module": "@jupyter-widgets/controls",
      "_view_module_version": "1.5.0",
      "_view_name": "ProgressView",
      "bar_style": "success",
      "description": "",
      "description_tooltip": null,
      "layout": "IPY_MODEL_99e27376b2e94150a02edf7766d9d2dd",
      "max": 700,
      "min": 0,
      "orientation": "horizontal",
      "style": "IPY_MODEL_5d7d7865602345438cfa92920189f23f",
      "value": 700
     }
    },
    "cc727db3660f43b6a9c2afebbcf40457": {
     "model_module": "@jupyter-widgets/controls",
     "model_module_version": "1.5.0",
     "model_name": "HBoxModel",
     "state": {
      "_dom_classes": [],
      "_model_module": "@jupyter-widgets/controls",
      "_model_module_version": "1.5.0",
      "_model_name": "HBoxModel",
      "_view_count": null,
      "_view_module": "@jupyter-widgets/controls",
      "_view_module_version": "1.5.0",
      "_view_name": "HBoxView",
      "box_style": "",
      "children": [
       "IPY_MODEL_52cc70d3abf543369b5a27e7ff010aa8",
       "IPY_MODEL_49f515edc6784c7da23e858c2c24ba74",
       "IPY_MODEL_da383e9a91d4458fa8cf0f23b3dafa03"
      ],
      "layout": "IPY_MODEL_aaff0c52c8d64cc7b6f521716a7534d8"
     }
    },
    "d120d1d3130c4bcc89eef3be4b047c80": {
     "model_module": "@jupyter-widgets/base",
     "model_module_version": "1.2.0",
     "model_name": "LayoutModel",
     "state": {
      "_model_module": "@jupyter-widgets/base",
      "_model_module_version": "1.2.0",
      "_model_name": "LayoutModel",
      "_view_count": null,
      "_view_module": "@jupyter-widgets/base",
      "_view_module_version": "1.2.0",
      "_view_name": "LayoutView",
      "align_content": null,
      "align_items": null,
      "align_self": null,
      "border": null,
      "bottom": null,
      "display": null,
      "flex": null,
      "flex_flow": null,
      "grid_area": null,
      "grid_auto_columns": null,
      "grid_auto_flow": null,
      "grid_auto_rows": null,
      "grid_column": null,
      "grid_gap": null,
      "grid_row": null,
      "grid_template_areas": null,
      "grid_template_columns": null,
      "grid_template_rows": null,
      "height": null,
      "justify_content": null,
      "justify_items": null,
      "left": null,
      "margin": null,
      "max_height": null,
      "max_width": null,
      "min_height": null,
      "min_width": null,
      "object_fit": null,
      "object_position": null,
      "order": null,
      "overflow": null,
      "overflow_x": null,
      "overflow_y": null,
      "padding": null,
      "right": null,
      "top": null,
      "visibility": null,
      "width": "20px"
     }
    },
    "d16e904baa1b4343b40742ea0bae8eab": {
     "model_module": "@jupyter-widgets/controls",
     "model_module_version": "1.5.0",
     "model_name": "HTMLModel",
     "state": {
      "_dom_classes": [],
      "_model_module": "@jupyter-widgets/controls",
      "_model_module_version": "1.5.0",
      "_model_name": "HTMLModel",
      "_view_count": null,
      "_view_module": "@jupyter-widgets/controls",
      "_view_module_version": "1.5.0",
      "_view_name": "HTMLView",
      "description": "",
      "description_tooltip": null,
      "layout": "IPY_MODEL_8acfea61d9044810b8778f2c63e4a497",
      "placeholder": "​",
      "style": "IPY_MODEL_5d19bdf7e2004f3090d0ce2bf804cd7e",
      "value": "Map: 100%"
     }
    },
    "d2ae23f37f6841f7ad5218af0352aa69": {
     "model_module": "@jupyter-widgets/base",
     "model_module_version": "1.2.0",
     "model_name": "LayoutModel",
     "state": {
      "_model_module": "@jupyter-widgets/base",
      "_model_module_version": "1.2.0",
      "_model_name": "LayoutModel",
      "_view_count": null,
      "_view_module": "@jupyter-widgets/base",
      "_view_module_version": "1.2.0",
      "_view_name": "LayoutView",
      "align_content": null,
      "align_items": null,
      "align_self": null,
      "border": null,
      "bottom": null,
      "display": null,
      "flex": null,
      "flex_flow": null,
      "grid_area": null,
      "grid_auto_columns": null,
      "grid_auto_flow": null,
      "grid_auto_rows": null,
      "grid_column": null,
      "grid_gap": null,
      "grid_row": null,
      "grid_template_areas": null,
      "grid_template_columns": null,
      "grid_template_rows": null,
      "height": null,
      "justify_content": null,
      "justify_items": null,
      "left": null,
      "margin": null,
      "max_height": null,
      "max_width": null,
      "min_height": null,
      "min_width": null,
      "object_fit": null,
      "object_position": null,
      "order": null,
      "overflow": null,
      "overflow_x": null,
      "overflow_y": null,
      "padding": null,
      "right": null,
      "top": null,
      "visibility": null,
      "width": null
     }
    },
    "d3955e5cb2034155816c96890fab38db": {
     "model_module": "@jupyter-widgets/controls",
     "model_module_version": "1.5.0",
     "model_name": "HTMLModel",
     "state": {
      "_dom_classes": [],
      "_model_module": "@jupyter-widgets/controls",
      "_model_module_version": "1.5.0",
      "_model_name": "HTMLModel",
      "_view_count": null,
      "_view_module": "@jupyter-widgets/controls",
      "_view_module_version": "1.5.0",
      "_view_name": "HTMLView",
      "description": "",
      "description_tooltip": null,
      "layout": "IPY_MODEL_6a5e32ce681843ce8f58ef492cee5f71",
      "placeholder": "​",
      "style": "IPY_MODEL_975128b929954d6eab7b37fe2476d461",
      "value": " 700/0 [00:01&lt;00:00, 675.80 examples/s]"
     }
    },
    "d59d926a238a47e38caecd9122df5869": {
     "model_module": "@jupyter-widgets/controls",
     "model_module_version": "1.5.0",
     "model_name": "DescriptionStyleModel",
     "state": {
      "_model_module": "@jupyter-widgets/controls",
      "_model_module_version": "1.5.0",
      "_model_name": "DescriptionStyleModel",
      "_view_count": null,
      "_view_module": "@jupyter-widgets/base",
      "_view_module_version": "1.2.0",
      "_view_name": "StyleView",
      "description_width": ""
     }
    },
    "d5bf84169bef4e52928ea7eca3b565e0": {
     "model_module": "@jupyter-widgets/controls",
     "model_module_version": "1.5.0",
     "model_name": "HTMLModel",
     "state": {
      "_dom_classes": [],
      "_model_module": "@jupyter-widgets/controls",
      "_model_module_version": "1.5.0",
      "_model_name": "HTMLModel",
      "_view_count": null,
      "_view_module": "@jupyter-widgets/controls",
      "_view_module_version": "1.5.0",
      "_view_name": "HTMLView",
      "description": "",
      "description_tooltip": null,
      "layout": "IPY_MODEL_ad32427ad34f448f96e5cb35006423c8",
      "placeholder": "​",
      "style": "IPY_MODEL_ffa2604aa3d14df68ae234579a24ae9f",
      "value": " 150/150 [00:00&lt;00:00, 2288.32 examples/s]"
     }
    },
    "d69595b8664941a5a7ab76cd7f1ab4d0": {
     "model_module": "@jupyter-widgets/controls",
     "model_module_version": "1.5.0",
     "model_name": "HBoxModel",
     "state": {
      "_dom_classes": [],
      "_model_module": "@jupyter-widgets/controls",
      "_model_module_version": "1.5.0",
      "_model_name": "HBoxModel",
      "_view_count": null,
      "_view_module": "@jupyter-widgets/controls",
      "_view_module_version": "1.5.0",
      "_view_name": "HBoxView",
      "box_style": "",
      "children": [
       "IPY_MODEL_8cab844419f14586a539bbef9447ca55",
       "IPY_MODEL_18342d211fc247e2a25383b99572dd64",
       "IPY_MODEL_3b1001b099834346bca5833bdbd63334"
      ],
      "layout": "IPY_MODEL_7157a5df9e1546e98a7095f7e83d1537"
     }
    },
    "d696caed35374d698af0280c1f952db1": {
     "model_module": "@jupyter-widgets/base",
     "model_module_version": "1.2.0",
     "model_name": "LayoutModel",
     "state": {
      "_model_module": "@jupyter-widgets/base",
      "_model_module_version": "1.2.0",
      "_model_name": "LayoutModel",
      "_view_count": null,
      "_view_module": "@jupyter-widgets/base",
      "_view_module_version": "1.2.0",
      "_view_name": "LayoutView",
      "align_content": null,
      "align_items": null,
      "align_self": null,
      "border": null,
      "bottom": null,
      "display": null,
      "flex": null,
      "flex_flow": null,
      "grid_area": null,
      "grid_auto_columns": null,
      "grid_auto_flow": null,
      "grid_auto_rows": null,
      "grid_column": null,
      "grid_gap": null,
      "grid_row": null,
      "grid_template_areas": null,
      "grid_template_columns": null,
      "grid_template_rows": null,
      "height": null,
      "justify_content": null,
      "justify_items": null,
      "left": null,
      "margin": null,
      "max_height": null,
      "max_width": null,
      "min_height": null,
      "min_width": null,
      "object_fit": null,
      "object_position": null,
      "order": null,
      "overflow": null,
      "overflow_x": null,
      "overflow_y": null,
      "padding": null,
      "right": null,
      "top": null,
      "visibility": null,
      "width": null
     }
    },
    "d94e0f92da3a489eaaf8e0af81df7a96": {
     "model_module": "@jupyter-widgets/controls",
     "model_module_version": "1.5.0",
     "model_name": "HTMLModel",
     "state": {
      "_dom_classes": [],
      "_model_module": "@jupyter-widgets/controls",
      "_model_module_version": "1.5.0",
      "_model_name": "HTMLModel",
      "_view_count": null,
      "_view_module": "@jupyter-widgets/controls",
      "_view_module_version": "1.5.0",
      "_view_name": "HTMLView",
      "description": "",
      "description_tooltip": null,
      "layout": "IPY_MODEL_8f9998b7840b41588581b9e75642b24e",
      "placeholder": "​",
      "style": "IPY_MODEL_2ae4ccb9eea64757907837f7b3bf3d67",
      "value": " 2668/0 [00:00&lt;00:00, 2782.32 examples/s]"
     }
    },
    "da383e9a91d4458fa8cf0f23b3dafa03": {
     "model_module": "@jupyter-widgets/controls",
     "model_module_version": "1.5.0",
     "model_name": "HTMLModel",
     "state": {
      "_dom_classes": [],
      "_model_module": "@jupyter-widgets/controls",
      "_model_module_version": "1.5.0",
      "_model_name": "HTMLModel",
      "_view_count": null,
      "_view_module": "@jupyter-widgets/controls",
      "_view_module_version": "1.5.0",
      "_view_name": "HTMLView",
      "description": "",
      "description_tooltip": null,
      "layout": "IPY_MODEL_d696caed35374d698af0280c1f952db1",
      "placeholder": "​",
      "style": "IPY_MODEL_2e352c8b820745ce96a12f0fa8d85d91",
      "value": " 150/150 [00:00&lt;00:00, 2213.90 examples/s]"
     }
    },
    "ddcd9550bf77448c8e5c877e3ebb874e": {
     "model_module": "@jupyter-widgets/base",
     "model_module_version": "1.2.0",
     "model_name": "LayoutModel",
     "state": {
      "_model_module": "@jupyter-widgets/base",
      "_model_module_version": "1.2.0",
      "_model_name": "LayoutModel",
      "_view_count": null,
      "_view_module": "@jupyter-widgets/base",
      "_view_module_version": "1.2.0",
      "_view_name": "LayoutView",
      "align_content": null,
      "align_items": null,
      "align_self": null,
      "border": null,
      "bottom": null,
      "display": null,
      "flex": null,
      "flex_flow": null,
      "grid_area": null,
      "grid_auto_columns": null,
      "grid_auto_flow": null,
      "grid_auto_rows": null,
      "grid_column": null,
      "grid_gap": null,
      "grid_row": null,
      "grid_template_areas": null,
      "grid_template_columns": null,
      "grid_template_rows": null,
      "height": null,
      "justify_content": null,
      "justify_items": null,
      "left": null,
      "margin": null,
      "max_height": null,
      "max_width": null,
      "min_height": null,
      "min_width": null,
      "object_fit": null,
      "object_position": null,
      "order": null,
      "overflow": null,
      "overflow_x": null,
      "overflow_y": null,
      "padding": null,
      "right": null,
      "top": null,
      "visibility": null,
      "width": null
     }
    },
    "e23ecf652a584ff6a6baf45273ea46ee": {
     "model_module": "@jupyter-widgets/controls",
     "model_module_version": "1.5.0",
     "model_name": "ProgressStyleModel",
     "state": {
      "_model_module": "@jupyter-widgets/controls",
      "_model_module_version": "1.5.0",
      "_model_name": "ProgressStyleModel",
      "_view_count": null,
      "_view_module": "@jupyter-widgets/base",
      "_view_module_version": "1.2.0",
      "_view_name": "StyleView",
      "bar_color": null,
      "description_width": ""
     }
    },
    "e3e7632452394f20bbd31ab53cdd4f8e": {
     "model_module": "@jupyter-widgets/controls",
     "model_module_version": "1.5.0",
     "model_name": "DescriptionStyleModel",
     "state": {
      "_model_module": "@jupyter-widgets/controls",
      "_model_module_version": "1.5.0",
      "_model_name": "DescriptionStyleModel",
      "_view_count": null,
      "_view_module": "@jupyter-widgets/base",
      "_view_module_version": "1.2.0",
      "_view_name": "StyleView",
      "description_width": ""
     }
    },
    "e751bef246a1405fabaf64e7ff713c00": {
     "model_module": "@jupyter-widgets/controls",
     "model_module_version": "1.5.0",
     "model_name": "ProgressStyleModel",
     "state": {
      "_model_module": "@jupyter-widgets/controls",
      "_model_module_version": "1.5.0",
      "_model_name": "ProgressStyleModel",
      "_view_count": null,
      "_view_module": "@jupyter-widgets/base",
      "_view_module_version": "1.2.0",
      "_view_name": "StyleView",
      "bar_color": null,
      "description_width": ""
     }
    },
    "e883c16864144027b9c77ea8ee2ea6d1": {
     "model_module": "@jupyter-widgets/controls",
     "model_module_version": "1.5.0",
     "model_name": "HTMLModel",
     "state": {
      "_dom_classes": [],
      "_model_module": "@jupyter-widgets/controls",
      "_model_module_version": "1.5.0",
      "_model_name": "HTMLModel",
      "_view_count": null,
      "_view_module": "@jupyter-widgets/controls",
      "_view_module_version": "1.5.0",
      "_view_name": "HTMLView",
      "description": "",
      "description_tooltip": null,
      "layout": "IPY_MODEL_12aff3f2cbbe477a94acf530010dd232",
      "placeholder": "​",
      "style": "IPY_MODEL_41eebeed87bf4e84a3668f67b3451fb5",
      "value": " 5050/0 [00:00&lt;00:00, 7253.99 examples/s]"
     }
    },
    "e9f1ffe456124fd49e962cf51a1a8a09": {
     "model_module": "@jupyter-widgets/base",
     "model_module_version": "1.2.0",
     "model_name": "LayoutModel",
     "state": {
      "_model_module": "@jupyter-widgets/base",
      "_model_module_version": "1.2.0",
      "_model_name": "LayoutModel",
      "_view_count": null,
      "_view_module": "@jupyter-widgets/base",
      "_view_module_version": "1.2.0",
      "_view_name": "LayoutView",
      "align_content": null,
      "align_items": null,
      "align_self": null,
      "border": null,
      "bottom": null,
      "display": null,
      "flex": null,
      "flex_flow": null,
      "grid_area": null,
      "grid_auto_columns": null,
      "grid_auto_flow": null,
      "grid_auto_rows": null,
      "grid_column": null,
      "grid_gap": null,
      "grid_row": null,
      "grid_template_areas": null,
      "grid_template_columns": null,
      "grid_template_rows": null,
      "height": null,
      "justify_content": null,
      "justify_items": null,
      "left": null,
      "margin": null,
      "max_height": null,
      "max_width": null,
      "min_height": null,
      "min_width": null,
      "object_fit": null,
      "object_position": null,
      "order": null,
      "overflow": null,
      "overflow_x": null,
      "overflow_y": null,
      "padding": null,
      "right": null,
      "top": null,
      "visibility": null,
      "width": null
     }
    },
    "ea87b193ed6746c19915bafc8120c877": {
     "model_module": "@jupyter-widgets/controls",
     "model_module_version": "1.5.0",
     "model_name": "DescriptionStyleModel",
     "state": {
      "_model_module": "@jupyter-widgets/controls",
      "_model_module_version": "1.5.0",
      "_model_name": "DescriptionStyleModel",
      "_view_count": null,
      "_view_module": "@jupyter-widgets/base",
      "_view_module_version": "1.2.0",
      "_view_name": "StyleView",
      "description_width": ""
     }
    },
    "ed563783ce784394af4d34764a464b1e": {
     "model_module": "@jupyter-widgets/controls",
     "model_module_version": "1.5.0",
     "model_name": "FloatProgressModel",
     "state": {
      "_dom_classes": [],
      "_model_module": "@jupyter-widgets/controls",
      "_model_module_version": "1.5.0",
      "_model_name": "FloatProgressModel",
      "_view_count": null,
      "_view_module": "@jupyter-widgets/controls",
      "_view_module_version": "1.5.0",
      "_view_name": "ProgressView",
      "bar_style": "success",
      "description": "",
      "description_tooltip": null,
      "layout": "IPY_MODEL_f43d0af432af4eaabddb5047a9b42e22",
      "max": 1,
      "min": 0,
      "orientation": "horizontal",
      "style": "IPY_MODEL_c891964c58234438aed299baf041b26f",
      "value": 1
     }
    },
    "ef9bc35ccab74caf8bed5306eef418fe": {
     "model_module": "@jupyter-widgets/base",
     "model_module_version": "1.2.0",
     "model_name": "LayoutModel",
     "state": {
      "_model_module": "@jupyter-widgets/base",
      "_model_module_version": "1.2.0",
      "_model_name": "LayoutModel",
      "_view_count": null,
      "_view_module": "@jupyter-widgets/base",
      "_view_module_version": "1.2.0",
      "_view_name": "LayoutView",
      "align_content": null,
      "align_items": null,
      "align_self": null,
      "border": null,
      "bottom": null,
      "display": null,
      "flex": null,
      "flex_flow": null,
      "grid_area": null,
      "grid_auto_columns": null,
      "grid_auto_flow": null,
      "grid_auto_rows": null,
      "grid_column": null,
      "grid_gap": null,
      "grid_row": null,
      "grid_template_areas": null,
      "grid_template_columns": null,
      "grid_template_rows": null,
      "height": null,
      "justify_content": null,
      "justify_items": null,
      "left": null,
      "margin": null,
      "max_height": null,
      "max_width": null,
      "min_height": null,
      "min_width": null,
      "object_fit": null,
      "object_position": null,
      "order": null,
      "overflow": null,
      "overflow_x": null,
      "overflow_y": null,
      "padding": null,
      "right": null,
      "top": null,
      "visibility": null,
      "width": null
     }
    },
    "f2ed28665fe14100a21ea8fb57662f90": {
     "model_module": "@jupyter-widgets/base",
     "model_module_version": "1.2.0",
     "model_name": "LayoutModel",
     "state": {
      "_model_module": "@jupyter-widgets/base",
      "_model_module_version": "1.2.0",
      "_model_name": "LayoutModel",
      "_view_count": null,
      "_view_module": "@jupyter-widgets/base",
      "_view_module_version": "1.2.0",
      "_view_name": "LayoutView",
      "align_content": null,
      "align_items": null,
      "align_self": null,
      "border": null,
      "bottom": null,
      "display": null,
      "flex": null,
      "flex_flow": null,
      "grid_area": null,
      "grid_auto_columns": null,
      "grid_auto_flow": null,
      "grid_auto_rows": null,
      "grid_column": null,
      "grid_gap": null,
      "grid_row": null,
      "grid_template_areas": null,
      "grid_template_columns": null,
      "grid_template_rows": null,
      "height": null,
      "justify_content": null,
      "justify_items": null,
      "left": null,
      "margin": null,
      "max_height": null,
      "max_width": null,
      "min_height": null,
      "min_width": null,
      "object_fit": null,
      "object_position": null,
      "order": null,
      "overflow": null,
      "overflow_x": null,
      "overflow_y": null,
      "padding": null,
      "right": null,
      "top": null,
      "visibility": null,
      "width": null
     }
    },
    "f43d0af432af4eaabddb5047a9b42e22": {
     "model_module": "@jupyter-widgets/base",
     "model_module_version": "1.2.0",
     "model_name": "LayoutModel",
     "state": {
      "_model_module": "@jupyter-widgets/base",
      "_model_module_version": "1.2.0",
      "_model_name": "LayoutModel",
      "_view_count": null,
      "_view_module": "@jupyter-widgets/base",
      "_view_module_version": "1.2.0",
      "_view_name": "LayoutView",
      "align_content": null,
      "align_items": null,
      "align_self": null,
      "border": null,
      "bottom": null,
      "display": null,
      "flex": null,
      "flex_flow": null,
      "grid_area": null,
      "grid_auto_columns": null,
      "grid_auto_flow": null,
      "grid_auto_rows": null,
      "grid_column": null,
      "grid_gap": null,
      "grid_row": null,
      "grid_template_areas": null,
      "grid_template_columns": null,
      "grid_template_rows": null,
      "height": null,
      "justify_content": null,
      "justify_items": null,
      "left": null,
      "margin": null,
      "max_height": null,
      "max_width": null,
      "min_height": null,
      "min_width": null,
      "object_fit": null,
      "object_position": null,
      "order": null,
      "overflow": null,
      "overflow_x": null,
      "overflow_y": null,
      "padding": null,
      "right": null,
      "top": null,
      "visibility": null,
      "width": "20px"
     }
    },
    "f7f2d898c0d048fdba333eddab41e966": {
     "model_module": "@jupyter-widgets/base",
     "model_module_version": "1.2.0",
     "model_name": "LayoutModel",
     "state": {
      "_model_module": "@jupyter-widgets/base",
      "_model_module_version": "1.2.0",
      "_model_name": "LayoutModel",
      "_view_count": null,
      "_view_module": "@jupyter-widgets/base",
      "_view_module_version": "1.2.0",
      "_view_name": "LayoutView",
      "align_content": null,
      "align_items": null,
      "align_self": null,
      "border": null,
      "bottom": null,
      "display": null,
      "flex": null,
      "flex_flow": null,
      "grid_area": null,
      "grid_auto_columns": null,
      "grid_auto_flow": null,
      "grid_auto_rows": null,
      "grid_column": null,
      "grid_gap": null,
      "grid_row": null,
      "grid_template_areas": null,
      "grid_template_columns": null,
      "grid_template_rows": null,
      "height": null,
      "justify_content": null,
      "justify_items": null,
      "left": null,
      "margin": null,
      "max_height": null,
      "max_width": null,
      "min_height": null,
      "min_width": null,
      "object_fit": null,
      "object_position": null,
      "order": null,
      "overflow": null,
      "overflow_x": null,
      "overflow_y": null,
      "padding": null,
      "right": null,
      "top": null,
      "visibility": null,
      "width": null
     }
    },
    "fba933ade8814f9ea405c1e385699cfc": {
     "model_module": "@jupyter-widgets/controls",
     "model_module_version": "1.5.0",
     "model_name": "HBoxModel",
     "state": {
      "_dom_classes": [],
      "_model_module": "@jupyter-widgets/controls",
      "_model_module_version": "1.5.0",
      "_model_name": "HBoxModel",
      "_view_count": null,
      "_view_module": "@jupyter-widgets/controls",
      "_view_module_version": "1.5.0",
      "_view_name": "HBoxView",
      "box_style": "",
      "children": [
       "IPY_MODEL_b1e06233eddb405f9f2870f79aefbeb7",
       "IPY_MODEL_ca389565776944ad959248393b77be30",
       "IPY_MODEL_7524e75b84014463bc93963935b5ca8f"
      ],
      "layout": "IPY_MODEL_800596cf4da24095bad3b92e3b7ced4d"
     }
    },
    "fd9eb43b9b1c4756a577e30b6a05397c": {
     "model_module": "@jupyter-widgets/controls",
     "model_module_version": "1.5.0",
     "model_name": "ProgressStyleModel",
     "state": {
      "_model_module": "@jupyter-widgets/controls",
      "_model_module_version": "1.5.0",
      "_model_name": "ProgressStyleModel",
      "_view_count": null,
      "_view_module": "@jupyter-widgets/base",
      "_view_module_version": "1.2.0",
      "_view_name": "StyleView",
      "bar_color": null,
      "description_width": ""
     }
    },
    "fe13d6e78d2b4c519540529f71f22db1": {
     "model_module": "@jupyter-widgets/base",
     "model_module_version": "1.2.0",
     "model_name": "LayoutModel",
     "state": {
      "_model_module": "@jupyter-widgets/base",
      "_model_module_version": "1.2.0",
      "_model_name": "LayoutModel",
      "_view_count": null,
      "_view_module": "@jupyter-widgets/base",
      "_view_module_version": "1.2.0",
      "_view_name": "LayoutView",
      "align_content": null,
      "align_items": null,
      "align_self": null,
      "border": null,
      "bottom": null,
      "display": null,
      "flex": null,
      "flex_flow": null,
      "grid_area": null,
      "grid_auto_columns": null,
      "grid_auto_flow": null,
      "grid_auto_rows": null,
      "grid_column": null,
      "grid_gap": null,
      "grid_row": null,
      "grid_template_areas": null,
      "grid_template_columns": null,
      "grid_template_rows": null,
      "height": null,
      "justify_content": null,
      "justify_items": null,
      "left": null,
      "margin": null,
      "max_height": null,
      "max_width": null,
      "min_height": null,
      "min_width": null,
      "object_fit": null,
      "object_position": null,
      "order": null,
      "overflow": null,
      "overflow_x": null,
      "overflow_y": null,
      "padding": null,
      "right": null,
      "top": null,
      "visibility": null,
      "width": null
     }
    },
    "ff7e30c678e24b09a8bc26ee645caff0": {
     "model_module": "@jupyter-widgets/controls",
     "model_module_version": "1.5.0",
     "model_name": "DescriptionStyleModel",
     "state": {
      "_model_module": "@jupyter-widgets/controls",
      "_model_module_version": "1.5.0",
      "_model_name": "DescriptionStyleModel",
      "_view_count": null,
      "_view_module": "@jupyter-widgets/base",
      "_view_module_version": "1.2.0",
      "_view_name": "StyleView",
      "description_width": ""
     }
    },
    "ff8e32b0dce74aaab818c844b0269cb9": {
     "model_module": "@jupyter-widgets/controls",
     "model_module_version": "1.5.0",
     "model_name": "DescriptionStyleModel",
     "state": {
      "_model_module": "@jupyter-widgets/controls",
      "_model_module_version": "1.5.0",
      "_model_name": "DescriptionStyleModel",
      "_view_count": null,
      "_view_module": "@jupyter-widgets/base",
      "_view_module_version": "1.2.0",
      "_view_name": "StyleView",
      "description_width": ""
     }
    },
    "ffa2604aa3d14df68ae234579a24ae9f": {
     "model_module": "@jupyter-widgets/controls",
     "model_module_version": "1.5.0",
     "model_name": "DescriptionStyleModel",
     "state": {
      "_model_module": "@jupyter-widgets/controls",
      "_model_module_version": "1.5.0",
      "_model_name": "DescriptionStyleModel",
      "_view_count": null,
      "_view_module": "@jupyter-widgets/base",
      "_view_module_version": "1.2.0",
      "_view_name": "StyleView",
      "description_width": ""
     }
    }
   }
  }
 },
 "nbformat": 4,
 "nbformat_minor": 4
}
