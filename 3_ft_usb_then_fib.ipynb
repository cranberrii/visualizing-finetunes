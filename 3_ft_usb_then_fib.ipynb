{
  "nbformat": 4,
  "nbformat_minor": 0,
  "metadata": {
    "colab": {
      "provenance": [],
      "gpuType": "L4",
      "include_colab_link": true
    },
    "kernelspec": {
      "name": "python3",
      "display_name": "Python 3"
    },
    "language_info": {
      "name": "python"
    },
    "widgets": {
      "application/vnd.jupyter.widget-state+json": {
        "b3afed25985e4e1299204a85af42a47a": {
          "model_module": "@jupyter-widgets/controls",
          "model_name": "HBoxModel",
          "model_module_version": "1.5.0",
          "state": {
            "_dom_classes": [],
            "_model_module": "@jupyter-widgets/controls",
            "_model_module_version": "1.5.0",
            "_model_name": "HBoxModel",
            "_view_count": null,
            "_view_module": "@jupyter-widgets/controls",
            "_view_module_version": "1.5.0",
            "_view_name": "HBoxView",
            "box_style": "",
            "children": [
              "IPY_MODEL_2728760cce9a4782b5383363035e6978",
              "IPY_MODEL_a6ebd9d6e47e47cfb62f04735efa9113",
              "IPY_MODEL_d3955e5cb2034155816c96890fab38db"
            ],
            "layout": "IPY_MODEL_bc032c2b06d84bbeb60f78c0dbe2c435"
          }
        },
        "2728760cce9a4782b5383363035e6978": {
          "model_module": "@jupyter-widgets/controls",
          "model_name": "HTMLModel",
          "model_module_version": "1.5.0",
          "state": {
            "_dom_classes": [],
            "_model_module": "@jupyter-widgets/controls",
            "_model_module_version": "1.5.0",
            "_model_name": "HTMLModel",
            "_view_count": null,
            "_view_module": "@jupyter-widgets/controls",
            "_view_module_version": "1.5.0",
            "_view_name": "HTMLView",
            "description": "",
            "description_tooltip": null,
            "layout": "IPY_MODEL_f2ed28665fe14100a21ea8fb57662f90",
            "placeholder": "​",
            "style": "IPY_MODEL_2015dc35f18c4cd8aff45397c21418e0",
            "value": "Generating train split: "
          }
        },
        "a6ebd9d6e47e47cfb62f04735efa9113": {
          "model_module": "@jupyter-widgets/controls",
          "model_name": "FloatProgressModel",
          "model_module_version": "1.5.0",
          "state": {
            "_dom_classes": [],
            "_model_module": "@jupyter-widgets/controls",
            "_model_module_version": "1.5.0",
            "_model_name": "FloatProgressModel",
            "_view_count": null,
            "_view_module": "@jupyter-widgets/controls",
            "_view_module_version": "1.5.0",
            "_view_name": "ProgressView",
            "bar_style": "success",
            "description": "",
            "description_tooltip": null,
            "layout": "IPY_MODEL_bcae27978a50473f9fe1fe8e396ca2d8",
            "max": 1,
            "min": 0,
            "orientation": "horizontal",
            "style": "IPY_MODEL_7b98eba7b5e447329c0c8461d9b3e93c",
            "value": 1
          }
        },
        "d3955e5cb2034155816c96890fab38db": {
          "model_module": "@jupyter-widgets/controls",
          "model_name": "HTMLModel",
          "model_module_version": "1.5.0",
          "state": {
            "_dom_classes": [],
            "_model_module": "@jupyter-widgets/controls",
            "_model_module_version": "1.5.0",
            "_model_name": "HTMLModel",
            "_view_count": null,
            "_view_module": "@jupyter-widgets/controls",
            "_view_module_version": "1.5.0",
            "_view_name": "HTMLView",
            "description": "",
            "description_tooltip": null,
            "layout": "IPY_MODEL_6a5e32ce681843ce8f58ef492cee5f71",
            "placeholder": "​",
            "style": "IPY_MODEL_975128b929954d6eab7b37fe2476d461",
            "value": " 700/0 [00:01&lt;00:00, 675.80 examples/s]"
          }
        },
        "bc032c2b06d84bbeb60f78c0dbe2c435": {
          "model_module": "@jupyter-widgets/base",
          "model_name": "LayoutModel",
          "model_module_version": "1.2.0",
          "state": {
            "_model_module": "@jupyter-widgets/base",
            "_model_module_version": "1.2.0",
            "_model_name": "LayoutModel",
            "_view_count": null,
            "_view_module": "@jupyter-widgets/base",
            "_view_module_version": "1.2.0",
            "_view_name": "LayoutView",
            "align_content": null,
            "align_items": null,
            "align_self": null,
            "border": null,
            "bottom": null,
            "display": null,
            "flex": null,
            "flex_flow": null,
            "grid_area": null,
            "grid_auto_columns": null,
            "grid_auto_flow": null,
            "grid_auto_rows": null,
            "grid_column": null,
            "grid_gap": null,
            "grid_row": null,
            "grid_template_areas": null,
            "grid_template_columns": null,
            "grid_template_rows": null,
            "height": null,
            "justify_content": null,
            "justify_items": null,
            "left": null,
            "margin": null,
            "max_height": null,
            "max_width": null,
            "min_height": null,
            "min_width": null,
            "object_fit": null,
            "object_position": null,
            "order": null,
            "overflow": null,
            "overflow_x": null,
            "overflow_y": null,
            "padding": null,
            "right": null,
            "top": null,
            "visibility": null,
            "width": null
          }
        },
        "f2ed28665fe14100a21ea8fb57662f90": {
          "model_module": "@jupyter-widgets/base",
          "model_name": "LayoutModel",
          "model_module_version": "1.2.0",
          "state": {
            "_model_module": "@jupyter-widgets/base",
            "_model_module_version": "1.2.0",
            "_model_name": "LayoutModel",
            "_view_count": null,
            "_view_module": "@jupyter-widgets/base",
            "_view_module_version": "1.2.0",
            "_view_name": "LayoutView",
            "align_content": null,
            "align_items": null,
            "align_self": null,
            "border": null,
            "bottom": null,
            "display": null,
            "flex": null,
            "flex_flow": null,
            "grid_area": null,
            "grid_auto_columns": null,
            "grid_auto_flow": null,
            "grid_auto_rows": null,
            "grid_column": null,
            "grid_gap": null,
            "grid_row": null,
            "grid_template_areas": null,
            "grid_template_columns": null,
            "grid_template_rows": null,
            "height": null,
            "justify_content": null,
            "justify_items": null,
            "left": null,
            "margin": null,
            "max_height": null,
            "max_width": null,
            "min_height": null,
            "min_width": null,
            "object_fit": null,
            "object_position": null,
            "order": null,
            "overflow": null,
            "overflow_x": null,
            "overflow_y": null,
            "padding": null,
            "right": null,
            "top": null,
            "visibility": null,
            "width": null
          }
        },
        "2015dc35f18c4cd8aff45397c21418e0": {
          "model_module": "@jupyter-widgets/controls",
          "model_name": "DescriptionStyleModel",
          "model_module_version": "1.5.0",
          "state": {
            "_model_module": "@jupyter-widgets/controls",
            "_model_module_version": "1.5.0",
            "_model_name": "DescriptionStyleModel",
            "_view_count": null,
            "_view_module": "@jupyter-widgets/base",
            "_view_module_version": "1.2.0",
            "_view_name": "StyleView",
            "description_width": ""
          }
        },
        "bcae27978a50473f9fe1fe8e396ca2d8": {
          "model_module": "@jupyter-widgets/base",
          "model_name": "LayoutModel",
          "model_module_version": "1.2.0",
          "state": {
            "_model_module": "@jupyter-widgets/base",
            "_model_module_version": "1.2.0",
            "_model_name": "LayoutModel",
            "_view_count": null,
            "_view_module": "@jupyter-widgets/base",
            "_view_module_version": "1.2.0",
            "_view_name": "LayoutView",
            "align_content": null,
            "align_items": null,
            "align_self": null,
            "border": null,
            "bottom": null,
            "display": null,
            "flex": null,
            "flex_flow": null,
            "grid_area": null,
            "grid_auto_columns": null,
            "grid_auto_flow": null,
            "grid_auto_rows": null,
            "grid_column": null,
            "grid_gap": null,
            "grid_row": null,
            "grid_template_areas": null,
            "grid_template_columns": null,
            "grid_template_rows": null,
            "height": null,
            "justify_content": null,
            "justify_items": null,
            "left": null,
            "margin": null,
            "max_height": null,
            "max_width": null,
            "min_height": null,
            "min_width": null,
            "object_fit": null,
            "object_position": null,
            "order": null,
            "overflow": null,
            "overflow_x": null,
            "overflow_y": null,
            "padding": null,
            "right": null,
            "top": null,
            "visibility": null,
            "width": "20px"
          }
        },
        "7b98eba7b5e447329c0c8461d9b3e93c": {
          "model_module": "@jupyter-widgets/controls",
          "model_name": "ProgressStyleModel",
          "model_module_version": "1.5.0",
          "state": {
            "_model_module": "@jupyter-widgets/controls",
            "_model_module_version": "1.5.0",
            "_model_name": "ProgressStyleModel",
            "_view_count": null,
            "_view_module": "@jupyter-widgets/base",
            "_view_module_version": "1.2.0",
            "_view_name": "StyleView",
            "bar_color": null,
            "description_width": ""
          }
        },
        "6a5e32ce681843ce8f58ef492cee5f71": {
          "model_module": "@jupyter-widgets/base",
          "model_name": "LayoutModel",
          "model_module_version": "1.2.0",
          "state": {
            "_model_module": "@jupyter-widgets/base",
            "_model_module_version": "1.2.0",
            "_model_name": "LayoutModel",
            "_view_count": null,
            "_view_module": "@jupyter-widgets/base",
            "_view_module_version": "1.2.0",
            "_view_name": "LayoutView",
            "align_content": null,
            "align_items": null,
            "align_self": null,
            "border": null,
            "bottom": null,
            "display": null,
            "flex": null,
            "flex_flow": null,
            "grid_area": null,
            "grid_auto_columns": null,
            "grid_auto_flow": null,
            "grid_auto_rows": null,
            "grid_column": null,
            "grid_gap": null,
            "grid_row": null,
            "grid_template_areas": null,
            "grid_template_columns": null,
            "grid_template_rows": null,
            "height": null,
            "justify_content": null,
            "justify_items": null,
            "left": null,
            "margin": null,
            "max_height": null,
            "max_width": null,
            "min_height": null,
            "min_width": null,
            "object_fit": null,
            "object_position": null,
            "order": null,
            "overflow": null,
            "overflow_x": null,
            "overflow_y": null,
            "padding": null,
            "right": null,
            "top": null,
            "visibility": null,
            "width": null
          }
        },
        "975128b929954d6eab7b37fe2476d461": {
          "model_module": "@jupyter-widgets/controls",
          "model_name": "DescriptionStyleModel",
          "model_module_version": "1.5.0",
          "state": {
            "_model_module": "@jupyter-widgets/controls",
            "_model_module_version": "1.5.0",
            "_model_name": "DescriptionStyleModel",
            "_view_count": null,
            "_view_module": "@jupyter-widgets/base",
            "_view_module_version": "1.2.0",
            "_view_name": "StyleView",
            "description_width": ""
          }
        },
        "22abac280e3246839d7d3028120f3d12": {
          "model_module": "@jupyter-widgets/controls",
          "model_name": "HBoxModel",
          "model_module_version": "1.5.0",
          "state": {
            "_dom_classes": [],
            "_model_module": "@jupyter-widgets/controls",
            "_model_module_version": "1.5.0",
            "_model_name": "HBoxModel",
            "_view_count": null,
            "_view_module": "@jupyter-widgets/controls",
            "_view_module_version": "1.5.0",
            "_view_name": "HBoxView",
            "box_style": "",
            "children": [
              "IPY_MODEL_367db79863ae4fc79f91ef90e0901510",
              "IPY_MODEL_ed563783ce784394af4d34764a464b1e",
              "IPY_MODEL_65a6acdb8a5b44d18131ebedea0dfc78"
            ],
            "layout": "IPY_MODEL_ef9bc35ccab74caf8bed5306eef418fe"
          }
        },
        "367db79863ae4fc79f91ef90e0901510": {
          "model_module": "@jupyter-widgets/controls",
          "model_name": "HTMLModel",
          "model_module_version": "1.5.0",
          "state": {
            "_dom_classes": [],
            "_model_module": "@jupyter-widgets/controls",
            "_model_module_version": "1.5.0",
            "_model_name": "HTMLModel",
            "_view_count": null,
            "_view_module": "@jupyter-widgets/controls",
            "_view_module_version": "1.5.0",
            "_view_name": "HTMLView",
            "description": "",
            "description_tooltip": null,
            "layout": "IPY_MODEL_b79cc5c72c1f420eb23844e70662e1ea",
            "placeholder": "​",
            "style": "IPY_MODEL_6d5d05893b614290b3a3c34796e2d4b3",
            "value": "Generating val split: "
          }
        },
        "ed563783ce784394af4d34764a464b1e": {
          "model_module": "@jupyter-widgets/controls",
          "model_name": "FloatProgressModel",
          "model_module_version": "1.5.0",
          "state": {
            "_dom_classes": [],
            "_model_module": "@jupyter-widgets/controls",
            "_model_module_version": "1.5.0",
            "_model_name": "FloatProgressModel",
            "_view_count": null,
            "_view_module": "@jupyter-widgets/controls",
            "_view_module_version": "1.5.0",
            "_view_name": "ProgressView",
            "bar_style": "success",
            "description": "",
            "description_tooltip": null,
            "layout": "IPY_MODEL_f43d0af432af4eaabddb5047a9b42e22",
            "max": 1,
            "min": 0,
            "orientation": "horizontal",
            "style": "IPY_MODEL_c891964c58234438aed299baf041b26f",
            "value": 1
          }
        },
        "65a6acdb8a5b44d18131ebedea0dfc78": {
          "model_module": "@jupyter-widgets/controls",
          "model_name": "HTMLModel",
          "model_module_version": "1.5.0",
          "state": {
            "_dom_classes": [],
            "_model_module": "@jupyter-widgets/controls",
            "_model_module_version": "1.5.0",
            "_model_name": "HTMLModel",
            "_view_count": null,
            "_view_module": "@jupyter-widgets/controls",
            "_view_module_version": "1.5.0",
            "_view_name": "HTMLView",
            "description": "",
            "description_tooltip": null,
            "layout": "IPY_MODEL_7d9f848dca774487894b54fa50e37f5b",
            "placeholder": "​",
            "style": "IPY_MODEL_ea87b193ed6746c19915bafc8120c877",
            "value": " 150/0 [00:00&lt;00:00, 6488.31 examples/s]"
          }
        },
        "ef9bc35ccab74caf8bed5306eef418fe": {
          "model_module": "@jupyter-widgets/base",
          "model_name": "LayoutModel",
          "model_module_version": "1.2.0",
          "state": {
            "_model_module": "@jupyter-widgets/base",
            "_model_module_version": "1.2.0",
            "_model_name": "LayoutModel",
            "_view_count": null,
            "_view_module": "@jupyter-widgets/base",
            "_view_module_version": "1.2.0",
            "_view_name": "LayoutView",
            "align_content": null,
            "align_items": null,
            "align_self": null,
            "border": null,
            "bottom": null,
            "display": null,
            "flex": null,
            "flex_flow": null,
            "grid_area": null,
            "grid_auto_columns": null,
            "grid_auto_flow": null,
            "grid_auto_rows": null,
            "grid_column": null,
            "grid_gap": null,
            "grid_row": null,
            "grid_template_areas": null,
            "grid_template_columns": null,
            "grid_template_rows": null,
            "height": null,
            "justify_content": null,
            "justify_items": null,
            "left": null,
            "margin": null,
            "max_height": null,
            "max_width": null,
            "min_height": null,
            "min_width": null,
            "object_fit": null,
            "object_position": null,
            "order": null,
            "overflow": null,
            "overflow_x": null,
            "overflow_y": null,
            "padding": null,
            "right": null,
            "top": null,
            "visibility": null,
            "width": null
          }
        },
        "b79cc5c72c1f420eb23844e70662e1ea": {
          "model_module": "@jupyter-widgets/base",
          "model_name": "LayoutModel",
          "model_module_version": "1.2.0",
          "state": {
            "_model_module": "@jupyter-widgets/base",
            "_model_module_version": "1.2.0",
            "_model_name": "LayoutModel",
            "_view_count": null,
            "_view_module": "@jupyter-widgets/base",
            "_view_module_version": "1.2.0",
            "_view_name": "LayoutView",
            "align_content": null,
            "align_items": null,
            "align_self": null,
            "border": null,
            "bottom": null,
            "display": null,
            "flex": null,
            "flex_flow": null,
            "grid_area": null,
            "grid_auto_columns": null,
            "grid_auto_flow": null,
            "grid_auto_rows": null,
            "grid_column": null,
            "grid_gap": null,
            "grid_row": null,
            "grid_template_areas": null,
            "grid_template_columns": null,
            "grid_template_rows": null,
            "height": null,
            "justify_content": null,
            "justify_items": null,
            "left": null,
            "margin": null,
            "max_height": null,
            "max_width": null,
            "min_height": null,
            "min_width": null,
            "object_fit": null,
            "object_position": null,
            "order": null,
            "overflow": null,
            "overflow_x": null,
            "overflow_y": null,
            "padding": null,
            "right": null,
            "top": null,
            "visibility": null,
            "width": null
          }
        },
        "6d5d05893b614290b3a3c34796e2d4b3": {
          "model_module": "@jupyter-widgets/controls",
          "model_name": "DescriptionStyleModel",
          "model_module_version": "1.5.0",
          "state": {
            "_model_module": "@jupyter-widgets/controls",
            "_model_module_version": "1.5.0",
            "_model_name": "DescriptionStyleModel",
            "_view_count": null,
            "_view_module": "@jupyter-widgets/base",
            "_view_module_version": "1.2.0",
            "_view_name": "StyleView",
            "description_width": ""
          }
        },
        "f43d0af432af4eaabddb5047a9b42e22": {
          "model_module": "@jupyter-widgets/base",
          "model_name": "LayoutModel",
          "model_module_version": "1.2.0",
          "state": {
            "_model_module": "@jupyter-widgets/base",
            "_model_module_version": "1.2.0",
            "_model_name": "LayoutModel",
            "_view_count": null,
            "_view_module": "@jupyter-widgets/base",
            "_view_module_version": "1.2.0",
            "_view_name": "LayoutView",
            "align_content": null,
            "align_items": null,
            "align_self": null,
            "border": null,
            "bottom": null,
            "display": null,
            "flex": null,
            "flex_flow": null,
            "grid_area": null,
            "grid_auto_columns": null,
            "grid_auto_flow": null,
            "grid_auto_rows": null,
            "grid_column": null,
            "grid_gap": null,
            "grid_row": null,
            "grid_template_areas": null,
            "grid_template_columns": null,
            "grid_template_rows": null,
            "height": null,
            "justify_content": null,
            "justify_items": null,
            "left": null,
            "margin": null,
            "max_height": null,
            "max_width": null,
            "min_height": null,
            "min_width": null,
            "object_fit": null,
            "object_position": null,
            "order": null,
            "overflow": null,
            "overflow_x": null,
            "overflow_y": null,
            "padding": null,
            "right": null,
            "top": null,
            "visibility": null,
            "width": "20px"
          }
        },
        "c891964c58234438aed299baf041b26f": {
          "model_module": "@jupyter-widgets/controls",
          "model_name": "ProgressStyleModel",
          "model_module_version": "1.5.0",
          "state": {
            "_model_module": "@jupyter-widgets/controls",
            "_model_module_version": "1.5.0",
            "_model_name": "ProgressStyleModel",
            "_view_count": null,
            "_view_module": "@jupyter-widgets/base",
            "_view_module_version": "1.2.0",
            "_view_name": "StyleView",
            "bar_color": null,
            "description_width": ""
          }
        },
        "7d9f848dca774487894b54fa50e37f5b": {
          "model_module": "@jupyter-widgets/base",
          "model_name": "LayoutModel",
          "model_module_version": "1.2.0",
          "state": {
            "_model_module": "@jupyter-widgets/base",
            "_model_module_version": "1.2.0",
            "_model_name": "LayoutModel",
            "_view_count": null,
            "_view_module": "@jupyter-widgets/base",
            "_view_module_version": "1.2.0",
            "_view_name": "LayoutView",
            "align_content": null,
            "align_items": null,
            "align_self": null,
            "border": null,
            "bottom": null,
            "display": null,
            "flex": null,
            "flex_flow": null,
            "grid_area": null,
            "grid_auto_columns": null,
            "grid_auto_flow": null,
            "grid_auto_rows": null,
            "grid_column": null,
            "grid_gap": null,
            "grid_row": null,
            "grid_template_areas": null,
            "grid_template_columns": null,
            "grid_template_rows": null,
            "height": null,
            "justify_content": null,
            "justify_items": null,
            "left": null,
            "margin": null,
            "max_height": null,
            "max_width": null,
            "min_height": null,
            "min_width": null,
            "object_fit": null,
            "object_position": null,
            "order": null,
            "overflow": null,
            "overflow_x": null,
            "overflow_y": null,
            "padding": null,
            "right": null,
            "top": null,
            "visibility": null,
            "width": null
          }
        },
        "ea87b193ed6746c19915bafc8120c877": {
          "model_module": "@jupyter-widgets/controls",
          "model_name": "DescriptionStyleModel",
          "model_module_version": "1.5.0",
          "state": {
            "_model_module": "@jupyter-widgets/controls",
            "_model_module_version": "1.5.0",
            "_model_name": "DescriptionStyleModel",
            "_view_count": null,
            "_view_module": "@jupyter-widgets/base",
            "_view_module_version": "1.2.0",
            "_view_name": "StyleView",
            "description_width": ""
          }
        },
        "2b602765897e4051a9ba85a4cd5f486f": {
          "model_module": "@jupyter-widgets/controls",
          "model_name": "HBoxModel",
          "model_module_version": "1.5.0",
          "state": {
            "_dom_classes": [],
            "_model_module": "@jupyter-widgets/controls",
            "_model_module_version": "1.5.0",
            "_model_name": "HBoxModel",
            "_view_count": null,
            "_view_module": "@jupyter-widgets/controls",
            "_view_module_version": "1.5.0",
            "_view_name": "HBoxView",
            "box_style": "",
            "children": [
              "IPY_MODEL_bbcbe957b4944f2590c56c2ae6db059c",
              "IPY_MODEL_25bb45e8071e4df4964085ff8f464897",
              "IPY_MODEL_5d1c3f048e1b41d0a11eb8e3e1b86ff2"
            ],
            "layout": "IPY_MODEL_3f53e226f70e48ceb316aca1d37e830f"
          }
        },
        "bbcbe957b4944f2590c56c2ae6db059c": {
          "model_module": "@jupyter-widgets/controls",
          "model_name": "HTMLModel",
          "model_module_version": "1.5.0",
          "state": {
            "_dom_classes": [],
            "_model_module": "@jupyter-widgets/controls",
            "_model_module_version": "1.5.0",
            "_model_name": "HTMLModel",
            "_view_count": null,
            "_view_module": "@jupyter-widgets/controls",
            "_view_module_version": "1.5.0",
            "_view_name": "HTMLView",
            "description": "",
            "description_tooltip": null,
            "layout": "IPY_MODEL_ddcd9550bf77448c8e5c877e3ebb874e",
            "placeholder": "​",
            "style": "IPY_MODEL_35f22e10465846c8b3e87b149c1561c8",
            "value": "Generating test split: "
          }
        },
        "25bb45e8071e4df4964085ff8f464897": {
          "model_module": "@jupyter-widgets/controls",
          "model_name": "FloatProgressModel",
          "model_module_version": "1.5.0",
          "state": {
            "_dom_classes": [],
            "_model_module": "@jupyter-widgets/controls",
            "_model_module_version": "1.5.0",
            "_model_name": "FloatProgressModel",
            "_view_count": null,
            "_view_module": "@jupyter-widgets/controls",
            "_view_module_version": "1.5.0",
            "_view_name": "ProgressView",
            "bar_style": "success",
            "description": "",
            "description_tooltip": null,
            "layout": "IPY_MODEL_122bf45d74844b3e8f2cefd79deae307",
            "max": 1,
            "min": 0,
            "orientation": "horizontal",
            "style": "IPY_MODEL_b7fa368cf3b448868cb3bbd7e1b9c2cc",
            "value": 1
          }
        },
        "5d1c3f048e1b41d0a11eb8e3e1b86ff2": {
          "model_module": "@jupyter-widgets/controls",
          "model_name": "HTMLModel",
          "model_module_version": "1.5.0",
          "state": {
            "_dom_classes": [],
            "_model_module": "@jupyter-widgets/controls",
            "_model_module_version": "1.5.0",
            "_model_name": "HTMLModel",
            "_view_count": null,
            "_view_module": "@jupyter-widgets/controls",
            "_view_module_version": "1.5.0",
            "_view_name": "HTMLView",
            "description": "",
            "description_tooltip": null,
            "layout": "IPY_MODEL_f7f2d898c0d048fdba333eddab41e966",
            "placeholder": "​",
            "style": "IPY_MODEL_e3e7632452394f20bbd31ab53cdd4f8e",
            "value": " 150/0 [00:00&lt;00:00, 5802.96 examples/s]"
          }
        },
        "3f53e226f70e48ceb316aca1d37e830f": {
          "model_module": "@jupyter-widgets/base",
          "model_name": "LayoutModel",
          "model_module_version": "1.2.0",
          "state": {
            "_model_module": "@jupyter-widgets/base",
            "_model_module_version": "1.2.0",
            "_model_name": "LayoutModel",
            "_view_count": null,
            "_view_module": "@jupyter-widgets/base",
            "_view_module_version": "1.2.0",
            "_view_name": "LayoutView",
            "align_content": null,
            "align_items": null,
            "align_self": null,
            "border": null,
            "bottom": null,
            "display": null,
            "flex": null,
            "flex_flow": null,
            "grid_area": null,
            "grid_auto_columns": null,
            "grid_auto_flow": null,
            "grid_auto_rows": null,
            "grid_column": null,
            "grid_gap": null,
            "grid_row": null,
            "grid_template_areas": null,
            "grid_template_columns": null,
            "grid_template_rows": null,
            "height": null,
            "justify_content": null,
            "justify_items": null,
            "left": null,
            "margin": null,
            "max_height": null,
            "max_width": null,
            "min_height": null,
            "min_width": null,
            "object_fit": null,
            "object_position": null,
            "order": null,
            "overflow": null,
            "overflow_x": null,
            "overflow_y": null,
            "padding": null,
            "right": null,
            "top": null,
            "visibility": null,
            "width": null
          }
        },
        "ddcd9550bf77448c8e5c877e3ebb874e": {
          "model_module": "@jupyter-widgets/base",
          "model_name": "LayoutModel",
          "model_module_version": "1.2.0",
          "state": {
            "_model_module": "@jupyter-widgets/base",
            "_model_module_version": "1.2.0",
            "_model_name": "LayoutModel",
            "_view_count": null,
            "_view_module": "@jupyter-widgets/base",
            "_view_module_version": "1.2.0",
            "_view_name": "LayoutView",
            "align_content": null,
            "align_items": null,
            "align_self": null,
            "border": null,
            "bottom": null,
            "display": null,
            "flex": null,
            "flex_flow": null,
            "grid_area": null,
            "grid_auto_columns": null,
            "grid_auto_flow": null,
            "grid_auto_rows": null,
            "grid_column": null,
            "grid_gap": null,
            "grid_row": null,
            "grid_template_areas": null,
            "grid_template_columns": null,
            "grid_template_rows": null,
            "height": null,
            "justify_content": null,
            "justify_items": null,
            "left": null,
            "margin": null,
            "max_height": null,
            "max_width": null,
            "min_height": null,
            "min_width": null,
            "object_fit": null,
            "object_position": null,
            "order": null,
            "overflow": null,
            "overflow_x": null,
            "overflow_y": null,
            "padding": null,
            "right": null,
            "top": null,
            "visibility": null,
            "width": null
          }
        },
        "35f22e10465846c8b3e87b149c1561c8": {
          "model_module": "@jupyter-widgets/controls",
          "model_name": "DescriptionStyleModel",
          "model_module_version": "1.5.0",
          "state": {
            "_model_module": "@jupyter-widgets/controls",
            "_model_module_version": "1.5.0",
            "_model_name": "DescriptionStyleModel",
            "_view_count": null,
            "_view_module": "@jupyter-widgets/base",
            "_view_module_version": "1.2.0",
            "_view_name": "StyleView",
            "description_width": ""
          }
        },
        "122bf45d74844b3e8f2cefd79deae307": {
          "model_module": "@jupyter-widgets/base",
          "model_name": "LayoutModel",
          "model_module_version": "1.2.0",
          "state": {
            "_model_module": "@jupyter-widgets/base",
            "_model_module_version": "1.2.0",
            "_model_name": "LayoutModel",
            "_view_count": null,
            "_view_module": "@jupyter-widgets/base",
            "_view_module_version": "1.2.0",
            "_view_name": "LayoutView",
            "align_content": null,
            "align_items": null,
            "align_self": null,
            "border": null,
            "bottom": null,
            "display": null,
            "flex": null,
            "flex_flow": null,
            "grid_area": null,
            "grid_auto_columns": null,
            "grid_auto_flow": null,
            "grid_auto_rows": null,
            "grid_column": null,
            "grid_gap": null,
            "grid_row": null,
            "grid_template_areas": null,
            "grid_template_columns": null,
            "grid_template_rows": null,
            "height": null,
            "justify_content": null,
            "justify_items": null,
            "left": null,
            "margin": null,
            "max_height": null,
            "max_width": null,
            "min_height": null,
            "min_width": null,
            "object_fit": null,
            "object_position": null,
            "order": null,
            "overflow": null,
            "overflow_x": null,
            "overflow_y": null,
            "padding": null,
            "right": null,
            "top": null,
            "visibility": null,
            "width": "20px"
          }
        },
        "b7fa368cf3b448868cb3bbd7e1b9c2cc": {
          "model_module": "@jupyter-widgets/controls",
          "model_name": "ProgressStyleModel",
          "model_module_version": "1.5.0",
          "state": {
            "_model_module": "@jupyter-widgets/controls",
            "_model_module_version": "1.5.0",
            "_model_name": "ProgressStyleModel",
            "_view_count": null,
            "_view_module": "@jupyter-widgets/base",
            "_view_module_version": "1.2.0",
            "_view_name": "StyleView",
            "bar_color": null,
            "description_width": ""
          }
        },
        "f7f2d898c0d048fdba333eddab41e966": {
          "model_module": "@jupyter-widgets/base",
          "model_name": "LayoutModel",
          "model_module_version": "1.2.0",
          "state": {
            "_model_module": "@jupyter-widgets/base",
            "_model_module_version": "1.2.0",
            "_model_name": "LayoutModel",
            "_view_count": null,
            "_view_module": "@jupyter-widgets/base",
            "_view_module_version": "1.2.0",
            "_view_name": "LayoutView",
            "align_content": null,
            "align_items": null,
            "align_self": null,
            "border": null,
            "bottom": null,
            "display": null,
            "flex": null,
            "flex_flow": null,
            "grid_area": null,
            "grid_auto_columns": null,
            "grid_auto_flow": null,
            "grid_auto_rows": null,
            "grid_column": null,
            "grid_gap": null,
            "grid_row": null,
            "grid_template_areas": null,
            "grid_template_columns": null,
            "grid_template_rows": null,
            "height": null,
            "justify_content": null,
            "justify_items": null,
            "left": null,
            "margin": null,
            "max_height": null,
            "max_width": null,
            "min_height": null,
            "min_width": null,
            "object_fit": null,
            "object_position": null,
            "order": null,
            "overflow": null,
            "overflow_x": null,
            "overflow_y": null,
            "padding": null,
            "right": null,
            "top": null,
            "visibility": null,
            "width": null
          }
        },
        "e3e7632452394f20bbd31ab53cdd4f8e": {
          "model_module": "@jupyter-widgets/controls",
          "model_name": "DescriptionStyleModel",
          "model_module_version": "1.5.0",
          "state": {
            "_model_module": "@jupyter-widgets/controls",
            "_model_module_version": "1.5.0",
            "_model_name": "DescriptionStyleModel",
            "_view_count": null,
            "_view_module": "@jupyter-widgets/base",
            "_view_module_version": "1.2.0",
            "_view_name": "StyleView",
            "description_width": ""
          }
        },
        "268174675b8f403ca6b28be61d661b9f": {
          "model_module": "@jupyter-widgets/controls",
          "model_name": "HBoxModel",
          "model_module_version": "1.5.0",
          "state": {
            "_dom_classes": [],
            "_model_module": "@jupyter-widgets/controls",
            "_model_module_version": "1.5.0",
            "_model_name": "HBoxModel",
            "_view_count": null,
            "_view_module": "@jupyter-widgets/controls",
            "_view_module_version": "1.5.0",
            "_view_name": "HBoxView",
            "box_style": "",
            "children": [
              "IPY_MODEL_ba9e7e707d6340f0bba29fc4da27b1a7",
              "IPY_MODEL_3a41d5c02c774d43b3a8ec2815b049a1",
              "IPY_MODEL_e883c16864144027b9c77ea8ee2ea6d1"
            ],
            "layout": "IPY_MODEL_459b471b6b424bbd94d10ea29921a669"
          }
        },
        "ba9e7e707d6340f0bba29fc4da27b1a7": {
          "model_module": "@jupyter-widgets/controls",
          "model_name": "HTMLModel",
          "model_module_version": "1.5.0",
          "state": {
            "_dom_classes": [],
            "_model_module": "@jupyter-widgets/controls",
            "_model_module_version": "1.5.0",
            "_model_name": "HTMLModel",
            "_view_count": null,
            "_view_module": "@jupyter-widgets/controls",
            "_view_module_version": "1.5.0",
            "_view_name": "HTMLView",
            "description": "",
            "description_tooltip": null,
            "layout": "IPY_MODEL_1c722962eb1d4d17a129932defe73677",
            "placeholder": "​",
            "style": "IPY_MODEL_ff7e30c678e24b09a8bc26ee645caff0",
            "value": "Generating train split: "
          }
        },
        "3a41d5c02c774d43b3a8ec2815b049a1": {
          "model_module": "@jupyter-widgets/controls",
          "model_name": "FloatProgressModel",
          "model_module_version": "1.5.0",
          "state": {
            "_dom_classes": [],
            "_model_module": "@jupyter-widgets/controls",
            "_model_module_version": "1.5.0",
            "_model_name": "FloatProgressModel",
            "_view_count": null,
            "_view_module": "@jupyter-widgets/controls",
            "_view_module_version": "1.5.0",
            "_view_name": "ProgressView",
            "bar_style": "success",
            "description": "",
            "description_tooltip": null,
            "layout": "IPY_MODEL_9342270b964943ab8ba2575e284132e1",
            "max": 1,
            "min": 0,
            "orientation": "horizontal",
            "style": "IPY_MODEL_494dcfe647b348cd938e06719f9522ce",
            "value": 1
          }
        },
        "e883c16864144027b9c77ea8ee2ea6d1": {
          "model_module": "@jupyter-widgets/controls",
          "model_name": "HTMLModel",
          "model_module_version": "1.5.0",
          "state": {
            "_dom_classes": [],
            "_model_module": "@jupyter-widgets/controls",
            "_model_module_version": "1.5.0",
            "_model_name": "HTMLModel",
            "_view_count": null,
            "_view_module": "@jupyter-widgets/controls",
            "_view_module_version": "1.5.0",
            "_view_name": "HTMLView",
            "description": "",
            "description_tooltip": null,
            "layout": "IPY_MODEL_12aff3f2cbbe477a94acf530010dd232",
            "placeholder": "​",
            "style": "IPY_MODEL_41eebeed87bf4e84a3668f67b3451fb5",
            "value": " 5050/0 [00:00&lt;00:00, 7253.99 examples/s]"
          }
        },
        "459b471b6b424bbd94d10ea29921a669": {
          "model_module": "@jupyter-widgets/base",
          "model_name": "LayoutModel",
          "model_module_version": "1.2.0",
          "state": {
            "_model_module": "@jupyter-widgets/base",
            "_model_module_version": "1.2.0",
            "_model_name": "LayoutModel",
            "_view_count": null,
            "_view_module": "@jupyter-widgets/base",
            "_view_module_version": "1.2.0",
            "_view_name": "LayoutView",
            "align_content": null,
            "align_items": null,
            "align_self": null,
            "border": null,
            "bottom": null,
            "display": null,
            "flex": null,
            "flex_flow": null,
            "grid_area": null,
            "grid_auto_columns": null,
            "grid_auto_flow": null,
            "grid_auto_rows": null,
            "grid_column": null,
            "grid_gap": null,
            "grid_row": null,
            "grid_template_areas": null,
            "grid_template_columns": null,
            "grid_template_rows": null,
            "height": null,
            "justify_content": null,
            "justify_items": null,
            "left": null,
            "margin": null,
            "max_height": null,
            "max_width": null,
            "min_height": null,
            "min_width": null,
            "object_fit": null,
            "object_position": null,
            "order": null,
            "overflow": null,
            "overflow_x": null,
            "overflow_y": null,
            "padding": null,
            "right": null,
            "top": null,
            "visibility": null,
            "width": null
          }
        },
        "1c722962eb1d4d17a129932defe73677": {
          "model_module": "@jupyter-widgets/base",
          "model_name": "LayoutModel",
          "model_module_version": "1.2.0",
          "state": {
            "_model_module": "@jupyter-widgets/base",
            "_model_module_version": "1.2.0",
            "_model_name": "LayoutModel",
            "_view_count": null,
            "_view_module": "@jupyter-widgets/base",
            "_view_module_version": "1.2.0",
            "_view_name": "LayoutView",
            "align_content": null,
            "align_items": null,
            "align_self": null,
            "border": null,
            "bottom": null,
            "display": null,
            "flex": null,
            "flex_flow": null,
            "grid_area": null,
            "grid_auto_columns": null,
            "grid_auto_flow": null,
            "grid_auto_rows": null,
            "grid_column": null,
            "grid_gap": null,
            "grid_row": null,
            "grid_template_areas": null,
            "grid_template_columns": null,
            "grid_template_rows": null,
            "height": null,
            "justify_content": null,
            "justify_items": null,
            "left": null,
            "margin": null,
            "max_height": null,
            "max_width": null,
            "min_height": null,
            "min_width": null,
            "object_fit": null,
            "object_position": null,
            "order": null,
            "overflow": null,
            "overflow_x": null,
            "overflow_y": null,
            "padding": null,
            "right": null,
            "top": null,
            "visibility": null,
            "width": null
          }
        },
        "ff7e30c678e24b09a8bc26ee645caff0": {
          "model_module": "@jupyter-widgets/controls",
          "model_name": "DescriptionStyleModel",
          "model_module_version": "1.5.0",
          "state": {
            "_model_module": "@jupyter-widgets/controls",
            "_model_module_version": "1.5.0",
            "_model_name": "DescriptionStyleModel",
            "_view_count": null,
            "_view_module": "@jupyter-widgets/base",
            "_view_module_version": "1.2.0",
            "_view_name": "StyleView",
            "description_width": ""
          }
        },
        "9342270b964943ab8ba2575e284132e1": {
          "model_module": "@jupyter-widgets/base",
          "model_name": "LayoutModel",
          "model_module_version": "1.2.0",
          "state": {
            "_model_module": "@jupyter-widgets/base",
            "_model_module_version": "1.2.0",
            "_model_name": "LayoutModel",
            "_view_count": null,
            "_view_module": "@jupyter-widgets/base",
            "_view_module_version": "1.2.0",
            "_view_name": "LayoutView",
            "align_content": null,
            "align_items": null,
            "align_self": null,
            "border": null,
            "bottom": null,
            "display": null,
            "flex": null,
            "flex_flow": null,
            "grid_area": null,
            "grid_auto_columns": null,
            "grid_auto_flow": null,
            "grid_auto_rows": null,
            "grid_column": null,
            "grid_gap": null,
            "grid_row": null,
            "grid_template_areas": null,
            "grid_template_columns": null,
            "grid_template_rows": null,
            "height": null,
            "justify_content": null,
            "justify_items": null,
            "left": null,
            "margin": null,
            "max_height": null,
            "max_width": null,
            "min_height": null,
            "min_width": null,
            "object_fit": null,
            "object_position": null,
            "order": null,
            "overflow": null,
            "overflow_x": null,
            "overflow_y": null,
            "padding": null,
            "right": null,
            "top": null,
            "visibility": null,
            "width": "20px"
          }
        },
        "494dcfe647b348cd938e06719f9522ce": {
          "model_module": "@jupyter-widgets/controls",
          "model_name": "ProgressStyleModel",
          "model_module_version": "1.5.0",
          "state": {
            "_model_module": "@jupyter-widgets/controls",
            "_model_module_version": "1.5.0",
            "_model_name": "ProgressStyleModel",
            "_view_count": null,
            "_view_module": "@jupyter-widgets/base",
            "_view_module_version": "1.2.0",
            "_view_name": "StyleView",
            "bar_color": null,
            "description_width": ""
          }
        },
        "12aff3f2cbbe477a94acf530010dd232": {
          "model_module": "@jupyter-widgets/base",
          "model_name": "LayoutModel",
          "model_module_version": "1.2.0",
          "state": {
            "_model_module": "@jupyter-widgets/base",
            "_model_module_version": "1.2.0",
            "_model_name": "LayoutModel",
            "_view_count": null,
            "_view_module": "@jupyter-widgets/base",
            "_view_module_version": "1.2.0",
            "_view_name": "LayoutView",
            "align_content": null,
            "align_items": null,
            "align_self": null,
            "border": null,
            "bottom": null,
            "display": null,
            "flex": null,
            "flex_flow": null,
            "grid_area": null,
            "grid_auto_columns": null,
            "grid_auto_flow": null,
            "grid_auto_rows": null,
            "grid_column": null,
            "grid_gap": null,
            "grid_row": null,
            "grid_template_areas": null,
            "grid_template_columns": null,
            "grid_template_rows": null,
            "height": null,
            "justify_content": null,
            "justify_items": null,
            "left": null,
            "margin": null,
            "max_height": null,
            "max_width": null,
            "min_height": null,
            "min_width": null,
            "object_fit": null,
            "object_position": null,
            "order": null,
            "overflow": null,
            "overflow_x": null,
            "overflow_y": null,
            "padding": null,
            "right": null,
            "top": null,
            "visibility": null,
            "width": null
          }
        },
        "41eebeed87bf4e84a3668f67b3451fb5": {
          "model_module": "@jupyter-widgets/controls",
          "model_name": "DescriptionStyleModel",
          "model_module_version": "1.5.0",
          "state": {
            "_model_module": "@jupyter-widgets/controls",
            "_model_module_version": "1.5.0",
            "_model_name": "DescriptionStyleModel",
            "_view_count": null,
            "_view_module": "@jupyter-widgets/base",
            "_view_module_version": "1.2.0",
            "_view_name": "StyleView",
            "description_width": ""
          }
        },
        "60d725e9e2c9474298e921caf3e847c8": {
          "model_module": "@jupyter-widgets/controls",
          "model_name": "HBoxModel",
          "model_module_version": "1.5.0",
          "state": {
            "_dom_classes": [],
            "_model_module": "@jupyter-widgets/controls",
            "_model_module_version": "1.5.0",
            "_model_name": "HBoxModel",
            "_view_count": null,
            "_view_module": "@jupyter-widgets/controls",
            "_view_module_version": "1.5.0",
            "_view_name": "HBoxView",
            "box_style": "",
            "children": [
              "IPY_MODEL_6856784f94384ca7b150c3d4640836ee",
              "IPY_MODEL_b2910b1639ce4769bc100841820d6f6e",
              "IPY_MODEL_d94e0f92da3a489eaaf8e0af81df7a96"
            ],
            "layout": "IPY_MODEL_706d4877aa7241e3a3a5b23f905d7faa"
          }
        },
        "6856784f94384ca7b150c3d4640836ee": {
          "model_module": "@jupyter-widgets/controls",
          "model_name": "HTMLModel",
          "model_module_version": "1.5.0",
          "state": {
            "_dom_classes": [],
            "_model_module": "@jupyter-widgets/controls",
            "_model_module_version": "1.5.0",
            "_model_name": "HTMLModel",
            "_view_count": null,
            "_view_module": "@jupyter-widgets/controls",
            "_view_module_version": "1.5.0",
            "_view_name": "HTMLView",
            "description": "",
            "description_tooltip": null,
            "layout": "IPY_MODEL_e9f1ffe456124fd49e962cf51a1a8a09",
            "placeholder": "​",
            "style": "IPY_MODEL_6f4dcff4d74c47c79caea0bd7c8f7fa0",
            "value": "Generating val split: "
          }
        },
        "b2910b1639ce4769bc100841820d6f6e": {
          "model_module": "@jupyter-widgets/controls",
          "model_name": "FloatProgressModel",
          "model_module_version": "1.5.0",
          "state": {
            "_dom_classes": [],
            "_model_module": "@jupyter-widgets/controls",
            "_model_module_version": "1.5.0",
            "_model_name": "FloatProgressModel",
            "_view_count": null,
            "_view_module": "@jupyter-widgets/controls",
            "_view_module_version": "1.5.0",
            "_view_name": "ProgressView",
            "bar_style": "success",
            "description": "",
            "description_tooltip": null,
            "layout": "IPY_MODEL_d120d1d3130c4bcc89eef3be4b047c80",
            "max": 1,
            "min": 0,
            "orientation": "horizontal",
            "style": "IPY_MODEL_e751bef246a1405fabaf64e7ff713c00",
            "value": 1
          }
        },
        "d94e0f92da3a489eaaf8e0af81df7a96": {
          "model_module": "@jupyter-widgets/controls",
          "model_name": "HTMLModel",
          "model_module_version": "1.5.0",
          "state": {
            "_dom_classes": [],
            "_model_module": "@jupyter-widgets/controls",
            "_model_module_version": "1.5.0",
            "_model_name": "HTMLModel",
            "_view_count": null,
            "_view_module": "@jupyter-widgets/controls",
            "_view_module_version": "1.5.0",
            "_view_name": "HTMLView",
            "description": "",
            "description_tooltip": null,
            "layout": "IPY_MODEL_8f9998b7840b41588581b9e75642b24e",
            "placeholder": "​",
            "style": "IPY_MODEL_2ae4ccb9eea64757907837f7b3bf3d67",
            "value": " 2668/0 [00:00&lt;00:00, 2782.32 examples/s]"
          }
        },
        "706d4877aa7241e3a3a5b23f905d7faa": {
          "model_module": "@jupyter-widgets/base",
          "model_name": "LayoutModel",
          "model_module_version": "1.2.0",
          "state": {
            "_model_module": "@jupyter-widgets/base",
            "_model_module_version": "1.2.0",
            "_model_name": "LayoutModel",
            "_view_count": null,
            "_view_module": "@jupyter-widgets/base",
            "_view_module_version": "1.2.0",
            "_view_name": "LayoutView",
            "align_content": null,
            "align_items": null,
            "align_self": null,
            "border": null,
            "bottom": null,
            "display": null,
            "flex": null,
            "flex_flow": null,
            "grid_area": null,
            "grid_auto_columns": null,
            "grid_auto_flow": null,
            "grid_auto_rows": null,
            "grid_column": null,
            "grid_gap": null,
            "grid_row": null,
            "grid_template_areas": null,
            "grid_template_columns": null,
            "grid_template_rows": null,
            "height": null,
            "justify_content": null,
            "justify_items": null,
            "left": null,
            "margin": null,
            "max_height": null,
            "max_width": null,
            "min_height": null,
            "min_width": null,
            "object_fit": null,
            "object_position": null,
            "order": null,
            "overflow": null,
            "overflow_x": null,
            "overflow_y": null,
            "padding": null,
            "right": null,
            "top": null,
            "visibility": null,
            "width": null
          }
        },
        "e9f1ffe456124fd49e962cf51a1a8a09": {
          "model_module": "@jupyter-widgets/base",
          "model_name": "LayoutModel",
          "model_module_version": "1.2.0",
          "state": {
            "_model_module": "@jupyter-widgets/base",
            "_model_module_version": "1.2.0",
            "_model_name": "LayoutModel",
            "_view_count": null,
            "_view_module": "@jupyter-widgets/base",
            "_view_module_version": "1.2.0",
            "_view_name": "LayoutView",
            "align_content": null,
            "align_items": null,
            "align_self": null,
            "border": null,
            "bottom": null,
            "display": null,
            "flex": null,
            "flex_flow": null,
            "grid_area": null,
            "grid_auto_columns": null,
            "grid_auto_flow": null,
            "grid_auto_rows": null,
            "grid_column": null,
            "grid_gap": null,
            "grid_row": null,
            "grid_template_areas": null,
            "grid_template_columns": null,
            "grid_template_rows": null,
            "height": null,
            "justify_content": null,
            "justify_items": null,
            "left": null,
            "margin": null,
            "max_height": null,
            "max_width": null,
            "min_height": null,
            "min_width": null,
            "object_fit": null,
            "object_position": null,
            "order": null,
            "overflow": null,
            "overflow_x": null,
            "overflow_y": null,
            "padding": null,
            "right": null,
            "top": null,
            "visibility": null,
            "width": null
          }
        },
        "6f4dcff4d74c47c79caea0bd7c8f7fa0": {
          "model_module": "@jupyter-widgets/controls",
          "model_name": "DescriptionStyleModel",
          "model_module_version": "1.5.0",
          "state": {
            "_model_module": "@jupyter-widgets/controls",
            "_model_module_version": "1.5.0",
            "_model_name": "DescriptionStyleModel",
            "_view_count": null,
            "_view_module": "@jupyter-widgets/base",
            "_view_module_version": "1.2.0",
            "_view_name": "StyleView",
            "description_width": ""
          }
        },
        "d120d1d3130c4bcc89eef3be4b047c80": {
          "model_module": "@jupyter-widgets/base",
          "model_name": "LayoutModel",
          "model_module_version": "1.2.0",
          "state": {
            "_model_module": "@jupyter-widgets/base",
            "_model_module_version": "1.2.0",
            "_model_name": "LayoutModel",
            "_view_count": null,
            "_view_module": "@jupyter-widgets/base",
            "_view_module_version": "1.2.0",
            "_view_name": "LayoutView",
            "align_content": null,
            "align_items": null,
            "align_self": null,
            "border": null,
            "bottom": null,
            "display": null,
            "flex": null,
            "flex_flow": null,
            "grid_area": null,
            "grid_auto_columns": null,
            "grid_auto_flow": null,
            "grid_auto_rows": null,
            "grid_column": null,
            "grid_gap": null,
            "grid_row": null,
            "grid_template_areas": null,
            "grid_template_columns": null,
            "grid_template_rows": null,
            "height": null,
            "justify_content": null,
            "justify_items": null,
            "left": null,
            "margin": null,
            "max_height": null,
            "max_width": null,
            "min_height": null,
            "min_width": null,
            "object_fit": null,
            "object_position": null,
            "order": null,
            "overflow": null,
            "overflow_x": null,
            "overflow_y": null,
            "padding": null,
            "right": null,
            "top": null,
            "visibility": null,
            "width": "20px"
          }
        },
        "e751bef246a1405fabaf64e7ff713c00": {
          "model_module": "@jupyter-widgets/controls",
          "model_name": "ProgressStyleModel",
          "model_module_version": "1.5.0",
          "state": {
            "_model_module": "@jupyter-widgets/controls",
            "_model_module_version": "1.5.0",
            "_model_name": "ProgressStyleModel",
            "_view_count": null,
            "_view_module": "@jupyter-widgets/base",
            "_view_module_version": "1.2.0",
            "_view_name": "StyleView",
            "bar_color": null,
            "description_width": ""
          }
        },
        "8f9998b7840b41588581b9e75642b24e": {
          "model_module": "@jupyter-widgets/base",
          "model_name": "LayoutModel",
          "model_module_version": "1.2.0",
          "state": {
            "_model_module": "@jupyter-widgets/base",
            "_model_module_version": "1.2.0",
            "_model_name": "LayoutModel",
            "_view_count": null,
            "_view_module": "@jupyter-widgets/base",
            "_view_module_version": "1.2.0",
            "_view_name": "LayoutView",
            "align_content": null,
            "align_items": null,
            "align_self": null,
            "border": null,
            "bottom": null,
            "display": null,
            "flex": null,
            "flex_flow": null,
            "grid_area": null,
            "grid_auto_columns": null,
            "grid_auto_flow": null,
            "grid_auto_rows": null,
            "grid_column": null,
            "grid_gap": null,
            "grid_row": null,
            "grid_template_areas": null,
            "grid_template_columns": null,
            "grid_template_rows": null,
            "height": null,
            "justify_content": null,
            "justify_items": null,
            "left": null,
            "margin": null,
            "max_height": null,
            "max_width": null,
            "min_height": null,
            "min_width": null,
            "object_fit": null,
            "object_position": null,
            "order": null,
            "overflow": null,
            "overflow_x": null,
            "overflow_y": null,
            "padding": null,
            "right": null,
            "top": null,
            "visibility": null,
            "width": null
          }
        },
        "2ae4ccb9eea64757907837f7b3bf3d67": {
          "model_module": "@jupyter-widgets/controls",
          "model_name": "DescriptionStyleModel",
          "model_module_version": "1.5.0",
          "state": {
            "_model_module": "@jupyter-widgets/controls",
            "_model_module_version": "1.5.0",
            "_model_name": "DescriptionStyleModel",
            "_view_count": null,
            "_view_module": "@jupyter-widgets/base",
            "_view_module_version": "1.2.0",
            "_view_name": "StyleView",
            "description_width": ""
          }
        },
        "fba933ade8814f9ea405c1e385699cfc": {
          "model_module": "@jupyter-widgets/controls",
          "model_name": "HBoxModel",
          "model_module_version": "1.5.0",
          "state": {
            "_dom_classes": [],
            "_model_module": "@jupyter-widgets/controls",
            "_model_module_version": "1.5.0",
            "_model_name": "HBoxModel",
            "_view_count": null,
            "_view_module": "@jupyter-widgets/controls",
            "_view_module_version": "1.5.0",
            "_view_name": "HBoxView",
            "box_style": "",
            "children": [
              "IPY_MODEL_b1e06233eddb405f9f2870f79aefbeb7",
              "IPY_MODEL_ca389565776944ad959248393b77be30",
              "IPY_MODEL_7524e75b84014463bc93963935b5ca8f"
            ],
            "layout": "IPY_MODEL_800596cf4da24095bad3b92e3b7ced4d"
          }
        },
        "b1e06233eddb405f9f2870f79aefbeb7": {
          "model_module": "@jupyter-widgets/controls",
          "model_name": "HTMLModel",
          "model_module_version": "1.5.0",
          "state": {
            "_dom_classes": [],
            "_model_module": "@jupyter-widgets/controls",
            "_model_module_version": "1.5.0",
            "_model_name": "HTMLModel",
            "_view_count": null,
            "_view_module": "@jupyter-widgets/controls",
            "_view_module_version": "1.5.0",
            "_view_name": "HTMLView",
            "description": "",
            "description_tooltip": null,
            "layout": "IPY_MODEL_aa216430532748e495e9004a17d84ebf",
            "placeholder": "​",
            "style": "IPY_MODEL_d59d926a238a47e38caecd9122df5869",
            "value": "Map: 100%"
          }
        },
        "ca389565776944ad959248393b77be30": {
          "model_module": "@jupyter-widgets/controls",
          "model_name": "FloatProgressModel",
          "model_module_version": "1.5.0",
          "state": {
            "_dom_classes": [],
            "_model_module": "@jupyter-widgets/controls",
            "_model_module_version": "1.5.0",
            "_model_name": "FloatProgressModel",
            "_view_count": null,
            "_view_module": "@jupyter-widgets/controls",
            "_view_module_version": "1.5.0",
            "_view_name": "ProgressView",
            "bar_style": "success",
            "description": "",
            "description_tooltip": null,
            "layout": "IPY_MODEL_99e27376b2e94150a02edf7766d9d2dd",
            "max": 700,
            "min": 0,
            "orientation": "horizontal",
            "style": "IPY_MODEL_5d7d7865602345438cfa92920189f23f",
            "value": 700
          }
        },
        "7524e75b84014463bc93963935b5ca8f": {
          "model_module": "@jupyter-widgets/controls",
          "model_name": "HTMLModel",
          "model_module_version": "1.5.0",
          "state": {
            "_dom_classes": [],
            "_model_module": "@jupyter-widgets/controls",
            "_model_module_version": "1.5.0",
            "_model_name": "HTMLModel",
            "_view_count": null,
            "_view_module": "@jupyter-widgets/controls",
            "_view_module_version": "1.5.0",
            "_view_name": "HTMLView",
            "description": "",
            "description_tooltip": null,
            "layout": "IPY_MODEL_c604a6d4cc35411796f706059f00755e",
            "placeholder": "​",
            "style": "IPY_MODEL_ff8e32b0dce74aaab818c844b0269cb9",
            "value": " 700/700 [00:00&lt;00:00, 2724.38 examples/s]"
          }
        },
        "800596cf4da24095bad3b92e3b7ced4d": {
          "model_module": "@jupyter-widgets/base",
          "model_name": "LayoutModel",
          "model_module_version": "1.2.0",
          "state": {
            "_model_module": "@jupyter-widgets/base",
            "_model_module_version": "1.2.0",
            "_model_name": "LayoutModel",
            "_view_count": null,
            "_view_module": "@jupyter-widgets/base",
            "_view_module_version": "1.2.0",
            "_view_name": "LayoutView",
            "align_content": null,
            "align_items": null,
            "align_self": null,
            "border": null,
            "bottom": null,
            "display": null,
            "flex": null,
            "flex_flow": null,
            "grid_area": null,
            "grid_auto_columns": null,
            "grid_auto_flow": null,
            "grid_auto_rows": null,
            "grid_column": null,
            "grid_gap": null,
            "grid_row": null,
            "grid_template_areas": null,
            "grid_template_columns": null,
            "grid_template_rows": null,
            "height": null,
            "justify_content": null,
            "justify_items": null,
            "left": null,
            "margin": null,
            "max_height": null,
            "max_width": null,
            "min_height": null,
            "min_width": null,
            "object_fit": null,
            "object_position": null,
            "order": null,
            "overflow": null,
            "overflow_x": null,
            "overflow_y": null,
            "padding": null,
            "right": null,
            "top": null,
            "visibility": null,
            "width": null
          }
        },
        "aa216430532748e495e9004a17d84ebf": {
          "model_module": "@jupyter-widgets/base",
          "model_name": "LayoutModel",
          "model_module_version": "1.2.0",
          "state": {
            "_model_module": "@jupyter-widgets/base",
            "_model_module_version": "1.2.0",
            "_model_name": "LayoutModel",
            "_view_count": null,
            "_view_module": "@jupyter-widgets/base",
            "_view_module_version": "1.2.0",
            "_view_name": "LayoutView",
            "align_content": null,
            "align_items": null,
            "align_self": null,
            "border": null,
            "bottom": null,
            "display": null,
            "flex": null,
            "flex_flow": null,
            "grid_area": null,
            "grid_auto_columns": null,
            "grid_auto_flow": null,
            "grid_auto_rows": null,
            "grid_column": null,
            "grid_gap": null,
            "grid_row": null,
            "grid_template_areas": null,
            "grid_template_columns": null,
            "grid_template_rows": null,
            "height": null,
            "justify_content": null,
            "justify_items": null,
            "left": null,
            "margin": null,
            "max_height": null,
            "max_width": null,
            "min_height": null,
            "min_width": null,
            "object_fit": null,
            "object_position": null,
            "order": null,
            "overflow": null,
            "overflow_x": null,
            "overflow_y": null,
            "padding": null,
            "right": null,
            "top": null,
            "visibility": null,
            "width": null
          }
        },
        "d59d926a238a47e38caecd9122df5869": {
          "model_module": "@jupyter-widgets/controls",
          "model_name": "DescriptionStyleModel",
          "model_module_version": "1.5.0",
          "state": {
            "_model_module": "@jupyter-widgets/controls",
            "_model_module_version": "1.5.0",
            "_model_name": "DescriptionStyleModel",
            "_view_count": null,
            "_view_module": "@jupyter-widgets/base",
            "_view_module_version": "1.2.0",
            "_view_name": "StyleView",
            "description_width": ""
          }
        },
        "99e27376b2e94150a02edf7766d9d2dd": {
          "model_module": "@jupyter-widgets/base",
          "model_name": "LayoutModel",
          "model_module_version": "1.2.0",
          "state": {
            "_model_module": "@jupyter-widgets/base",
            "_model_module_version": "1.2.0",
            "_model_name": "LayoutModel",
            "_view_count": null,
            "_view_module": "@jupyter-widgets/base",
            "_view_module_version": "1.2.0",
            "_view_name": "LayoutView",
            "align_content": null,
            "align_items": null,
            "align_self": null,
            "border": null,
            "bottom": null,
            "display": null,
            "flex": null,
            "flex_flow": null,
            "grid_area": null,
            "grid_auto_columns": null,
            "grid_auto_flow": null,
            "grid_auto_rows": null,
            "grid_column": null,
            "grid_gap": null,
            "grid_row": null,
            "grid_template_areas": null,
            "grid_template_columns": null,
            "grid_template_rows": null,
            "height": null,
            "justify_content": null,
            "justify_items": null,
            "left": null,
            "margin": null,
            "max_height": null,
            "max_width": null,
            "min_height": null,
            "min_width": null,
            "object_fit": null,
            "object_position": null,
            "order": null,
            "overflow": null,
            "overflow_x": null,
            "overflow_y": null,
            "padding": null,
            "right": null,
            "top": null,
            "visibility": null,
            "width": null
          }
        },
        "5d7d7865602345438cfa92920189f23f": {
          "model_module": "@jupyter-widgets/controls",
          "model_name": "ProgressStyleModel",
          "model_module_version": "1.5.0",
          "state": {
            "_model_module": "@jupyter-widgets/controls",
            "_model_module_version": "1.5.0",
            "_model_name": "ProgressStyleModel",
            "_view_count": null,
            "_view_module": "@jupyter-widgets/base",
            "_view_module_version": "1.2.0",
            "_view_name": "StyleView",
            "bar_color": null,
            "description_width": ""
          }
        },
        "c604a6d4cc35411796f706059f00755e": {
          "model_module": "@jupyter-widgets/base",
          "model_name": "LayoutModel",
          "model_module_version": "1.2.0",
          "state": {
            "_model_module": "@jupyter-widgets/base",
            "_model_module_version": "1.2.0",
            "_model_name": "LayoutModel",
            "_view_count": null,
            "_view_module": "@jupyter-widgets/base",
            "_view_module_version": "1.2.0",
            "_view_name": "LayoutView",
            "align_content": null,
            "align_items": null,
            "align_self": null,
            "border": null,
            "bottom": null,
            "display": null,
            "flex": null,
            "flex_flow": null,
            "grid_area": null,
            "grid_auto_columns": null,
            "grid_auto_flow": null,
            "grid_auto_rows": null,
            "grid_column": null,
            "grid_gap": null,
            "grid_row": null,
            "grid_template_areas": null,
            "grid_template_columns": null,
            "grid_template_rows": null,
            "height": null,
            "justify_content": null,
            "justify_items": null,
            "left": null,
            "margin": null,
            "max_height": null,
            "max_width": null,
            "min_height": null,
            "min_width": null,
            "object_fit": null,
            "object_position": null,
            "order": null,
            "overflow": null,
            "overflow_x": null,
            "overflow_y": null,
            "padding": null,
            "right": null,
            "top": null,
            "visibility": null,
            "width": null
          }
        },
        "ff8e32b0dce74aaab818c844b0269cb9": {
          "model_module": "@jupyter-widgets/controls",
          "model_name": "DescriptionStyleModel",
          "model_module_version": "1.5.0",
          "state": {
            "_model_module": "@jupyter-widgets/controls",
            "_model_module_version": "1.5.0",
            "_model_name": "DescriptionStyleModel",
            "_view_count": null,
            "_view_module": "@jupyter-widgets/base",
            "_view_module_version": "1.2.0",
            "_view_name": "StyleView",
            "description_width": ""
          }
        },
        "849265f1978742429e4fd4f10d3e558b": {
          "model_module": "@jupyter-widgets/controls",
          "model_name": "HBoxModel",
          "model_module_version": "1.5.0",
          "state": {
            "_dom_classes": [],
            "_model_module": "@jupyter-widgets/controls",
            "_model_module_version": "1.5.0",
            "_model_name": "HBoxModel",
            "_view_count": null,
            "_view_module": "@jupyter-widgets/controls",
            "_view_module_version": "1.5.0",
            "_view_name": "HBoxView",
            "box_style": "",
            "children": [
              "IPY_MODEL_d16e904baa1b4343b40742ea0bae8eab",
              "IPY_MODEL_5a79c5ce83f842b48e32c7be24bd3287",
              "IPY_MODEL_d5bf84169bef4e52928ea7eca3b565e0"
            ],
            "layout": "IPY_MODEL_000d2b80b0b748afb3f9cfa0272395ca"
          }
        },
        "d16e904baa1b4343b40742ea0bae8eab": {
          "model_module": "@jupyter-widgets/controls",
          "model_name": "HTMLModel",
          "model_module_version": "1.5.0",
          "state": {
            "_dom_classes": [],
            "_model_module": "@jupyter-widgets/controls",
            "_model_module_version": "1.5.0",
            "_model_name": "HTMLModel",
            "_view_count": null,
            "_view_module": "@jupyter-widgets/controls",
            "_view_module_version": "1.5.0",
            "_view_name": "HTMLView",
            "description": "",
            "description_tooltip": null,
            "layout": "IPY_MODEL_8acfea61d9044810b8778f2c63e4a497",
            "placeholder": "​",
            "style": "IPY_MODEL_5d19bdf7e2004f3090d0ce2bf804cd7e",
            "value": "Map: 100%"
          }
        },
        "5a79c5ce83f842b48e32c7be24bd3287": {
          "model_module": "@jupyter-widgets/controls",
          "model_name": "FloatProgressModel",
          "model_module_version": "1.5.0",
          "state": {
            "_dom_classes": [],
            "_model_module": "@jupyter-widgets/controls",
            "_model_module_version": "1.5.0",
            "_model_name": "FloatProgressModel",
            "_view_count": null,
            "_view_module": "@jupyter-widgets/controls",
            "_view_module_version": "1.5.0",
            "_view_name": "ProgressView",
            "bar_style": "success",
            "description": "",
            "description_tooltip": null,
            "layout": "IPY_MODEL_1bd936b67d2a41baadaf26c5a2b088fb",
            "max": 150,
            "min": 0,
            "orientation": "horizontal",
            "style": "IPY_MODEL_38938db38ef24ce9b055c2f69d65fb14",
            "value": 150
          }
        },
        "d5bf84169bef4e52928ea7eca3b565e0": {
          "model_module": "@jupyter-widgets/controls",
          "model_name": "HTMLModel",
          "model_module_version": "1.5.0",
          "state": {
            "_dom_classes": [],
            "_model_module": "@jupyter-widgets/controls",
            "_model_module_version": "1.5.0",
            "_model_name": "HTMLModel",
            "_view_count": null,
            "_view_module": "@jupyter-widgets/controls",
            "_view_module_version": "1.5.0",
            "_view_name": "HTMLView",
            "description": "",
            "description_tooltip": null,
            "layout": "IPY_MODEL_ad32427ad34f448f96e5cb35006423c8",
            "placeholder": "​",
            "style": "IPY_MODEL_ffa2604aa3d14df68ae234579a24ae9f",
            "value": " 150/150 [00:00&lt;00:00, 2288.32 examples/s]"
          }
        },
        "000d2b80b0b748afb3f9cfa0272395ca": {
          "model_module": "@jupyter-widgets/base",
          "model_name": "LayoutModel",
          "model_module_version": "1.2.0",
          "state": {
            "_model_module": "@jupyter-widgets/base",
            "_model_module_version": "1.2.0",
            "_model_name": "LayoutModel",
            "_view_count": null,
            "_view_module": "@jupyter-widgets/base",
            "_view_module_version": "1.2.0",
            "_view_name": "LayoutView",
            "align_content": null,
            "align_items": null,
            "align_self": null,
            "border": null,
            "bottom": null,
            "display": null,
            "flex": null,
            "flex_flow": null,
            "grid_area": null,
            "grid_auto_columns": null,
            "grid_auto_flow": null,
            "grid_auto_rows": null,
            "grid_column": null,
            "grid_gap": null,
            "grid_row": null,
            "grid_template_areas": null,
            "grid_template_columns": null,
            "grid_template_rows": null,
            "height": null,
            "justify_content": null,
            "justify_items": null,
            "left": null,
            "margin": null,
            "max_height": null,
            "max_width": null,
            "min_height": null,
            "min_width": null,
            "object_fit": null,
            "object_position": null,
            "order": null,
            "overflow": null,
            "overflow_x": null,
            "overflow_y": null,
            "padding": null,
            "right": null,
            "top": null,
            "visibility": null,
            "width": null
          }
        },
        "8acfea61d9044810b8778f2c63e4a497": {
          "model_module": "@jupyter-widgets/base",
          "model_name": "LayoutModel",
          "model_module_version": "1.2.0",
          "state": {
            "_model_module": "@jupyter-widgets/base",
            "_model_module_version": "1.2.0",
            "_model_name": "LayoutModel",
            "_view_count": null,
            "_view_module": "@jupyter-widgets/base",
            "_view_module_version": "1.2.0",
            "_view_name": "LayoutView",
            "align_content": null,
            "align_items": null,
            "align_self": null,
            "border": null,
            "bottom": null,
            "display": null,
            "flex": null,
            "flex_flow": null,
            "grid_area": null,
            "grid_auto_columns": null,
            "grid_auto_flow": null,
            "grid_auto_rows": null,
            "grid_column": null,
            "grid_gap": null,
            "grid_row": null,
            "grid_template_areas": null,
            "grid_template_columns": null,
            "grid_template_rows": null,
            "height": null,
            "justify_content": null,
            "justify_items": null,
            "left": null,
            "margin": null,
            "max_height": null,
            "max_width": null,
            "min_height": null,
            "min_width": null,
            "object_fit": null,
            "object_position": null,
            "order": null,
            "overflow": null,
            "overflow_x": null,
            "overflow_y": null,
            "padding": null,
            "right": null,
            "top": null,
            "visibility": null,
            "width": null
          }
        },
        "5d19bdf7e2004f3090d0ce2bf804cd7e": {
          "model_module": "@jupyter-widgets/controls",
          "model_name": "DescriptionStyleModel",
          "model_module_version": "1.5.0",
          "state": {
            "_model_module": "@jupyter-widgets/controls",
            "_model_module_version": "1.5.0",
            "_model_name": "DescriptionStyleModel",
            "_view_count": null,
            "_view_module": "@jupyter-widgets/base",
            "_view_module_version": "1.2.0",
            "_view_name": "StyleView",
            "description_width": ""
          }
        },
        "1bd936b67d2a41baadaf26c5a2b088fb": {
          "model_module": "@jupyter-widgets/base",
          "model_name": "LayoutModel",
          "model_module_version": "1.2.0",
          "state": {
            "_model_module": "@jupyter-widgets/base",
            "_model_module_version": "1.2.0",
            "_model_name": "LayoutModel",
            "_view_count": null,
            "_view_module": "@jupyter-widgets/base",
            "_view_module_version": "1.2.0",
            "_view_name": "LayoutView",
            "align_content": null,
            "align_items": null,
            "align_self": null,
            "border": null,
            "bottom": null,
            "display": null,
            "flex": null,
            "flex_flow": null,
            "grid_area": null,
            "grid_auto_columns": null,
            "grid_auto_flow": null,
            "grid_auto_rows": null,
            "grid_column": null,
            "grid_gap": null,
            "grid_row": null,
            "grid_template_areas": null,
            "grid_template_columns": null,
            "grid_template_rows": null,
            "height": null,
            "justify_content": null,
            "justify_items": null,
            "left": null,
            "margin": null,
            "max_height": null,
            "max_width": null,
            "min_height": null,
            "min_width": null,
            "object_fit": null,
            "object_position": null,
            "order": null,
            "overflow": null,
            "overflow_x": null,
            "overflow_y": null,
            "padding": null,
            "right": null,
            "top": null,
            "visibility": null,
            "width": null
          }
        },
        "38938db38ef24ce9b055c2f69d65fb14": {
          "model_module": "@jupyter-widgets/controls",
          "model_name": "ProgressStyleModel",
          "model_module_version": "1.5.0",
          "state": {
            "_model_module": "@jupyter-widgets/controls",
            "_model_module_version": "1.5.0",
            "_model_name": "ProgressStyleModel",
            "_view_count": null,
            "_view_module": "@jupyter-widgets/base",
            "_view_module_version": "1.2.0",
            "_view_name": "StyleView",
            "bar_color": null,
            "description_width": ""
          }
        },
        "ad32427ad34f448f96e5cb35006423c8": {
          "model_module": "@jupyter-widgets/base",
          "model_name": "LayoutModel",
          "model_module_version": "1.2.0",
          "state": {
            "_model_module": "@jupyter-widgets/base",
            "_model_module_version": "1.2.0",
            "_model_name": "LayoutModel",
            "_view_count": null,
            "_view_module": "@jupyter-widgets/base",
            "_view_module_version": "1.2.0",
            "_view_name": "LayoutView",
            "align_content": null,
            "align_items": null,
            "align_self": null,
            "border": null,
            "bottom": null,
            "display": null,
            "flex": null,
            "flex_flow": null,
            "grid_area": null,
            "grid_auto_columns": null,
            "grid_auto_flow": null,
            "grid_auto_rows": null,
            "grid_column": null,
            "grid_gap": null,
            "grid_row": null,
            "grid_template_areas": null,
            "grid_template_columns": null,
            "grid_template_rows": null,
            "height": null,
            "justify_content": null,
            "justify_items": null,
            "left": null,
            "margin": null,
            "max_height": null,
            "max_width": null,
            "min_height": null,
            "min_width": null,
            "object_fit": null,
            "object_position": null,
            "order": null,
            "overflow": null,
            "overflow_x": null,
            "overflow_y": null,
            "padding": null,
            "right": null,
            "top": null,
            "visibility": null,
            "width": null
          }
        },
        "ffa2604aa3d14df68ae234579a24ae9f": {
          "model_module": "@jupyter-widgets/controls",
          "model_name": "DescriptionStyleModel",
          "model_module_version": "1.5.0",
          "state": {
            "_model_module": "@jupyter-widgets/controls",
            "_model_module_version": "1.5.0",
            "_model_name": "DescriptionStyleModel",
            "_view_count": null,
            "_view_module": "@jupyter-widgets/base",
            "_view_module_version": "1.2.0",
            "_view_name": "StyleView",
            "description_width": ""
          }
        },
        "cc727db3660f43b6a9c2afebbcf40457": {
          "model_module": "@jupyter-widgets/controls",
          "model_name": "HBoxModel",
          "model_module_version": "1.5.0",
          "state": {
            "_dom_classes": [],
            "_model_module": "@jupyter-widgets/controls",
            "_model_module_version": "1.5.0",
            "_model_name": "HBoxModel",
            "_view_count": null,
            "_view_module": "@jupyter-widgets/controls",
            "_view_module_version": "1.5.0",
            "_view_name": "HBoxView",
            "box_style": "",
            "children": [
              "IPY_MODEL_52cc70d3abf543369b5a27e7ff010aa8",
              "IPY_MODEL_49f515edc6784c7da23e858c2c24ba74",
              "IPY_MODEL_da383e9a91d4458fa8cf0f23b3dafa03"
            ],
            "layout": "IPY_MODEL_aaff0c52c8d64cc7b6f521716a7534d8"
          }
        },
        "52cc70d3abf543369b5a27e7ff010aa8": {
          "model_module": "@jupyter-widgets/controls",
          "model_name": "HTMLModel",
          "model_module_version": "1.5.0",
          "state": {
            "_dom_classes": [],
            "_model_module": "@jupyter-widgets/controls",
            "_model_module_version": "1.5.0",
            "_model_name": "HTMLModel",
            "_view_count": null,
            "_view_module": "@jupyter-widgets/controls",
            "_view_module_version": "1.5.0",
            "_view_name": "HTMLView",
            "description": "",
            "description_tooltip": null,
            "layout": "IPY_MODEL_669a7eec9c24410f94d1d1e1561ba264",
            "placeholder": "​",
            "style": "IPY_MODEL_242ba3d2d7974cd5a184ce7b27c9c372",
            "value": "Map: 100%"
          }
        },
        "49f515edc6784c7da23e858c2c24ba74": {
          "model_module": "@jupyter-widgets/controls",
          "model_name": "FloatProgressModel",
          "model_module_version": "1.5.0",
          "state": {
            "_dom_classes": [],
            "_model_module": "@jupyter-widgets/controls",
            "_model_module_version": "1.5.0",
            "_model_name": "FloatProgressModel",
            "_view_count": null,
            "_view_module": "@jupyter-widgets/controls",
            "_view_module_version": "1.5.0",
            "_view_name": "ProgressView",
            "bar_style": "success",
            "description": "",
            "description_tooltip": null,
            "layout": "IPY_MODEL_3d612a40ef3347d4abd5876f4857b6bb",
            "max": 150,
            "min": 0,
            "orientation": "horizontal",
            "style": "IPY_MODEL_fd9eb43b9b1c4756a577e30b6a05397c",
            "value": 150
          }
        },
        "da383e9a91d4458fa8cf0f23b3dafa03": {
          "model_module": "@jupyter-widgets/controls",
          "model_name": "HTMLModel",
          "model_module_version": "1.5.0",
          "state": {
            "_dom_classes": [],
            "_model_module": "@jupyter-widgets/controls",
            "_model_module_version": "1.5.0",
            "_model_name": "HTMLModel",
            "_view_count": null,
            "_view_module": "@jupyter-widgets/controls",
            "_view_module_version": "1.5.0",
            "_view_name": "HTMLView",
            "description": "",
            "description_tooltip": null,
            "layout": "IPY_MODEL_d696caed35374d698af0280c1f952db1",
            "placeholder": "​",
            "style": "IPY_MODEL_2e352c8b820745ce96a12f0fa8d85d91",
            "value": " 150/150 [00:00&lt;00:00, 2213.90 examples/s]"
          }
        },
        "aaff0c52c8d64cc7b6f521716a7534d8": {
          "model_module": "@jupyter-widgets/base",
          "model_name": "LayoutModel",
          "model_module_version": "1.2.0",
          "state": {
            "_model_module": "@jupyter-widgets/base",
            "_model_module_version": "1.2.0",
            "_model_name": "LayoutModel",
            "_view_count": null,
            "_view_module": "@jupyter-widgets/base",
            "_view_module_version": "1.2.0",
            "_view_name": "LayoutView",
            "align_content": null,
            "align_items": null,
            "align_self": null,
            "border": null,
            "bottom": null,
            "display": null,
            "flex": null,
            "flex_flow": null,
            "grid_area": null,
            "grid_auto_columns": null,
            "grid_auto_flow": null,
            "grid_auto_rows": null,
            "grid_column": null,
            "grid_gap": null,
            "grid_row": null,
            "grid_template_areas": null,
            "grid_template_columns": null,
            "grid_template_rows": null,
            "height": null,
            "justify_content": null,
            "justify_items": null,
            "left": null,
            "margin": null,
            "max_height": null,
            "max_width": null,
            "min_height": null,
            "min_width": null,
            "object_fit": null,
            "object_position": null,
            "order": null,
            "overflow": null,
            "overflow_x": null,
            "overflow_y": null,
            "padding": null,
            "right": null,
            "top": null,
            "visibility": null,
            "width": null
          }
        },
        "669a7eec9c24410f94d1d1e1561ba264": {
          "model_module": "@jupyter-widgets/base",
          "model_name": "LayoutModel",
          "model_module_version": "1.2.0",
          "state": {
            "_model_module": "@jupyter-widgets/base",
            "_model_module_version": "1.2.0",
            "_model_name": "LayoutModel",
            "_view_count": null,
            "_view_module": "@jupyter-widgets/base",
            "_view_module_version": "1.2.0",
            "_view_name": "LayoutView",
            "align_content": null,
            "align_items": null,
            "align_self": null,
            "border": null,
            "bottom": null,
            "display": null,
            "flex": null,
            "flex_flow": null,
            "grid_area": null,
            "grid_auto_columns": null,
            "grid_auto_flow": null,
            "grid_auto_rows": null,
            "grid_column": null,
            "grid_gap": null,
            "grid_row": null,
            "grid_template_areas": null,
            "grid_template_columns": null,
            "grid_template_rows": null,
            "height": null,
            "justify_content": null,
            "justify_items": null,
            "left": null,
            "margin": null,
            "max_height": null,
            "max_width": null,
            "min_height": null,
            "min_width": null,
            "object_fit": null,
            "object_position": null,
            "order": null,
            "overflow": null,
            "overflow_x": null,
            "overflow_y": null,
            "padding": null,
            "right": null,
            "top": null,
            "visibility": null,
            "width": null
          }
        },
        "242ba3d2d7974cd5a184ce7b27c9c372": {
          "model_module": "@jupyter-widgets/controls",
          "model_name": "DescriptionStyleModel",
          "model_module_version": "1.5.0",
          "state": {
            "_model_module": "@jupyter-widgets/controls",
            "_model_module_version": "1.5.0",
            "_model_name": "DescriptionStyleModel",
            "_view_count": null,
            "_view_module": "@jupyter-widgets/base",
            "_view_module_version": "1.2.0",
            "_view_name": "StyleView",
            "description_width": ""
          }
        },
        "3d612a40ef3347d4abd5876f4857b6bb": {
          "model_module": "@jupyter-widgets/base",
          "model_name": "LayoutModel",
          "model_module_version": "1.2.0",
          "state": {
            "_model_module": "@jupyter-widgets/base",
            "_model_module_version": "1.2.0",
            "_model_name": "LayoutModel",
            "_view_count": null,
            "_view_module": "@jupyter-widgets/base",
            "_view_module_version": "1.2.0",
            "_view_name": "LayoutView",
            "align_content": null,
            "align_items": null,
            "align_self": null,
            "border": null,
            "bottom": null,
            "display": null,
            "flex": null,
            "flex_flow": null,
            "grid_area": null,
            "grid_auto_columns": null,
            "grid_auto_flow": null,
            "grid_auto_rows": null,
            "grid_column": null,
            "grid_gap": null,
            "grid_row": null,
            "grid_template_areas": null,
            "grid_template_columns": null,
            "grid_template_rows": null,
            "height": null,
            "justify_content": null,
            "justify_items": null,
            "left": null,
            "margin": null,
            "max_height": null,
            "max_width": null,
            "min_height": null,
            "min_width": null,
            "object_fit": null,
            "object_position": null,
            "order": null,
            "overflow": null,
            "overflow_x": null,
            "overflow_y": null,
            "padding": null,
            "right": null,
            "top": null,
            "visibility": null,
            "width": null
          }
        },
        "fd9eb43b9b1c4756a577e30b6a05397c": {
          "model_module": "@jupyter-widgets/controls",
          "model_name": "ProgressStyleModel",
          "model_module_version": "1.5.0",
          "state": {
            "_model_module": "@jupyter-widgets/controls",
            "_model_module_version": "1.5.0",
            "_model_name": "ProgressStyleModel",
            "_view_count": null,
            "_view_module": "@jupyter-widgets/base",
            "_view_module_version": "1.2.0",
            "_view_name": "StyleView",
            "bar_color": null,
            "description_width": ""
          }
        },
        "d696caed35374d698af0280c1f952db1": {
          "model_module": "@jupyter-widgets/base",
          "model_name": "LayoutModel",
          "model_module_version": "1.2.0",
          "state": {
            "_model_module": "@jupyter-widgets/base",
            "_model_module_version": "1.2.0",
            "_model_name": "LayoutModel",
            "_view_count": null,
            "_view_module": "@jupyter-widgets/base",
            "_view_module_version": "1.2.0",
            "_view_name": "LayoutView",
            "align_content": null,
            "align_items": null,
            "align_self": null,
            "border": null,
            "bottom": null,
            "display": null,
            "flex": null,
            "flex_flow": null,
            "grid_area": null,
            "grid_auto_columns": null,
            "grid_auto_flow": null,
            "grid_auto_rows": null,
            "grid_column": null,
            "grid_gap": null,
            "grid_row": null,
            "grid_template_areas": null,
            "grid_template_columns": null,
            "grid_template_rows": null,
            "height": null,
            "justify_content": null,
            "justify_items": null,
            "left": null,
            "margin": null,
            "max_height": null,
            "max_width": null,
            "min_height": null,
            "min_width": null,
            "object_fit": null,
            "object_position": null,
            "order": null,
            "overflow": null,
            "overflow_x": null,
            "overflow_y": null,
            "padding": null,
            "right": null,
            "top": null,
            "visibility": null,
            "width": null
          }
        },
        "2e352c8b820745ce96a12f0fa8d85d91": {
          "model_module": "@jupyter-widgets/controls",
          "model_name": "DescriptionStyleModel",
          "model_module_version": "1.5.0",
          "state": {
            "_model_module": "@jupyter-widgets/controls",
            "_model_module_version": "1.5.0",
            "_model_name": "DescriptionStyleModel",
            "_view_count": null,
            "_view_module": "@jupyter-widgets/base",
            "_view_module_version": "1.2.0",
            "_view_name": "StyleView",
            "description_width": ""
          }
        },
        "24bfb683749b42418eca5fb2fbbe761f": {
          "model_module": "@jupyter-widgets/controls",
          "model_name": "HBoxModel",
          "model_module_version": "1.5.0",
          "state": {
            "_dom_classes": [],
            "_model_module": "@jupyter-widgets/controls",
            "_model_module_version": "1.5.0",
            "_model_name": "HBoxModel",
            "_view_count": null,
            "_view_module": "@jupyter-widgets/controls",
            "_view_module_version": "1.5.0",
            "_view_name": "HBoxView",
            "box_style": "",
            "children": [
              "IPY_MODEL_7df76fa923b646e4a55139590a16836a",
              "IPY_MODEL_212431452959492380a789af8c764592",
              "IPY_MODEL_4aa0c378c6bd4d94a2397cbb456206e2"
            ],
            "layout": "IPY_MODEL_3a99c60fd3794791a01996571f953911"
          }
        },
        "7df76fa923b646e4a55139590a16836a": {
          "model_module": "@jupyter-widgets/controls",
          "model_name": "HTMLModel",
          "model_module_version": "1.5.0",
          "state": {
            "_dom_classes": [],
            "_model_module": "@jupyter-widgets/controls",
            "_model_module_version": "1.5.0",
            "_model_name": "HTMLModel",
            "_view_count": null,
            "_view_module": "@jupyter-widgets/controls",
            "_view_module_version": "1.5.0",
            "_view_name": "HTMLView",
            "description": "",
            "description_tooltip": null,
            "layout": "IPY_MODEL_21d0a9ca0bb244f2af4c809db8b04305",
            "placeholder": "​",
            "style": "IPY_MODEL_213e2ea08e9a48358ec0afa656b56b32",
            "value": "Map: 100%"
          }
        },
        "212431452959492380a789af8c764592": {
          "model_module": "@jupyter-widgets/controls",
          "model_name": "FloatProgressModel",
          "model_module_version": "1.5.0",
          "state": {
            "_dom_classes": [],
            "_model_module": "@jupyter-widgets/controls",
            "_model_module_version": "1.5.0",
            "_model_name": "FloatProgressModel",
            "_view_count": null,
            "_view_module": "@jupyter-widgets/controls",
            "_view_module_version": "1.5.0",
            "_view_name": "ProgressView",
            "bar_style": "success",
            "description": "",
            "description_tooltip": null,
            "layout": "IPY_MODEL_a6f48bab34e44279bf13fe0570286c31",
            "max": 5050,
            "min": 0,
            "orientation": "horizontal",
            "style": "IPY_MODEL_e23ecf652a584ff6a6baf45273ea46ee",
            "value": 5050
          }
        },
        "4aa0c378c6bd4d94a2397cbb456206e2": {
          "model_module": "@jupyter-widgets/controls",
          "model_name": "HTMLModel",
          "model_module_version": "1.5.0",
          "state": {
            "_dom_classes": [],
            "_model_module": "@jupyter-widgets/controls",
            "_model_module_version": "1.5.0",
            "_model_name": "HTMLModel",
            "_view_count": null,
            "_view_module": "@jupyter-widgets/controls",
            "_view_module_version": "1.5.0",
            "_view_name": "HTMLView",
            "description": "",
            "description_tooltip": null,
            "layout": "IPY_MODEL_d2ae23f37f6841f7ad5218af0352aa69",
            "placeholder": "​",
            "style": "IPY_MODEL_3ff5211fea1448fb84c8336379c5d661",
            "value": " 5050/5050 [00:01&lt;00:00, 4036.14 examples/s]"
          }
        },
        "3a99c60fd3794791a01996571f953911": {
          "model_module": "@jupyter-widgets/base",
          "model_name": "LayoutModel",
          "model_module_version": "1.2.0",
          "state": {
            "_model_module": "@jupyter-widgets/base",
            "_model_module_version": "1.2.0",
            "_model_name": "LayoutModel",
            "_view_count": null,
            "_view_module": "@jupyter-widgets/base",
            "_view_module_version": "1.2.0",
            "_view_name": "LayoutView",
            "align_content": null,
            "align_items": null,
            "align_self": null,
            "border": null,
            "bottom": null,
            "display": null,
            "flex": null,
            "flex_flow": null,
            "grid_area": null,
            "grid_auto_columns": null,
            "grid_auto_flow": null,
            "grid_auto_rows": null,
            "grid_column": null,
            "grid_gap": null,
            "grid_row": null,
            "grid_template_areas": null,
            "grid_template_columns": null,
            "grid_template_rows": null,
            "height": null,
            "justify_content": null,
            "justify_items": null,
            "left": null,
            "margin": null,
            "max_height": null,
            "max_width": null,
            "min_height": null,
            "min_width": null,
            "object_fit": null,
            "object_position": null,
            "order": null,
            "overflow": null,
            "overflow_x": null,
            "overflow_y": null,
            "padding": null,
            "right": null,
            "top": null,
            "visibility": null,
            "width": null
          }
        },
        "21d0a9ca0bb244f2af4c809db8b04305": {
          "model_module": "@jupyter-widgets/base",
          "model_name": "LayoutModel",
          "model_module_version": "1.2.0",
          "state": {
            "_model_module": "@jupyter-widgets/base",
            "_model_module_version": "1.2.0",
            "_model_name": "LayoutModel",
            "_view_count": null,
            "_view_module": "@jupyter-widgets/base",
            "_view_module_version": "1.2.0",
            "_view_name": "LayoutView",
            "align_content": null,
            "align_items": null,
            "align_self": null,
            "border": null,
            "bottom": null,
            "display": null,
            "flex": null,
            "flex_flow": null,
            "grid_area": null,
            "grid_auto_columns": null,
            "grid_auto_flow": null,
            "grid_auto_rows": null,
            "grid_column": null,
            "grid_gap": null,
            "grid_row": null,
            "grid_template_areas": null,
            "grid_template_columns": null,
            "grid_template_rows": null,
            "height": null,
            "justify_content": null,
            "justify_items": null,
            "left": null,
            "margin": null,
            "max_height": null,
            "max_width": null,
            "min_height": null,
            "min_width": null,
            "object_fit": null,
            "object_position": null,
            "order": null,
            "overflow": null,
            "overflow_x": null,
            "overflow_y": null,
            "padding": null,
            "right": null,
            "top": null,
            "visibility": null,
            "width": null
          }
        },
        "213e2ea08e9a48358ec0afa656b56b32": {
          "model_module": "@jupyter-widgets/controls",
          "model_name": "DescriptionStyleModel",
          "model_module_version": "1.5.0",
          "state": {
            "_model_module": "@jupyter-widgets/controls",
            "_model_module_version": "1.5.0",
            "_model_name": "DescriptionStyleModel",
            "_view_count": null,
            "_view_module": "@jupyter-widgets/base",
            "_view_module_version": "1.2.0",
            "_view_name": "StyleView",
            "description_width": ""
          }
        },
        "a6f48bab34e44279bf13fe0570286c31": {
          "model_module": "@jupyter-widgets/base",
          "model_name": "LayoutModel",
          "model_module_version": "1.2.0",
          "state": {
            "_model_module": "@jupyter-widgets/base",
            "_model_module_version": "1.2.0",
            "_model_name": "LayoutModel",
            "_view_count": null,
            "_view_module": "@jupyter-widgets/base",
            "_view_module_version": "1.2.0",
            "_view_name": "LayoutView",
            "align_content": null,
            "align_items": null,
            "align_self": null,
            "border": null,
            "bottom": null,
            "display": null,
            "flex": null,
            "flex_flow": null,
            "grid_area": null,
            "grid_auto_columns": null,
            "grid_auto_flow": null,
            "grid_auto_rows": null,
            "grid_column": null,
            "grid_gap": null,
            "grid_row": null,
            "grid_template_areas": null,
            "grid_template_columns": null,
            "grid_template_rows": null,
            "height": null,
            "justify_content": null,
            "justify_items": null,
            "left": null,
            "margin": null,
            "max_height": null,
            "max_width": null,
            "min_height": null,
            "min_width": null,
            "object_fit": null,
            "object_position": null,
            "order": null,
            "overflow": null,
            "overflow_x": null,
            "overflow_y": null,
            "padding": null,
            "right": null,
            "top": null,
            "visibility": null,
            "width": null
          }
        },
        "e23ecf652a584ff6a6baf45273ea46ee": {
          "model_module": "@jupyter-widgets/controls",
          "model_name": "ProgressStyleModel",
          "model_module_version": "1.5.0",
          "state": {
            "_model_module": "@jupyter-widgets/controls",
            "_model_module_version": "1.5.0",
            "_model_name": "ProgressStyleModel",
            "_view_count": null,
            "_view_module": "@jupyter-widgets/base",
            "_view_module_version": "1.2.0",
            "_view_name": "StyleView",
            "bar_color": null,
            "description_width": ""
          }
        },
        "d2ae23f37f6841f7ad5218af0352aa69": {
          "model_module": "@jupyter-widgets/base",
          "model_name": "LayoutModel",
          "model_module_version": "1.2.0",
          "state": {
            "_model_module": "@jupyter-widgets/base",
            "_model_module_version": "1.2.0",
            "_model_name": "LayoutModel",
            "_view_count": null,
            "_view_module": "@jupyter-widgets/base",
            "_view_module_version": "1.2.0",
            "_view_name": "LayoutView",
            "align_content": null,
            "align_items": null,
            "align_self": null,
            "border": null,
            "bottom": null,
            "display": null,
            "flex": null,
            "flex_flow": null,
            "grid_area": null,
            "grid_auto_columns": null,
            "grid_auto_flow": null,
            "grid_auto_rows": null,
            "grid_column": null,
            "grid_gap": null,
            "grid_row": null,
            "grid_template_areas": null,
            "grid_template_columns": null,
            "grid_template_rows": null,
            "height": null,
            "justify_content": null,
            "justify_items": null,
            "left": null,
            "margin": null,
            "max_height": null,
            "max_width": null,
            "min_height": null,
            "min_width": null,
            "object_fit": null,
            "object_position": null,
            "order": null,
            "overflow": null,
            "overflow_x": null,
            "overflow_y": null,
            "padding": null,
            "right": null,
            "top": null,
            "visibility": null,
            "width": null
          }
        },
        "3ff5211fea1448fb84c8336379c5d661": {
          "model_module": "@jupyter-widgets/controls",
          "model_name": "DescriptionStyleModel",
          "model_module_version": "1.5.0",
          "state": {
            "_model_module": "@jupyter-widgets/controls",
            "_model_module_version": "1.5.0",
            "_model_name": "DescriptionStyleModel",
            "_view_count": null,
            "_view_module": "@jupyter-widgets/base",
            "_view_module_version": "1.2.0",
            "_view_name": "StyleView",
            "description_width": ""
          }
        },
        "d69595b8664941a5a7ab76cd7f1ab4d0": {
          "model_module": "@jupyter-widgets/controls",
          "model_name": "HBoxModel",
          "model_module_version": "1.5.0",
          "state": {
            "_dom_classes": [],
            "_model_module": "@jupyter-widgets/controls",
            "_model_module_version": "1.5.0",
            "_model_name": "HBoxModel",
            "_view_count": null,
            "_view_module": "@jupyter-widgets/controls",
            "_view_module_version": "1.5.0",
            "_view_name": "HBoxView",
            "box_style": "",
            "children": [
              "IPY_MODEL_8cab844419f14586a539bbef9447ca55",
              "IPY_MODEL_18342d211fc247e2a25383b99572dd64",
              "IPY_MODEL_3b1001b099834346bca5833bdbd63334"
            ],
            "layout": "IPY_MODEL_7157a5df9e1546e98a7095f7e83d1537"
          }
        },
        "8cab844419f14586a539bbef9447ca55": {
          "model_module": "@jupyter-widgets/controls",
          "model_name": "HTMLModel",
          "model_module_version": "1.5.0",
          "state": {
            "_dom_classes": [],
            "_model_module": "@jupyter-widgets/controls",
            "_model_module_version": "1.5.0",
            "_model_name": "HTMLModel",
            "_view_count": null,
            "_view_module": "@jupyter-widgets/controls",
            "_view_module_version": "1.5.0",
            "_view_name": "HTMLView",
            "description": "",
            "description_tooltip": null,
            "layout": "IPY_MODEL_ba48d38d534c49d5a641378e119bdb0f",
            "placeholder": "​",
            "style": "IPY_MODEL_67ecd122a83a499dae392b326bea301b",
            "value": "Map: 100%"
          }
        },
        "18342d211fc247e2a25383b99572dd64": {
          "model_module": "@jupyter-widgets/controls",
          "model_name": "FloatProgressModel",
          "model_module_version": "1.5.0",
          "state": {
            "_dom_classes": [],
            "_model_module": "@jupyter-widgets/controls",
            "_model_module_version": "1.5.0",
            "_model_name": "FloatProgressModel",
            "_view_count": null,
            "_view_module": "@jupyter-widgets/controls",
            "_view_module_version": "1.5.0",
            "_view_name": "ProgressView",
            "bar_style": "success",
            "description": "",
            "description_tooltip": null,
            "layout": "IPY_MODEL_799ad8d868424aed8da0fdfbed077b16",
            "max": 2668,
            "min": 0,
            "orientation": "horizontal",
            "style": "IPY_MODEL_90a29268c0ec4ac39c4bad243a83eaa8",
            "value": 2668
          }
        },
        "3b1001b099834346bca5833bdbd63334": {
          "model_module": "@jupyter-widgets/controls",
          "model_name": "HTMLModel",
          "model_module_version": "1.5.0",
          "state": {
            "_dom_classes": [],
            "_model_module": "@jupyter-widgets/controls",
            "_model_module_version": "1.5.0",
            "_model_name": "HTMLModel",
            "_view_count": null,
            "_view_module": "@jupyter-widgets/controls",
            "_view_module_version": "1.5.0",
            "_view_name": "HTMLView",
            "description": "",
            "description_tooltip": null,
            "layout": "IPY_MODEL_fe13d6e78d2b4c519540529f71f22db1",
            "placeholder": "​",
            "style": "IPY_MODEL_007a827de4a74282a42cc5dba8c49306",
            "value": " 2668/2668 [00:00&lt;00:00, 4329.56 examples/s]"
          }
        },
        "7157a5df9e1546e98a7095f7e83d1537": {
          "model_module": "@jupyter-widgets/base",
          "model_name": "LayoutModel",
          "model_module_version": "1.2.0",
          "state": {
            "_model_module": "@jupyter-widgets/base",
            "_model_module_version": "1.2.0",
            "_model_name": "LayoutModel",
            "_view_count": null,
            "_view_module": "@jupyter-widgets/base",
            "_view_module_version": "1.2.0",
            "_view_name": "LayoutView",
            "align_content": null,
            "align_items": null,
            "align_self": null,
            "border": null,
            "bottom": null,
            "display": null,
            "flex": null,
            "flex_flow": null,
            "grid_area": null,
            "grid_auto_columns": null,
            "grid_auto_flow": null,
            "grid_auto_rows": null,
            "grid_column": null,
            "grid_gap": null,
            "grid_row": null,
            "grid_template_areas": null,
            "grid_template_columns": null,
            "grid_template_rows": null,
            "height": null,
            "justify_content": null,
            "justify_items": null,
            "left": null,
            "margin": null,
            "max_height": null,
            "max_width": null,
            "min_height": null,
            "min_width": null,
            "object_fit": null,
            "object_position": null,
            "order": null,
            "overflow": null,
            "overflow_x": null,
            "overflow_y": null,
            "padding": null,
            "right": null,
            "top": null,
            "visibility": null,
            "width": null
          }
        },
        "ba48d38d534c49d5a641378e119bdb0f": {
          "model_module": "@jupyter-widgets/base",
          "model_name": "LayoutModel",
          "model_module_version": "1.2.0",
          "state": {
            "_model_module": "@jupyter-widgets/base",
            "_model_module_version": "1.2.0",
            "_model_name": "LayoutModel",
            "_view_count": null,
            "_view_module": "@jupyter-widgets/base",
            "_view_module_version": "1.2.0",
            "_view_name": "LayoutView",
            "align_content": null,
            "align_items": null,
            "align_self": null,
            "border": null,
            "bottom": null,
            "display": null,
            "flex": null,
            "flex_flow": null,
            "grid_area": null,
            "grid_auto_columns": null,
            "grid_auto_flow": null,
            "grid_auto_rows": null,
            "grid_column": null,
            "grid_gap": null,
            "grid_row": null,
            "grid_template_areas": null,
            "grid_template_columns": null,
            "grid_template_rows": null,
            "height": null,
            "justify_content": null,
            "justify_items": null,
            "left": null,
            "margin": null,
            "max_height": null,
            "max_width": null,
            "min_height": null,
            "min_width": null,
            "object_fit": null,
            "object_position": null,
            "order": null,
            "overflow": null,
            "overflow_x": null,
            "overflow_y": null,
            "padding": null,
            "right": null,
            "top": null,
            "visibility": null,
            "width": null
          }
        },
        "67ecd122a83a499dae392b326bea301b": {
          "model_module": "@jupyter-widgets/controls",
          "model_name": "DescriptionStyleModel",
          "model_module_version": "1.5.0",
          "state": {
            "_model_module": "@jupyter-widgets/controls",
            "_model_module_version": "1.5.0",
            "_model_name": "DescriptionStyleModel",
            "_view_count": null,
            "_view_module": "@jupyter-widgets/base",
            "_view_module_version": "1.2.0",
            "_view_name": "StyleView",
            "description_width": ""
          }
        },
        "799ad8d868424aed8da0fdfbed077b16": {
          "model_module": "@jupyter-widgets/base",
          "model_name": "LayoutModel",
          "model_module_version": "1.2.0",
          "state": {
            "_model_module": "@jupyter-widgets/base",
            "_model_module_version": "1.2.0",
            "_model_name": "LayoutModel",
            "_view_count": null,
            "_view_module": "@jupyter-widgets/base",
            "_view_module_version": "1.2.0",
            "_view_name": "LayoutView",
            "align_content": null,
            "align_items": null,
            "align_self": null,
            "border": null,
            "bottom": null,
            "display": null,
            "flex": null,
            "flex_flow": null,
            "grid_area": null,
            "grid_auto_columns": null,
            "grid_auto_flow": null,
            "grid_auto_rows": null,
            "grid_column": null,
            "grid_gap": null,
            "grid_row": null,
            "grid_template_areas": null,
            "grid_template_columns": null,
            "grid_template_rows": null,
            "height": null,
            "justify_content": null,
            "justify_items": null,
            "left": null,
            "margin": null,
            "max_height": null,
            "max_width": null,
            "min_height": null,
            "min_width": null,
            "object_fit": null,
            "object_position": null,
            "order": null,
            "overflow": null,
            "overflow_x": null,
            "overflow_y": null,
            "padding": null,
            "right": null,
            "top": null,
            "visibility": null,
            "width": null
          }
        },
        "90a29268c0ec4ac39c4bad243a83eaa8": {
          "model_module": "@jupyter-widgets/controls",
          "model_name": "ProgressStyleModel",
          "model_module_version": "1.5.0",
          "state": {
            "_model_module": "@jupyter-widgets/controls",
            "_model_module_version": "1.5.0",
            "_model_name": "ProgressStyleModel",
            "_view_count": null,
            "_view_module": "@jupyter-widgets/base",
            "_view_module_version": "1.2.0",
            "_view_name": "StyleView",
            "bar_color": null,
            "description_width": ""
          }
        },
        "fe13d6e78d2b4c519540529f71f22db1": {
          "model_module": "@jupyter-widgets/base",
          "model_name": "LayoutModel",
          "model_module_version": "1.2.0",
          "state": {
            "_model_module": "@jupyter-widgets/base",
            "_model_module_version": "1.2.0",
            "_model_name": "LayoutModel",
            "_view_count": null,
            "_view_module": "@jupyter-widgets/base",
            "_view_module_version": "1.2.0",
            "_view_name": "LayoutView",
            "align_content": null,
            "align_items": null,
            "align_self": null,
            "border": null,
            "bottom": null,
            "display": null,
            "flex": null,
            "flex_flow": null,
            "grid_area": null,
            "grid_auto_columns": null,
            "grid_auto_flow": null,
            "grid_auto_rows": null,
            "grid_column": null,
            "grid_gap": null,
            "grid_row": null,
            "grid_template_areas": null,
            "grid_template_columns": null,
            "grid_template_rows": null,
            "height": null,
            "justify_content": null,
            "justify_items": null,
            "left": null,
            "margin": null,
            "max_height": null,
            "max_width": null,
            "min_height": null,
            "min_width": null,
            "object_fit": null,
            "object_position": null,
            "order": null,
            "overflow": null,
            "overflow_x": null,
            "overflow_y": null,
            "padding": null,
            "right": null,
            "top": null,
            "visibility": null,
            "width": null
          }
        },
        "007a827de4a74282a42cc5dba8c49306": {
          "model_module": "@jupyter-widgets/controls",
          "model_name": "DescriptionStyleModel",
          "model_module_version": "1.5.0",
          "state": {
            "_model_module": "@jupyter-widgets/controls",
            "_model_module_version": "1.5.0",
            "_model_name": "DescriptionStyleModel",
            "_view_count": null,
            "_view_module": "@jupyter-widgets/base",
            "_view_module_version": "1.2.0",
            "_view_name": "StyleView",
            "description_width": ""
          }
        }
      }
    },
    "accelerator": "GPU"
  },
  "cells": [
    {
      "cell_type": "markdown",
      "metadata": {
        "id": "view-in-github",
        "colab_type": "text"
      },
      "source": [
        "<a href=\"https://colab.research.google.com/github/eugeneyan/visualizing-finetunes/blob/main/3_ft_usb_then_fib.ipynb\" target=\"_parent\"><img src=\"https://colab.research.google.com/assets/colab-badge.svg\" alt=\"Open In Colab\"/></a>"
      ]
    },
    {
      "cell_type": "code",
      "source": [
        "gpu_info = !nvidia-smi\n",
        "gpu_info = '\\n'.join(gpu_info)\n",
        "if gpu_info.find('failed') >= 0:\n",
        "    print('Not connected to a GPU')\n",
        "else:\n",
        "    print(gpu_info)"
      ],
      "metadata": {
        "id": "h4aS9DfnhQGs",
        "colab": {
          "base_uri": "https://localhost:8080/"
        },
        "outputId": "62a6ce58-1ff4-4afb-dc2b-554a85c31385"
      },
      "execution_count": null,
      "outputs": [
        {
          "output_type": "stream",
          "name": "stdout",
          "text": [
            "Sat May 11 21:49:58 2024       \n",
            "+---------------------------------------------------------------------------------------+\n",
            "| NVIDIA-SMI 535.104.05             Driver Version: 535.104.05   CUDA Version: 12.2     |\n",
            "|-----------------------------------------+----------------------+----------------------+\n",
            "| GPU  Name                 Persistence-M | Bus-Id        Disp.A | Volatile Uncorr. ECC |\n",
            "| Fan  Temp   Perf          Pwr:Usage/Cap |         Memory-Usage | GPU-Util  Compute M. |\n",
            "|                                         |                      |               MIG M. |\n",
            "|=========================================+======================+======================|\n",
            "|   0  NVIDIA L4                      Off | 00000000:00:03.0 Off |                    0 |\n",
            "| N/A   70C    P0              23W /  72W |      1MiB / 23034MiB |      0%      Default |\n",
            "|                                         |                      |                  N/A |\n",
            "+-----------------------------------------+----------------------+----------------------+\n",
            "                                                                                         \n",
            "+---------------------------------------------------------------------------------------+\n",
            "| Processes:                                                                            |\n",
            "|  GPU   GI   CI        PID   Type   Process name                            GPU Memory |\n",
            "|        ID   ID                                                             Usage      |\n",
            "|=======================================================================================|\n",
            "|  No running processes found                                                           |\n",
            "+---------------------------------------------------------------------------------------+\n"
          ]
        }
      ]
    },
    {
      "cell_type": "code",
      "source": [
        "%pip install -q transformers==4.37.2 accelerate bitsandbytes datasets peft watermark"
      ],
      "metadata": {
        "id": "UX7lYtqtVB7S"
      },
      "execution_count": null,
      "outputs": []
    },
    {
      "cell_type": "code",
      "execution_count": null,
      "metadata": {
        "colab": {
          "base_uri": "https://localhost:8080/"
        },
        "id": "nQPAsBIKU0rF",
        "outputId": "0bcede41-4529-4184-f244-c4bce4c40504"
      },
      "outputs": [
        {
          "output_type": "stream",
          "name": "stdout",
          "text": [
            "torch       : 2.2.1+cu121\n",
            "transformers: 4.37.2\n",
            "peft        : 0.10.0\n",
            "datasets    : 2.19.1\n",
            "sklearn     : 1.2.2\n",
            "\n",
            "conda environment: n/a\n",
            "\n"
          ]
        }
      ],
      "source": [
        "%load_ext watermark\n",
        "%watermark --conda -p torch,transformers,peft,datasets,sklearn"
      ]
    },
    {
      "cell_type": "code",
      "source": [
        "import numpy as np\n",
        "import pandas as pd\n",
        "import torch\n",
        "import torch.nn.functional as F\n",
        "import transformers\n",
        "import time\n",
        "import logging\n",
        "import warnings\n",
        "import matplotlib.pyplot as plt\n",
        "\n",
        "from collections import Counter\n",
        "from datetime import datetime\n",
        "from torch.utils.data import DataLoader, Dataset\n",
        "from transformers import (\n",
        "    Trainer,\n",
        "    BartForSequenceClassification,\n",
        "    AutoTokenizer,\n",
        "    BitsAndBytesConfig,\n",
        "    IntervalStrategy,\n",
        ")\n",
        "from peft import LoraConfig, get_peft_model, TaskType\n",
        "from datasets import load_dataset\n",
        "from typing import Dict, Optional, List\n",
        "from sklearn.metrics import (average_precision_score,\n",
        "                             precision_recall_curve, precision_score,\n",
        "                             recall_score, roc_auc_score, roc_curve)\n",
        "from sklearn.exceptions import UndefinedMetricWarning"
      ],
      "metadata": {
        "id": "40sgjKx0U8sW"
      },
      "execution_count": null,
      "outputs": []
    },
    {
      "cell_type": "code",
      "source": [
        "# Set up logger\n",
        "logger = logging.getLogger('3-ft-usb-then-fib')\n",
        "logging.basicConfig(\n",
        "    level=logging.INFO,\n",
        "    format='%(asctime)s - %(levelname)s - %(message)s',\n",
        "    datefmt='%Y-%m-%d %H:%M:%S',\n",
        "    force=True\n",
        ")\n",
        "\n",
        "logger.info('Running notebook to finetune USB followed by FIB')"
      ],
      "metadata": {
        "colab": {
          "base_uri": "https://localhost:8080/"
        },
        "id": "7LQUbLrzV4Eg",
        "outputId": "70b4e542-e629-4264-fe6a-97cc0ce47b01"
      },
      "execution_count": null,
      "outputs": [
        {
          "output_type": "stream",
          "name": "stderr",
          "text": [
            "2024-05-11 21:50:11 - INFO - Running notebook to finetune USB followed by FIB\n"
          ]
        }
      ]
    },
    {
      "cell_type": "code",
      "source": [
        "# Suppress undefined metric warning\n",
        "warnings.filterwarnings(action='ignore', category=UndefinedMetricWarning)"
      ],
      "metadata": {
        "id": "3CEWSnoT0IPQ"
      },
      "execution_count": null,
      "outputs": []
    },
    {
      "cell_type": "code",
      "source": [
        "from google.colab import drive\n",
        "drive.mount('/content/drive')"
      ],
      "metadata": {
        "colab": {
          "base_uri": "https://localhost:8080/"
        },
        "id": "NVmMfWvyi4Ht",
        "outputId": "e13e3006-b38c-41d7-b2c6-023905c1cbd8"
      },
      "execution_count": null,
      "outputs": [
        {
          "output_type": "stream",
          "name": "stdout",
          "text": [
            "Drive already mounted at /content/drive; to attempt to forcibly remount, call drive.mount(\"/content/drive\", force_remount=True).\n"
          ]
        }
      ]
    },
    {
      "cell_type": "code",
      "source": [
        "torch.manual_seed(1368)"
      ],
      "metadata": {
        "colab": {
          "base_uri": "https://localhost:8080/"
        },
        "id": "S51eunFjWLmG",
        "outputId": "43aac2e8-d90e-43be-c8f4-f59a805c9061"
      },
      "execution_count": null,
      "outputs": [
        {
          "output_type": "execute_result",
          "data": {
            "text/plain": [
              "<torch._C.Generator at 0x7ed33dbad730>"
            ]
          },
          "metadata": {},
          "execution_count": 8
        }
      ]
    },
    {
      "cell_type": "markdown",
      "source": [
        "## Define model and tokenizer\n",
        "- Note: Entailment = 2, Neutral = 1, Contradiction = 0\n",
        "- https://huggingface.co/valhalla/distilbart-mnli-12-1"
      ],
      "metadata": {
        "id": "sq8aeQiwWHSy"
      }
    },
    {
      "cell_type": "code",
      "source": [
        "# Define model\n",
        "model_id = 'valhalla/distilbart-mnli-12-1'\n",
        "lora_model_id = 'lora-distilbart-mnli-12-1'"
      ],
      "metadata": {
        "id": "goMYzbJjWBB8"
      },
      "execution_count": null,
      "outputs": []
    },
    {
      "cell_type": "code",
      "source": [
        "# Load tokenizer\n",
        "tokenizer = AutoTokenizer.from_pretrained(model_id)"
      ],
      "metadata": {
        "id": "tL-e_Ep3WI-i",
        "colab": {
          "base_uri": "https://localhost:8080/"
        },
        "outputId": "d4ec6f47-8ead-41fc-e618-49ccf9c9c115"
      },
      "execution_count": null,
      "outputs": [
        {
          "output_type": "stream",
          "name": "stderr",
          "text": [
            "/usr/local/lib/python3.10/dist-packages/huggingface_hub/file_download.py:1132: FutureWarning: `resume_download` is deprecated and will be removed in version 1.0.0. Downloads always resume when possible. If you want to force a new download, use `force_download=True`.\n",
            "  warnings.warn(\n",
            "/usr/local/lib/python3.10/dist-packages/huggingface_hub/utils/_token.py:89: UserWarning: \n",
            "The secret `HF_TOKEN` does not exist in your Colab secrets.\n",
            "To authenticate with the Hugging Face Hub, create a token in your settings tab (https://huggingface.co/settings/tokens), set it as secret in your Google Colab and restart your session.\n",
            "You will be able to reuse this secret in all of your notebooks.\n",
            "Please note that authentication is recommended but still optional to access public models or datasets.\n",
            "  warnings.warn(\n"
          ]
        }
      ]
    },
    {
      "cell_type": "markdown",
      "source": [
        "## Load FIB data"
      ],
      "metadata": {
        "id": "WcMCjGO7WTAV"
      }
    },
    {
      "cell_type": "code",
      "source": [
        "# Test loading into dataset\n",
        "fib_files = {'train': '/content/drive/My Drive/fib-train.csv',\n",
        "             'val': '/content/drive/My Drive/fib-val.csv',\n",
        "             'test': '/content/drive/My Drive/fib-test.csv'}\n",
        "\n",
        "fib_ds = load_dataset('csv', data_files=fib_files)\n",
        "fib_ds = fib_ds.select_columns(['input', 'list_choices', 'label'])\n",
        "fib_ds = fib_ds.rename_column('input', 'premise').rename_column('list_choices', 'hypothesis')\n",
        "\n",
        "logger.info(f\"Label distribution - Train: {Counter(fib_ds['train']['label'])}, Val: {Counter(fib_ds['val']['label'])}, Test: {Counter(fib_ds['test']['label'])}\")"
      ],
      "metadata": {
        "colab": {
          "base_uri": "https://localhost:8080/",
          "height": 150,
          "referenced_widgets": [
            "b3afed25985e4e1299204a85af42a47a",
            "2728760cce9a4782b5383363035e6978",
            "a6ebd9d6e47e47cfb62f04735efa9113",
            "d3955e5cb2034155816c96890fab38db",
            "bc032c2b06d84bbeb60f78c0dbe2c435",
            "f2ed28665fe14100a21ea8fb57662f90",
            "2015dc35f18c4cd8aff45397c21418e0",
            "bcae27978a50473f9fe1fe8e396ca2d8",
            "7b98eba7b5e447329c0c8461d9b3e93c",
            "6a5e32ce681843ce8f58ef492cee5f71",
            "975128b929954d6eab7b37fe2476d461",
            "22abac280e3246839d7d3028120f3d12",
            "367db79863ae4fc79f91ef90e0901510",
            "ed563783ce784394af4d34764a464b1e",
            "65a6acdb8a5b44d18131ebedea0dfc78",
            "ef9bc35ccab74caf8bed5306eef418fe",
            "b79cc5c72c1f420eb23844e70662e1ea",
            "6d5d05893b614290b3a3c34796e2d4b3",
            "f43d0af432af4eaabddb5047a9b42e22",
            "c891964c58234438aed299baf041b26f",
            "7d9f848dca774487894b54fa50e37f5b",
            "ea87b193ed6746c19915bafc8120c877",
            "2b602765897e4051a9ba85a4cd5f486f",
            "bbcbe957b4944f2590c56c2ae6db059c",
            "25bb45e8071e4df4964085ff8f464897",
            "5d1c3f048e1b41d0a11eb8e3e1b86ff2",
            "3f53e226f70e48ceb316aca1d37e830f",
            "ddcd9550bf77448c8e5c877e3ebb874e",
            "35f22e10465846c8b3e87b149c1561c8",
            "122bf45d74844b3e8f2cefd79deae307",
            "b7fa368cf3b448868cb3bbd7e1b9c2cc",
            "f7f2d898c0d048fdba333eddab41e966",
            "e3e7632452394f20bbd31ab53cdd4f8e"
          ]
        },
        "id": "39KHFyldWKWC",
        "outputId": "c371465b-7b38-4d0a-a8ea-2bb589f5b59f"
      },
      "execution_count": null,
      "outputs": [
        {
          "output_type": "display_data",
          "data": {
            "text/plain": [
              "Generating train split: 0 examples [00:00, ? examples/s]"
            ],
            "application/vnd.jupyter.widget-view+json": {
              "version_major": 2,
              "version_minor": 0,
              "model_id": "b3afed25985e4e1299204a85af42a47a"
            }
          },
          "metadata": {}
        },
        {
          "output_type": "display_data",
          "data": {
            "text/plain": [
              "Generating val split: 0 examples [00:00, ? examples/s]"
            ],
            "application/vnd.jupyter.widget-view+json": {
              "version_major": 2,
              "version_minor": 0,
              "model_id": "22abac280e3246839d7d3028120f3d12"
            }
          },
          "metadata": {}
        },
        {
          "output_type": "display_data",
          "data": {
            "text/plain": [
              "Generating test split: 0 examples [00:00, ? examples/s]"
            ],
            "application/vnd.jupyter.widget-view+json": {
              "version_major": 2,
              "version_minor": 0,
              "model_id": "2b602765897e4051a9ba85a4cd5f486f"
            }
          },
          "metadata": {}
        },
        {
          "output_type": "stream",
          "name": "stderr",
          "text": [
            "2024-05-11 21:50:23 - INFO - Label distribution - Train: Counter({0: 350, 2: 350}), Val: Counter({0: 75, 2: 75}), Test: Counter({0: 75, 2: 75})\n"
          ]
        }
      ]
    },
    {
      "cell_type": "code",
      "source": [
        "# Test loading into dataset\n",
        "usb_files = {'train': '/content/drive/My Drive/usb-train.csv',\n",
        "             'val': '/content/drive/My Drive/usb-val.csv'}\n",
        "\n",
        "usb_ds = load_dataset('csv', data_files=usb_files)\n",
        "usb_ds = usb_ds.select_columns(['source', 'summary_sent', 'label'])\n",
        "usb_ds = usb_ds.rename_column('source', 'premise').rename_column('summary_sent', 'hypothesis')\n",
        "\n",
        "logger.info(f\"Label distribution - Train: {Counter(usb_ds['train']['label'])}, Val: {Counter(usb_ds['val']['label'])}\")"
      ],
      "metadata": {
        "colab": {
          "base_uri": "https://localhost:8080/",
          "height": 98,
          "referenced_widgets": [
            "268174675b8f403ca6b28be61d661b9f",
            "ba9e7e707d6340f0bba29fc4da27b1a7",
            "3a41d5c02c774d43b3a8ec2815b049a1",
            "e883c16864144027b9c77ea8ee2ea6d1",
            "459b471b6b424bbd94d10ea29921a669",
            "1c722962eb1d4d17a129932defe73677",
            "ff7e30c678e24b09a8bc26ee645caff0",
            "9342270b964943ab8ba2575e284132e1",
            "494dcfe647b348cd938e06719f9522ce",
            "12aff3f2cbbe477a94acf530010dd232",
            "41eebeed87bf4e84a3668f67b3451fb5",
            "60d725e9e2c9474298e921caf3e847c8",
            "6856784f94384ca7b150c3d4640836ee",
            "b2910b1639ce4769bc100841820d6f6e",
            "d94e0f92da3a489eaaf8e0af81df7a96",
            "706d4877aa7241e3a3a5b23f905d7faa",
            "e9f1ffe456124fd49e962cf51a1a8a09",
            "6f4dcff4d74c47c79caea0bd7c8f7fa0",
            "d120d1d3130c4bcc89eef3be4b047c80",
            "e751bef246a1405fabaf64e7ff713c00",
            "8f9998b7840b41588581b9e75642b24e",
            "2ae4ccb9eea64757907837f7b3bf3d67"
          ]
        },
        "id": "Anxbrd4kj7IH",
        "outputId": "cf480131-86c5-4b6f-ed3a-e4032c41a486"
      },
      "execution_count": null,
      "outputs": [
        {
          "output_type": "display_data",
          "data": {
            "text/plain": [
              "Generating train split: 0 examples [00:00, ? examples/s]"
            ],
            "application/vnd.jupyter.widget-view+json": {
              "version_major": 2,
              "version_minor": 0,
              "model_id": "268174675b8f403ca6b28be61d661b9f"
            }
          },
          "metadata": {}
        },
        {
          "output_type": "display_data",
          "data": {
            "text/plain": [
              "Generating val split: 0 examples [00:00, ? examples/s]"
            ],
            "application/vnd.jupyter.widget-view+json": {
              "version_major": 2,
              "version_minor": 0,
              "model_id": "60d725e9e2c9474298e921caf3e847c8"
            }
          },
          "metadata": {}
        },
        {
          "output_type": "stream",
          "name": "stderr",
          "text": [
            "2024-05-11 21:50:30 - INFO - Label distribution - Train: Counter({2: 2525, 0: 2525}), Val: Counter({2: 1334, 0: 1334})\n"
          ]
        }
      ]
    },
    {
      "cell_type": "markdown",
      "source": [
        "## Note how USB has 6x the trainset of FIB, and can be increased another 3x if we mix in the valset"
      ],
      "metadata": {
        "id": "sgp_WkmfghOr"
      }
    },
    {
      "cell_type": "code",
      "source": [
        "# Tokenize data in batch\n",
        "def tokenize(row):\n",
        "    return tokenizer(row['premise'], row['hypothesis'], truncation='only_first', padding='max_length', max_length=512)\n",
        "\n",
        "fib_ds = fib_ds.map(tokenize, batched=True)\n",
        "usb_ds = usb_ds.map(tokenize, batched=True)"
      ],
      "metadata": {
        "colab": {
          "base_uri": "https://localhost:8080/",
          "height": 177,
          "referenced_widgets": [
            "fba933ade8814f9ea405c1e385699cfc",
            "b1e06233eddb405f9f2870f79aefbeb7",
            "ca389565776944ad959248393b77be30",
            "7524e75b84014463bc93963935b5ca8f",
            "800596cf4da24095bad3b92e3b7ced4d",
            "aa216430532748e495e9004a17d84ebf",
            "d59d926a238a47e38caecd9122df5869",
            "99e27376b2e94150a02edf7766d9d2dd",
            "5d7d7865602345438cfa92920189f23f",
            "c604a6d4cc35411796f706059f00755e",
            "ff8e32b0dce74aaab818c844b0269cb9",
            "849265f1978742429e4fd4f10d3e558b",
            "d16e904baa1b4343b40742ea0bae8eab",
            "5a79c5ce83f842b48e32c7be24bd3287",
            "d5bf84169bef4e52928ea7eca3b565e0",
            "000d2b80b0b748afb3f9cfa0272395ca",
            "8acfea61d9044810b8778f2c63e4a497",
            "5d19bdf7e2004f3090d0ce2bf804cd7e",
            "1bd936b67d2a41baadaf26c5a2b088fb",
            "38938db38ef24ce9b055c2f69d65fb14",
            "ad32427ad34f448f96e5cb35006423c8",
            "ffa2604aa3d14df68ae234579a24ae9f",
            "cc727db3660f43b6a9c2afebbcf40457",
            "52cc70d3abf543369b5a27e7ff010aa8",
            "49f515edc6784c7da23e858c2c24ba74",
            "da383e9a91d4458fa8cf0f23b3dafa03",
            "aaff0c52c8d64cc7b6f521716a7534d8",
            "669a7eec9c24410f94d1d1e1561ba264",
            "242ba3d2d7974cd5a184ce7b27c9c372",
            "3d612a40ef3347d4abd5876f4857b6bb",
            "fd9eb43b9b1c4756a577e30b6a05397c",
            "d696caed35374d698af0280c1f952db1",
            "2e352c8b820745ce96a12f0fa8d85d91",
            "24bfb683749b42418eca5fb2fbbe761f",
            "7df76fa923b646e4a55139590a16836a",
            "212431452959492380a789af8c764592",
            "4aa0c378c6bd4d94a2397cbb456206e2",
            "3a99c60fd3794791a01996571f953911",
            "21d0a9ca0bb244f2af4c809db8b04305",
            "213e2ea08e9a48358ec0afa656b56b32",
            "a6f48bab34e44279bf13fe0570286c31",
            "e23ecf652a584ff6a6baf45273ea46ee",
            "d2ae23f37f6841f7ad5218af0352aa69",
            "3ff5211fea1448fb84c8336379c5d661",
            "d69595b8664941a5a7ab76cd7f1ab4d0",
            "8cab844419f14586a539bbef9447ca55",
            "18342d211fc247e2a25383b99572dd64",
            "3b1001b099834346bca5833bdbd63334",
            "7157a5df9e1546e98a7095f7e83d1537",
            "ba48d38d534c49d5a641378e119bdb0f",
            "67ecd122a83a499dae392b326bea301b",
            "799ad8d868424aed8da0fdfbed077b16",
            "90a29268c0ec4ac39c4bad243a83eaa8",
            "fe13d6e78d2b4c519540529f71f22db1",
            "007a827de4a74282a42cc5dba8c49306"
          ]
        },
        "id": "VE2fCU7WWWOM",
        "outputId": "ade6682e-b74d-4818-911a-461c5083e2b8"
      },
      "execution_count": null,
      "outputs": [
        {
          "output_type": "display_data",
          "data": {
            "text/plain": [
              "Map:   0%|          | 0/700 [00:00<?, ? examples/s]"
            ],
            "application/vnd.jupyter.widget-view+json": {
              "version_major": 2,
              "version_minor": 0,
              "model_id": "fba933ade8814f9ea405c1e385699cfc"
            }
          },
          "metadata": {}
        },
        {
          "output_type": "display_data",
          "data": {
            "text/plain": [
              "Map:   0%|          | 0/150 [00:00<?, ? examples/s]"
            ],
            "application/vnd.jupyter.widget-view+json": {
              "version_major": 2,
              "version_minor": 0,
              "model_id": "849265f1978742429e4fd4f10d3e558b"
            }
          },
          "metadata": {}
        },
        {
          "output_type": "display_data",
          "data": {
            "text/plain": [
              "Map:   0%|          | 0/150 [00:00<?, ? examples/s]"
            ],
            "application/vnd.jupyter.widget-view+json": {
              "version_major": 2,
              "version_minor": 0,
              "model_id": "cc727db3660f43b6a9c2afebbcf40457"
            }
          },
          "metadata": {}
        },
        {
          "output_type": "display_data",
          "data": {
            "text/plain": [
              "Map:   0%|          | 0/5050 [00:00<?, ? examples/s]"
            ],
            "application/vnd.jupyter.widget-view+json": {
              "version_major": 2,
              "version_minor": 0,
              "model_id": "24bfb683749b42418eca5fb2fbbe761f"
            }
          },
          "metadata": {}
        },
        {
          "output_type": "display_data",
          "data": {
            "text/plain": [
              "Map:   0%|          | 0/2668 [00:00<?, ? examples/s]"
            ],
            "application/vnd.jupyter.widget-view+json": {
              "version_major": 2,
              "version_minor": 0,
              "model_id": "d69595b8664941a5a7ab76cd7f1ab4d0"
            }
          },
          "metadata": {}
        }
      ]
    },
    {
      "cell_type": "code",
      "source": [
        "logger.info(f'FIB: {fib_ds[\"train\"][0][\"premise\"]}')\n",
        "logger.info('-------------------------------------------------------------')\n",
        "logger.info(f'FIB: {fib_ds[\"train\"][0][\"hypothesis\"]}')\n",
        "logger.info('-------------------------------------------------------------')\n",
        "logger.info(f'FIB: {fib_ds[\"train\"][0][\"input_ids\"]}')\n",
        "logger.info('-------------------------------------------------------------')\n",
        "logger.info(f'FIB: {fib_ds[\"train\"][0][\"attention_mask\"]}')"
      ],
      "metadata": {
        "colab": {
          "base_uri": "https://localhost:8080/"
        },
        "id": "IHeOjvLxWiw7",
        "outputId": "f7bab991-ffcd-4d43-e972-8fcd250a7c50"
      },
      "execution_count": null,
      "outputs": [
        {
          "output_type": "stream",
          "name": "stderr",
          "text": [
            "2024-05-11 21:50:33 - INFO - FIB: If you leave your mobile phone somewhere do you worry you will not be able to check it?\n",
            "If any of this sounds familiar, there is a chance you could be spending too much time on social networks.\n",
            "An exclusive online Newsbeat poll suggests that a quarter of 15 to 18-year-olds in the UK feel happier online than they do in real life.\n",
            "Dr Radha from The Surgery on Radio 1 has dealt with patients who have displayed \"a lot of social anxiety\" because they are using social networks too much.\n",
            "\"Being online can provoke a sense of 'I'm not good enough, everyone else is having an amazing life',\" she explained.\n",
            "\"It doesn't give us a sense of reality and actually what you will find is most people are probably doing the same thing as you are.\"\n",
            "The survey, carried out last month, also suggests a third of 15 to 18-year-olds have met someone in person they originally met through social media.\n",
            "Dr Radha has said it is important people carefully consider what information they share with the online community.\n",
            "\"What this survey showed is a lot of people go online alone,\" she said.\n",
            "\"In terms of our personal details and how we respond to messages from other people, we need to make sure we are looking after all of that safely.\"\n",
            "Dr Radha was concerned that some people feel safer dealing with people online, rather than in person.\n",
            "\"The more time we spend online, the less we are able to develop our social skills,\" she explained.\n",
            "\"When you are online you're not getting eye contact with people or perceiving how body language is changing, so as a result what people are saying can be misinterpreted.\n",
            "\"Physical contact, like a hug and a kiss, is really important. You don't get that kind of emotional confidence from being online.\"\n",
            "If your online activity is leaving you feeling anxious, Dr Radha has advised that you should \"slowly try to wean yourself off it\".\n",
            "She said: \"If you are worrying, 'what's going on? What am I missing?' It's a sign that being online too much is quite bad for you.\n",
            "\"Give yourself some rules by saying, 'I'm only going to check things three times a day for this amount of time'.\"\n",
            "BBC Radio 1's The Surgery with Aled and Dr Radha is on Wednesday's at 9pm.\n",
            "Follow @BBCNewsbeat on Twitter and Radio1Newsbeat on YouTube\n",
            "2024-05-11 21:50:33 - INFO - -------------------------------------------------------------\n",
            "2024-05-11 21:50:33 - INFO - FIB: You may be worried about your health, but what if you are online?\n",
            "2024-05-11 21:50:33 - INFO - -------------------------------------------------------------\n",
            "2024-05-11 21:50:33 - INFO - FIB: [0, 1106, 47, 989, 110, 1830, 1028, 6152, 109, 47, 4022, 47, 40, 45, 28, 441, 7, 1649, 24, 116, 50118, 1106, 143, 9, 42, 4428, 2950, 6, 89, 16, 10, 778, 47, 115, 28, 1408, 350, 203, 86, 15, 592, 4836, 4, 50118, 4688, 5451, 804, 491, 13825, 2902, 3649, 14, 10, 297, 9, 379, 7, 504, 12, 180, 12, 10736, 11, 5, 987, 619, 16265, 804, 87, 51, 109, 11, 588, 301, 4, 50118, 14043, 7312, 1999, 31, 20, 26793, 15, 4611, 112, 34, 7911, 19, 1484, 54, 33, 7899, 22, 102, 319, 9, 592, 6882, 113, 142, 51, 32, 634, 592, 4836, 350, 203, 4, 50118, 113, 15952, 804, 64, 28184, 10, 1472, 9, 128, 100, 437, 45, 205, 615, 6, 961, 1493, 16, 519, 41, 2770, 301, 24095, 79, 2002, 4, 50118, 113, 243, 630, 75, 492, 201, 10, 1472, 9, 2015, 8, 888, 99, 47, 40, 465, 16, 144, 82, 32, 1153, 608, 5, 276, 631, 25, 47, 32, 72, 50118, 133, 2658, 6, 2584, 66, 94, 353, 6, 67, 3649, 10, 371, 9, 379, 7, 504, 12, 180, 12, 10736, 33, 1145, 951, 11, 621, 51, 3249, 1145, 149, 592, 433, 4, 50118, 14043, 7312, 1999, 34, 26, 24, 16, 505, 82, 7015, 1701, 99, 335, 51, 458, 19, 5, 804, 435, 4, 50118, 113, 2264, 42, 2658, 969, 16, 10, 319, 9, 82, 213, 804, 1937, 60, 79, 26, 4, 50118, 113, 1121, 1110, 9, 84, 1081, 1254, 8, 141, 52, 2519, 7, 3731, 31, 97, 82, 6, 52, 240, 7, 146, 686, 52, 32, 546, 71, 70, 9, 14, 7385, 72, 50118, 14043, 7312, 1999, 21, 2273, 14, 103, 82, 619, 8788, 4098, 19, 82, 804, 6, 1195, 87, 11, 621, 4, 50118, 113, 133, 55, 86, 52, 1930, 804, 6, 5, 540, 52, 32, 441, 7, 2179, 84, 592, 2417, 60, 79, 2002, 4, 50118, 113, 1779, 47, 32, 804, 47, 214, 45, 562, 2295, 1511, 19, 82, 50, 37150, 9404, 141, 809, 2777, 16, 2992, 6, 98, 25, 10, 898, 99, 82, 32, 584, 64, 28, 36939, 196, 4, 50118, 113, 46577, 1511, 6, 101, 10, 16531, 8, 10, 13301, 6, 16, 269, 505, 4, 370, 218, 75, 120, 14, 761, 9, 3722, 2123, 31, 145, 804, 72, 50118, 1106, 110, 804, 1940, 16, 1618, 47, 2157, 13473, 6, 925, 7312, 1999, 34, 5578, 14, 47, 197, 22, 33234, 352, 860, 7, 52, 260, 2512, 160, 24, 845, 50118, 2515, 26, 35, 22, 1106, 47, 32, 12648, 6, 128, 12196, 18, 164, 15, 116, 653, 524, 38, 1716, 6600, 85, 18, 10, 1203, 14, 145, 804, 350, 203, 16, 1341, 1099, 13, 47, 4, 50118, 113, 31033, 2512, 103, 1492, 30, 584, 6, 128, 100, 437, 129, 164, 7, 1649, 383, 130, 498, 10, 183, 13, 42, 1280, 9, 86, 24992, 50118, 28713, 4611, 112, 18, 20, 26793, 19, 726, 196, 8, 925, 7312, 1999, 16, 15, 307, 18, 23, 361, 1685, 4, 50118, 2, 2, 1185, 189, 28, 3915, 59, 110, 474, 6, 53, 99, 114, 47, 32, 804, 116, 2]\n",
            "2024-05-11 21:50:33 - INFO - -------------------------------------------------------------\n",
            "2024-05-11 21:50:33 - INFO - FIB: [1, 1, 1, 1, 1, 1, 1, 1, 1, 1, 1, 1, 1, 1, 1, 1, 1, 1, 1, 1, 1, 1, 1, 1, 1, 1, 1, 1, 1, 1, 1, 1, 1, 1, 1, 1, 1, 1, 1, 1, 1, 1, 1, 1, 1, 1, 1, 1, 1, 1, 1, 1, 1, 1, 1, 1, 1, 1, 1, 1, 1, 1, 1, 1, 1, 1, 1, 1, 1, 1, 1, 1, 1, 1, 1, 1, 1, 1, 1, 1, 1, 1, 1, 1, 1, 1, 1, 1, 1, 1, 1, 1, 1, 1, 1, 1, 1, 1, 1, 1, 1, 1, 1, 1, 1, 1, 1, 1, 1, 1, 1, 1, 1, 1, 1, 1, 1, 1, 1, 1, 1, 1, 1, 1, 1, 1, 1, 1, 1, 1, 1, 1, 1, 1, 1, 1, 1, 1, 1, 1, 1, 1, 1, 1, 1, 1, 1, 1, 1, 1, 1, 1, 1, 1, 1, 1, 1, 1, 1, 1, 1, 1, 1, 1, 1, 1, 1, 1, 1, 1, 1, 1, 1, 1, 1, 1, 1, 1, 1, 1, 1, 1, 1, 1, 1, 1, 1, 1, 1, 1, 1, 1, 1, 1, 1, 1, 1, 1, 1, 1, 1, 1, 1, 1, 1, 1, 1, 1, 1, 1, 1, 1, 1, 1, 1, 1, 1, 1, 1, 1, 1, 1, 1, 1, 1, 1, 1, 1, 1, 1, 1, 1, 1, 1, 1, 1, 1, 1, 1, 1, 1, 1, 1, 1, 1, 1, 1, 1, 1, 1, 1, 1, 1, 1, 1, 1, 1, 1, 1, 1, 1, 1, 1, 1, 1, 1, 1, 1, 1, 1, 1, 1, 1, 1, 1, 1, 1, 1, 1, 1, 1, 1, 1, 1, 1, 1, 1, 1, 1, 1, 1, 1, 1, 1, 1, 1, 1, 1, 1, 1, 1, 1, 1, 1, 1, 1, 1, 1, 1, 1, 1, 1, 1, 1, 1, 1, 1, 1, 1, 1, 1, 1, 1, 1, 1, 1, 1, 1, 1, 1, 1, 1, 1, 1, 1, 1, 1, 1, 1, 1, 1, 1, 1, 1, 1, 1, 1, 1, 1, 1, 1, 1, 1, 1, 1, 1, 1, 1, 1, 1, 1, 1, 1, 1, 1, 1, 1, 1, 1, 1, 1, 1, 1, 1, 1, 1, 1, 1, 1, 1, 1, 1, 1, 1, 1, 1, 1, 1, 1, 1, 1, 1, 1, 1, 1, 1, 1, 1, 1, 1, 1, 1, 1, 1, 1, 1, 1, 1, 1, 1, 1, 1, 1, 1, 1, 1, 1, 1, 1, 1, 1, 1, 1, 1, 1, 1, 1, 1, 1, 1, 1, 1, 1, 1, 1, 1, 1, 1, 1, 1, 1, 1, 1, 1, 1, 1, 1, 1, 1, 1, 1, 1, 1, 1, 1, 1, 1, 1, 1, 1, 1, 1, 1, 1, 1, 1, 1, 1, 1, 1, 1, 1, 1, 1, 1, 1, 1, 1, 1, 1, 1, 1, 1, 1, 1, 1, 1, 1, 1, 1, 1, 1, 1, 1, 1, 1, 1, 1, 1, 1, 1, 1, 1, 1, 1, 1, 1, 1, 1, 1, 1, 1]\n"
          ]
        }
      ]
    },
    {
      "cell_type": "code",
      "source": [
        "logger.info(f'USB: {usb_ds[\"train\"][0][\"premise\"]}')\n",
        "logger.info('-------------------------------------------------------------')\n",
        "logger.info(f'USB: {usb_ds[\"train\"][0][\"hypothesis\"]}')\n",
        "logger.info('-------------------------------------------------------------')\n",
        "logger.info(f'USB: {usb_ds[\"train\"][0][\"input_ids\"]}')\n",
        "logger.info('-------------------------------------------------------------')\n",
        "logger.info(f'USB: {usb_ds[\"train\"][0][\"attention_mask\"]}')"
      ],
      "metadata": {
        "colab": {
          "base_uri": "https://localhost:8080/"
        },
        "id": "mPyAY3C0kQRc",
        "outputId": "f85b095b-1715-4625-efc7-071e9cb59e31"
      },
      "execution_count": null,
      "outputs": [
        {
          "output_type": "stream",
          "name": "stderr",
          "text": [
            "2024-05-11 21:50:33 - INFO - USB: Wendy Jane Crewson Crewson was born in Hamilton, Ontario, the daughter of June Doreen (née Thomas) and Robert Binnie Crewson. Also in 2012, Crewson began playing Dr. Dana Kinny in the CTV medical drama \"Saving Hope\", for which she received Canadian Screen Award for Best Supporting Actress in a Drama Program or Series in 2013.\n",
            "2024-05-11 21:50:33 - INFO - -------------------------------------------------------------\n",
            "2024-05-11 21:50:33 - INFO - USB: Wendy Jane Crewson is a Canadian actress.\n",
            "2024-05-11 21:50:33 - INFO - -------------------------------------------------------------\n",
            "2024-05-11 21:50:33 - INFO - USB: [0, 771, 1397, 219, 7343, 10493, 1478, 10493, 1478, 21, 2421, 11, 4127, 6, 4170, 6, 5, 1354, 9, 502, 211, 1688, 225, 36, 282, 9703, 1813, 43, 8, 1738, 163, 31854, 10493, 1478, 4, 1578, 11, 1125, 6, 10493, 1478, 880, 816, 925, 4, 11014, 12823, 2855, 11, 5, 230, 2915, 1131, 4149, 22, 104, 13286, 8012, 1297, 13, 61, 79, 829, 1563, 14828, 3683, 13, 2700, 26515, 13505, 11, 10, 22916, 4928, 50, 3265, 11, 1014, 4, 2, 2, 771, 1397, 219, 7343, 10493, 1478, 16, 10, 1563, 3390, 4, 2, 1, 1, 1, 1, 1, 1, 1, 1, 1, 1, 1, 1, 1, 1, 1, 1, 1, 1, 1, 1, 1, 1, 1, 1, 1, 1, 1, 1, 1, 1, 1, 1, 1, 1, 1, 1, 1, 1, 1, 1, 1, 1, 1, 1, 1, 1, 1, 1, 1, 1, 1, 1, 1, 1, 1, 1, 1, 1, 1, 1, 1, 1, 1, 1, 1, 1, 1, 1, 1, 1, 1, 1, 1, 1, 1, 1, 1, 1, 1, 1, 1, 1, 1, 1, 1, 1, 1, 1, 1, 1, 1, 1, 1, 1, 1, 1, 1, 1, 1, 1, 1, 1, 1, 1, 1, 1, 1, 1, 1, 1, 1, 1, 1, 1, 1, 1, 1, 1, 1, 1, 1, 1, 1, 1, 1, 1, 1, 1, 1, 1, 1, 1, 1, 1, 1, 1, 1, 1, 1, 1, 1, 1, 1, 1, 1, 1, 1, 1, 1, 1, 1, 1, 1, 1, 1, 1, 1, 1, 1, 1, 1, 1, 1, 1, 1, 1, 1, 1, 1, 1, 1, 1, 1, 1, 1, 1, 1, 1, 1, 1, 1, 1, 1, 1, 1, 1, 1, 1, 1, 1, 1, 1, 1, 1, 1, 1, 1, 1, 1, 1, 1, 1, 1, 1, 1, 1, 1, 1, 1, 1, 1, 1, 1, 1, 1, 1, 1, 1, 1, 1, 1, 1, 1, 1, 1, 1, 1, 1, 1, 1, 1, 1, 1, 1, 1, 1, 1, 1, 1, 1, 1, 1, 1, 1, 1, 1, 1, 1, 1, 1, 1, 1, 1, 1, 1, 1, 1, 1, 1, 1, 1, 1, 1, 1, 1, 1, 1, 1, 1, 1, 1, 1, 1, 1, 1, 1, 1, 1, 1, 1, 1, 1, 1, 1, 1, 1, 1, 1, 1, 1, 1, 1, 1, 1, 1, 1, 1, 1, 1, 1, 1, 1, 1, 1, 1, 1, 1, 1, 1, 1, 1, 1, 1, 1, 1, 1, 1, 1, 1, 1, 1, 1, 1, 1, 1, 1, 1, 1, 1, 1, 1, 1, 1, 1, 1, 1, 1, 1, 1, 1, 1, 1, 1, 1, 1, 1, 1, 1, 1, 1, 1, 1, 1, 1, 1, 1, 1, 1, 1, 1, 1, 1, 1, 1, 1, 1, 1, 1, 1, 1, 1, 1, 1, 1, 1, 1, 1, 1, 1, 1, 1, 1, 1, 1, 1, 1, 1, 1, 1, 1, 1, 1, 1, 1, 1, 1, 1, 1, 1, 1, 1, 1, 1, 1, 1, 1, 1, 1, 1, 1, 1, 1, 1, 1, 1, 1, 1, 1, 1]\n",
            "2024-05-11 21:50:33 - INFO - -------------------------------------------------------------\n",
            "2024-05-11 21:50:33 - INFO - USB: [1, 1, 1, 1, 1, 1, 1, 1, 1, 1, 1, 1, 1, 1, 1, 1, 1, 1, 1, 1, 1, 1, 1, 1, 1, 1, 1, 1, 1, 1, 1, 1, 1, 1, 1, 1, 1, 1, 1, 1, 1, 1, 1, 1, 1, 1, 1, 1, 1, 1, 1, 1, 1, 1, 1, 1, 1, 1, 1, 1, 1, 1, 1, 1, 1, 1, 1, 1, 1, 1, 1, 1, 1, 1, 1, 1, 1, 1, 1, 1, 1, 1, 1, 1, 1, 1, 1, 1, 1, 1, 1, 1, 1, 0, 0, 0, 0, 0, 0, 0, 0, 0, 0, 0, 0, 0, 0, 0, 0, 0, 0, 0, 0, 0, 0, 0, 0, 0, 0, 0, 0, 0, 0, 0, 0, 0, 0, 0, 0, 0, 0, 0, 0, 0, 0, 0, 0, 0, 0, 0, 0, 0, 0, 0, 0, 0, 0, 0, 0, 0, 0, 0, 0, 0, 0, 0, 0, 0, 0, 0, 0, 0, 0, 0, 0, 0, 0, 0, 0, 0, 0, 0, 0, 0, 0, 0, 0, 0, 0, 0, 0, 0, 0, 0, 0, 0, 0, 0, 0, 0, 0, 0, 0, 0, 0, 0, 0, 0, 0, 0, 0, 0, 0, 0, 0, 0, 0, 0, 0, 0, 0, 0, 0, 0, 0, 0, 0, 0, 0, 0, 0, 0, 0, 0, 0, 0, 0, 0, 0, 0, 0, 0, 0, 0, 0, 0, 0, 0, 0, 0, 0, 0, 0, 0, 0, 0, 0, 0, 0, 0, 0, 0, 0, 0, 0, 0, 0, 0, 0, 0, 0, 0, 0, 0, 0, 0, 0, 0, 0, 0, 0, 0, 0, 0, 0, 0, 0, 0, 0, 0, 0, 0, 0, 0, 0, 0, 0, 0, 0, 0, 0, 0, 0, 0, 0, 0, 0, 0, 0, 0, 0, 0, 0, 0, 0, 0, 0, 0, 0, 0, 0, 0, 0, 0, 0, 0, 0, 0, 0, 0, 0, 0, 0, 0, 0, 0, 0, 0, 0, 0, 0, 0, 0, 0, 0, 0, 0, 0, 0, 0, 0, 0, 0, 0, 0, 0, 0, 0, 0, 0, 0, 0, 0, 0, 0, 0, 0, 0, 0, 0, 0, 0, 0, 0, 0, 0, 0, 0, 0, 0, 0, 0, 0, 0, 0, 0, 0, 0, 0, 0, 0, 0, 0, 0, 0, 0, 0, 0, 0, 0, 0, 0, 0, 0, 0, 0, 0, 0, 0, 0, 0, 0, 0, 0, 0, 0, 0, 0, 0, 0, 0, 0, 0, 0, 0, 0, 0, 0, 0, 0, 0, 0, 0, 0, 0, 0, 0, 0, 0, 0, 0, 0, 0, 0, 0, 0, 0, 0, 0, 0, 0, 0, 0, 0, 0, 0, 0, 0, 0, 0, 0, 0, 0, 0, 0, 0, 0, 0, 0, 0, 0, 0, 0, 0, 0, 0, 0, 0, 0, 0, 0, 0, 0, 0, 0, 0, 0, 0, 0, 0, 0, 0, 0, 0, 0, 0, 0, 0, 0, 0, 0, 0, 0, 0, 0, 0, 0, 0, 0, 0, 0, 0, 0, 0, 0, 0, 0, 0, 0, 0, 0, 0]\n"
          ]
        }
      ]
    },
    {
      "cell_type": "markdown",
      "source": [
        "## Set up model"
      ],
      "metadata": {
        "id": "xqHL30dwYhv-"
      }
    },
    {
      "cell_type": "code",
      "source": [
        "# Define params\n",
        "LEARNING_RATE=5e-5\n",
        "BATCH_SIZE=16\n",
        "R=16\n",
        "EPOCHS=10\n",
        "EVAL_STEPS=40\n",
        "LORA_DROPOUT=0.1\n",
        "LORA_ALPHA=32\n",
        "MAX_STEPS=-1"
      ],
      "metadata": {
        "id": "OpSoaU8MYhOy"
      },
      "execution_count": null,
      "outputs": []
    },
    {
      "cell_type": "code",
      "source": [
        "bnb_config = BitsAndBytesConfig(\n",
        "    load_in_4bit=True,\n",
        "    bnb_4bit_quant_type='nf4',\n",
        "    bnb_4bit_compute_dtype=torch.bfloat16,\n",
        "    bnb_4bit_use_double_quant=False,\n",
        ")"
      ],
      "metadata": {
        "id": "QSKjAxP0Xew6"
      },
      "execution_count": null,
      "outputs": []
    },
    {
      "cell_type": "code",
      "source": [
        "# Load model\n",
        "model = BartForSequenceClassification.from_pretrained(model_id, quantization_config=bnb_config, device_map='auto', num_labels=3)"
      ],
      "metadata": {
        "colab": {
          "base_uri": "https://localhost:8080/"
        },
        "id": "u_z4_-EfYrTv",
        "outputId": "1a5bde89-90b8-46ad-9652-faa47fdbcba3"
      },
      "execution_count": null,
      "outputs": [
        {
          "output_type": "stream",
          "name": "stderr",
          "text": [
            "/usr/local/lib/python3.10/dist-packages/huggingface_hub/file_download.py:1132: FutureWarning: `resume_download` is deprecated and will be removed in version 1.0.0. Downloads always resume when possible. If you want to force a new download, use `force_download=True`.\n",
            "  warnings.warn(\n",
            "2024-05-11 21:50:34 - INFO - We will use 90% of the memory on device 0 for storing the model, and 10% for the buffer to avoid OOM. You can set `max_memory` in to a higher value to use more memory (at your own risk).\n"
          ]
        }
      ]
    },
    {
      "cell_type": "code",
      "source": [
        "# Configure lora\n",
        "config = LoraConfig(\n",
        "    r=R,\n",
        "    lora_alpha=LORA_ALPHA,  # Keep lora alpha constant (per https://arxiv.org/abs/2305.14314) as it is proportional to learning rate\n",
        "    target_modules=['k_proj', 'v_proj', 'q_proj', 'out_proj', 'fc1', 'fc2'],\n",
        "    lora_dropout=LORA_DROPOUT,\n",
        "    bias=\"none\",\n",
        "    task_type=TaskType.SEQ_CLS\n",
        ")\n",
        "\n",
        "model.enable_input_require_grads()\n",
        "model = get_peft_model(model, config)"
      ],
      "metadata": {
        "id": "h8RzCqXOYtkS"
      },
      "execution_count": null,
      "outputs": []
    },
    {
      "cell_type": "code",
      "source": [
        "def print_trainable_parameters(model):\n",
        "    \"\"\"\n",
        "    Prints the number of trainable parameters in the model.\n",
        "    \"\"\"\n",
        "    trainable_params = 0\n",
        "    all_param = 0\n",
        "    for _, param in model.named_parameters():\n",
        "        all_param += param.numel()\n",
        "        if param.requires_grad:\n",
        "            trainable_params += param.numel()\n",
        "\n",
        "    trainable_prop = 100 * trainable_params / all_param\n",
        "\n",
        "    logger.info(f\"all params: {all_param:,} | trainable: {trainable_params:,} ({trainable_prop:.2f}%)\")\n",
        "\n",
        "print_trainable_parameters(model)"
      ],
      "metadata": {
        "colab": {
          "base_uri": "https://localhost:8080/"
        },
        "id": "Sv060S5QrqXD",
        "outputId": "16cfb893-191f-4fbc-cfa8-1e73718a572c"
      },
      "execution_count": null,
      "outputs": [
        {
          "output_type": "stream",
          "name": "stderr",
          "text": [
            "2024-05-11 21:50:35 - INFO - all params: 142,151,731 | trainable: 3,981,360 (2.80%)\n"
          ]
        }
      ]
    },
    {
      "cell_type": "code",
      "source": [
        "# Preprocess only logits to save memory\n",
        "def preprocess_logits_for_metrics(logits, labels):\n",
        "    \"\"\"\n",
        "    Returns the probability of contradiction (aka factual inconsistency aka hallucination)\n",
        "    \"\"\"\n",
        "    # Exclude dim = 1 on the logits, compute softmax, and get prob of the 0 label (i.e., contradiction)\n",
        "    probs = F.softmax(logits[0][:, [0, 2]], dim=1)[:, 0]\n",
        "    return probs\n",
        "\n",
        "# Compute multiple metrics at once\n",
        "def compute_metrics(eval_pred: transformers.EvalPrediction) -> Dict[str, float]:\n",
        "    labels = eval_pred.label_ids\n",
        "    probs = eval_pred.predictions\n",
        "    probs_thresholded = np.where(probs >= 0.80, 1, 0)  # Assign score > 0.8 = 1 (aka contradiction)\n",
        "\n",
        "    # Update labels so 2 (entailment) is now 0, and 0 (contradiction) is now 1 because we want to focus on the latter\n",
        "    labels = np.where(labels==2, 0, 1)  # If label = 2, return 0, else, return 1\n",
        "\n",
        "    # Compute metrics\n",
        "    pr_auc = average_precision_score(labels, probs)\n",
        "    roc_auc = roc_auc_score(labels, probs)\n",
        "    recall = recall_score(labels, probs_thresholded)\n",
        "    precision = precision_score(labels, probs_thresholded)\n",
        "\n",
        "    return {'prauc': pr_auc, 'rocauc': roc_auc, 'recall': recall, 'precision': precision}"
      ],
      "metadata": {
        "id": "myiHTHDoYvQ4"
      },
      "execution_count": null,
      "outputs": []
    },
    {
      "cell_type": "code",
      "source": [
        "# See updates needed: https://github.com/huggingface/transformers/issues/20565\n",
        "# See Trainer implementation: https://github.com/huggingface/transformers/blob/v4.31.0/src/transformers/trainer.py#L225\n",
        "class CustomTrainer(Trainer):\n",
        "\n",
        "    def __init__(self, eval_before_train=True, *args, **kwargs):\n",
        "        super(CustomTrainer, self).__init__(*args, **kwargs)\n",
        "        self.eval_before_train = eval_before_train\n",
        "\n",
        "    def train(self, resume_from_checkpoint=None, trial=None, **kwargs):\n",
        "        metrics = None\n",
        "        if self.eval_before_train:\n",
        "            self.state.global_step = 0\n",
        "            if isinstance(self.eval_dataset, dict):\n",
        "                all_metrics = {}\n",
        "                for eval_dataset_name, eval_dataset in self.eval_dataset.items():\n",
        "                    metrics = self.evaluate(\n",
        "                        eval_dataset=eval_dataset,\n",
        "                        # ignore_keys=ignore_keys_for_eval,\n",
        "                        metric_key_prefix=f\"eval_{eval_dataset_name}\", multiple=True,\n",
        "                    )\n",
        "                    logger.info(f'Step 0 metrics: {metrics}')\n",
        "                    for key, value in metrics.items():\n",
        "                        self.log({key: value})\n",
        "                    all_metrics = {**all_metrics, **metrics}\n",
        "                self.control = self.callback_handler.on_evaluate(self.args, self.state, self.control, all_metrics)\n",
        "                metrics = all_metrics\n",
        "            else:\n",
        "                metrics = self.evaluate(ignore_keys=ignore_keys_for_eval, multiple=False)\n",
        "            self._report_to_hp_search(trial, self.state.global_step, metrics)\n",
        "            self.eval_before_train = False\n",
        "\n",
        "        # Call the original train method\n",
        "        super(CustomTrainer, self).train(resume_from_checkpoint, trial, **kwargs)\n",
        "\n",
        "    def evaluate(\n",
        "        self,\n",
        "        eval_dataset: Optional[Dataset] = None,\n",
        "        ignore_keys: Optional[List[str]] = None,\n",
        "        metric_key_prefix: str = \"eval\",\n",
        "        multiple=False,\n",
        "    ) -> Dict[str, float]:\n",
        "        # memory metrics - must set up as early as possible\n",
        "        self._memory_tracker.start()\n",
        "\n",
        "        eval_dataloader = self.get_eval_dataloader(eval_dataset)\n",
        "        start_time = time.time()\n",
        "\n",
        "        eval_loop = self.prediction_loop if self.args.use_legacy_prediction_loop else self.evaluation_loop\n",
        "        output = eval_loop(\n",
        "            eval_dataloader,\n",
        "            description=\"Evaluation\",\n",
        "            # No point gathering the predictions if there are no metrics, otherwise we defer to\n",
        "            # self.args.prediction_loss_only\n",
        "            prediction_loss_only=True if self.compute_metrics is None else None,\n",
        "            ignore_keys=ignore_keys,\n",
        "            metric_key_prefix=metric_key_prefix,\n",
        "        )\n",
        "\n",
        "        total_batch_size = self.args.eval_batch_size * self.args.world_size\n",
        "\n",
        "        self.log(output.metrics)\n",
        "\n",
        "        # self.control = self.callback_handler.on_evaluate(self.args, self.state, self.control, output.metrics)\n",
        "        if not multiple:\n",
        "            self.control = self.callback_handler.on_evaluate(self.args, self.state, self.control, output.metrics)\n",
        "\n",
        "        self._memory_tracker.stop_and_update_metrics(output.metrics)\n",
        "\n",
        "        return output.metrics\n",
        "\n",
        "    def _maybe_log_save_evaluate(self, tr_loss, model, trial, epoch, ignore_keys_for_eval):\n",
        "        if self.control.should_log:\n",
        "\n",
        "            logs: Dict[str, float] = {}\n",
        "\n",
        "            # all_gather + mean() to get average loss over all processes\n",
        "            tr_loss_scalar = self._nested_gather(tr_loss).mean().item()\n",
        "\n",
        "            # reset tr_loss to zero\n",
        "            tr_loss -= tr_loss\n",
        "\n",
        "            logs[\"loss\"] = round(tr_loss_scalar / (self.state.global_step - self._globalstep_last_logged), 4)\n",
        "            logs[\"learning_rate\"] = self._get_learning_rate()\n",
        "\n",
        "            self._total_loss_scalar += tr_loss_scalar\n",
        "            self._globalstep_last_logged = self.state.global_step\n",
        "            self.store_flos()\n",
        "\n",
        "            self.log(logs)\n",
        "\n",
        "        metrics = None\n",
        "        if self.control.should_evaluate:\n",
        "            if isinstance(self.eval_dataset, dict):\n",
        "                all_metrics = {}\n",
        "                for eval_dataset_name, eval_dataset in self.eval_dataset.items():\n",
        "                    metrics = self.evaluate(\n",
        "                        eval_dataset=eval_dataset,\n",
        "                        ignore_keys=ignore_keys_for_eval,\n",
        "                        metric_key_prefix=f\"eval_{eval_dataset_name}\", multiple=True,\n",
        "                    )\n",
        "                    all_metrics = {**all_metrics, **metrics}\n",
        "                self.control = self.callback_handler.on_evaluate(self.args, self.state, self.control, all_metrics)\n",
        "                metrics = all_metrics\n",
        "            else:\n",
        "                metrics = self.evaluate(ignore_keys=ignore_keys_for_eval, multiple=False)\n",
        "            self._report_to_hp_search(trial, self.state.global_step, metrics)\n",
        "\n",
        "        if self.control.should_save:\n",
        "            self._save_checkpoint(model, trial, metrics=metrics)\n",
        "            self.control = self.callback_handler.on_save(self.args, self.state, self.control)\n",
        "\n",
        "    def get_eval_dataloader(self, eval_dataset=None):\n",
        "        if eval_dataset is None and isinstance(self.eval_dataset, dict):\n",
        "            # handle dictionary of datasets logic here\n",
        "            # for this example, let's just return the 'fib' dataset dataloader\n",
        "            eval_dataset = self.eval_dataset['set']\n",
        "        return super().get_eval_dataloader(eval_dataset)"
      ],
      "metadata": {
        "id": "3TBskSIsh_K9"
      },
      "execution_count": null,
      "outputs": []
    },
    {
      "cell_type": "code",
      "source": [
        "# Set training arguments\n",
        "training_args = transformers.TrainingArguments(\n",
        "    output_dir='/content/drive/My Drive/Colab Notebooks/usb-only',\n",
        "    learning_rate=LEARNING_RATE,\n",
        "    per_device_train_batch_size=BATCH_SIZE,\n",
        "    per_device_eval_batch_size=BATCH_SIZE * 2,  # Bigger batch size for eval\n",
        "    num_train_epochs=EPOCHS,\n",
        "    evaluation_strategy='steps',\n",
        "    eval_steps=EVAL_STEPS,\n",
        "    gradient_accumulation_steps=4,\n",
        "    optim='paged_adamw_32bit',\n",
        "    bf16=False,\n",
        "    max_steps=MAX_STEPS,\n",
        "    save_strategy=IntervalStrategy.STEPS,\n",
        "    save_steps=EVAL_STEPS,\n",
        "    logging_steps=EVAL_STEPS,\n",
        "    metric_for_best_model='fib_rocauc',\n",
        "    greater_is_better=True,\n",
        "    load_best_model_at_end=True,\n",
        ")"
      ],
      "metadata": {
        "id": "U1nAN5MjaRu3"
      },
      "execution_count": null,
      "outputs": []
    },
    {
      "cell_type": "markdown",
      "source": [
        "## Set up trainer to finetune on USB data\n",
        "- Note: label = 0 is after edit/factual consistency; label = 1 is before edit/factual inconsistency\n",
        "- https://github.com/kukrishna/usb/blob/master/dataset_creators/usb_fac.py#L83"
      ],
      "metadata": {
        "id": "LBnndpAvosRH"
      }
    },
    {
      "cell_type": "code",
      "source": [
        "# trainer = Trainer(\n",
        "#     model=model,\n",
        "#     args=training_args,\n",
        "#     train_dataset=usb_ds['train'],\n",
        "#     eval_dataset=usb_ds['val'],\n",
        "#     compute_metrics=compute_metrics,\n",
        "#     preprocess_logits_for_metrics=preprocess_logits_for_metrics\n",
        "# )\n",
        "\n",
        "trainer = CustomTrainer(\n",
        "    model=model,\n",
        "    args=training_args,\n",
        "    train_dataset=usb_ds['train'],\n",
        "    eval_dataset={'usb': usb_ds['val'], 'fib': fib_ds['val']},  # Custom trainer supports two eval datasets!\n",
        "    compute_metrics=compute_metrics,\n",
        "    preprocess_logits_for_metrics=preprocess_logits_for_metrics,\n",
        "    eval_before_train=True)"
      ],
      "metadata": {
        "id": "oKi0x00ZaVCN",
        "colab": {
          "base_uri": "https://localhost:8080/"
        },
        "outputId": "496ab0cd-b452-440e-e6cf-022a09cb9aa4"
      },
      "execution_count": null,
      "outputs": [
        {
          "output_type": "stream",
          "name": "stderr",
          "text": [
            "/usr/local/lib/python3.10/dist-packages/accelerate/accelerator.py:446: FutureWarning: Passing the following arguments to `Accelerator` is deprecated and will be removed in version 1.0 of Accelerate: dict_keys(['dispatch_batches', 'split_batches']). Please pass an `accelerate.DataLoaderConfiguration` instead: \n",
            "dataloader_config = DataLoaderConfiguration(dispatch_batches=None, split_batches=False)\n",
            "  warnings.warn(\n"
          ]
        }
      ]
    },
    {
      "cell_type": "markdown",
      "source": [
        "## Check evals before finetuning"
      ],
      "metadata": {
        "id": "N0IJuJ8pa1AC"
      }
    },
    {
      "cell_type": "code",
      "source": [
        "def kl_divergence(p, q):\n",
        "    return np.sum(p * np.log(p / q))\n",
        "\n",
        "def js_divergence(p, q):\n",
        "    m = 0.5 * (p + q)\n",
        "    return 0.5 * (kl_divergence(p, m) + kl_divergence(q, m))\n",
        "\n",
        "def visualize_preds(y, y_pred, model_name):\n",
        "    df = pd.DataFrame({'label': y, 'pred_proba': y_pred})\n",
        "\n",
        "    # Compute ROCAUC metrics\n",
        "    rocauc = roc_auc_score(df['label'], df['pred_proba'])\n",
        "    fpr, tpr, thresholds = roc_curve(df['label'], df['pred_proba'])\n",
        "    baseline = np.sum(df['label']) / len(df)\n",
        "\n",
        "    # Compute PRAUC metrics\n",
        "    prauc = average_precision_score(df['label'], df['pred_proba'])\n",
        "    prec, rec, thresholds = precision_recall_curve(df['label'], df['pred_proba'])\n",
        "\n",
        "    # Split into consistent and inconsistent for prob distribution\n",
        "    inconsistent = df[df['label'] == 1].reset_index(drop=True)\n",
        "    consistent = df[df['label'] == 0].reset_index(drop=True)\n",
        "    js_div = js_divergence(inconsistent['pred_proba'], consistent['pred_proba'])\n",
        "\n",
        "    # Set up plots\n",
        "    fig, (ax0, ax1, ax2, ax3) = plt.subplots(1, 4, figsize=(13, 3), tight_layout=True)\n",
        "    title_font_size = 10\n",
        "    fig.suptitle(f'{model_name}', fontsize=title_font_size+2, y=1)\n",
        "\n",
        "    # Plot ROC\n",
        "    ax0.grid()\n",
        "    ax0.plot(fpr, tpr, label='ROC')\n",
        "    ax0.plot([0, 1], [0, 1], label='Random chance', linestyle='--', color='red')\n",
        "    ax0.set_xlabel('False positive rate')\n",
        "    ax0.set_ylabel('True positive rate')\n",
        "    ax0.set_title(f'ROC AUC = {rocauc:.2f}', fontsize=title_font_size)\n",
        "    ax0.legend()\n",
        "\n",
        "    # Plot PRAUC\n",
        "    ax1.grid()\n",
        "    ax1.plot(rec, prec, label='PRAUC')\n",
        "    ax1.axhline(y=baseline, label='Baseline', linestyle='--', color='red')\n",
        "    ax1.set_xlabel('Recall')\n",
        "    ax1.set_ylabel('Precision')\n",
        "    ax1.set_xlim((-0.1, 1.1))\n",
        "    ax1.set_ylim((-0.1, 1.1))\n",
        "    ax1.set_title(f'PR AUC = {prauc:.2f}', fontsize=title_font_size)\n",
        "\n",
        "    # Plot Precision & Recall\n",
        "    ax2.grid()\n",
        "    ax2.plot(thresholds, prec[1:], color='red', label='Precision')\n",
        "    ax2.plot(thresholds, rec[1:], color='blue', label='Recall')\n",
        "    ax2.invert_xaxis()\n",
        "    ax2.set_xlabel('Thresholds (1.0 - 0.0)')\n",
        "    ax2.set_ylabel('Precision / Recall')\n",
        "    ax2.set_xlim((1.1, -0.1))\n",
        "    ax2.set_ylim((-0.1, 1.1))\n",
        "    ax2.legend()\n",
        "    ax2.set_title(f'PR AUC = {prauc:.2f}', fontsize=title_font_size)\n",
        "\n",
        "    # Plot prob distribution\n",
        "    ax3.grid()\n",
        "    ax3.hist(inconsistent['pred_proba'], color='red', alpha=0.5, density=True, label='Inconsistent', bins=max(int(inconsistent['pred_proba'].nunique()/20), 20))\n",
        "    ax3.hist(consistent['pred_proba'], color='green', alpha=0.5, density=True, label='Consistent', bins=max(int(inconsistent['pred_proba'].nunique()/20), 20))\n",
        "    ax3.set_xlabel('Prob of inconsistent')\n",
        "    ax3.set_ylabel('Density')\n",
        "    ax3.set_title(f'JS Divergence = {js_div:.3f}', fontsize=title_font_size)\n",
        "    ax3.legend()\n",
        "\n",
        "    plt.show()\n",
        "\n",
        "\n",
        "def compute_metrics_per_threshold(y, y_pred, thresholds=[0.95, 0.90, 0.95, 0.80, 0.75, 0.70, 0.65, 0.60]):\n",
        "    for threshold in thresholds:\n",
        "        preds = (y_pred >= threshold).astype(int)\n",
        "\n",
        "        recall = recall_score(y, preds)\n",
        "        precision = precision_score(y, preds)\n",
        "        logger.info(f'Threshold: {threshold:.2f} - Recall: {recall:.2f}, Precision: {precision:.2f}')"
      ],
      "metadata": {
        "id": "6eWnUCD5k5C2"
      },
      "execution_count": null,
      "outputs": []
    },
    {
      "cell_type": "code",
      "source": [
        "# Get predictions\n",
        "fib_val_preds = trainer.predict(fib_ds['val'])[0]\n",
        "\n",
        "# Get labels and update them so entailment = 0 and contradiction = 1\n",
        "fib_val_labels = np.array(fib_ds['val']['label'])\n",
        "fib_val_labels = np.where(fib_val_labels==2, 0, 1)  # If label = 2, return 0, else, return 1\n",
        "\n",
        "visualize_preds(fib_val_labels, fib_val_preds, 'Pre-finetune on USB (evals for FIB)')\n",
        "compute_metrics_per_threshold(fib_val_labels, fib_val_preds)"
      ],
      "metadata": {
        "colab": {
          "base_uri": "https://localhost:8080/",
          "height": 420
        },
        "id": "g5ylHnAha_oC",
        "outputId": "588aedb5-5530-4adf-c05b-af38523cd77d"
      },
      "execution_count": null,
      "outputs": [
        {
          "output_type": "display_data",
          "data": {
            "text/plain": [
              "<IPython.core.display.HTML object>"
            ],
            "text/html": []
          },
          "metadata": {}
        },
        {
          "output_type": "display_data",
          "data": {
            "text/plain": [
              "<Figure size 1300x300 with 4 Axes>"
            ],
            "image/png": "[encoded data removed]"
          },
          "metadata": {}
        },
        {
          "output_type": "stream",
          "name": "stderr",
          "text": [
            "2024-05-11 21:50:39 - INFO - Threshold: 0.95 - Recall: 0.04, Precision: 0.75\n",
            "2024-05-11 21:50:39 - INFO - Threshold: 0.90 - Recall: 0.15, Precision: 0.61\n",
            "2024-05-11 21:50:39 - INFO - Threshold: 0.95 - Recall: 0.04, Precision: 0.75\n",
            "2024-05-11 21:50:39 - INFO - Threshold: 0.80 - Recall: 0.35, Precision: 0.58\n",
            "2024-05-11 21:50:39 - INFO - Threshold: 0.75 - Recall: 0.44, Precision: 0.57\n",
            "2024-05-11 21:50:39 - INFO - Threshold: 0.70 - Recall: 0.51, Precision: 0.51\n",
            "2024-05-11 21:50:39 - INFO - Threshold: 0.65 - Recall: 0.55, Precision: 0.51\n",
            "2024-05-11 21:50:39 - INFO - Threshold: 0.60 - Recall: 0.61, Precision: 0.52\n"
          ]
        }
      ]
    },
    {
      "cell_type": "code",
      "source": [
        "# df = pd.DataFrame({'label': fib_val_labels, 'pred_proba': fib_val_preds})\n",
        "# model_name = 'Pre-finetune (evals for FIB)'\n",
        "\n",
        "# # Compute ROCAUC metrics\n",
        "# rocauc = roc_auc_score(df['label'], df['pred_proba'])\n",
        "# fpr, tpr, thresholds = roc_curve(df['label'], df['pred_proba'])\n",
        "# baseline = np.sum(df['label']) / len(df)\n",
        "\n",
        "# # Compute PRAUC metrics\n",
        "# prauc = average_precision_score(df['label'], df['pred_proba'])\n",
        "# prec, rec, thresholds = precision_recall_curve(df['label'], df['pred_proba'])\n",
        "\n",
        "# # Split into consistent and inconsistent for prob distribution\n",
        "# inconsistent = df[df['label'] == 1].reset_index(drop=True)\n",
        "# consistent = df[df['label'] == 0].reset_index(drop=True)\n",
        "# js_div = js_divergence(inconsistent['pred_proba'], consistent['pred_proba'])\n",
        "\n",
        "# # Set up plots\n",
        "# fig, (ax0, ax1, ax2, ax3) = plt.subplots(1, 4, figsize=(26, 6), tight_layout=True)\n",
        "# title_font_size = 15\n",
        "# fig.suptitle(f'{model_name}', fontsize=title_font_size+2, y=1)\n",
        "\n",
        "# # Plot ROC\n",
        "# ax0.grid()\n",
        "# ax0.plot(fpr, tpr, label='ROC')\n",
        "# ax0.plot([0, 1], [0, 1], label='Random chance', linestyle='--', color='red')\n",
        "# ax0.set_xlabel('False positive rate', fontsize=title_font_size)\n",
        "# ax0.set_ylabel('True positive rate', fontsize=title_font_size)\n",
        "# ax0.set_title(f'ROC AUC = {rocauc:.2f}', fontsize=title_font_size)\n",
        "# ax0.legend()\n",
        "\n",
        "# # Plot PRAUC\n",
        "# ax1.grid()\n",
        "# ax1.plot(rec, prec, label='PRAUC')\n",
        "# ax1.axhline(y=baseline, label='Baseline', linestyle='--', color='red')\n",
        "# ax1.set_xlabel('Recall', fontsize=title_font_size)\n",
        "# ax1.set_ylabel('Precision', fontsize=title_font_size)\n",
        "# ax1.set_xlim((-0.1, 1.1))\n",
        "# ax1.set_ylim((-0.1, 1.1))\n",
        "# ax1.set_title(f'PR AUC = {prauc:.2f}', fontsize=title_font_size)\n",
        "\n",
        "# # Plot Precision & Recall\n",
        "# ax2.grid()\n",
        "# ax2.plot(thresholds, prec[1:], color='red', label='Precision')\n",
        "# ax2.plot(thresholds, rec[1:], color='blue', label='Recall')\n",
        "# ax2.invert_xaxis()\n",
        "# ax2.set_xlabel('Thresholds (1.0 - 0.0)', fontsize=title_font_size)\n",
        "# ax2.set_ylabel('Precision / Recall', fontsize=title_font_size)\n",
        "# ax2.set_xlim((1.1, -0.1))\n",
        "# ax2.set_ylim((-0.1, 1.1))\n",
        "# ax2.legend()\n",
        "# ax2.set_title(f'PR AUC = {prauc:.2f}', fontsize=title_font_size)\n",
        "\n",
        "# # Plot prob distribution\n",
        "# ax3.grid()\n",
        "# ax3.hist(inconsistent['pred_proba'], color='red', alpha=0.5, density=True, label='Inconsistent', bins=max(int(inconsistent['pred_proba'].nunique()/20), 20))\n",
        "# ax3.hist(consistent['pred_proba'], color='green', alpha=0.5, density=True, label='Consistent', bins=max(int(inconsistent['pred_proba'].nunique()/20), 20))\n",
        "# ax3.set_xlabel('Prob of inconsistent', fontsize=title_font_size)\n",
        "# ax3.set_ylabel('Density', fontsize=title_font_size)\n",
        "# ax3.set_title(f'JS Divergence = {js_div:.3f}', fontsize=title_font_size)\n",
        "# ax3.legend()\n",
        "\n",
        "# plt.show()"
      ],
      "metadata": {
        "id": "SNNEHiaDA2Lt"
      },
      "execution_count": null,
      "outputs": []
    },
    {
      "cell_type": "code",
      "source": [
        "# Get predictions\n",
        "usb_val_preds = trainer.predict(usb_ds['val'])[0]\n",
        "\n",
        "# Get labels and update them so entailment = 0 and contradiction = 1\n",
        "usb_val_labels = np.array(usb_ds['val']['label'])\n",
        "usb_val_labels = np.where(usb_val_labels==2, 0, 1)  # If label = 2, return 0, else, return 1\n",
        "\n",
        "visualize_preds(usb_val_labels, usb_val_preds, 'Pre-finetune on USB (evals for USB)')\n",
        "compute_metrics_per_threshold(usb_val_labels, usb_val_preds)"
      ],
      "metadata": {
        "colab": {
          "base_uri": "https://localhost:8080/",
          "height": 420
        },
        "id": "q3O7xP-wlBju",
        "outputId": "37d59974-10d6-4df5-8402-ea2c743b0f44"
      },
      "execution_count": null,
      "outputs": [
        {
          "output_type": "display_data",
          "data": {
            "text/plain": [
              "<IPython.core.display.HTML object>"
            ],
            "text/html": []
          },
          "metadata": {}
        },
        {
          "output_type": "display_data",
          "data": {
            "text/plain": [
              "<Figure size 1300x300 with 4 Axes>"
            ],
            "image/png": "[encoded data removed]"
          },
          "metadata": {}
        },
        {
          "output_type": "stream",
          "name": "stderr",
          "text": [
            "2024-05-11 21:51:28 - INFO - Threshold: 0.95 - Recall: 0.04, Precision: 0.73\n",
            "2024-05-11 21:51:28 - INFO - Threshold: 0.90 - Recall: 0.07, Precision: 0.69\n",
            "2024-05-11 21:51:28 - INFO - Threshold: 0.95 - Recall: 0.04, Precision: 0.73\n",
            "2024-05-11 21:51:28 - INFO - Threshold: 0.80 - Recall: 0.15, Precision: 0.65\n",
            "2024-05-11 21:51:28 - INFO - Threshold: 0.75 - Recall: 0.19, Precision: 0.64\n",
            "2024-05-11 21:51:28 - INFO - Threshold: 0.70 - Recall: 0.23, Precision: 0.64\n",
            "2024-05-11 21:51:28 - INFO - Threshold: 0.65 - Recall: 0.26, Precision: 0.64\n",
            "2024-05-11 21:51:28 - INFO - Threshold: 0.60 - Recall: 0.30, Precision: 0.64\n"
          ]
        }
      ]
    },
    {
      "cell_type": "markdown",
      "source": [
        "## Start finetuning"
      ],
      "metadata": {
        "id": "SitlNPMQgJ7w"
      }
    },
    {
      "cell_type": "markdown",
      "source": [
        "## # Metrics from finetuning on FIB-only for comparison\n",
        "```\n",
        "Step    Training Loss   Fib Loss    Fib Prauc   Fib Rocauc  Fib Recall  Fib Precision\n",
        "20      1.371500        0.854492    0.579853    0.579467    0.066667    0.714286\n",
        "40      0.758200        0.713867    0.601021    0.604978    0.040000    0.750000\n",
        "60      0.683100        0.681152    0.616764    0.632444    0.053333    0.800000\n",
        "80      0.671600        0.668945    0.640852    0.648089    0.040000    0.750000\n",
        "100     0.664400        0.662598    0.649766    0.658133    0.040000    0.750000\n",
        "```"
      ],
      "metadata": {
        "id": "Y906RWxGv4Jw"
      }
    },
    {
      "cell_type": "code",
      "source": [
        "trainer.train()"
      ],
      "metadata": {
        "colab": {
          "base_uri": "https://localhost:8080/",
          "height": 1000
        },
        "id": "G1bt81M9dVLt",
        "outputId": "63a307ac-54d2-45cd-e428-7bac1e8af119"
      },
      "execution_count": null,
      "outputs": [
        {
          "output_type": "display_data",
          "data": {
            "text/plain": [
              "<IPython.core.display.HTML object>"
            ],
            "text/html": [
              "\n",
              "    <div>\n",
              "      \n",
              "      <progress value='178' max='84' style='width:300px; height:20px; vertical-align: middle;'></progress>\n",
              "      [84/84 03:22]\n",
              "    </div>\n",
              "    "
            ]
          },
          "metadata": {}
        },
        {
          "output_type": "stream",
          "name": "stderr",
          "text": [
            "2024-05-11 21:52:16 - INFO - Step 0 metrics: {'eval_usb_loss': 1.8544921875, 'eval_usb_prauc': 0.6233581227052458, 'eval_usb_rocauc': 0.6625970185821631, 'eval_usb_recall': 0.14767616191904048, 'eval_usb_precision': 0.6480263157894737}\n",
            "2024-05-11 21:52:19 - INFO - Step 0 metrics: {'eval_fib_loss': 2.76171875, 'eval_fib_prauc': 0.5611561212032896, 'eval_fib_rocauc': 0.5572444444444445, 'eval_fib_recall': 0.3466666666666667, 'eval_fib_precision': 0.5777777777777777}\n"
          ]
        },
        {
          "output_type": "display_data",
          "data": {
            "text/plain": [
              "<IPython.core.display.HTML object>"
            ],
            "text/html": [
              "\n",
              "    <div>\n",
              "      \n",
              "      <progress value='790' max='790' style='width:300px; height:20px; vertical-align: middle;'></progress>\n",
              "      [790/790 49:42, Epoch 10/10]\n",
              "    </div>\n",
              "    <table border=\"1\" class=\"dataframe\">\n",
              "  <thead>\n",
              " <tr style=\"text-align: left;\">\n",
              "      <th>Step</th>\n",
              "      <th>Training Loss</th>\n",
              "      <th>Validation Loss</th>\n",
              "      <th>Usb Loss</th>\n",
              "      <th>Usb Prauc</th>\n",
              "      <th>Usb Rocauc</th>\n",
              "      <th>Usb Recall</th>\n",
              "      <th>Usb Precision</th>\n",
              "      <th>Fib Loss</th>\n",
              "      <th>Fib Prauc</th>\n",
              "      <th>Fib Rocauc</th>\n",
              "      <th>Fib Recall</th>\n",
              "      <th>Fib Precision</th>\n",
              "    </tr>\n",
              "  </thead>\n",
              "  <tbody>\n",
              "    <tr>\n",
              "      <td>40</td>\n",
              "      <td>0.905700</td>\n",
              "      <td>No log</td>\n",
              "      <td>0.657715</td>\n",
              "      <td>0.763996</td>\n",
              "      <td>0.765208</td>\n",
              "      <td>0.155172</td>\n",
              "      <td>0.896104</td>\n",
              "      <td>0.755859</td>\n",
              "      <td>0.561472</td>\n",
              "      <td>0.574044</td>\n",
              "      <td>0.080000</td>\n",
              "      <td>0.500000</td>\n",
              "    </tr>\n",
              "    <tr>\n",
              "      <td>80</td>\n",
              "      <td>0.548200</td>\n",
              "      <td>No log</td>\n",
              "      <td>0.469971</td>\n",
              "      <td>0.873856</td>\n",
              "      <td>0.863627</td>\n",
              "      <td>0.411544</td>\n",
              "      <td>0.958115</td>\n",
              "      <td>0.772949</td>\n",
              "      <td>0.550041</td>\n",
              "      <td>0.570044</td>\n",
              "      <td>0.160000</td>\n",
              "      <td>0.480000</td>\n",
              "    </tr>\n",
              "    <tr>\n",
              "      <td>120</td>\n",
              "      <td>0.422100</td>\n",
              "      <td>No log</td>\n",
              "      <td>0.409424</td>\n",
              "      <td>0.914258</td>\n",
              "      <td>0.905461</td>\n",
              "      <td>0.602699</td>\n",
              "      <td>0.935972</td>\n",
              "      <td>0.772461</td>\n",
              "      <td>0.570921</td>\n",
              "      <td>0.599289</td>\n",
              "      <td>0.293333</td>\n",
              "      <td>0.578947</td>\n",
              "    </tr>\n",
              "    <tr>\n",
              "      <td>160</td>\n",
              "      <td>0.415800</td>\n",
              "      <td>No log</td>\n",
              "      <td>0.414062</td>\n",
              "      <td>0.926247</td>\n",
              "      <td>0.918202</td>\n",
              "      <td>0.554723</td>\n",
              "      <td>0.961039</td>\n",
              "      <td>0.742676</td>\n",
              "      <td>0.603683</td>\n",
              "      <td>0.611022</td>\n",
              "      <td>0.066667</td>\n",
              "      <td>0.833333</td>\n",
              "    </tr>\n",
              "    <tr>\n",
              "      <td>200</td>\n",
              "      <td>0.345100</td>\n",
              "      <td>No log</td>\n",
              "      <td>0.374512</td>\n",
              "      <td>0.933913</td>\n",
              "      <td>0.926156</td>\n",
              "      <td>0.637181</td>\n",
              "      <td>0.953984</td>\n",
              "      <td>0.759277</td>\n",
              "      <td>0.604829</td>\n",
              "      <td>0.612178</td>\n",
              "      <td>0.080000</td>\n",
              "      <td>0.750000</td>\n",
              "    </tr>\n",
              "    <tr>\n",
              "      <td>240</td>\n",
              "      <td>0.341000</td>\n",
              "      <td>No log</td>\n",
              "      <td>0.354248</td>\n",
              "      <td>0.937137</td>\n",
              "      <td>0.930274</td>\n",
              "      <td>0.689655</td>\n",
              "      <td>0.942623</td>\n",
              "      <td>0.741211</td>\n",
              "      <td>0.618775</td>\n",
              "      <td>0.621511</td>\n",
              "      <td>0.253333</td>\n",
              "      <td>0.760000</td>\n",
              "    </tr>\n",
              "    <tr>\n",
              "      <td>280</td>\n",
              "      <td>0.314700</td>\n",
              "      <td>No log</td>\n",
              "      <td>0.349609</td>\n",
              "      <td>0.939855</td>\n",
              "      <td>0.933328</td>\n",
              "      <td>0.688906</td>\n",
              "      <td>0.944502</td>\n",
              "      <td>0.753418</td>\n",
              "      <td>0.633330</td>\n",
              "      <td>0.631911</td>\n",
              "      <td>0.146667</td>\n",
              "      <td>0.733333</td>\n",
              "    </tr>\n",
              "    <tr>\n",
              "      <td>320</td>\n",
              "      <td>0.299100</td>\n",
              "      <td>No log</td>\n",
              "      <td>0.339844</td>\n",
              "      <td>0.941927</td>\n",
              "      <td>0.935179</td>\n",
              "      <td>0.724138</td>\n",
              "      <td>0.934236</td>\n",
              "      <td>0.752930</td>\n",
              "      <td>0.636335</td>\n",
              "      <td>0.632622</td>\n",
              "      <td>0.253333</td>\n",
              "      <td>0.760000</td>\n",
              "    </tr>\n",
              "    <tr>\n",
              "      <td>360</td>\n",
              "      <td>0.279600</td>\n",
              "      <td>No log</td>\n",
              "      <td>0.353516</td>\n",
              "      <td>0.943060</td>\n",
              "      <td>0.936693</td>\n",
              "      <td>0.733133</td>\n",
              "      <td>0.934990</td>\n",
              "      <td>0.777832</td>\n",
              "      <td>0.649446</td>\n",
              "      <td>0.638756</td>\n",
              "      <td>0.240000</td>\n",
              "      <td>0.720000</td>\n",
              "    </tr>\n",
              "    <tr>\n",
              "      <td>400</td>\n",
              "      <td>0.297100</td>\n",
              "      <td>No log</td>\n",
              "      <td>0.339111</td>\n",
              "      <td>0.945611</td>\n",
              "      <td>0.938384</td>\n",
              "      <td>0.718141</td>\n",
              "      <td>0.948515</td>\n",
              "      <td>0.773926</td>\n",
              "      <td>0.628032</td>\n",
              "      <td>0.626844</td>\n",
              "      <td>0.160000</td>\n",
              "      <td>0.666667</td>\n",
              "    </tr>\n",
              "    <tr>\n",
              "      <td>440</td>\n",
              "      <td>0.294500</td>\n",
              "      <td>No log</td>\n",
              "      <td>0.336670</td>\n",
              "      <td>0.945817</td>\n",
              "      <td>0.939925</td>\n",
              "      <td>0.788606</td>\n",
              "      <td>0.918777</td>\n",
              "      <td>0.756836</td>\n",
              "      <td>0.658058</td>\n",
              "      <td>0.643200</td>\n",
              "      <td>0.253333</td>\n",
              "      <td>0.730769</td>\n",
              "    </tr>\n",
              "    <tr>\n",
              "      <td>480</td>\n",
              "      <td>0.274900</td>\n",
              "      <td>No log</td>\n",
              "      <td>0.333984</td>\n",
              "      <td>0.946876</td>\n",
              "      <td>0.940764</td>\n",
              "      <td>0.744378</td>\n",
              "      <td>0.943020</td>\n",
              "      <td>0.773438</td>\n",
              "      <td>0.644872</td>\n",
              "      <td>0.635111</td>\n",
              "      <td>0.200000</td>\n",
              "      <td>0.750000</td>\n",
              "    </tr>\n",
              "    <tr>\n",
              "      <td>520</td>\n",
              "      <td>0.265000</td>\n",
              "      <td>No log</td>\n",
              "      <td>0.345703</td>\n",
              "      <td>0.946978</td>\n",
              "      <td>0.940988</td>\n",
              "      <td>0.730135</td>\n",
              "      <td>0.950244</td>\n",
              "      <td>0.801758</td>\n",
              "      <td>0.644376</td>\n",
              "      <td>0.634400</td>\n",
              "      <td>0.186667</td>\n",
              "      <td>0.823529</td>\n",
              "    </tr>\n",
              "    <tr>\n",
              "      <td>560</td>\n",
              "      <td>0.250400</td>\n",
              "      <td>No log</td>\n",
              "      <td>0.361572</td>\n",
              "      <td>0.948286</td>\n",
              "      <td>0.941667</td>\n",
              "      <td>0.698651</td>\n",
              "      <td>0.953941</td>\n",
              "      <td>0.848633</td>\n",
              "      <td>0.642171</td>\n",
              "      <td>0.634489</td>\n",
              "      <td>0.106667</td>\n",
              "      <td>0.727273</td>\n",
              "    </tr>\n",
              "    <tr>\n",
              "      <td>600</td>\n",
              "      <td>0.250700</td>\n",
              "      <td>No log</td>\n",
              "      <td>0.348877</td>\n",
              "      <td>0.948456</td>\n",
              "      <td>0.942354</td>\n",
              "      <td>0.748876</td>\n",
              "      <td>0.942453</td>\n",
              "      <td>0.831543</td>\n",
              "      <td>0.650047</td>\n",
              "      <td>0.638756</td>\n",
              "      <td>0.173333</td>\n",
              "      <td>0.764706</td>\n",
              "    </tr>\n",
              "    <tr>\n",
              "      <td>640</td>\n",
              "      <td>0.252000</td>\n",
              "      <td>No log</td>\n",
              "      <td>0.365723</td>\n",
              "      <td>0.948564</td>\n",
              "      <td>0.942159</td>\n",
              "      <td>0.715892</td>\n",
              "      <td>0.953094</td>\n",
              "      <td>0.863281</td>\n",
              "      <td>0.644185</td>\n",
              "      <td>0.632533</td>\n",
              "      <td>0.133333</td>\n",
              "      <td>0.769231</td>\n",
              "    </tr>\n",
              "    <tr>\n",
              "      <td>680</td>\n",
              "      <td>0.241900</td>\n",
              "      <td>No log</td>\n",
              "      <td>0.343262</td>\n",
              "      <td>0.948612</td>\n",
              "      <td>0.942523</td>\n",
              "      <td>0.775112</td>\n",
              "      <td>0.931532</td>\n",
              "      <td>0.803223</td>\n",
              "      <td>0.643872</td>\n",
              "      <td>0.636178</td>\n",
              "      <td>0.253333</td>\n",
              "      <td>0.730769</td>\n",
              "    </tr>\n",
              "    <tr>\n",
              "      <td>720</td>\n",
              "      <td>0.262000</td>\n",
              "      <td>No log</td>\n",
              "      <td>0.346680</td>\n",
              "      <td>0.949050</td>\n",
              "      <td>0.942850</td>\n",
              "      <td>0.747376</td>\n",
              "      <td>0.942344</td>\n",
              "      <td>0.832031</td>\n",
              "      <td>0.646338</td>\n",
              "      <td>0.637333</td>\n",
              "      <td>0.186667</td>\n",
              "      <td>0.777778</td>\n",
              "    </tr>\n",
              "    <tr>\n",
              "      <td>760</td>\n",
              "      <td>0.237600</td>\n",
              "      <td>No log</td>\n",
              "      <td>0.347168</td>\n",
              "      <td>0.948968</td>\n",
              "      <td>0.942755</td>\n",
              "      <td>0.754873</td>\n",
              "      <td>0.939366</td>\n",
              "      <td>0.834473</td>\n",
              "      <td>0.644016</td>\n",
              "      <td>0.635200</td>\n",
              "      <td>0.186667</td>\n",
              "      <td>0.736842</td>\n",
              "    </tr>\n",
              "  </tbody>\n",
              "</table><p>"
            ]
          },
          "metadata": {}
        },
        {
          "output_type": "stream",
          "name": "stderr",
          "text": [
            "Checkpoint destination directory /content/drive/My Drive/Colab Notebooks/usb-only/checkpoint-40 already exists and is non-empty.Saving will proceed but saved results may be invalid.\n",
            "/usr/local/lib/python3.10/dist-packages/huggingface_hub/file_download.py:1132: FutureWarning: `resume_download` is deprecated and will be removed in version 1.0.0. Downloads always resume when possible. If you want to force a new download, use `force_download=True`.\n",
            "  warnings.warn(\n",
            "Checkpoint destination directory /content/drive/My Drive/Colab Notebooks/usb-only/checkpoint-80 already exists and is non-empty.Saving will proceed but saved results may be invalid.\n",
            "/usr/local/lib/python3.10/dist-packages/huggingface_hub/file_download.py:1132: FutureWarning: `resume_download` is deprecated and will be removed in version 1.0.0. Downloads always resume when possible. If you want to force a new download, use `force_download=True`.\n",
            "  warnings.warn(\n",
            "Checkpoint destination directory /content/drive/My Drive/Colab Notebooks/usb-only/checkpoint-120 already exists and is non-empty.Saving will proceed but saved results may be invalid.\n",
            "/usr/local/lib/python3.10/dist-packages/huggingface_hub/file_download.py:1132: FutureWarning: `resume_download` is deprecated and will be removed in version 1.0.0. Downloads always resume when possible. If you want to force a new download, use `force_download=True`.\n",
            "  warnings.warn(\n",
            "Checkpoint destination directory /content/drive/My Drive/Colab Notebooks/usb-only/checkpoint-160 already exists and is non-empty.Saving will proceed but saved results may be invalid.\n",
            "/usr/local/lib/python3.10/dist-packages/huggingface_hub/file_download.py:1132: FutureWarning: `resume_download` is deprecated and will be removed in version 1.0.0. Downloads always resume when possible. If you want to force a new download, use `force_download=True`.\n",
            "  warnings.warn(\n",
            "Checkpoint destination directory /content/drive/My Drive/Colab Notebooks/usb-only/checkpoint-200 already exists and is non-empty.Saving will proceed but saved results may be invalid.\n",
            "/usr/local/lib/python3.10/dist-packages/huggingface_hub/file_download.py:1132: FutureWarning: `resume_download` is deprecated and will be removed in version 1.0.0. Downloads always resume when possible. If you want to force a new download, use `force_download=True`.\n",
            "  warnings.warn(\n",
            "Checkpoint destination directory /content/drive/My Drive/Colab Notebooks/usb-only/checkpoint-240 already exists and is non-empty.Saving will proceed but saved results may be invalid.\n",
            "/usr/local/lib/python3.10/dist-packages/huggingface_hub/file_download.py:1132: FutureWarning: `resume_download` is deprecated and will be removed in version 1.0.0. Downloads always resume when possible. If you want to force a new download, use `force_download=True`.\n",
            "  warnings.warn(\n",
            "Checkpoint destination directory /content/drive/My Drive/Colab Notebooks/usb-only/checkpoint-280 already exists and is non-empty.Saving will proceed but saved results may be invalid.\n",
            "/usr/local/lib/python3.10/dist-packages/huggingface_hub/file_download.py:1132: FutureWarning: `resume_download` is deprecated and will be removed in version 1.0.0. Downloads always resume when possible. If you want to force a new download, use `force_download=True`.\n",
            "  warnings.warn(\n",
            "Checkpoint destination directory /content/drive/My Drive/Colab Notebooks/usb-only/checkpoint-320 already exists and is non-empty.Saving will proceed but saved results may be invalid.\n",
            "/usr/local/lib/python3.10/dist-packages/huggingface_hub/file_download.py:1132: FutureWarning: `resume_download` is deprecated and will be removed in version 1.0.0. Downloads always resume when possible. If you want to force a new download, use `force_download=True`.\n",
            "  warnings.warn(\n",
            "Checkpoint destination directory /content/drive/My Drive/Colab Notebooks/usb-only/checkpoint-360 already exists and is non-empty.Saving will proceed but saved results may be invalid.\n",
            "/usr/local/lib/python3.10/dist-packages/huggingface_hub/file_download.py:1132: FutureWarning: `resume_download` is deprecated and will be removed in version 1.0.0. Downloads always resume when possible. If you want to force a new download, use `force_download=True`.\n",
            "  warnings.warn(\n",
            "Checkpoint destination directory /content/drive/My Drive/Colab Notebooks/usb-only/checkpoint-400 already exists and is non-empty.Saving will proceed but saved results may be invalid.\n",
            "/usr/local/lib/python3.10/dist-packages/huggingface_hub/file_download.py:1132: FutureWarning: `resume_download` is deprecated and will be removed in version 1.0.0. Downloads always resume when possible. If you want to force a new download, use `force_download=True`.\n",
            "  warnings.warn(\n",
            "Checkpoint destination directory /content/drive/My Drive/Colab Notebooks/usb-only/checkpoint-440 already exists and is non-empty.Saving will proceed but saved results may be invalid.\n",
            "/usr/local/lib/python3.10/dist-packages/huggingface_hub/file_download.py:1132: FutureWarning: `resume_download` is deprecated and will be removed in version 1.0.0. Downloads always resume when possible. If you want to force a new download, use `force_download=True`.\n",
            "  warnings.warn(\n",
            "Checkpoint destination directory /content/drive/My Drive/Colab Notebooks/usb-only/checkpoint-480 already exists and is non-empty.Saving will proceed but saved results may be invalid.\n",
            "/usr/local/lib/python3.10/dist-packages/huggingface_hub/file_download.py:1132: FutureWarning: `resume_download` is deprecated and will be removed in version 1.0.0. Downloads always resume when possible. If you want to force a new download, use `force_download=True`.\n",
            "  warnings.warn(\n",
            "Checkpoint destination directory /content/drive/My Drive/Colab Notebooks/usb-only/checkpoint-520 already exists and is non-empty.Saving will proceed but saved results may be invalid.\n",
            "/usr/local/lib/python3.10/dist-packages/huggingface_hub/file_download.py:1132: FutureWarning: `resume_download` is deprecated and will be removed in version 1.0.0. Downloads always resume when possible. If you want to force a new download, use `force_download=True`.\n",
            "  warnings.warn(\n",
            "Checkpoint destination directory /content/drive/My Drive/Colab Notebooks/usb-only/checkpoint-560 already exists and is non-empty.Saving will proceed but saved results may be invalid.\n",
            "/usr/local/lib/python3.10/dist-packages/huggingface_hub/file_download.py:1132: FutureWarning: `resume_download` is deprecated and will be removed in version 1.0.0. Downloads always resume when possible. If you want to force a new download, use `force_download=True`.\n",
            "  warnings.warn(\n",
            "Checkpoint destination directory /content/drive/My Drive/Colab Notebooks/usb-only/checkpoint-600 already exists and is non-empty.Saving will proceed but saved results may be invalid.\n",
            "/usr/local/lib/python3.10/dist-packages/huggingface_hub/file_download.py:1132: FutureWarning: `resume_download` is deprecated and will be removed in version 1.0.0. Downloads always resume when possible. If you want to force a new download, use `force_download=True`.\n",
            "  warnings.warn(\n",
            "Checkpoint destination directory /content/drive/My Drive/Colab Notebooks/usb-only/checkpoint-640 already exists and is non-empty.Saving will proceed but saved results may be invalid.\n",
            "/usr/local/lib/python3.10/dist-packages/huggingface_hub/file_download.py:1132: FutureWarning: `resume_download` is deprecated and will be removed in version 1.0.0. Downloads always resume when possible. If you want to force a new download, use `force_download=True`.\n",
            "  warnings.warn(\n",
            "Checkpoint destination directory /content/drive/My Drive/Colab Notebooks/usb-only/checkpoint-680 already exists and is non-empty.Saving will proceed but saved results may be invalid.\n",
            "/usr/local/lib/python3.10/dist-packages/huggingface_hub/file_download.py:1132: FutureWarning: `resume_download` is deprecated and will be removed in version 1.0.0. Downloads always resume when possible. If you want to force a new download, use `force_download=True`.\n",
            "  warnings.warn(\n",
            "Checkpoint destination directory /content/drive/My Drive/Colab Notebooks/usb-only/checkpoint-720 already exists and is non-empty.Saving will proceed but saved results may be invalid.\n",
            "/usr/local/lib/python3.10/dist-packages/huggingface_hub/file_download.py:1132: FutureWarning: `resume_download` is deprecated and will be removed in version 1.0.0. Downloads always resume when possible. If you want to force a new download, use `force_download=True`.\n",
            "  warnings.warn(\n",
            "Checkpoint destination directory /content/drive/My Drive/Colab Notebooks/usb-only/checkpoint-760 already exists and is non-empty.Saving will proceed but saved results may be invalid.\n",
            "/usr/local/lib/python3.10/dist-packages/huggingface_hub/file_download.py:1132: FutureWarning: `resume_download` is deprecated and will be removed in version 1.0.0. Downloads always resume when possible. If you want to force a new download, use `force_download=True`.\n",
            "  warnings.warn(\n"
          ]
        }
      ]
    },
    {
      "cell_type": "markdown",
      "source": [
        "## Check evals after finetuning on USB"
      ],
      "metadata": {
        "id": "C-YNvs96gPVO"
      }
    },
    {
      "cell_type": "code",
      "source": [
        "# Get predictions\n",
        "usb_val_preds = trainer.predict(usb_ds['val'])[0]\n",
        "\n",
        "# Get labels and update them so entailment = 0 and contradiction = 1\n",
        "usb_val_labels = np.array(usb_ds['val']['label'])\n",
        "usb_val_labels = np.where(usb_val_labels==2, 0, 1)  # If label = 2, return 0, else, return 1\n",
        "\n",
        "visualize_preds(usb_val_labels, usb_val_preds, 'Post-finetune on USB (evals for USB)')\n",
        "compute_metrics_per_threshold(usb_val_labels, usb_val_preds)"
      ],
      "metadata": {
        "colab": {
          "base_uri": "https://localhost:8080/",
          "height": 420
        },
        "id": "fAPgauXOcBy4",
        "outputId": "43146433-e7e9-4878-d663-af7c4450d021"
      },
      "execution_count": null,
      "outputs": [
        {
          "output_type": "display_data",
          "data": {
            "text/plain": [
              "<IPython.core.display.HTML object>"
            ],
            "text/html": []
          },
          "metadata": {}
        },
        {
          "output_type": "display_data",
          "data": {
            "text/plain": [
              "<Figure size 1300x300 with 4 Axes>"
            ],
            "image/png": "[encoded data removed]"
          },
          "metadata": {}
        },
        {
          "output_type": "stream",
          "name": "stderr",
          "text": [
            "2024-05-11 22:42:54 - INFO - Threshold: 0.95 - Recall: 0.65, Precision: 0.97\n",
            "2024-05-11 22:42:54 - INFO - Threshold: 0.90 - Recall: 0.73, Precision: 0.94\n",
            "2024-05-11 22:42:54 - INFO - Threshold: 0.95 - Recall: 0.65, Precision: 0.97\n",
            "2024-05-11 22:42:54 - INFO - Threshold: 0.80 - Recall: 0.79, Precision: 0.92\n",
            "2024-05-11 22:42:54 - INFO - Threshold: 0.75 - Recall: 0.81, Precision: 0.91\n",
            "2024-05-11 22:42:54 - INFO - Threshold: 0.70 - Recall: 0.82, Precision: 0.90\n",
            "2024-05-11 22:42:54 - INFO - Threshold: 0.65 - Recall: 0.84, Precision: 0.89\n",
            "2024-05-11 22:42:54 - INFO - Threshold: 0.60 - Recall: 0.85, Precision: 0.88\n"
          ]
        }
      ]
    },
    {
      "cell_type": "code",
      "source": [
        "# Get predictions\n",
        "fib_val_preds = trainer.predict(fib_ds['val'])[0]\n",
        "\n",
        "# Get labels and update them so entailment = 0 and contradiction = 1\n",
        "fib_val_labels = np.array(fib_ds['val']['label'])\n",
        "fib_val_labels = np.where(fib_val_labels==2, 0, 1)  # If label = 2, return 0, else, return 1\n",
        "\n",
        "visualize_preds(fib_val_labels, fib_val_preds, 'Post-finetune on USB (evals for FIB)')\n",
        "compute_metrics_per_threshold(fib_val_labels, fib_val_preds)"
      ],
      "metadata": {
        "colab": {
          "base_uri": "https://localhost:8080/",
          "height": 420
        },
        "id": "pT3fGDGqcq3K",
        "outputId": "22772cc5-3e02-4eba-b4cd-8f124bb006bd"
      },
      "execution_count": null,
      "outputs": [
        {
          "output_type": "display_data",
          "data": {
            "text/plain": [
              "<IPython.core.display.HTML object>"
            ],
            "text/html": []
          },
          "metadata": {}
        },
        {
          "output_type": "display_data",
          "data": {
            "text/plain": [
              "<Figure size 1300x300 with 4 Axes>"
            ],
            "image/png": "[encoded data removed]"
          },
          "metadata": {}
        },
        {
          "output_type": "stream",
          "name": "stderr",
          "text": [
            "2024-05-11 22:42:57 - INFO - Threshold: 0.95 - Recall: 0.04, Precision: 0.75\n",
            "2024-05-11 22:42:57 - INFO - Threshold: 0.90 - Recall: 0.08, Precision: 0.86\n",
            "2024-05-11 22:42:57 - INFO - Threshold: 0.95 - Recall: 0.04, Precision: 0.75\n",
            "2024-05-11 22:42:57 - INFO - Threshold: 0.80 - Recall: 0.25, Precision: 0.73\n",
            "2024-05-11 22:42:57 - INFO - Threshold: 0.75 - Recall: 0.32, Precision: 0.73\n",
            "2024-05-11 22:42:57 - INFO - Threshold: 0.70 - Recall: 0.36, Precision: 0.71\n",
            "2024-05-11 22:42:57 - INFO - Threshold: 0.65 - Recall: 0.39, Precision: 0.67\n",
            "2024-05-11 22:42:57 - INFO - Threshold: 0.60 - Recall: 0.44, Precision: 0.67\n"
          ]
        }
      ]
    },
    {
      "cell_type": "markdown",
      "source": [
        "## Next, set up trainer to finetune on FIB data\n",
        "- FIB contains one-sentence summaries on CNN/DM & XSUM news articles.\n",
        "- Note: We exclude the CNN/Daily Mail data is pretty bad.\n",
        "- https://huggingface.co/datasets/r-three/fib"
      ],
      "metadata": {
        "id": "BqLJlQDHol5m"
      }
    },
    {
      "cell_type": "code",
      "source": [
        "# Define params\n",
        "LEARNING_RATE=5e-5\n",
        "BATCH_SIZE=16\n",
        "R=16\n",
        "EPOCHS=10\n",
        "EVAL_STEPS=20\n",
        "LORA_DROPOUT=0.1\n",
        "LORA_ALPHA=32\n",
        "MAX_STEPS=-1"
      ],
      "metadata": {
        "id": "O9_CSoYZr_Pv"
      },
      "execution_count": null,
      "outputs": []
    },
    {
      "cell_type": "code",
      "source": [
        "# Set training arguments\n",
        "training_args = transformers.TrainingArguments(\n",
        "    output_dir='/content/drive/My Drive/Colab Notebooks/usb-fib',\n",
        "    learning_rate=LEARNING_RATE,\n",
        "    per_device_train_batch_size=BATCH_SIZE,\n",
        "    per_device_eval_batch_size=BATCH_SIZE * 2,  # Bigger batch size for eval\n",
        "    num_train_epochs=EPOCHS,\n",
        "    evaluation_strategy='steps',\n",
        "    eval_steps=EVAL_STEPS,  # Update eval steps to reduce time spent on evals\n",
        "    gradient_accumulation_steps=4,\n",
        "    optim='paged_adamw_32bit',\n",
        "    bf16=False,\n",
        "    max_steps=MAX_STEPS,\n",
        "    save_strategy=IntervalStrategy.STEPS,\n",
        "    save_steps=EVAL_STEPS,\n",
        "    logging_steps=EVAL_STEPS,\n",
        "    metric_for_best_model='fib_recall',\n",
        "    greater_is_better=True,\n",
        "    load_best_model_at_end=True,\n",
        ")"
      ],
      "metadata": {
        "id": "A6aZx52ur6lS"
      },
      "execution_count": null,
      "outputs": []
    },
    {
      "cell_type": "code",
      "source": [
        "trainer = CustomTrainer(\n",
        "    model=model,\n",
        "    args=training_args,\n",
        "    train_dataset=fib_ds['train'],\n",
        "    eval_dataset={'usb': usb_ds['val'], 'fib': fib_ds['val']},  # Custom trainer supports two eval datasets!\n",
        "    compute_metrics=compute_metrics,\n",
        "    preprocess_logits_for_metrics=preprocess_logits_for_metrics,\n",
        "    eval_before_train=True)"
      ],
      "metadata": {
        "id": "7vbWnj4moar7",
        "colab": {
          "base_uri": "https://localhost:8080/"
        },
        "outputId": "af32d960-0471-4e76-c82b-c7ab5d583e75"
      },
      "execution_count": null,
      "outputs": [
        {
          "output_type": "stream",
          "name": "stderr",
          "text": [
            "/usr/local/lib/python3.10/dist-packages/accelerate/accelerator.py:446: FutureWarning: Passing the following arguments to `Accelerator` is deprecated and will be removed in version 1.0 of Accelerate: dict_keys(['dispatch_batches', 'split_batches']). Please pass an `accelerate.DataLoaderConfiguration` instead: \n",
            "dataloader_config = DataLoaderConfiguration(dispatch_batches=None, split_batches=False)\n",
            "  warnings.warn(\n"
          ]
        }
      ]
    },
    {
      "cell_type": "markdown",
      "source": [
        "# # Metrics from finetuning on FIB-only for comparison\n",
        "```\n",
        "Step    Training Loss   Fib Loss    Fib Prauc   Fib Rocauc  Fib Recall  Fib Precision\n",
        "20      1.371500        0.854492    0.579853    0.579467    0.066667    0.714286\n",
        "40      0.758200        0.713867    0.601021    0.604978    0.040000    0.750000\n",
        "60      0.683100        0.681152    0.616764    0.632444    0.053333    0.800000\n",
        "80      0.671600        0.668945    0.640852    0.648089    0.040000    0.750000\n",
        "100     0.664400        0.662598    0.649766    0.658133    0.040000    0.750000\n",
        "```"
      ],
      "metadata": {
        "id": "psuNdJOGsinP"
      }
    },
    {
      "cell_type": "code",
      "source": [
        "trainer.train()"
      ],
      "metadata": {
        "colab": {
          "base_uri": "https://localhost:8080/",
          "height": 498
        },
        "id": "t7omfqN5pQ6q",
        "outputId": "1d32b7fc-51f8-4254-a7bb-663b11f1caaa"
      },
      "execution_count": null,
      "outputs": [
        {
          "output_type": "display_data",
          "data": {
            "text/plain": [
              "<IPython.core.display.HTML object>"
            ],
            "text/html": [
              "\n",
              "    <div>\n",
              "      \n",
              "      <progress value='178' max='84' style='width:300px; height:20px; vertical-align: middle;'></progress>\n",
              "      [84/84 02:33]\n",
              "    </div>\n",
              "    "
            ]
          },
          "metadata": {}
        },
        {
          "output_type": "stream",
          "name": "stderr",
          "text": [
            "2024-05-11 22:43:46 - INFO - Step 0 metrics: {'eval_usb_loss': 0.336669921875, 'eval_usb_prauc': 0.9458174724898825, 'eval_usb_rocauc': 0.9399249026161584, 'eval_usb_recall': 0.7886056971514243, 'eval_usb_precision': 0.9187772925764193}\n",
            "2024-05-11 22:43:49 - INFO - Step 0 metrics: {'eval_fib_loss': 0.7568359375, 'eval_fib_prauc': 0.6580583088395531, 'eval_fib_rocauc': 0.6432, 'eval_fib_recall': 0.25333333333333335, 'eval_fib_precision': 0.7307692307692307}\n"
          ]
        },
        {
          "output_type": "display_data",
          "data": {
            "text/plain": [
              "<IPython.core.display.HTML object>"
            ],
            "text/html": [
              "\n",
              "    <div>\n",
              "      \n",
              "      <progress value='110' max='110' style='width:300px; height:20px; vertical-align: middle;'></progress>\n",
              "      [110/110 08:56, Epoch 10/10]\n",
              "    </div>\n",
              "    <table border=\"1\" class=\"dataframe\">\n",
              "  <thead>\n",
              " <tr style=\"text-align: left;\">\n",
              "      <th>Step</th>\n",
              "      <th>Training Loss</th>\n",
              "      <th>Validation Loss</th>\n",
              "      <th>Usb Loss</th>\n",
              "      <th>Usb Prauc</th>\n",
              "      <th>Usb Rocauc</th>\n",
              "      <th>Usb Recall</th>\n",
              "      <th>Usb Precision</th>\n",
              "      <th>Fib Loss</th>\n",
              "      <th>Fib Prauc</th>\n",
              "      <th>Fib Rocauc</th>\n",
              "      <th>Fib Recall</th>\n",
              "      <th>Fib Precision</th>\n",
              "    </tr>\n",
              "  </thead>\n",
              "  <tbody>\n",
              "    <tr>\n",
              "      <td>20</td>\n",
              "      <td>0.650600</td>\n",
              "      <td>No log</td>\n",
              "      <td>0.503418</td>\n",
              "      <td>0.938988</td>\n",
              "      <td>0.934167</td>\n",
              "      <td>0.894303</td>\n",
              "      <td>0.821625</td>\n",
              "      <td>0.598633</td>\n",
              "      <td>0.740828</td>\n",
              "      <td>0.756800</td>\n",
              "      <td>0.293333</td>\n",
              "      <td>0.880000</td>\n",
              "    </tr>\n",
              "    <tr>\n",
              "      <td>40</td>\n",
              "      <td>0.540700</td>\n",
              "      <td>No log</td>\n",
              "      <td>0.544434</td>\n",
              "      <td>0.930835</td>\n",
              "      <td>0.926803</td>\n",
              "      <td>0.902549</td>\n",
              "      <td>0.809684</td>\n",
              "      <td>0.517578</td>\n",
              "      <td>0.819064</td>\n",
              "      <td>0.826844</td>\n",
              "      <td>0.426667</td>\n",
              "      <td>0.914286</td>\n",
              "    </tr>\n",
              "    <tr>\n",
              "      <td>60</td>\n",
              "      <td>0.452400</td>\n",
              "      <td>No log</td>\n",
              "      <td>0.502441</td>\n",
              "      <td>0.924939</td>\n",
              "      <td>0.921494</td>\n",
              "      <td>0.865817</td>\n",
              "      <td>0.830338</td>\n",
              "      <td>0.481689</td>\n",
              "      <td>0.857859</td>\n",
              "      <td>0.848356</td>\n",
              "      <td>0.440000</td>\n",
              "      <td>0.942857</td>\n",
              "    </tr>\n",
              "    <tr>\n",
              "      <td>80</td>\n",
              "      <td>0.424500</td>\n",
              "      <td>No log</td>\n",
              "      <td>0.519531</td>\n",
              "      <td>0.922597</td>\n",
              "      <td>0.919200</td>\n",
              "      <td>0.868066</td>\n",
              "      <td>0.821277</td>\n",
              "      <td>0.472412</td>\n",
              "      <td>0.868118</td>\n",
              "      <td>0.853067</td>\n",
              "      <td>0.480000</td>\n",
              "      <td>0.923077</td>\n",
              "    </tr>\n",
              "    <tr>\n",
              "      <td>100</td>\n",
              "      <td>0.399700</td>\n",
              "      <td>No log</td>\n",
              "      <td>0.563965</td>\n",
              "      <td>0.919798</td>\n",
              "      <td>0.916684</td>\n",
              "      <td>0.876312</td>\n",
              "      <td>0.802334</td>\n",
              "      <td>0.464844</td>\n",
              "      <td>0.874490</td>\n",
              "      <td>0.861689</td>\n",
              "      <td>0.573333</td>\n",
              "      <td>0.934783</td>\n",
              "    </tr>\n",
              "  </tbody>\n",
              "</table><p>"
            ]
          },
          "metadata": {}
        },
        {
          "output_type": "stream",
          "name": "stderr",
          "text": [
            "/usr/local/lib/python3.10/dist-packages/huggingface_hub/file_download.py:1132: FutureWarning: `resume_download` is deprecated and will be removed in version 1.0.0. Downloads always resume when possible. If you want to force a new download, use `force_download=True`.\n",
            "  warnings.warn(\n",
            "/usr/local/lib/python3.10/dist-packages/huggingface_hub/file_download.py:1132: FutureWarning: `resume_download` is deprecated and will be removed in version 1.0.0. Downloads always resume when possible. If you want to force a new download, use `force_download=True`.\n",
            "  warnings.warn(\n",
            "/usr/local/lib/python3.10/dist-packages/huggingface_hub/file_download.py:1132: FutureWarning: `resume_download` is deprecated and will be removed in version 1.0.0. Downloads always resume when possible. If you want to force a new download, use `force_download=True`.\n",
            "  warnings.warn(\n",
            "/usr/local/lib/python3.10/dist-packages/huggingface_hub/file_download.py:1132: FutureWarning: `resume_download` is deprecated and will be removed in version 1.0.0. Downloads always resume when possible. If you want to force a new download, use `force_download=True`.\n",
            "  warnings.warn(\n",
            "/usr/local/lib/python3.10/dist-packages/huggingface_hub/file_download.py:1132: FutureWarning: `resume_download` is deprecated and will be removed in version 1.0.0. Downloads always resume when possible. If you want to force a new download, use `force_download=True`.\n",
            "  warnings.warn(\n"
          ]
        }
      ]
    },
    {
      "cell_type": "markdown",
      "source": [
        "## Check evals after finetuning on USB followed by FIB"
      ],
      "metadata": {
        "id": "uJbtB9AEpUPT"
      }
    },
    {
      "cell_type": "code",
      "source": [
        "# Get predictions\n",
        "usb_val_preds = trainer.predict(usb_ds['val'])[0]\n",
        "\n",
        "# Get labels and update them so entailment = 0 and contradiction = 1\n",
        "usb_val_labels = np.array(usb_ds['val']['label'])\n",
        "usb_val_labels = np.where(usb_val_labels==2, 0, 1)  # If label = 2, return 0, else, return 1\n",
        "\n",
        "visualize_preds(usb_val_labels, usb_val_preds, 'Post-finetune on USB+FIB (evals for USB)')\n",
        "compute_metrics_per_threshold(usb_val_labels, usb_val_preds)"
      ],
      "metadata": {
        "colab": {
          "base_uri": "https://localhost:8080/",
          "height": 420
        },
        "id": "q2jNYapQcRSf",
        "outputId": "93629015-ab20-4cbc-9672-6b7bb5226429"
      },
      "execution_count": null,
      "outputs": [
        {
          "output_type": "display_data",
          "data": {
            "text/plain": [
              "<IPython.core.display.HTML object>"
            ],
            "text/html": []
          },
          "metadata": {}
        },
        {
          "output_type": "display_data",
          "data": {
            "text/plain": [
              "<Figure size 1300x300 with 4 Axes>"
            ],
            "image/png": "[encoded data removed]"
          },
          "metadata": {}
        },
        {
          "output_type": "stream",
          "name": "stderr",
          "text": [
            "2024-05-11 22:53:38 - INFO - Threshold: 0.95 - Recall: 0.79, Precision: 0.88\n",
            "2024-05-11 22:53:38 - INFO - Threshold: 0.90 - Recall: 0.84, Precision: 0.85\n",
            "2024-05-11 22:53:38 - INFO - Threshold: 0.95 - Recall: 0.79, Precision: 0.88\n",
            "2024-05-11 22:53:38 - INFO - Threshold: 0.80 - Recall: 0.88, Precision: 0.80\n",
            "2024-05-11 22:53:38 - INFO - Threshold: 0.75 - Recall: 0.89, Precision: 0.79\n",
            "2024-05-11 22:53:38 - INFO - Threshold: 0.70 - Recall: 0.91, Precision: 0.77\n",
            "2024-05-11 22:53:38 - INFO - Threshold: 0.65 - Recall: 0.92, Precision: 0.76\n",
            "2024-05-11 22:53:38 - INFO - Threshold: 0.60 - Recall: 0.92, Precision: 0.75\n"
          ]
        }
      ]
    },
    {
      "cell_type": "code",
      "source": [
        "def eval_fib(dataset, split='val'):\n",
        "    # Get predictions\n",
        "    fib_preds = trainer.predict(fib_ds[split])[0]\n",
        "\n",
        "    # Get labels and update them so entailment = 0 and contradiction = 1\n",
        "    fib_labels = np.array(fib_ds[split]['label'])\n",
        "    fib_labels = np.where(fib_labels==2, 0, 1)  # If label = 2, return 0, else, return 1\n",
        "\n",
        "    visualize_preds(fib_labels, fib_preds, f'Post-finetune on USB+FIB training data ({split})')\n",
        "    compute_metrics_per_threshold(fib_labels, fib_preds)"
      ],
      "metadata": {
        "id": "6hihQvOBc58y"
      },
      "execution_count": null,
      "outputs": []
    },
    {
      "cell_type": "code",
      "source": [
        "eval_fib(fib_ds, 'train')"
      ],
      "metadata": {
        "colab": {
          "base_uri": "https://localhost:8080/",
          "height": 420
        },
        "id": "iGOCstzqc_2t",
        "outputId": "b2d9be12-18e7-461f-963c-92e0c1577766"
      },
      "execution_count": null,
      "outputs": [
        {
          "output_type": "display_data",
          "data": {
            "text/plain": [
              "<IPython.core.display.HTML object>"
            ],
            "text/html": []
          },
          "metadata": {}
        },
        {
          "output_type": "display_data",
          "data": {
            "text/plain": [
              "<Figure size 1300x300 with 4 Axes>"
            ],
            "image/png": "[encoded data removed]"
          },
          "metadata": {}
        },
        {
          "output_type": "stream",
          "name": "stderr",
          "text": [
            "2024-05-11 22:53:52 - INFO - Threshold: 0.95 - Recall: 0.35, Precision: 1.00\n",
            "2024-05-11 22:53:52 - INFO - Threshold: 0.90 - Recall: 0.49, Precision: 0.98\n",
            "2024-05-11 22:53:52 - INFO - Threshold: 0.95 - Recall: 0.35, Precision: 1.00\n",
            "2024-05-11 22:53:52 - INFO - Threshold: 0.80 - Recall: 0.60, Precision: 0.96\n",
            "2024-05-11 22:53:52 - INFO - Threshold: 0.75 - Recall: 0.63, Precision: 0.96\n",
            "2024-05-11 22:53:52 - INFO - Threshold: 0.70 - Recall: 0.65, Precision: 0.96\n",
            "2024-05-11 22:53:52 - INFO - Threshold: 0.65 - Recall: 0.70, Precision: 0.95\n",
            "2024-05-11 22:53:52 - INFO - Threshold: 0.60 - Recall: 0.74, Precision: 0.92\n"
          ]
        }
      ]
    },
    {
      "cell_type": "code",
      "source": [
        "eval_fib(fib_ds, 'val')"
      ],
      "metadata": {
        "colab": {
          "base_uri": "https://localhost:8080/",
          "height": 420
        },
        "id": "4v6UQN3pdCEV",
        "outputId": "0d358cd2-5cd9-42c9-edab-ac8eb54007ba"
      },
      "execution_count": null,
      "outputs": [
        {
          "output_type": "display_data",
          "data": {
            "text/plain": [
              "<IPython.core.display.HTML object>"
            ],
            "text/html": []
          },
          "metadata": {}
        },
        {
          "output_type": "display_data",
          "data": {
            "text/plain": [
              "<Figure size 1300x300 with 4 Axes>"
            ],
            "image/png": "[encoded data removed]"
          },
          "metadata": {}
        },
        {
          "output_type": "stream",
          "name": "stderr",
          "text": [
            "2024-05-11 22:53:56 - INFO - Threshold: 0.95 - Recall: 0.29, Precision: 0.96\n",
            "2024-05-11 22:53:56 - INFO - Threshold: 0.90 - Recall: 0.41, Precision: 0.97\n",
            "2024-05-11 22:53:56 - INFO - Threshold: 0.95 - Recall: 0.29, Precision: 0.96\n",
            "2024-05-11 22:53:56 - INFO - Threshold: 0.80 - Recall: 0.57, Precision: 0.93\n",
            "2024-05-11 22:53:56 - INFO - Threshold: 0.75 - Recall: 0.57, Precision: 0.90\n",
            "2024-05-11 22:53:56 - INFO - Threshold: 0.70 - Recall: 0.61, Precision: 0.90\n",
            "2024-05-11 22:53:56 - INFO - Threshold: 0.65 - Recall: 0.63, Precision: 0.84\n",
            "2024-05-11 22:53:56 - INFO - Threshold: 0.60 - Recall: 0.64, Precision: 0.79\n"
          ]
        }
      ]
    },
    {
      "cell_type": "code",
      "source": [
        "eval_fib(fib_ds, 'test')"
      ],
      "metadata": {
        "colab": {
          "base_uri": "https://localhost:8080/",
          "height": 420
        },
        "id": "SMYPswbYdDL5",
        "outputId": "d977d5d4-e9a9-48d6-ac6a-2ff2829bb29e"
      },
      "execution_count": null,
      "outputs": [
        {
          "output_type": "display_data",
          "data": {
            "text/plain": [
              "<IPython.core.display.HTML object>"
            ],
            "text/html": []
          },
          "metadata": {}
        },
        {
          "output_type": "display_data",
          "data": {
            "text/plain": [
              "<Figure size 1300x300 with 4 Axes>"
            ],
            "image/png": "[encoded data removed]"
          },
          "metadata": {}
        },
        {
          "output_type": "stream",
          "name": "stderr",
          "text": [
            "2024-05-11 22:53:59 - INFO - Threshold: 0.95 - Recall: 0.37, Precision: 1.00\n",
            "2024-05-11 22:53:59 - INFO - Threshold: 0.90 - Recall: 0.45, Precision: 0.97\n",
            "2024-05-11 22:53:59 - INFO - Threshold: 0.95 - Recall: 0.37, Precision: 1.00\n",
            "2024-05-11 22:53:59 - INFO - Threshold: 0.80 - Recall: 0.55, Precision: 0.85\n",
            "2024-05-11 22:53:59 - INFO - Threshold: 0.75 - Recall: 0.60, Precision: 0.83\n",
            "2024-05-11 22:53:59 - INFO - Threshold: 0.70 - Recall: 0.63, Precision: 0.82\n",
            "2024-05-11 22:53:59 - INFO - Threshold: 0.65 - Recall: 0.67, Precision: 0.78\n",
            "2024-05-11 22:53:59 - INFO - Threshold: 0.60 - Recall: 0.68, Precision: 0.76\n"
          ]
        }
      ]
    },
    {
      "cell_type": "code",
      "source": [
        "# df = pd.DataFrame({'label': fib_val_labels, 'pred_proba': fib_val_preds})\n",
        "# model_name = 'Post-finetune on USB+FIB (evals for FIB)'\n",
        "\n",
        "# # Compute ROCAUC metrics\n",
        "# rocauc = roc_auc_score(df['label'], df['pred_proba'])\n",
        "# fpr, tpr, thresholds = roc_curve(df['label'], df['pred_proba'])\n",
        "# baseline = np.sum(df['label']) / len(df)\n",
        "\n",
        "# # Compute PRAUC metrics\n",
        "# prauc = average_precision_score(df['label'], df['pred_proba'])\n",
        "# prec, rec, thresholds = precision_recall_curve(df['label'], df['pred_proba'])\n",
        "\n",
        "# # Split into consistent and inconsistent for prob distribution\n",
        "# inconsistent = df[df['label'] == 1].reset_index(drop=True)\n",
        "# consistent = df[df['label'] == 0].reset_index(drop=True)\n",
        "# js_div = js_divergence(inconsistent['pred_proba'], consistent['pred_proba'])\n",
        "\n",
        "# # Set up plots\n",
        "# fig, (ax0, ax1, ax2, ax3) = plt.subplots(1, 4, figsize=(26, 6), tight_layout=True)\n",
        "# title_font_size = 15\n",
        "# fig.suptitle(f'{model_name}', fontsize=title_font_size+2, y=1)\n",
        "\n",
        "# # Plot ROC\n",
        "# ax0.grid()\n",
        "# ax0.plot(fpr, tpr, label='ROC')\n",
        "# ax0.plot([0, 1], [0, 1], label='Random chance', linestyle='--', color='red')\n",
        "# ax0.set_xlabel('False positive rate', fontsize=title_font_size)\n",
        "# ax0.set_ylabel('True positive rate', fontsize=title_font_size)\n",
        "# ax0.set_title(f'ROC AUC = {rocauc:.2f}', fontsize=title_font_size)\n",
        "# ax0.legend()\n",
        "\n",
        "# # Plot PRAUC\n",
        "# ax1.grid()\n",
        "# ax1.plot(rec, prec, label='PRAUC')\n",
        "# ax1.axhline(y=baseline, label='Baseline', linestyle='--', color='red')\n",
        "# ax1.set_xlabel('Recall', fontsize=title_font_size)\n",
        "# ax1.set_ylabel('Precision', fontsize=title_font_size)\n",
        "# ax1.set_xlim((-0.1, 1.1))\n",
        "# ax1.set_ylim((-0.1, 1.1))\n",
        "# ax1.set_title(f'PR AUC = {prauc:.2f}', fontsize=title_font_size)\n",
        "\n",
        "# # Plot Precision & Recall\n",
        "# ax2.grid()\n",
        "# ax2.plot(thresholds, prec[1:], color='red', label='Precision')\n",
        "# ax2.plot(thresholds, rec[1:], color='blue', label='Recall')\n",
        "# ax2.invert_xaxis()\n",
        "# ax2.set_xlabel('Thresholds (1.0 - 0.0)', fontsize=title_font_size)\n",
        "# ax2.set_ylabel('Precision / Recall', fontsize=title_font_size)\n",
        "# ax2.set_xlim((1.1, -0.1))\n",
        "# ax2.set_ylim((-0.1, 1.1))\n",
        "# ax2.legend()\n",
        "# ax2.set_title(f'PR AUC = {prauc:.2f}', fontsize=title_font_size)\n",
        "\n",
        "# # Plot prob distribution\n",
        "# ax3.grid()\n",
        "# ax3.hist(inconsistent['pred_proba'], color='red', alpha=0.5, density=True, label='Inconsistent', bins=max(int(inconsistent['pred_proba'].nunique()/20), 20))\n",
        "# ax3.hist(consistent['pred_proba'], color='green', alpha=0.5, density=True, label='Consistent', bins=max(int(inconsistent['pred_proba'].nunique()/20), 20))\n",
        "# ax3.set_xlabel('Prob of inconsistent', fontsize=title_font_size)\n",
        "# ax3.set_ylabel('Density', fontsize=title_font_size)\n",
        "# ax3.set_title(f'JS Divergence = {js_div:.3f}', fontsize=title_font_size)\n",
        "# ax3.legend()\n",
        "\n",
        "# plt.show()"
      ],
      "metadata": {
        "id": "3zqdhT3zQpz-"
      },
      "execution_count": null,
      "outputs": []
    }
  ]
}