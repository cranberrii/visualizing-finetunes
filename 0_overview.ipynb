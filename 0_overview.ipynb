{
 "cells": [
  {
   "cell_type": "markdown",
   "id": "eeeafbcb-5ff1-486b-a692-4eb5e3b7708b",
   "metadata": {},
   "source": [
    "# How do we _evaluate_ generated summaries on factual inconsistency / hallucination?"
   ]
  },
  {
   "cell_type": "markdown",
   "id": "d2676564-c374-42ff-a71a-a2451fa56316",
   "metadata": {},
   "source": [
    "## One way is with an _evaluator_ model\n",
    "\n",
    "- **Input:** (Source document, summary, [label])\n",
    "- **Output:** Probability of summary being factually (in)consistent with source"
   ]
  },
  {
   "cell_type": "markdown",
   "id": "b857e368-e3be-4c89-a744-da07845620a9",
   "metadata": {},
   "source": [
    "## How we'll frame the task: Natural Language Inference (NLI)\n",
    "\n",
    "### The conventional NLI task: Entailment = True, Contradiction = False\n",
    "![](https://eugeneyan.com/assets/nli.jpg)\n",
    "\n",
    "### NLI applied to factual inconsistency detection: Contradiction = Factual Inconsistency\n",
    "![](https://eugeneyan.com/assets/summary-nli.jpg)"
   ]
  },
  {
   "cell_type": "markdown",
   "id": "90c92bf0-b3ce-427d-a211-906e46ad0696",
   "metadata": {},
   "source": [
    "## Agenda\n",
    "\n",
    "### 0. Objective\n",
    "- **Finetune an evaluator-model** that can catch hallucinations in Factual Inconsistency Benchmark (FIB)\n",
    "- **Eval the evaluator-model** through each epoch and data blend\n",
    "- (Optional assignment: Use the evaluator-model to **eval** generative models)\n",
    "- (Optional assignment: Use the evaluator-model as a **guardrail**)\n",
    "\n",
    "### 1. Examine, prepare, and split our data\n",
    "- Factual Inconsistency Benchmark (FIB) and Unified Summarization Benchmark (USB)\n",
    "- Link: [1_prep_data.ipynb](1_prep_data.ipynb)\n",
    "\n",
    "### 2. Finetuning on FIB\n",
    "- We'll see that performance isn't as good 😔\n",
    "- Link: [2_ft_fib.ipynb](2_ft_fib.ipynb)\n",
    "\n",
    "### 3. Blending in and finetuning on USB before FIB\n",
    "- Profit! 📈\n",
    "- Link: [3_ft_usb_then_fib.ipynb](3_ft_usb_then_fib.ipynb)"
   ]
  },
  {
   "cell_type": "markdown",
   "id": "26190515-34ca-441b-99be-423b1a76f17d",
   "metadata": {},
   "source": [
    "### Appendix\n",
    "- [Task-Specific LLM Evals that Do & Don't Work (writeup)](https://eugeneyan.com/writing/evals/)\n",
    "- [Evaluation & Hallucination Detection for Abstractive Summaries (writeup)](https://eugeneyan.com/writing/abstractive/)\n",
    "- [Out-of-Domain Finetuning to Bootstrap Hallucination Detection (writeup)](https://eugeneyan.com/writing/finetuning/)\n",
    "- [evals 🤝 finetuning 🤝 evals 🤝 finetuning ... (slides)](https://docs.google.com/presentation/d/1sH6RsoEUM6P38R_A3mkjvvHYhfilzVIi74pQTYY90rQ)"
   ]
  },
  {
   "cell_type": "markdown",
   "id": "dc66e8c8-14a3-4a28-bb37-0e95aec5eb86",
   "metadata": {},
   "source": [
    "# Next: [1_prep_data.ipynb](1_prep_data.ipynb)"
   ]
  }
 ],
 "metadata": {
  "kernelspec": {
   "display_name": "Python 3 (ipykernel)",
   "language": "python",
   "name": "python3"
  },
  "language_info": {
   "codemirror_mode": {
    "name": "ipython",
    "version": 3
   },
   "file_extension": ".py",
   "mimetype": "text/x-python",
   "name": "python",
   "nbconvert_exporter": "python",
   "pygments_lexer": "ipython3",
   "version": "3.11.9"
  }
 },
 "nbformat": 4,
 "nbformat_minor": 5
}
